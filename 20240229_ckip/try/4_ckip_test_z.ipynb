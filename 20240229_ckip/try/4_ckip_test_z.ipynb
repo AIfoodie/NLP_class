{
  "nbformat": 4,
  "nbformat_minor": 0,
  "metadata": {
    "colab": {
      "provenance": [],
      "collapsed_sections": [
        "5JCnHEgJQsY3",
        "oGm92UNoRweo",
        "4P0SzPu9SFPg",
        "5OcQ66GuSL3I",
        "4JYpCBBfSWEk",
        "CWyQan0VSoy9",
        "9ov_7TQ2Stm4",
        "a_hlMVfBS780",
        "O0hk9vSMTAms"
      ],
      "gpuType": "T4"
    },
    "kernelspec": {
      "name": "python3",
      "display_name": "Python 3"
    },
    "language_info": {
      "name": "python"
    }
  },
  "cells": [
    {
      "cell_type": "markdown",
      "source": [
        "# CkipTagger 中文斷詞工具(中研院 繁體)\n"
      ],
      "metadata": {
        "id": "5JCnHEgJQsY3"
      }
    },
    {
      "cell_type": "markdown",
      "source": [
        "## 安裝套件\n",
        "\n",
        "\n"
      ],
      "metadata": {
        "id": "oGm92UNoRweo"
      }
    },
    {
      "cell_type": "code",
      "source": [
        "!pip install -U ckiptagger[tf,gdown] # gdown為google下載"
      ],
      "metadata": {
        "id": "x634txleRzV0",
        "colab": {
          "base_uri": "https://localhost:8080/"
        },
        "outputId": "51511808-e762-43f4-9a50-c42623c42c6c"
      },
      "execution_count": 1,
      "outputs": [
        {
          "output_type": "stream",
          "name": "stdout",
          "text": [
            "Collecting ckiptagger[gdown,tf]\n",
            "  Downloading ckiptagger-0.2.1-py3-none-any.whl (34 kB)\n",
            "Requirement already satisfied: tensorflow>=1.13.1 in /usr/local/lib/python3.10/dist-packages (from ckiptagger[gdown,tf]) (2.15.0)\n",
            "Requirement already satisfied: gdown in /usr/local/lib/python3.10/dist-packages (from ckiptagger[gdown,tf]) (4.7.3)\n",
            "Requirement already satisfied: absl-py>=1.0.0 in /usr/local/lib/python3.10/dist-packages (from tensorflow>=1.13.1->ckiptagger[gdown,tf]) (1.4.0)\n",
            "Requirement already satisfied: astunparse>=1.6.0 in /usr/local/lib/python3.10/dist-packages (from tensorflow>=1.13.1->ckiptagger[gdown,tf]) (1.6.3)\n",
            "Requirement already satisfied: flatbuffers>=23.5.26 in /usr/local/lib/python3.10/dist-packages (from tensorflow>=1.13.1->ckiptagger[gdown,tf]) (23.5.26)\n",
            "Requirement already satisfied: gast!=0.5.0,!=0.5.1,!=0.5.2,>=0.2.1 in /usr/local/lib/python3.10/dist-packages (from tensorflow>=1.13.1->ckiptagger[gdown,tf]) (0.5.4)\n",
            "Requirement already satisfied: google-pasta>=0.1.1 in /usr/local/lib/python3.10/dist-packages (from tensorflow>=1.13.1->ckiptagger[gdown,tf]) (0.2.0)\n",
            "Requirement already satisfied: h5py>=2.9.0 in /usr/local/lib/python3.10/dist-packages (from tensorflow>=1.13.1->ckiptagger[gdown,tf]) (3.9.0)\n",
            "Requirement already satisfied: libclang>=13.0.0 in /usr/local/lib/python3.10/dist-packages (from tensorflow>=1.13.1->ckiptagger[gdown,tf]) (16.0.6)\n",
            "Requirement already satisfied: ml-dtypes~=0.2.0 in /usr/local/lib/python3.10/dist-packages (from tensorflow>=1.13.1->ckiptagger[gdown,tf]) (0.2.0)\n",
            "Requirement already satisfied: numpy<2.0.0,>=1.23.5 in /usr/local/lib/python3.10/dist-packages (from tensorflow>=1.13.1->ckiptagger[gdown,tf]) (1.25.2)\n",
            "Requirement already satisfied: opt-einsum>=2.3.2 in /usr/local/lib/python3.10/dist-packages (from tensorflow>=1.13.1->ckiptagger[gdown,tf]) (3.3.0)\n",
            "Requirement already satisfied: packaging in /usr/local/lib/python3.10/dist-packages (from tensorflow>=1.13.1->ckiptagger[gdown,tf]) (23.2)\n",
            "Requirement already satisfied: protobuf!=4.21.0,!=4.21.1,!=4.21.2,!=4.21.3,!=4.21.4,!=4.21.5,<5.0.0dev,>=3.20.3 in /usr/local/lib/python3.10/dist-packages (from tensorflow>=1.13.1->ckiptagger[gdown,tf]) (3.20.3)\n",
            "Requirement already satisfied: setuptools in /usr/local/lib/python3.10/dist-packages (from tensorflow>=1.13.1->ckiptagger[gdown,tf]) (67.7.2)\n",
            "Requirement already satisfied: six>=1.12.0 in /usr/local/lib/python3.10/dist-packages (from tensorflow>=1.13.1->ckiptagger[gdown,tf]) (1.16.0)\n",
            "Requirement already satisfied: termcolor>=1.1.0 in /usr/local/lib/python3.10/dist-packages (from tensorflow>=1.13.1->ckiptagger[gdown,tf]) (2.4.0)\n",
            "Requirement already satisfied: typing-extensions>=3.6.6 in /usr/local/lib/python3.10/dist-packages (from tensorflow>=1.13.1->ckiptagger[gdown,tf]) (4.10.0)\n",
            "Requirement already satisfied: wrapt<1.15,>=1.11.0 in /usr/local/lib/python3.10/dist-packages (from tensorflow>=1.13.1->ckiptagger[gdown,tf]) (1.14.1)\n",
            "Requirement already satisfied: tensorflow-io-gcs-filesystem>=0.23.1 in /usr/local/lib/python3.10/dist-packages (from tensorflow>=1.13.1->ckiptagger[gdown,tf]) (0.36.0)\n",
            "Requirement already satisfied: grpcio<2.0,>=1.24.3 in /usr/local/lib/python3.10/dist-packages (from tensorflow>=1.13.1->ckiptagger[gdown,tf]) (1.62.0)\n",
            "Requirement already satisfied: tensorboard<2.16,>=2.15 in /usr/local/lib/python3.10/dist-packages (from tensorflow>=1.13.1->ckiptagger[gdown,tf]) (2.15.2)\n",
            "Requirement already satisfied: tensorflow-estimator<2.16,>=2.15.0 in /usr/local/lib/python3.10/dist-packages (from tensorflow>=1.13.1->ckiptagger[gdown,tf]) (2.15.0)\n",
            "Requirement already satisfied: keras<2.16,>=2.15.0 in /usr/local/lib/python3.10/dist-packages (from tensorflow>=1.13.1->ckiptagger[gdown,tf]) (2.15.0)\n",
            "Requirement already satisfied: filelock in /usr/local/lib/python3.10/dist-packages (from gdown->ckiptagger[gdown,tf]) (3.13.1)\n",
            "Requirement already satisfied: requests[socks] in /usr/local/lib/python3.10/dist-packages (from gdown->ckiptagger[gdown,tf]) (2.31.0)\n",
            "Requirement already satisfied: tqdm in /usr/local/lib/python3.10/dist-packages (from gdown->ckiptagger[gdown,tf]) (4.66.2)\n",
            "Requirement already satisfied: beautifulsoup4 in /usr/local/lib/python3.10/dist-packages (from gdown->ckiptagger[gdown,tf]) (4.12.3)\n",
            "Requirement already satisfied: wheel<1.0,>=0.23.0 in /usr/local/lib/python3.10/dist-packages (from astunparse>=1.6.0->tensorflow>=1.13.1->ckiptagger[gdown,tf]) (0.42.0)\n",
            "Requirement already satisfied: google-auth<3,>=1.6.3 in /usr/local/lib/python3.10/dist-packages (from tensorboard<2.16,>=2.15->tensorflow>=1.13.1->ckiptagger[gdown,tf]) (2.27.0)\n",
            "Requirement already satisfied: google-auth-oauthlib<2,>=0.5 in /usr/local/lib/python3.10/dist-packages (from tensorboard<2.16,>=2.15->tensorflow>=1.13.1->ckiptagger[gdown,tf]) (1.2.0)\n",
            "Requirement already satisfied: markdown>=2.6.8 in /usr/local/lib/python3.10/dist-packages (from tensorboard<2.16,>=2.15->tensorflow>=1.13.1->ckiptagger[gdown,tf]) (3.5.2)\n",
            "Requirement already satisfied: tensorboard-data-server<0.8.0,>=0.7.0 in /usr/local/lib/python3.10/dist-packages (from tensorboard<2.16,>=2.15->tensorflow>=1.13.1->ckiptagger[gdown,tf]) (0.7.2)\n",
            "Requirement already satisfied: werkzeug>=1.0.1 in /usr/local/lib/python3.10/dist-packages (from tensorboard<2.16,>=2.15->tensorflow>=1.13.1->ckiptagger[gdown,tf]) (3.0.1)\n",
            "Requirement already satisfied: soupsieve>1.2 in /usr/local/lib/python3.10/dist-packages (from beautifulsoup4->gdown->ckiptagger[gdown,tf]) (2.5)\n",
            "Requirement already satisfied: charset-normalizer<4,>=2 in /usr/local/lib/python3.10/dist-packages (from requests[socks]->gdown->ckiptagger[gdown,tf]) (3.3.2)\n",
            "Requirement already satisfied: idna<4,>=2.5 in /usr/local/lib/python3.10/dist-packages (from requests[socks]->gdown->ckiptagger[gdown,tf]) (3.6)\n",
            "Requirement already satisfied: urllib3<3,>=1.21.1 in /usr/local/lib/python3.10/dist-packages (from requests[socks]->gdown->ckiptagger[gdown,tf]) (2.0.7)\n",
            "Requirement already satisfied: certifi>=2017.4.17 in /usr/local/lib/python3.10/dist-packages (from requests[socks]->gdown->ckiptagger[gdown,tf]) (2024.2.2)\n",
            "Requirement already satisfied: PySocks!=1.5.7,>=1.5.6 in /usr/local/lib/python3.10/dist-packages (from requests[socks]->gdown->ckiptagger[gdown,tf]) (1.7.1)\n",
            "Requirement already satisfied: cachetools<6.0,>=2.0.0 in /usr/local/lib/python3.10/dist-packages (from google-auth<3,>=1.6.3->tensorboard<2.16,>=2.15->tensorflow>=1.13.1->ckiptagger[gdown,tf]) (5.3.3)\n",
            "Requirement already satisfied: pyasn1-modules>=0.2.1 in /usr/local/lib/python3.10/dist-packages (from google-auth<3,>=1.6.3->tensorboard<2.16,>=2.15->tensorflow>=1.13.1->ckiptagger[gdown,tf]) (0.3.0)\n",
            "Requirement already satisfied: rsa<5,>=3.1.4 in /usr/local/lib/python3.10/dist-packages (from google-auth<3,>=1.6.3->tensorboard<2.16,>=2.15->tensorflow>=1.13.1->ckiptagger[gdown,tf]) (4.9)\n",
            "Requirement already satisfied: requests-oauthlib>=0.7.0 in /usr/local/lib/python3.10/dist-packages (from google-auth-oauthlib<2,>=0.5->tensorboard<2.16,>=2.15->tensorflow>=1.13.1->ckiptagger[gdown,tf]) (1.3.1)\n",
            "Requirement already satisfied: MarkupSafe>=2.1.1 in /usr/local/lib/python3.10/dist-packages (from werkzeug>=1.0.1->tensorboard<2.16,>=2.15->tensorflow>=1.13.1->ckiptagger[gdown,tf]) (2.1.5)\n",
            "Requirement already satisfied: pyasn1<0.6.0,>=0.4.6 in /usr/local/lib/python3.10/dist-packages (from pyasn1-modules>=0.2.1->google-auth<3,>=1.6.3->tensorboard<2.16,>=2.15->tensorflow>=1.13.1->ckiptagger[gdown,tf]) (0.5.1)\n",
            "Requirement already satisfied: oauthlib>=3.0.0 in /usr/local/lib/python3.10/dist-packages (from requests-oauthlib>=0.7.0->google-auth-oauthlib<2,>=0.5->tensorboard<2.16,>=2.15->tensorflow>=1.13.1->ckiptagger[gdown,tf]) (3.2.2)\n",
            "Installing collected packages: ckiptagger\n",
            "Successfully installed ckiptagger-0.2.1\n"
          ]
        }
      ]
    },
    {
      "cell_type": "code",
      "source": [
        "# !pip install -U ckiptagger"
      ],
      "metadata": {
        "id": "1dAjYUPrR9Wp"
      },
      "execution_count": null,
      "outputs": []
    },
    {
      "cell_type": "markdown",
      "source": [
        "## 使用 CKIP\n",
        "\n"
      ],
      "metadata": {
        "id": "4P0SzPu9SFPg"
      }
    },
    {
      "cell_type": "code",
      "source": [
        "from ckiptagger import data_utils, construct_dictionary, WS, POS, NER"
      ],
      "metadata": {
        "id": "8H_8AnguSJON"
      },
      "execution_count": 2,
      "outputs": []
    },
    {
      "cell_type": "markdown",
      "source": [
        "### 1. 下載模型\n",
        "\n",
        "\n"
      ],
      "metadata": {
        "id": "5OcQ66GuSL3I"
      }
    },
    {
      "cell_type": "code",
      "source": [
        "# Downloads to ./data.zip (2GB) and extracts to ./data/\n",
        "data_utils.download_data_url(\"./\") # iis-ckip\n",
        "#data_utils.download_data_gdown(\"./\") # gdrive-ckip"
      ],
      "metadata": {
        "id": "vA7emFKCSPsU"
      },
      "execution_count": 3,
      "outputs": []
    },
    {
      "cell_type": "markdown",
      "source": [
        "- ./data/model_ner/pos_list.txt -> POS tag list, see [Wiki](https://github.com/ckiplab/ckiptagger/wiki/POS-Tags) / [Technical Report no. 93-05](http://ckip.iis.sinica.edu.tw/CKIP/tr/9305_2013%20revision.pdf)\n",
        "- ./data/model_ner/label_list.txt -> Entity type list, see [Wiki](https://github.com/ckiplab/ckiptagger/wiki/Entity-Types) / [OntoNotes Release 5.0](https://catalog.ldc.upenn.edu/docs/LDC2013T19/OntoNotes-Release-5.0.pdf)\n",
        "- ./data/embedding_* -> character/word embeddings, see [Wiki](https://github.com/ckiplab/ckiptagger/wiki/Corpora)\n"
      ],
      "metadata": {
        "id": "Jko48eu5SS7Z"
      }
    },
    {
      "cell_type": "markdown",
      "source": [
        "### 2. 載入模型\n"
      ],
      "metadata": {
        "id": "4JYpCBBfSWEk"
      }
    },
    {
      "cell_type": "code",
      "source": [
        "# To use GPU:\n",
        "#    1. Install tensorflow-gpu (see Installation)\n",
        "#    2. Set CUDA_VISIBLE_DEVICES environment variable, e.g. os.environ[\"CUDA_VISIBLE_DEVICES\"] = \"0\"\n",
        "#    3. Set disable_cuda=False, e.g. ws = WS(\"./data\", disable_cuda=False)\n",
        "# To use CPU:\n",
        "ws = WS(\"./data\") # 斷詞\n",
        "pos = POS(\"./data\") # 詞性標註\n",
        "ner = NER(\"./data\") # 命名實體辨識"
      ],
      "metadata": {
        "id": "_69rgqgPSZcr",
        "colab": {
          "base_uri": "https://localhost:8080/"
        },
        "outputId": "2f3a69cc-becc-4ae2-c005-5492a62ce8c1"
      },
      "execution_count": 4,
      "outputs": [
        {
          "output_type": "stream",
          "name": "stderr",
          "text": [
            "/usr/local/lib/python3.10/dist-packages/ckiptagger/model_ws.py:106: UserWarning: `tf.nn.rnn_cell.LSTMCell` is deprecated and will be removed in a future version. This class is equivalent as `tf.keras.layers.LSTMCell`, and will be replaced by that in Tensorflow 2.0.\n",
            "  cell = tf.compat.v1.nn.rnn_cell.LSTMCell(hidden_d, name=name)\n",
            "/usr/local/lib/python3.10/dist-packages/ckiptagger/model_pos.py:56: UserWarning: `tf.nn.rnn_cell.LSTMCell` is deprecated and will be removed in a future version. This class is equivalent as `tf.keras.layers.LSTMCell`, and will be replaced by that in Tensorflow 2.0.\n",
            "  cell = tf.compat.v1.nn.rnn_cell.LSTMCell(hidden_d, name=name)\n",
            "/usr/local/lib/python3.10/dist-packages/ckiptagger/model_ner.py:57: UserWarning: `tf.nn.rnn_cell.LSTMCell` is deprecated and will be removed in a future version. This class is equivalent as `tf.keras.layers.LSTMCell`, and will be replaced by that in Tensorflow 2.0.\n",
            "  cell = tf.compat.v1.nn.rnn_cell.LSTMCell(hidden_d, name=name)\n"
          ]
        }
      ]
    },
    {
      "cell_type": "markdown",
      "source": [
        "### 3. 執行 WS(斷詞)-POS(詞性標註)-NER(命名實體辨識) pipeline"
      ],
      "metadata": {
        "id": "9ov_7TQ2Stm4"
      }
    },
    {
      "cell_type": "code",
      "source": [
        "sentence_list = [\n",
        "    \"傅達仁今將執行安樂死，卻突然爆出自己20年前遭緯來體育台封殺，他不懂自己哪裡得罪到電視台。\",\n",
        "    \"美國參議院針對今天總統布什所提名的勞工部長趙小蘭展開認可聽證會，預料她將會很順利通過參議院支持，成為該國有史以來第一位的華裔女性內閣成員。\",\n",
        "    \"\",\n",
        "    \"土地公有政策?？還是土地婆有政策。.\",\n",
        "    \"… 你確定嗎… 不要再騙了……\",\n",
        "    \"最多容納59,000個人,或5.9萬人,再多就不行了.這是環評的結論.\",\n",
        "    \"科長說:1,坪數對人數為1:3。2,可以再增加。\",\n",
        "]\n"
      ],
      "metadata": {
        "id": "2VPGLzmJSwLY"
      },
      "execution_count": null,
      "outputs": []
    },
    {
      "cell_type": "code",
      "source": [
        "word_sentence_list = ws(\n",
        "    sentence_list,\n",
        "    # sentence_segmentation = True, # To consider delimiters\n",
        "    # segment_delimiter_set = {\",\", \"。\", \":\", \"?\", \"!\", \";\"}), # This is the defualt set of delimiters\n",
        "    # recommend_dictionary = dictionary1, # words in this dictionary are encouraged\n",
        "    # coerce_dictionary = dictionary2, # words in this dictionary are forced\n",
        ")"
      ],
      "metadata": {
        "id": "OCc4C4fsS1dR"
      },
      "execution_count": null,
      "outputs": []
    },
    {
      "cell_type": "code",
      "source": [
        "print(word_sentence_list)"
      ],
      "metadata": {
        "colab": {
          "base_uri": "https://localhost:8080/"
        },
        "id": "MkihM3AJpIwi",
        "outputId": "9065c20f-3027-466c-8d07-72c8e01dfd9e"
      },
      "execution_count": null,
      "outputs": [
        {
          "output_type": "stream",
          "name": "stdout",
          "text": [
            "[['傅達仁', '今', '將', '執行', '安樂死', '，', '卻', '突然', '爆出', '自己', '20', '年', '前', '遭', '緯來', '體育台', '封殺', '，', '他', '不', '懂', '自己', '哪裡', '得罪到', '電視台', '。'], ['美國', '參議院', '針對', '今天', '總統', '布什', '所', '提名', '的', '勞工部長', '趙小蘭', '展開', '認可', '聽證會', '，', '預料', '她', '將', '會', '很', '順利', '通過', '參議院', '支持', '，', '成為', '該', '國', '有史以來', '第一', '位', '的', '華裔', '女性', '內閣', '成員', '。'], [], ['土地公', '有', '政策', '?', '？', '還是', '土地', '婆', '有', '政策', '。', '.'], ['…', ' ', '你', '確定', '嗎', '…', ' ', '不要', '再', '騙', '了', '…', '…'], ['最多', '容納', '59,000', '個', '人', ',', '或', '5.9萬', '人', ',', '再', '多', '就', '不行', '了', '.', '這', '是', '環評', '的', '結論', '.'], ['科長', '說', ':1,', '坪數', '對', '人數', '為', '1:3', '。', '2', ',', '可以', '再', '增加', '。']]\n"
          ]
        }
      ]
    },
    {
      "cell_type": "code",
      "source": [
        "pos_sentence_list = pos(word_sentence_list)"
      ],
      "metadata": {
        "id": "DrsS9RI6S3Gm"
      },
      "execution_count": null,
      "outputs": []
    },
    {
      "cell_type": "code",
      "source": [
        "print(pos_sentence_list)"
      ],
      "metadata": {
        "colab": {
          "base_uri": "https://localhost:8080/"
        },
        "id": "Mw9vczhepPMk",
        "outputId": "5747f2e6-cc2a-4849-90d7-291e0243ed77"
      },
      "execution_count": null,
      "outputs": [
        {
          "output_type": "stream",
          "name": "stdout",
          "text": [
            "[['Nb', 'Nd', 'D', 'VC', 'Na', 'COMMACATEGORY', 'D', 'D', 'VJ', 'Nh', 'Neu', 'Nf', 'Ng', 'P', 'Nb', 'Na', 'VC', 'COMMACATEGORY', 'Nh', 'D', 'VK', 'Nh', 'Ncd', 'VJ', 'Nc', 'PERIODCATEGORY'], ['Nc', 'Nc', 'P', 'Nd', 'Na', 'Nb', 'D', 'VC', 'DE', 'Na', 'Nb', 'VC', 'VC', 'Na', 'COMMACATEGORY', 'VE', 'Nh', 'D', 'D', 'Dfa', 'VH', 'VC', 'Nc', 'VC', 'COMMACATEGORY', 'VG', 'Nes', 'Nc', 'D', 'Neu', 'Nf', 'DE', 'Na', 'Na', 'Na', 'Na', 'PERIODCATEGORY'], [], ['Nb', 'V_2', 'Na', 'QUESTIONCATEGORY', 'QUESTIONCATEGORY', 'Caa', 'Na', 'Na', 'V_2', 'Na', 'PERIODCATEGORY', 'PERIODCATEGORY'], ['ETCCATEGORY', 'WHITESPACE', 'Nh', 'VK', 'T', 'ETCCATEGORY', 'WHITESPACE', 'D', 'D', 'VC', 'Di', 'ETCCATEGORY', 'ETCCATEGORY'], ['VH', 'VJ', 'Neu', 'Nf', 'Na', 'COMMACATEGORY', 'Caa', 'Neu', 'Na', 'COMMACATEGORY', 'D', 'D', 'D', 'VH', 'T', 'PERIODCATEGORY', 'Nep', 'SHI', 'Na', 'DE', 'Na', 'PERIODCATEGORY'], ['Na', 'VE', 'Neu', 'Na', 'P', 'Na', 'VG', 'Neu', 'PERIODCATEGORY', 'Neu', 'COMMACATEGORY', 'D', 'D', 'VHC', 'PERIODCATEGORY']]\n"
          ]
        }
      ]
    },
    {
      "cell_type": "code",
      "source": [
        "entity_sentence_list = ner(word_sentence_list, pos_sentence_list) # 抓取專有名詞"
      ],
      "metadata": {
        "id": "AJ-96OGsS4ci"
      },
      "execution_count": null,
      "outputs": []
    },
    {
      "cell_type": "code",
      "source": [
        "print(entity_sentence_list)"
      ],
      "metadata": {
        "colab": {
          "base_uri": "https://localhost:8080/"
        },
        "id": "xpbDkZq-pZA4",
        "outputId": "23a8de8c-23ed-486d-abd6-5d1b61693bff"
      },
      "execution_count": null,
      "outputs": [
        {
          "output_type": "stream",
          "name": "stdout",
          "text": [
            "[{(23, 28, 'ORG', '緯來體育台'), (0, 3, 'PERSON', '傅達仁'), (18, 22, 'DATE', '20年前')}, {(2, 5, 'ORG', '參議院'), (7, 9, 'DATE', '今天'), (60, 62, 'NORP', '華裔'), (11, 13, 'PERSON', '布什'), (56, 58, 'ORDINAL', '第一'), (0, 2, 'GPE', '美國'), (42, 45, 'ORG', '參議院'), (21, 24, 'PERSON', '趙小蘭'), (17, 21, 'ORG', '勞工部長')}, set(), {(0, 3, 'PERSON', '土地公')}, set(), {(4, 10, 'CARDINAL', '59,000'), (14, 18, 'CARDINAL', '5.9萬')}, {(12, 13, 'CARDINAL', '1'), (4, 6, 'CARDINAL', '1,'), (16, 17, 'CARDINAL', '2'), (14, 15, 'CARDINAL', '3')}]\n"
          ]
        }
      ]
    },
    {
      "cell_type": "markdown",
      "source": [
        "### 4. 顯示結果\n"
      ],
      "metadata": {
        "id": "O0hk9vSMTAms"
      }
    },
    {
      "cell_type": "code",
      "source": [
        "def print_word_pos_sentence(word_sentence, pos_sentence):\n",
        "    assert len(word_sentence) == len(pos_sentence)\n",
        "    for word, pos in zip(word_sentence, pos_sentence):\n",
        "        print(f\"{word}({pos})\", end=\"\\u3000\")\n",
        "    print()\n",
        "    return"
      ],
      "metadata": {
        "id": "A68zurOhTCpA"
      },
      "execution_count": 6,
      "outputs": []
    },
    {
      "cell_type": "code",
      "source": [
        "for i, sentence in enumerate(sentence_list):\n",
        "    print()\n",
        "    print(f\"'{sentence}'\")\n",
        "    print_word_pos_sentence(word_sentence_list[i],  pos_sentence_list[i])\n",
        "    for entity in sorted(entity_sentence_list[i]):\n",
        "        print(entity)"
      ],
      "metadata": {
        "id": "FIOiWgubTFDY",
        "colab": {
          "base_uri": "https://localhost:8080/"
        },
        "outputId": "569bcb68-bfab-4d68-de5b-a33a470a8cbc"
      },
      "execution_count": null,
      "outputs": [
        {
          "output_type": "stream",
          "name": "stdout",
          "text": [
            "\n",
            "'傅達仁今將執行安樂死，卻突然爆出自己20年前遭緯來體育台封殺，他不懂自己哪裡得罪到電視台。'\n",
            "傅達仁(Nb)　今(Nd)　將(D)　執行(VC)　安樂死(Na)　，(COMMACATEGORY)　卻(D)　突然(D)　爆出(VJ)　自己(Nh)　20(Neu)　年(Nf)　前(Ng)　遭(P)　緯來(Nb)　體育台(Na)　封殺(VC)　，(COMMACATEGORY)　他(Nh)　不(D)　懂(VK)　自己(Nh)　哪裡(Ncd)　得罪到(VJ)　電視台(Nc)　。(PERIODCATEGORY)　\n",
            "(0, 3, 'PERSON', '傅達仁')\n",
            "(18, 22, 'DATE', '20年前')\n",
            "(23, 28, 'ORG', '緯來體育台')\n",
            "\n",
            "'美國參議院針對今天總統布什所提名的勞工部長趙小蘭展開認可聽證會，預料她將會很順利通過參議院支持，成為該國有史以來第一位的華裔女性內閣成員。'\n",
            "美國(Nc)　參議院(Nc)　針對(P)　今天(Nd)　總統(Na)　布什(Nb)　所(D)　提名(VC)　的(DE)　勞工部長(Na)　趙小蘭(Nb)　展開(VC)　認可(VC)　聽證會(Na)　，(COMMACATEGORY)　預料(VE)　她(Nh)　將(D)　會(D)　很(Dfa)　順利(VH)　通過(VC)　參議院(Nc)　支持(VC)　，(COMMACATEGORY)　成為(VG)　該(Nes)　國(Nc)　有史以來(D)　第一(Neu)　位(Nf)　的(DE)　華裔(Na)　女性(Na)　內閣(Na)　成員(Na)　。(PERIODCATEGORY)　\n",
            "(0, 2, 'GPE', '美國')\n",
            "(2, 5, 'ORG', '參議院')\n",
            "(7, 9, 'DATE', '今天')\n",
            "(11, 13, 'PERSON', '布什')\n",
            "(17, 21, 'ORG', '勞工部長')\n",
            "(21, 24, 'PERSON', '趙小蘭')\n",
            "(42, 45, 'ORG', '參議院')\n",
            "(56, 58, 'ORDINAL', '第一')\n",
            "(60, 62, 'NORP', '華裔')\n",
            "\n",
            "''\n",
            "\n",
            "\n",
            "'土地公有政策?？還是土地婆有政策。.'\n",
            "土地公(Nb)　有(V_2)　政策(Na)　?(QUESTIONCATEGORY)　？(QUESTIONCATEGORY)　還是(Caa)　土地(Na)　婆(Na)　有(V_2)　政策(Na)　。(PERIODCATEGORY)　.(PERIODCATEGORY)　\n",
            "(0, 3, 'PERSON', '土地公')\n",
            "\n",
            "'… 你確定嗎… 不要再騙了……'\n",
            "…(ETCCATEGORY)　 (WHITESPACE)　你(Nh)　確定(VK)　嗎(T)　…(ETCCATEGORY)　 (WHITESPACE)　不要(D)　再(D)　騙(VC)　了(Di)　…(ETCCATEGORY)　…(ETCCATEGORY)　\n",
            "\n",
            "'最多容納59,000個人,或5.9萬人,再多就不行了.這是環評的結論.'\n",
            "最多(VH)　容納(VJ)　59,000(Neu)　個(Nf)　人(Na)　,(COMMACATEGORY)　或(Caa)　5.9萬(Neu)　人(Na)　,(COMMACATEGORY)　再(D)　多(D)　就(D)　不行(VH)　了(T)　.(PERIODCATEGORY)　這(Nep)　是(SHI)　環評(Na)　的(DE)　結論(Na)　.(PERIODCATEGORY)　\n",
            "(4, 10, 'CARDINAL', '59,000')\n",
            "(14, 18, 'CARDINAL', '5.9萬')\n",
            "\n",
            "'科長說:1,坪數對人數為1:3。2,可以再增加。'\n",
            "科長(Na)　說(VE)　:1,(Neu)　坪數(Na)　對(P)　人數(Na)　為(VG)　1:3(Neu)　。(PERIODCATEGORY)　2(Neu)　,(COMMACATEGORY)　可以(D)　再(D)　增加(VHC)　。(PERIODCATEGORY)　\n",
            "(4, 6, 'CARDINAL', '1,')\n",
            "(12, 13, 'CARDINAL', '1')\n",
            "(14, 15, 'CARDINAL', '3')\n",
            "(16, 17, 'CARDINAL', '2')\n"
          ]
        }
      ]
    },
    {
      "cell_type": "markdown",
      "source": [
        "# 作業：請使用CKIP套件將從淡江學務處爬下來的5個網頁進行NER關鍵字提取，請列出5個網址及取出之關鍵字。"
      ],
      "metadata": {
        "id": "vAJhWzY6dFQf"
      }
    },
    {
      "cell_type": "code",
      "source": [
        "# 學生事務處各組\n",
        "urls = [\"http://spirit.tku.edu.tw/tku/main.jsp?sectionId=1\", # 學務長室\n",
        "      \"http://spirit.tku.edu.tw/tku/main.jsp?sectionId=2\", # 生活輔導組\n",
        "      \"http://spirit.tku.edu.tw/tku/main.jsp?sectionId=3\", # 課外活動輔導組\n",
        "      \"http://spirit.tku.edu.tw/tku/main.jsp?sectionId=4\", # 諮商輔導中心\n",
        "      \"http://spirit.tku.edu.tw/tku/main.jsp?sectionId=6\", # 衛生保衛組\n",
        "      ]"
      ],
      "metadata": {
        "id": "gaAnS54Va8sZ"
      },
      "execution_count": 5,
      "outputs": []
    },
    {
      "cell_type": "code",
      "source": [
        "import requests\n",
        "from bs4 import BeautifulSoup\n",
        "from ckiptagger import WS, POS, NER\n",
        "import numpy as np\n",
        "\n",
        "for url in urls:\n",
        "  print(\"網址:\", url)\n",
        "  response = requests.get(url)\n",
        "  soup = BeautifulSoup(response.text, 'html.parser')\n",
        "  sentence_list = soup.get_text()\n",
        "  word_sentence_list = ws([sentence_list])\n",
        "  pos_sentence_list = pos(word_sentence_list)\n",
        "  entity_sentence_list = ner(word_sentence_list, pos_sentence_list)\n",
        "  # print(entity_sentence_list[0])\n",
        "  # print(np.shape(entity_sentence_list))\n",
        "\n",
        "  keywords = []\n",
        "  for entity in entity_sentence_list[0]:\n",
        "    if entity[2] != 'PRODUCT' and entity[2] != 'DATE' and entity[2] != 'CARDINAL' and entity[2] != 'ORDINAL':\n",
        "      keywords.append(entity[3])\n",
        "  print(\"關鍵字：\",keywords)\n",
        "  print()\n",
        "\n"
      ],
      "metadata": {
        "colab": {
          "base_uri": "https://localhost:8080/"
        },
        "id": "IQ5f7JSaaIcY",
        "outputId": "d15bfae8-2c8d-4526-a796-f6627694e738"
      },
      "execution_count": 25,
      "outputs": [
        {
          "output_type": "stream",
          "name": "stdout",
          "text": [
            "網址: http://spirit.tku.edu.tw/tku/main.jsp?sectionId=1\n",
            "關鍵字： ['淡江大學學生事務處', '新北市']\n",
            "\n",
            "網址: http://spirit.tku.edu.tw/tku/main.jsp?sectionId=2\n",
            "關鍵字： ['張國基', '中文版', 'Subsidies for Graduate Students生活教育券補助金碩博士班', 'Rewards and Disciplines on Students\\xa0', 'Counseling\\xa0', '董俊章', 'Subsidies for Aborigines', '淡大-公館', '王紹新', 'Student Appeal 防制學生藥物濫用資源網Echinacea', 'Transportation Safety校園安全Campus Security防制校園', 'Foundation', '新北市', '役政司', 'Tutoring', 'Outstanding Youth Awards', 'English version', '國防部', '淡江大學學生事務處', '內政部', 'Military Service Illustration']\n",
            "\n",
            "網址: http://spirit.tku.edu.tw/tku/main.jsp?sectionId=3\n",
            "關鍵字： ['List of Partner Institutions社團', '英文版', '新北市', 'School Club Leaders\\xa0課外組', '中文版', 'College-Assisted Club Development Proj. of High & Elementary Schools\\xa0教育部', '英文版', '英文版', '中文版', 'Information about club activity funding\\xa0', '中文版', '中文版', '英文版', '中文版', '英文版', '中文版', 'Hall of Fame\\xa0', '淡江大學學生事務處', '英文版']\n",
            "\n",
            "網址: http://spirit.tku.edu.tw/tku/main.jsp?sectionId=4\n",
            "關鍵字： ['Graduate Future Development Questionnaire', '教育部', 'Study', '新北市', '淡江大學學生事務處']\n",
            "\n",
            "網址: http://spirit.tku.edu.tw/tku/main.jsp?sectionId=6\n",
            "關鍵字： ['Addresses and Phone Numbers of the Medical Institutions at Taipei Campus', '非洲', '淡江大學', '淡江大學', 'African swine fever', '非洲', 'Notice of Personal Information Collection衛生保健組', '勞動部', '淡江大學', '非洲', '淡江大學', '淡江大學', 'Sanitation and Fitness Section工作流程Management Procedures', '台北校園', 'Keep ASF ', '淡江大學', '非洲豬瘟教育專區', 'Medical Facilities Loan登革熱防疫專區', '淡江大學學生事務處', '衛生教育櫥窗Health Education淡水院所', '新北市']\n",
            "\n"
          ]
        }
      ]
    }
  ]
}