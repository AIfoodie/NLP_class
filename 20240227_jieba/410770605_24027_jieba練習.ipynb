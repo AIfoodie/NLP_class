{
  "nbformat": 4,
  "nbformat_minor": 0,
  "metadata": {
    "colab": {
      "provenance": []
    },
    "kernelspec": {
      "name": "python3",
      "display_name": "Python 3"
    },
    "language_info": {
      "name": "python"
    }
  },
  "cells": [
    {
      "cell_type": "markdown",
      "source": [
        "# 載入 jieba套件"
      ],
      "metadata": {
        "id": "aBflUDEMx_L9"
      }
    },
    {
      "cell_type": "code",
      "source": [
        "! pip install -U jieba"
      ],
      "metadata": {
        "colab": {
          "base_uri": "https://localhost:8080/"
        },
        "id": "Bft13k2Yytc7",
        "outputId": "7d3856e8-4677-4bdd-e3a5-598291a88839"
      },
      "execution_count": 1,
      "outputs": [
        {
          "output_type": "stream",
          "name": "stdout",
          "text": [
            "Requirement already satisfied: jieba in /usr/local/lib/python3.10/dist-packages (0.42.1)\n"
          ]
        }
      ]
    },
    {
      "cell_type": "code",
      "execution_count": 2,
      "metadata": {
        "id": "rQl5Bf3gw9MM"
      },
      "outputs": [],
      "source": [
        "# encoding=utf-8\n",
        "import jieba\n",
        "\n",
        "# jieba.enable_paddle()# 启动paddle模式。 0.40版之后开始支持，早期版本不支持"
      ]
    },
    {
      "cell_type": "markdown",
      "source": [
        "jieba 用途是：將文章斷成字\n"
      ],
      "metadata": {
        "id": "Y3qP5Avqmv4w"
      }
    },
    {
      "cell_type": "markdown",
      "source": [
        "# 列印jieba版本"
      ],
      "metadata": {
        "id": "PCtXmQlG2yey"
      }
    },
    {
      "cell_type": "code",
      "source": [
        "print(jieba.__version__)"
      ],
      "metadata": {
        "colab": {
          "base_uri": "https://localhost:8080/"
        },
        "id": "iUe9qHZg0dFc",
        "outputId": "d7c284a9-a0c5-4bbd-d2cd-efd684d659c7"
      },
      "execution_count": 3,
      "outputs": [
        {
          "output_type": "stream",
          "name": "stdout",
          "text": [
            "0.42.1\n"
          ]
        }
      ]
    },
    {
      "cell_type": "markdown",
      "source": [
        "# 測試資料"
      ],
      "metadata": {
        "id": "Ze9XgazIx7-g"
      }
    },
    {
      "cell_type": "code",
      "source": [
        "strs=[\"我来到北京清华大学\",\"乒乓球拍卖完了\",\"中国科学技术大学\"]"
      ],
      "metadata": {
        "id": "Iw0DANUxxOL_"
      },
      "execution_count": 4,
      "outputs": []
    },
    {
      "cell_type": "markdown",
      "source": [
        "# 使用paddle模式"
      ],
      "metadata": {
        "id": "0jzxeueUyFQ_"
      }
    },
    {
      "cell_type": "code",
      "source": [
        "for str in strs:\n",
        "    seg_list = jieba.cut(str,use_paddle=True) # 使用paddle模式\n",
        "    print(\"Paddle Mode: \" + '/'.join(list(seg_list)))"
      ],
      "metadata": {
        "colab": {
          "base_uri": "https://localhost:8080/"
        },
        "id": "9Mjz0wXexnyp",
        "outputId": "6a9b606d-8fcf-49b3-d535-c17802278a3e"
      },
      "execution_count": 5,
      "outputs": [
        {
          "output_type": "stream",
          "name": "stderr",
          "text": [
            "Building prefix dict from the default dictionary ...\n",
            "DEBUG:jieba:Building prefix dict from the default dictionary ...\n",
            "Dumping model to file cache /tmp/jieba.cache\n",
            "DEBUG:jieba:Dumping model to file cache /tmp/jieba.cache\n",
            "Loading model cost 0.861 seconds.\n",
            "DEBUG:jieba:Loading model cost 0.861 seconds.\n",
            "Prefix dict has been built successfully.\n",
            "DEBUG:jieba:Prefix dict has been built successfully.\n"
          ]
        },
        {
          "output_type": "stream",
          "name": "stdout",
          "text": [
            "Paddle Mode: 我/来到/北京/清华大学\n",
            "Paddle Mode: 乒乓球/拍卖/完/了\n",
            "Paddle Mode: 中国/科学技术/大学\n"
          ]
        }
      ]
    },
    {
      "cell_type": "markdown",
      "source": [
        "# 全模式"
      ],
      "metadata": {
        "id": "ibAxZLrJyQwg"
      }
    },
    {
      "cell_type": "code",
      "source": [
        "seg_list = jieba.cut(\"我来到北京清华大学\", cut_all=True)\n",
        "print(\"Full Mode: \" + \"/ \".join(seg_list))  # 全模式"
      ],
      "metadata": {
        "colab": {
          "base_uri": "https://localhost:8080/"
        },
        "id": "k_U92_Qbxqe5",
        "outputId": "d40b912f-722c-40df-c27b-ed37b7866ebf"
      },
      "execution_count": 6,
      "outputs": [
        {
          "output_type": "stream",
          "name": "stdout",
          "text": [
            "Full Mode: 我/ 来到/ 北京/ 清华/ 清华大学/ 华大/ 大学\n"
          ]
        }
      ]
    },
    {
      "cell_type": "markdown",
      "source": [
        "# 精確模式"
      ],
      "metadata": {
        "id": "oMVhmm0gyUJO"
      }
    },
    {
      "cell_type": "code",
      "source": [
        "seg_list = jieba.cut(\"我来到北京清华大学\", cut_all=False)\n",
        "print(\"Default Mode: \" + \"/ \".join(seg_list))  # 精确模式"
      ],
      "metadata": {
        "colab": {
          "base_uri": "https://localhost:8080/"
        },
        "id": "SHaUxe95xs5G",
        "outputId": "e4d750ef-863c-48a6-b765-75e90ecf8423"
      },
      "execution_count": 7,
      "outputs": [
        {
          "output_type": "stream",
          "name": "stdout",
          "text": [
            "Default Mode: 我/ 来到/ 北京/ 清华大学\n"
          ]
        }
      ]
    },
    {
      "cell_type": "markdown",
      "source": [
        "# 默認是精確模式"
      ],
      "metadata": {
        "id": "H1HTPCyeyYYG"
      }
    },
    {
      "cell_type": "code",
      "source": [
        "seg_list = jieba.cut(\"他来到了网易杭研大厦\")  # 默认是精确模式\n",
        "print(\", \".join(seg_list))"
      ],
      "metadata": {
        "colab": {
          "base_uri": "https://localhost:8080/"
        },
        "id": "CKQ3x4CPxuc7",
        "outputId": "ecbb0534-bdbb-4ce6-ba2b-4ecb80255b3b"
      },
      "execution_count": 8,
      "outputs": [
        {
          "output_type": "stream",
          "name": "stdout",
          "text": [
            "他, 来到, 了, 网易, 杭研, 大厦\n"
          ]
        }
      ]
    },
    {
      "cell_type": "markdown",
      "source": [
        "# 搜索引擎模式"
      ],
      "metadata": {
        "id": "sRykLVgFydx2"
      }
    },
    {
      "cell_type": "code",
      "source": [
        "seg_list = jieba.cut_for_search(\"小明硕士毕业于中国科学院计算所，后在日本京都大学深造\")  # 搜索引擎模式\n",
        "print(\", \".join(seg_list))"
      ],
      "metadata": {
        "colab": {
          "base_uri": "https://localhost:8080/"
        },
        "id": "TXZYjrcuxwdR",
        "outputId": "42f0a604-2b1c-4c42-a3b0-04cff49eab98"
      },
      "execution_count": 9,
      "outputs": [
        {
          "output_type": "stream",
          "name": "stdout",
          "text": [
            "小明, 硕士, 毕业, 于, 中国, 科学, 学院, 科学院, 中国科学院, 计算, 计算所, ，, 后, 在, 日本, 京都, 大学, 日本京都大学, 深造\n"
          ]
        }
      ]
    },
    {
      "cell_type": "markdown",
      "source": [
        "# 詞性標註"
      ],
      "metadata": {
        "id": "48-0IDQq25ed"
      }
    },
    {
      "cell_type": "code",
      "source": [
        "import jieba\n",
        "import jieba.posseg as pseg\n",
        "str = ''' 社交平台 X 消息指出，根據《俄羅斯衛星通訊社》Sputnik 報導，俄中央軍區第 55 摩步旅突擊隊報告在阿夫迪夫卡火車站遭遇美國人並爆發激烈衝突。\n",
        "\n",
        "當時俄軍在阿夫迪夫卡地道裏發現還有殘餘烏軍活動並進行嚴密搜索。俄第 55 摩步旅突擊隊在奪取火車站時，遭遇一群正在突圍的烏軍部隊。\n",
        "\n",
        "雙方爆發激烈戰鬥，這群烏軍不投降，一面占據火車站附近房屋與俄軍戰鬥；一面一個勁往外硬闖突圍。俄軍迅速抽調更多突擊隊從各方向展開包圍，最終這支軍隊留下一個戰鬥小隊，在火車站地下室裏繼續阻擊俄軍，成功掩護主力瘋狂突圍。\n",
        "\n",
        "戰鬥當中，俄軍發現地面遺留的美制彈藥，俄羅斯突擊隊意識到這不是烏克蘭士兵，而是一群美國老兵為核心的北約志願兵。這些人有豐富戰鬥經驗，火車站遭遇戰打得非常激烈。\n",
        "\n",
        "俄媒《塔斯社》報導，俄羅斯突擊隊還在阿夫迪夫卡發現制服上帶有美國和波蘭魔術貼的士兵屍體。他們在火車站遭遇到的烏軍裏有很多美國、加拿大和其他歐洲國家雇傭軍或者志願兵。\n",
        "\n",
        "俄媒稱，這些人基本都是美國黑水公司，或者不同公司的退役老兵，甚至還有很多北約現役軍人以私人名義參戰。'''\n",
        "\n",
        "words = pseg.cut(str) #jieba默认模式\n",
        "#words = pseg.cut(str,use_paddle=True) #paddle模式\n",
        "for word, flag in words:\n",
        "  print('%s %s' % (word, flag))"
      ],
      "metadata": {
        "colab": {
          "base_uri": "https://localhost:8080/"
        },
        "id": "M_WihdmB0eTx",
        "outputId": "06bfad33-3ef6-442b-c6af-af41fe8fbeb9"
      },
      "execution_count": 10,
      "outputs": [
        {
          "output_type": "stream",
          "name": "stdout",
          "text": [
            "  x\n",
            "社交 n\n",
            "平台 n\n",
            "  x\n",
            "X x\n",
            "  x\n",
            "消息 n\n",
            "指出 v\n",
            "， x\n",
            "根據 p\n",
            "《 x\n",
            "俄羅斯衛星 nz\n",
            "通訊 nz\n",
            "社 n\n",
            "》 x\n",
            "Sputnik eng\n",
            "  x\n",
            "報導 n\n",
            "， x\n",
            "俄 j\n",
            "中央 n\n",
            "軍區 n\n",
            "第 m\n",
            "  x\n",
            "55 m\n",
            "  x\n",
            "摩步旅 nz\n",
            "突擊隊 n\n",
            "報告 n\n",
            "在 p\n",
            "阿夫迪夫卡 nrt\n",
            "火車 n\n",
            "站 v\n",
            "遭遇 n\n",
            "美國 ns\n",
            "人 n\n",
            "並 c\n",
            "爆發 v\n",
            "激烈 a\n",
            "衝突 vn\n",
            "。 x\n",
            "\n",
            " x\n",
            "\n",
            " x\n",
            "當時 t\n",
            "俄 j\n",
            "軍 n\n",
            "在 p\n",
            "阿夫迪夫卡 nrt\n",
            "地道 n\n",
            "裏 yg\n",
            "發 v\n",
            "現 tg\n",
            "還 d\n",
            "有 v\n",
            "殘 a\n",
            "餘 m\n",
            "烏 j\n",
            "軍 n\n",
            "活 v\n",
            "動 v\n",
            "並 c\n",
            "進 v\n",
            "行 v\n",
            "嚴 a\n",
            "密 a\n",
            "搜索 v\n",
            "。 x\n",
            "俄第 ns\n",
            "  x\n",
            "55 m\n",
            "  x\n",
            "摩步旅 nz\n",
            "突擊隊 n\n",
            "在 p\n",
            "奪 v\n",
            "取火 v\n",
            "車站 n\n",
            "時 n\n",
            "， x\n",
            "遭遇 n\n",
            "一群 m\n",
            "正在 t\n",
            "突圍 n\n",
            "的 uj\n",
            "烏軍 n\n",
            "部隊 n\n",
            "。 x\n",
            "\n",
            " x\n",
            "\n",
            " x\n",
            "雙方 n\n",
            "爆發 v\n",
            "激烈 a\n",
            "戰鬥 vn\n",
            "， x\n",
            "這 r\n",
            "群 q\n",
            "烏軍 n\n",
            "不 d\n",
            "投降 v\n",
            "， x\n",
            "一面 m\n",
            "占 v\n",
            "據 p\n",
            "火車 n\n",
            "站 v\n",
            "附近 f\n",
            "房屋 n\n",
            "與 p\n",
            "俄軍 j\n",
            "戰鬥 vn\n",
            "； x\n",
            "一面 m\n",
            "一個 m\n",
            "勁 n\n",
            "往外 d\n",
            "硬 a\n",
            "闖 v\n",
            "突圍 n\n",
            "。 x\n",
            "俄軍 nt\n",
            "迅速 ad\n",
            "抽調 v\n",
            "更 d\n",
            "多 m\n",
            "突擊隊 n\n",
            "從 p\n",
            "各 r\n",
            "方向 n\n",
            "展開 v\n",
            "包圍 v\n",
            "， x\n",
            "最終 d\n",
            "這 r\n",
            "支 q\n",
            "軍隊 n\n",
            "留下 v\n",
            "一個 m\n",
            "戰鬥 vn\n",
            "小隊 n\n",
            "， x\n",
            "在 p\n",
            "火車 n\n",
            "站 v\n",
            "地下室 n\n",
            "裏 y\n",
            "繼 vg\n",
            "續 v\n",
            "阻 v\n",
            "擊 vg\n",
            "俄 j\n",
            "軍 n\n",
            "， x\n",
            "成功 a\n",
            "掩護 v\n",
            "主力 n\n",
            "瘋狂 a\n",
            "突圍 n\n",
            "。 x\n",
            "\n",
            " x\n",
            "\n",
            " x\n",
            "戰鬥 vn\n",
            "當 p\n",
            "中 ns\n",
            "， x\n",
            "俄軍 j\n",
            "發現 v\n",
            "地面 n\n",
            "遺留 vn\n",
            "的 uj\n",
            "美制 n\n",
            "彈藥 n\n",
            "， x\n",
            "俄羅斯 ns\n",
            "突擊隊 n\n",
            "意識 n\n",
            "到 v\n",
            "這 r\n",
            "不是 c\n",
            "烏克蘭 nr\n",
            "士兵 n\n",
            "， x\n",
            "而是 c\n",
            "一群 m\n",
            "美國 ns\n",
            "老兵 n\n",
            "為 zg\n",
            "核心 n\n",
            "的 uj\n",
            "北約志願兵 nt\n",
            "。 x\n",
            "這些 r\n",
            "人 n\n",
            "有 v\n",
            "豐富 a\n",
            "戰鬥 vn\n",
            "經驗 vn\n",
            "， x\n",
            "火車 n\n",
            "站 v\n",
            "遭遇 n\n",
            "戰 vg\n",
            "打 v\n",
            "得 ud\n",
            "非常 d\n",
            "激烈 a\n",
            "。 x\n",
            "\n",
            " x\n",
            "\n",
            " x\n",
            "俄 j\n",
            "媒 n\n",
            "《 x\n",
            "塔斯社 nr\n",
            "》 x\n",
            "報導 n\n",
            "， x\n",
            "俄羅斯 ns\n",
            "突擊隊 n\n",
            "還 d\n",
            "在 p\n",
            "阿夫迪夫卡 nrt\n",
            "發現 v\n",
            "制服 v\n",
            "上 f\n",
            "帶有 v\n",
            "美國 ns\n",
            "和 c\n",
            "波蘭 ns\n",
            "魔術貼 n\n",
            "的 uj\n",
            "士兵 n\n",
            "屍體 n\n",
            "。 x\n",
            "他們 r\n",
            "在 p\n",
            "火車 n\n",
            "站 v\n",
            "遭遇 n\n",
            "到 v\n",
            "的 uj\n",
            "烏 j\n",
            "軍 n\n",
            "裏 zg\n",
            "有 v\n",
            "很多 m\n",
            "美國 ns\n",
            "、 x\n",
            "加拿大 ns\n",
            "和 c\n",
            "其他 r\n",
            "歐洲 ns\n",
            "國家 n\n",
            "雇傭 v\n",
            "軍 n\n",
            "或者 c\n",
            "志願兵 n\n",
            "。 x\n",
            "\n",
            " x\n",
            "\n",
            " x\n",
            "俄 j\n",
            "媒稱 n\n",
            "， x\n",
            "這些 r\n",
            "人 n\n",
            "基本 n\n",
            "都 d\n",
            "是 v\n",
            "美國 ns\n",
            "黑水 n\n",
            "公司 n\n",
            "， x\n",
            "或者 c\n",
            "不同 a\n",
            "公司 n\n",
            "的 uj\n",
            "退役 v\n",
            "老兵 n\n",
            "， x\n",
            "甚至 d\n",
            "還 d\n",
            "有 v\n",
            "很多 m\n",
            "北約 ns\n",
            "現役 n\n",
            "軍人 n\n",
            "以 p\n",
            "私人 n\n",
            "名義 n\n",
            "參戰 v\n",
            "。 x\n"
          ]
        }
      ]
    },
    {
      "cell_type": "markdown",
      "source": [
        "# TFIDF 關鍵詞提取"
      ],
      "metadata": {
        "id": "5EKXZBY-5Gjf"
      }
    },
    {
      "cell_type": "markdown",
      "source": [
        "TF\n",
        "IDF\n",
        "\n",
        "沒有提供多篇文章時，IDF會相同"
      ],
      "metadata": {
        "id": "j9_Xbu0yqrod"
      }
    },
    {
      "cell_type": "code",
      "source": [
        "import jieba\n",
        "import jieba.analyse\n",
        "\n",
        "topK = 10\n",
        "\n",
        "content = ''' 社交平台 X 消息指出，根據《俄羅斯衛星通訊社》Sputnik 報導，俄中央軍區第 55 摩步旅突擊隊報告在阿夫迪夫卡火車站遭遇美國人並爆發激烈衝突。\n",
        "\n",
        "當時俄軍在阿夫迪夫卡地道裏發現還有殘餘烏軍活動並進行嚴密搜索。俄第 55 摩步旅突擊隊在奪取火車站時，遭遇一群正在突圍的烏軍部隊。\n",
        "\n",
        "雙方爆發激烈戰鬥，這群烏軍不投降，一面占據火車站附近房屋與俄軍戰鬥；一面一個勁往外硬闖突圍。俄軍迅速抽調更多突擊隊從各方向展開包圍，最終這支軍隊留下一個戰鬥小隊，在火車站地下室裏繼續阻擊俄軍，成功掩護主力瘋狂突圍。\n",
        "\n",
        "戰鬥當中，俄軍發現地面遺留的美制彈藥，俄羅斯突擊隊意識到這不是烏克蘭士兵，而是一群美國老兵為核心的北約志願兵。這些人有豐富戰鬥經驗，火車站遭遇戰打得非常激烈。\n",
        "\n",
        "俄媒《塔斯社》報導，俄羅斯突擊隊還在阿夫迪夫卡發現制服上帶有美國和波蘭魔術貼的士兵屍體。他們在火車站遭遇到的烏軍裏有很多美國、加拿大和其他歐洲國家雇傭軍或者志願兵。\n",
        "\n",
        "俄媒稱，這些人基本都是美國黑水公司，或者不同公司的退役老兵，甚至還有很多北約現役軍人以私人名義參戰。'''\n",
        "\n",
        "tags = jieba.analyse.extract_tags(content, topK=topK)\n",
        "\n",
        "print(\",\".join(tags))"
      ],
      "metadata": {
        "colab": {
          "base_uri": "https://localhost:8080/"
        },
        "id": "WqMBOipE4Juh",
        "outputId": "9db21c17-36d1-48b8-c045-b438d72f5bd6"
      },
      "execution_count": 11,
      "outputs": [
        {
          "output_type": "stream",
          "name": "stdout",
          "text": [
            "突擊隊,美國,火車,突圍,戰鬥,遭遇,報導,55,阿夫迪夫,爆發\n"
          ]
        }
      ]
    },
    {
      "cell_type": "markdown",
      "source": [
        "Tokenize"
      ],
      "metadata": {
        "id": "nsHkWNwZ66EJ"
      }
    },
    {
      "cell_type": "code",
      "source": [
        "result = jieba.tokenize(u'永和服装饰品有限公司')\n",
        "# result = jieba.tokenize(content)\n",
        "for tk in result:\n",
        "    print(\"word %s\\t\\t start: %d \\t\\t end:%d\" % (tk[0],tk[1],tk[2]))"
      ],
      "metadata": {
        "colab": {
          "base_uri": "https://localhost:8080/"
        },
        "id": "5V_75Erj66OB",
        "outputId": "293beb1c-39cb-4734-96e3-c3c76f77795e"
      },
      "execution_count": 12,
      "outputs": [
        {
          "output_type": "stream",
          "name": "stdout",
          "text": [
            "word 永和\t\t start: 0 \t\t end:2\n",
            "word 服装\t\t start: 2 \t\t end:4\n",
            "word 饰品\t\t start: 4 \t\t end:6\n",
            "word 有限公司\t\t start: 6 \t\t end:10\n"
          ]
        }
      ]
    },
    {
      "cell_type": "markdown",
      "source": [
        "## 作業：請使用爬蟲程式從udn新聞網站爬取100文章，並jieba套件計算這100篇文章中出現最多的關鍵詞(動詞)。"
      ],
      "metadata": {
        "id": "krzwOmg23W6r"
      }
    },
    {
      "cell_type": "markdown",
      "source": [
        "###使用爬蟲程式從udn新聞網站爬取100文章"
      ],
      "metadata": {
        "id": "Xe-WCwkGFMRc"
      }
    },
    {
      "cell_type": "code",
      "source": [
        "!pip install scrapy"
      ],
      "metadata": {
        "id": "mCsOKi0IC8tR",
        "colab": {
          "base_uri": "https://localhost:8080/"
        },
        "outputId": "a462d60a-babf-411a-d4f5-51e5948b04bc"
      },
      "execution_count": 2,
      "outputs": [
        {
          "output_type": "stream",
          "name": "stdout",
          "text": [
            "Collecting scrapy\n",
            "  Downloading Scrapy-2.11.1-py2.py3-none-any.whl (287 kB)\n",
            "\u001b[2K     \u001b[90m━━━━━━━━━━━━━━━━━━━━━━━━━━━━━━━━━━━━━━━━\u001b[0m \u001b[32m287.8/287.8 kB\u001b[0m \u001b[31m4.8 MB/s\u001b[0m eta \u001b[36m0:00:00\u001b[0m\n",
            "\u001b[?25hCollecting Twisted>=18.9.0 (from scrapy)\n",
            "  Downloading twisted-24.3.0-py3-none-any.whl (3.2 MB)\n",
            "\u001b[2K     \u001b[90m━━━━━━━━━━━━━━━━━━━━━━━━━━━━━━━━━━━━━━━━\u001b[0m \u001b[32m3.2/3.2 MB\u001b[0m \u001b[31m15.9 MB/s\u001b[0m eta \u001b[36m0:00:00\u001b[0m\n",
            "\u001b[?25hRequirement already satisfied: cryptography>=36.0.0 in /usr/local/lib/python3.10/dist-packages (from scrapy) (42.0.5)\n",
            "Collecting cssselect>=0.9.1 (from scrapy)\n",
            "  Downloading cssselect-1.2.0-py2.py3-none-any.whl (18 kB)\n",
            "Collecting itemloaders>=1.0.1 (from scrapy)\n",
            "  Downloading itemloaders-1.1.0-py3-none-any.whl (11 kB)\n",
            "Collecting parsel>=1.5.0 (from scrapy)\n",
            "  Downloading parsel-1.8.1-py2.py3-none-any.whl (17 kB)\n",
            "Requirement already satisfied: pyOpenSSL>=21.0.0 in /usr/local/lib/python3.10/dist-packages (from scrapy) (24.0.0)\n",
            "Collecting queuelib>=1.4.2 (from scrapy)\n",
            "  Downloading queuelib-1.6.2-py2.py3-none-any.whl (13 kB)\n",
            "Collecting service-identity>=18.1.0 (from scrapy)\n",
            "  Downloading service_identity-24.1.0-py3-none-any.whl (12 kB)\n",
            "Collecting w3lib>=1.17.0 (from scrapy)\n",
            "  Downloading w3lib-2.1.2-py3-none-any.whl (21 kB)\n",
            "Collecting zope.interface>=5.1.0 (from scrapy)\n",
            "  Downloading zope.interface-6.2-cp310-cp310-manylinux_2_5_x86_64.manylinux1_x86_64.manylinux_2_17_x86_64.manylinux2014_x86_64.whl (247 kB)\n",
            "\u001b[2K     \u001b[90m━━━━━━━━━━━━━━━━━━━━━━━━━━━━━━━━━━━━━━━━\u001b[0m \u001b[32m247.3/247.3 kB\u001b[0m \u001b[31m23.0 MB/s\u001b[0m eta \u001b[36m0:00:00\u001b[0m\n",
            "\u001b[?25hCollecting protego>=0.1.15 (from scrapy)\n",
            "  Downloading Protego-0.3.0-py2.py3-none-any.whl (8.5 kB)\n",
            "Collecting itemadapter>=0.1.0 (from scrapy)\n",
            "  Downloading itemadapter-0.8.0-py3-none-any.whl (11 kB)\n",
            "Requirement already satisfied: setuptools in /usr/local/lib/python3.10/dist-packages (from scrapy) (67.7.2)\n",
            "Requirement already satisfied: packaging in /usr/local/lib/python3.10/dist-packages (from scrapy) (23.2)\n",
            "Collecting tldextract (from scrapy)\n",
            "  Downloading tldextract-5.1.1-py3-none-any.whl (97 kB)\n",
            "\u001b[2K     \u001b[90m━━━━━━━━━━━━━━━━━━━━━━━━━━━━━━━━━━━━━━━━\u001b[0m \u001b[32m97.7/97.7 kB\u001b[0m \u001b[31m12.0 MB/s\u001b[0m eta \u001b[36m0:00:00\u001b[0m\n",
            "\u001b[?25hRequirement already satisfied: lxml>=4.4.1 in /usr/local/lib/python3.10/dist-packages (from scrapy) (4.9.4)\n",
            "Collecting PyDispatcher>=2.0.5 (from scrapy)\n",
            "  Downloading PyDispatcher-2.0.7-py3-none-any.whl (12 kB)\n",
            "Requirement already satisfied: cffi>=1.12 in /usr/local/lib/python3.10/dist-packages (from cryptography>=36.0.0->scrapy) (1.16.0)\n",
            "Collecting jmespath>=0.9.5 (from itemloaders>=1.0.1->scrapy)\n",
            "  Downloading jmespath-1.0.1-py3-none-any.whl (20 kB)\n",
            "Requirement already satisfied: attrs>=19.1.0 in /usr/local/lib/python3.10/dist-packages (from service-identity>=18.1.0->scrapy) (23.2.0)\n",
            "Requirement already satisfied: pyasn1 in /usr/local/lib/python3.10/dist-packages (from service-identity>=18.1.0->scrapy) (0.5.1)\n",
            "Requirement already satisfied: pyasn1-modules in /usr/local/lib/python3.10/dist-packages (from service-identity>=18.1.0->scrapy) (0.3.0)\n",
            "Collecting automat>=0.8.0 (from Twisted>=18.9.0->scrapy)\n",
            "  Downloading Automat-22.10.0-py2.py3-none-any.whl (26 kB)\n",
            "Collecting constantly>=15.1 (from Twisted>=18.9.0->scrapy)\n",
            "  Downloading constantly-23.10.4-py3-none-any.whl (13 kB)\n",
            "Collecting hyperlink>=17.1.1 (from Twisted>=18.9.0->scrapy)\n",
            "  Downloading hyperlink-21.0.0-py2.py3-none-any.whl (74 kB)\n",
            "\u001b[2K     \u001b[90m━━━━━━━━━━━━━━━━━━━━━━━━━━━━━━━━━━━━━━━━\u001b[0m \u001b[32m74.6/74.6 kB\u001b[0m \u001b[31m9.8 MB/s\u001b[0m eta \u001b[36m0:00:00\u001b[0m\n",
            "\u001b[?25hCollecting incremental>=22.10.0 (from Twisted>=18.9.0->scrapy)\n",
            "  Downloading incremental-22.10.0-py2.py3-none-any.whl (16 kB)\n",
            "Requirement already satisfied: typing-extensions>=4.2.0 in /usr/local/lib/python3.10/dist-packages (from Twisted>=18.9.0->scrapy) (4.10.0)\n",
            "Requirement already satisfied: idna in /usr/local/lib/python3.10/dist-packages (from tldextract->scrapy) (3.6)\n",
            "Requirement already satisfied: requests>=2.1.0 in /usr/local/lib/python3.10/dist-packages (from tldextract->scrapy) (2.31.0)\n",
            "Collecting requests-file>=1.4 (from tldextract->scrapy)\n",
            "  Downloading requests_file-2.0.0-py2.py3-none-any.whl (4.2 kB)\n",
            "Requirement already satisfied: filelock>=3.0.8 in /usr/local/lib/python3.10/dist-packages (from tldextract->scrapy) (3.13.1)\n",
            "Requirement already satisfied: six in /usr/local/lib/python3.10/dist-packages (from automat>=0.8.0->Twisted>=18.9.0->scrapy) (1.16.0)\n",
            "Requirement already satisfied: pycparser in /usr/local/lib/python3.10/dist-packages (from cffi>=1.12->cryptography>=36.0.0->scrapy) (2.21)\n",
            "Requirement already satisfied: charset-normalizer<4,>=2 in /usr/local/lib/python3.10/dist-packages (from requests>=2.1.0->tldextract->scrapy) (3.3.2)\n",
            "Requirement already satisfied: urllib3<3,>=1.21.1 in /usr/local/lib/python3.10/dist-packages (from requests>=2.1.0->tldextract->scrapy) (2.0.7)\n",
            "Requirement already satisfied: certifi>=2017.4.17 in /usr/local/lib/python3.10/dist-packages (from requests>=2.1.0->tldextract->scrapy) (2024.2.2)\n",
            "Installing collected packages: PyDispatcher, incremental, zope.interface, w3lib, queuelib, protego, jmespath, itemadapter, hyperlink, cssselect, constantly, automat, Twisted, requests-file, parsel, tldextract, service-identity, itemloaders, scrapy\n",
            "Successfully installed PyDispatcher-2.0.7 Twisted-24.3.0 automat-22.10.0 constantly-23.10.4 cssselect-1.2.0 hyperlink-21.0.0 incremental-22.10.0 itemadapter-0.8.0 itemloaders-1.1.0 jmespath-1.0.1 parsel-1.8.1 protego-0.3.0 queuelib-1.6.2 requests-file-2.0.0 scrapy-2.11.1 service-identity-24.1.0 tldextract-5.1.1 w3lib-2.1.2 zope.interface-6.2\n"
          ]
        }
      ]
    },
    {
      "cell_type": "code",
      "source": [
        "!scrapy runspider udn_100.py -o udn_100.jl"
      ],
      "metadata": {
        "colab": {
          "base_uri": "https://localhost:8080/"
        },
        "id": "BhSsTTmkCx_c",
        "outputId": "f70d55e8-66ec-4204-ed28-e3e52bb7c2a1"
      },
      "execution_count": null,
      "outputs": [
        {
          "output_type": "stream",
          "name": "stdout",
          "text": [
            "2024-03-01 08:09:58 [scrapy.utils.log] INFO: Scrapy 2.11.1 started (bot: scrapybot)\n",
            "2024-03-01 08:09:58 [scrapy.utils.log] INFO: Versions: lxml 4.9.4.0, libxml2 2.10.3, cssselect 1.2.0, parsel 1.8.1, w3lib 2.1.2, Twisted 23.10.0, Python 3.10.12 (main, Nov 20 2023, 15:14:05) [GCC 11.4.0], pyOpenSSL 24.0.0 (OpenSSL 3.2.1 30 Jan 2024), cryptography 42.0.5, Platform Linux-6.1.58+-x86_64-with-glibc2.35\n",
            "2024-03-01 08:09:58 [scrapy.addons] INFO: Enabled addons:\n",
            "[]\n",
            "/usr/local/lib/python3.10/dist-packages/scrapy/utils/request.py:254: ScrapyDeprecationWarning: '2.6' is a deprecated value for the 'REQUEST_FINGERPRINTER_IMPLEMENTATION' setting.\n",
            "\n",
            "It is also the default value. In other words, it is normal to get this warning if you have not defined a value for the 'REQUEST_FINGERPRINTER_IMPLEMENTATION' setting. This is so for backward compatibility reasons, but it will change in a future version of Scrapy.\n",
            "\n",
            "See the documentation of the 'REQUEST_FINGERPRINTER_IMPLEMENTATION' setting for information on how to handle this deprecation.\n",
            "  return cls(crawler)\n",
            "2024-03-01 08:09:58 [scrapy.utils.log] DEBUG: Using reactor: twisted.internet.epollreactor.EPollReactor\n",
            "2024-03-01 08:09:58 [scrapy.extensions.telnet] INFO: Telnet Password: e21d0ace323dc131\n",
            "2024-03-01 08:09:58 [scrapy.middleware] INFO: Enabled extensions:\n",
            "['scrapy.extensions.corestats.CoreStats',\n",
            " 'scrapy.extensions.telnet.TelnetConsole',\n",
            " 'scrapy.extensions.memusage.MemoryUsage',\n",
            " 'scrapy.extensions.feedexport.FeedExporter',\n",
            " 'scrapy.extensions.logstats.LogStats']\n",
            "2024-03-01 08:09:58 [scrapy.crawler] INFO: Overridden settings:\n",
            "{'DOWNLOAD_DELAY': '3',\n",
            " 'FEED_EXPORT_ENCODING': 'utf-8',\n",
            " 'SPIDER_LOADER_WARN_ONLY': True}\n",
            "2024-03-01 08:09:58 [scrapy.middleware] INFO: Enabled downloader middlewares:\n",
            "['scrapy.downloadermiddlewares.httpauth.HttpAuthMiddleware',\n",
            " 'scrapy.downloadermiddlewares.downloadtimeout.DownloadTimeoutMiddleware',\n",
            " 'scrapy.downloadermiddlewares.defaultheaders.DefaultHeadersMiddleware',\n",
            " 'scrapy.downloadermiddlewares.useragent.UserAgentMiddleware',\n",
            " 'scrapy.downloadermiddlewares.retry.RetryMiddleware',\n",
            " 'scrapy.downloadermiddlewares.redirect.MetaRefreshMiddleware',\n",
            " 'scrapy.downloadermiddlewares.httpcompression.HttpCompressionMiddleware',\n",
            " 'scrapy.downloadermiddlewares.redirect.RedirectMiddleware',\n",
            " 'scrapy.downloadermiddlewares.cookies.CookiesMiddleware',\n",
            " 'scrapy.downloadermiddlewares.httpproxy.HttpProxyMiddleware',\n",
            " 'scrapy.downloadermiddlewares.stats.DownloaderStats']\n",
            "2024-03-01 08:09:58 [scrapy.middleware] INFO: Enabled spider middlewares:\n",
            "['scrapy.spidermiddlewares.httperror.HttpErrorMiddleware',\n",
            " 'scrapy.spidermiddlewares.offsite.OffsiteMiddleware',\n",
            " 'scrapy.spidermiddlewares.referer.RefererMiddleware',\n",
            " 'scrapy.spidermiddlewares.urllength.UrlLengthMiddleware',\n",
            " 'scrapy.spidermiddlewares.depth.DepthMiddleware']\n",
            "2024-03-01 08:09:58 [scrapy.middleware] INFO: Enabled item pipelines:\n",
            "[]\n",
            "2024-03-01 08:09:58 [scrapy.core.engine] INFO: Spider opened\n",
            "2024-03-01 08:09:58 [scrapy.extensions.logstats] INFO: Crawled 0 pages (at 0 pages/min), scraped 0 items (at 0 items/min)\n",
            "2024-03-01 08:09:58 [scrapy.extensions.telnet] INFO: Telnet console listening on 127.0.0.1:6023\n",
            "2024-03-01 08:09:59 [scrapy.core.engine] DEBUG: Crawled (200) <GET https://udn.com/search/word/2/%E8%94%A1%E8%8B%B1%E6%96%87> (referer: None)\n",
            "2024-03-01 08:10:03 [scrapy.core.engine] DEBUG: Crawled (200) <GET https://udn.com/news/story/7252/7802329> (referer: https://udn.com/search/word/2/%E8%94%A1%E8%8B%B1%E6%96%87)\n",
            "2024-03-01 08:10:03 [scrapy.core.scraper] DEBUG: Scraped from <200 https://udn.com/news/story/7252/7802329>\n",
            "{'title': '漢翔2023年 EPS 2.36元 歷史最佳', 'content': '（2634）2023年連續兩年進入「300億俱樂部」，全年營收為391億元，相較前年的302億元，以將近30%的成長幅度，持續寫下該公司成立以來的新高紀錄，EPS每股盈餘也從去年的1.73進步到2.36，同樣為歷史最佳，並訂於今年5月27日召開股東常會。\\r\\n\\r\\n去年度全球航空旅運復甦，民用飛機需求量大增，掌握疫後重整商機，漢翔在年初就斬獲美國發動機大廠的十年大單，宣告了這將是再攀高峰的一年；6月份巴黎航展，漢翔再取得單走道客機及發動機零組件長約；8月10日，則在蔡英文總統見證下，完成龐巴迪公司Challenger系列產品交機第1,000架的里程碑，雙方成為合作夥伴已來到第25個年頭，當年這項ODM專案，是台灣第二次參與飛機跨國設計與製造，而今台灣製造的品牌，早已深深打入國際民用航空市場。\\r\\n\\r\\n國防業務方面，去年也寫下精采篇章，複雜度相當高的鳳展專案順利結案，國軍主力戰機139架F-16V如期升級交付空軍；勇鷹高教機則克服國際供應鏈缺件危機，在年底由胡開宏董事長領軍，親自飛交四架勇鷹，達成年度交機17架的目標，勇鷹機隊的後勤維保服務也積極展開。\\r\\n\\r\\n科技服務是漢翔近年成功發展的即戰力，於台中西屯與沙鹿共計三座自建儲能案場，每座每月都能穩定貢獻約300萬元營收；台電通霄電廠更新案及中油永安自用發電設備，建立起大型統包建置能量；今年初漢翔更與台塑新智能結盟，瞄準儲能市場未來新局。', 'url': 'https://udn.com/news/story/7252/7802329'}\n",
            "2024-03-01 08:10:03 [scrapy.dupefilters] DEBUG: Filtered duplicate request: <GET https://udn.com/news/story/7252/7802329> - no more duplicates will be shown (see DUPEFILTER_DEBUG to show all duplicates)\n",
            "2024-03-01 08:10:07 [scrapy.core.engine] DEBUG: Crawled (200) <GET https://udn.com/news/story/7266/7800476?from=udn-catehotnews_ch2> (referer: https://udn.com/search/word/2/%E8%94%A1%E8%8B%B1%E6%96%87)\n",
            "2024-03-01 08:10:07 [scrapy.core.scraper] DEBUG: Scraped from <200 https://udn.com/news/story/7266/7800476?from=udn-catehotnews_ch2>\n",
            "{'title': '冷氣團來襲明恐跌破10度 下周氣溫如「雲霄飛車」這日再轉濕冷', 'content': '\\r\\n中央指出，未來一周兩波冷空氣，溫度變化「大起大落」。首波從今晚影響至周六，強度達強烈大陸，明晚至周六清晨最冷，苗栗以北可能跌破10度；此外，明、後兩天全台有雨，北東地區及中部山區雨時長，部分地區有局部較大雨勢。周日起逐日回溫，下周三大陸冷氣團報到，溫度再降。\\r\\n\\r\\n中央氣象署傍晚發布低溫特報，6縣市包括新北市、基隆市、台北市、桃園市、新竹縣、苗栗縣。明天強烈大陸冷氣團南下，周六強烈大陸冷氣團影響，各地寒冷，易有10度以下低溫；明天新北市有持續10度左右或以下氣溫發生機率。\\r\\n\\r\\n另外，中央氣象署也發布陸上強風特報，今晚至明日，桃園至台南、恆春半島沿海空曠地區及蘭嶼、綠島、澎湖、金門、馬祖將有9至10級強陣風，基隆北海岸、東半部沿海空曠地區，亦有較強陣風，鄰近海域並有較大風浪。\\r\\n\\r\\n中央氣象署預報員林定宜表示，今天下午起，鋒面逐漸通過台灣附近，開始降溫；北部、東半部地區轉局部短暫陣雨，宜花東已有降雨，各地氣溫將愈晚愈冷。\\r\\n\\r\\n他指出，明天強烈大陸冷氣團南下，加上華南雲雨區東移，天氣濕冷，全台有雨，北部、東北部地區及中部山區雨時長，尤其基隆北海岸、中部以北山區有局部較大雨勢發生機率，其他地區局部短暫雨。\\r\\n\\r\\n林定宜說，明天清晨，基隆北海岸留意可能降至10度；整體而言，明天北部、東北部低溫11至12度，中部、東部低溫13至15度，南部、東南部16至17度，北部、東北部高溫14至16度；到了明晚更冷，苗栗以北可能跌破10度，同樣愈晚愈冷。\\r\\n\\r\\n他說，周六持續受強烈大陸冷氣團影響，降雨型態和周五類似，不過周六晚上起，雨勢漸緩。周日清晨仍冷，但白天起溫度逐日回升。\\r\\n\\r\\n林定宜指出，下周一至下周二，水氣逐漸減少，溫度逐日回升，下周二各地高溫普遍30度以上，溫度可說是「大起大落」；下周三鋒面通過，預估東北季風增強或大陸冷氣團南下，下周三至下周四又轉濕冷，北部、東半部、中南部山區可能降雨，估北部13度、中部15、南部18度，因後期預報仍有不確定，尚待觀測。\\r\\n\\r\\n另外，周五下半天至周日清晨，中部以北3000至3500公尺以上高山，可能結冰、霧淞或降雪。', 'url': 'https://udn.com/news/story/7266/7800476?from=udn-catehotnews_ch2'}\n",
            "2024-03-01 08:10:12 [scrapy.core.engine] DEBUG: Crawled (200) <GET https://udn.com/news/story/123944/7801212?from=udn-catehotnews_ch2> (referer: https://udn.com/search/word/2/%E8%94%A1%E8%8B%B1%E6%96%87)\n",
            "2024-03-01 08:10:12 [scrapy.core.scraper] DEBUG: Scraped from <200 https://udn.com/news/story/123944/7801212?from=udn-catehotnews_ch2>\n",
            "{'title': '影／貨車衝撞分駐所 24歲男警喪命 肇事者逃離遭火車撞死', 'content': '\\r\\n\\r\\n\\r\\n一名男子29日晚間10時許駕駛小貨車衝入基隆警三分局八堵分駐所，造成2名警員受傷送醫，1人到院前已無生命跡象，急救後不治，另1人受皮肉傷。肇事者案發後徒步逃離現場，穿越暖暖平交道時遭火車撞擊死亡，全案由警方調查中。\\r\\n\\r\\n警察在分駐所值勤遭遇衝撞橫禍，基隆市長、警政署長黃明昭連夜趕赴基隆長庚。\\r\\n\\r\\n據了解，死者蘇昱鴻是警專40期，年僅24歲。受傷女警廖訢恬是110期特考班，現年24歲，她左腿、右額頭擦傷。\\r\\n\\r\\n基隆市消防局「119」救災救護指揮中心29日晚間10時3分接獲報案，一名30多歲男子開車衝進八堵分駐所，造成2名警員受傷。消防局派遣暖暖分隊、七堵分隊人車前往前往救護，其中蘇姓男警員到院前已無呼吸心跳。\\r\\n\\r\\n肇事者棄車逃離現場後奔向暖暖街，並在穿越暖暖平交道時，遭列車撞擊當場死亡，造成台鐵班次受影響。\\r\\n\\r\\n警方調查，衝撞分駐所的貨車是失竊車輛，表示是在澳底被搶走車輛，更多案情細節仍在釐清中。\\r\\n\\r\\n\\r\\n【中央社基隆1日電】\\r\\n\\r\\n一輛小貨車昨天晚間突然衝入基隆市警察局第三分局八堵分駐所，蘇姓警員受到劇烈撞擊，送醫急救後宣告不治，肇事駕駛簡姓男子棄車逃逸，在暖暖平交道遭台鐵區間車撞擊身亡。\\r\\n根據監視器畫面顯示，小貨車昨天晚間10時1分突然衝入八堵分駐所，撞破大門後高速撞上值班台，造成2名警員受傷，24歲蘇姓警員傷勢嚴重，送抵基隆長庚醫院時已失去生命徵象，經搶救後仍回天乏術，24歲廖姓女警左腿、右額頭受到擦傷。\\r\\n警方調查，34歲簡姓男子肇事後棄車逃逸，奔向鐵軌逃竄，在暖暖平交道遭台鐵區間車撞擊當場死亡，而肇事小貨車為失竊車輛，在新北市貢寮區遭人竊取，警方在車上並未發現毒品。\\r\\n鐵路警察局台北分局七堵派出所於昨天晚間11時30分完成蒐證，今天凌晨0時許將簡男遺體搬離現場，今天凌晨1時2分台鐵全線恢復雙向通車。\\r\\n警政署長黃明昭、基隆市長謝國樑和基隆市警察局長翁群能得知後，前往醫院慰問家屬。\\r\\n謝國樑受訪表示，蘇姓警員是名英俊挺拔的警員，對於發生這起事件感到非常難過，一定會從優撫卹並盡全力協助家屬後續事宜。至於簡男為何要駕車衝撞分駐所，翁群能表示，目前還不能論斷，全案尚待釐清。\\r\\n黃明昭指出，對於嫌犯開小貨車衝撞分駐所，導致蘇姓警員重傷不治感到心痛和不捨，警政署會從優撫卹，並全力協助辦理治喪事宜，另要求基隆市警局儘速釐清犯案動機，他並譴責犯嫌罪大惡極，不可原諒，深感可惡至極，也提醒警員提高警覺。\\r\\n黃明昭說，經初步瞭解，犯嫌有幻聽、幻覺和攻擊他人情形，曾在2月就醫，另警方查出犯嫌有吸毒情形，目前應可排除犯嫌因為被告發收到罰單，衍生報復警員行為。', 'url': 'https://udn.com/news/story/123944/7801212?from=udn-catehotnews_ch2'}\n",
            "2024-03-01 08:10:15 [scrapy.core.engine] DEBUG: Crawled (200) <GET https://udn.com/news/story/6939/7800125?from=udn-catehotnews_ch2> (referer: https://udn.com/search/word/2/%E8%94%A1%E8%8B%B1%E6%96%87)\n",
            "2024-03-01 08:10:15 [scrapy.core.scraper] DEBUG: Scraped from <200 https://udn.com/news/story/6939/7800125?from=udn-catehotnews_ch2>\n",
            "{'title': '55歲姨兼職工友考公職拚逾20年 終於上榜到職竟「美夢幻滅」', 'content': '\\r\\n薪水、工作穩定，然而備考過程不易，有些人一考就是好幾年。一名想當公務員的女網友在傾訴煩惱，坦言自己辭職後全心準備國考，前後考了好幾次，如今邁入27歲卻未如願上榜，讓她苦惱是否要繼續拚下去，引起熱烈討論。\\r\\n\\r\\n27歲的原PO表示，自己畢業於私立科大財金系，畢業後只有一年多的工作經驗，接著便辭職繼續準備考試。「只可惜考了好多次都沒有上榜」，原PO直言，今年一直在思考是否該停止了？又或是再給自己一年的時間，若明年沒考上，就乖乖待在外面的公司上班。\\r\\n\\r\\n談及現下公職環境，原PO擔憂，許多人都說公職已經不值得再投入大量時間和成本去考了，但可能因為家人都是公務人員的關係，自己還是很想進入公職體系，也不禁好奇有沒有人到這個年紀了，還在全職準備國考。\\r\\n\\r\\n對此，有網友則分享身邊阿姨經歷。她提及，自己認識一位阿姨是「兼職考生」，邊當工友邊準備考試，考試已成每年的例行公事，從不到30歲考到55歲，最後終於考上了。不料考上後卻發現跟想像的差很多，每天都在抱怨，讓這名網友反問原PO，「一直考總有一天會考上，但要確定真的值得嗎？」\\r\\n\\r\\n不過，網友們紛紛留言鼓勵原PO，認為年紀不是問題，「28繼續考啊，我早就落榜無數次了，心中還是想當公務員，外面工作朝不保夕」、「我考了很久28歲才考上五等，現在蠻快樂的。一邊準備高考一邊工作」、「每次都差一點的話，全職考一年完全可以接受喔，工作要做30-40年，一年空窗我覺得沒啥」。\\r\\n\\r\\n不少過來人給出建議，若有心理負擔，邊工作邊準備考試也不失為選項之一，「同為財金系，我同學本來也要高考好幾年都沒有上，後來先考銀行先穩穩的上班，現在也是開開心心」、「建議找個工作同時準備國營。國營考試比高普考簡單，錢還多不少，cp值爆高」、「我是一邊工作一邊準備直到考上，那時已經33歲了」、「邊工作邊考試，不衝突」。\\r\\n\\r\\n\\r\\n\\r\\n\\r\\n\\r\\n\\r\\n\\r\\n\\r\\n', 'url': 'https://udn.com/news/story/6939/7800125?from=udn-catehotnews_ch2'}\n",
            "2024-03-01 08:10:19 [scrapy.core.engine] DEBUG: Crawled (200) <GET https://udn.com/news/story/123946/7798896> (referer: https://udn.com/search/word/2/%E8%94%A1%E8%8B%B1%E6%96%87)\n",
            "2024-03-01 08:10:19 [scrapy.core.scraper] DEBUG: Scraped from <200 https://udn.com/news/story/123946/7798896>\n",
            "{'title': '檢調追查台南光電弊案向上發展 衝擊地方政局', 'content': '\\r\\n\\r\\n前年底九合一大選前夕88槍擊、爐碴再到議長賄選案連環爆，副總統當時參選黨主席，回到故鄉台南，黨員對自家人涉黑金砲聲隆隆，賴清德要市長及民代起身向黨員道歉。賴清德選上總統後，檢調追查光電弊案，以證人身分約談黃偉哲，案情向上發展，恐衝擊地方政局。\\r\\n\\r\\n88槍擊案20日剛宣判，檢方起訴槍擊主謀的學甲慈濟宮董事長王文宗，在無事證情況下，法官僅認他使犯人隱避罪處6月。監察院提案彈劾黃偉哲在爐碴案督導不力也未通過，似與社會期待有落差，遑論審理中的爐碴案，及預定4月底宣判議長賄選案。\\r\\n\\r\\n事實上，議長賄選案中，檢方起訴，郭再欽等人在安定聚會場合提及A保證、B折扣、C經費、D薪資，涉投票行求、期約或其他不正利益，A保證指的是由黃偉哲出面保證作為條件之一，雖幕僚以議會自治為由婉拒，當時也傳出何未約詢黃偉哲。\\r\\n\\r\\n綠營在台南執政30年具絕對優勢。這次總統選舉三角督，藍白夾攻，且起初綠營內部感覺支持者熱度不足，也讓賴清德希望能得票能破蔡英文67%紀錄，一路下修到5成保衛戰，靠後段期間拚連任的6席立委號召、賴多次回防本命區聯合造勢，催出選票，避免跌破5成。\\r\\n\\r\\n賴清德在台南總統選票得票率50.95%，是全台唯一破5成的縣市，總計57萬811票，台南堪稱守住賴清德。\\r\\n\\r\\n如今，台南光電弊案情層級升高，檢方這次以證人身分約談黃偉哲，案件後續發展雖是未定之天，但對台南政局勢必產生衝擊。而黃偉哲已連任二屆市長，有意角逐2026市長大位者已動作頻仍。地方人士認為，民進黨台南立委唯二拿下逾7成得票率的陳亭妃及林俊憲呼聲最高。\\r\\n\\r\\n然而，議長賄選、爐碴等案尚未拍板前，再加上光電弊案一觸即發，人云民意如流水，水可以載舟也可覆舟，一旦徇私而誤判情勢，不要輕忽民意反撲。', 'url': 'https://udn.com/news/story/123946/7798896'}\n",
            "2024-03-01 08:10:22 [scrapy.core.engine] DEBUG: Crawled (200) <GET https://udn.com/news/story/123940/7799415> (referer: https://udn.com/search/word/2/%E8%94%A1%E8%8B%B1%E6%96%87)\n",
            "2024-03-01 08:10:22 [scrapy.core.scraper] DEBUG: Scraped from <200 https://udn.com/news/story/123940/7799415>\n",
            "{'title': '藍白擬縮陸配入籍年限 吳思瑤：福國利民福了哪一國', 'content': '\\r\\n國民黨立法院黨團推動取得身分證年限比照外配，6年改為4年，民進黨立法院黨團幹事長今天說，這樣的提案讓社會炸鍋，福國利民到底福了哪一國。\\r\\n\\r\\n吳思瑤表示，國民黨、民眾黨口口聲聲說要合作推福國利民的法案，卻優先推出高度爭議的法案，短短兩天內網路反對聲音超過3萬多筆，社會的憤怒希望藍白聽得到也聽得進去，不要想利用國會多數，快速強行推出附和中國大陸需求的法案。\\r\\n\\r\\n吳思瑤指出，陸配入籍年限縮短，應該配合其他國家配偶入籍一併檢討，不希望對敵對國家開啟大門或後門；近年來政府對陸配照顧不遺餘力，採行的原則，是生活從寬，身分從嚴。\\r\\n\\r\\n吳思瑤表示，蔡英文政府近年來對陸配生活待遇福祉的照顧，前所未有，陸配是外配唯一入籍後，不須放棄本國籍的，也唯有陸配入籍後，長輩與小孩可以依親，這是為什麼近日藍白提議縮短陸配取得身分證年限後，社會反彈這麼大的原因。\\r\\n\\r\\n吳思瑤表示，未來藍白提案時，內政委員會是第一關，民進黨會全力監督、把政策講清楚說明白，凝聚全民共識。', 'url': 'https://udn.com/news/story/123940/7799415'}\n",
            "2024-03-01 08:10:25 [scrapy.core.engine] DEBUG: Crawled (200) <GET https://udn.com/news/story/6656/7800444> (referer: https://udn.com/search/word/2/%E8%94%A1%E8%8B%B1%E6%96%87)\n",
            "2024-03-01 08:10:25 [scrapy.core.scraper] DEBUG: Scraped from <200 https://udn.com/news/story/6656/7800444>\n",
            "{'title': '錢復爆馬英九「天生對年紀大的人反感」 馬辦反擊了', 'content': '監察院前院長今以預錄方式接受中廣前董事長趙少康的廣播專訪時，評論前總統天生對年紀大的人有反感。馬英九基金會執行長蕭旭岑今天反擊，大老、小老寧可花很多精神批評清廉的馬英九，卻不敢批評民進黨？\\r\\n\\r\\n錢復指出，馬英九聽完年長者談話記錄的筆記回到家就丟掉，且用人很快，只要看到問題，立刻就要求對方遞出辭呈，也不與對方見面、談話，因此所有被馬英九用過又被排除掉的人，即便是朋友，現在都成了敵人。\\r\\n\\r\\n蕭旭岑今接受中天電視專訪時表示，他最近看到國民黨的大老、小老爭相批評馬英九，就覺得國民黨沒有希望，請問民進黨內有誰批評陳水扁？他敢講未來也不會有人批評蔡英文，這就是國民黨與民進黨的不同，民進黨永遠團結，因此無論做了什麼狗屁倒灶的事，還能一次又一次地勝選。而國民黨對執政的民進黨沒皮條，只敢批評自己人。\\r\\n\\r\\n蕭旭岑表示，他對錢復沒有任何需要回應的地方，當新加坡建國總理李光耀逝世，馬英九親赴新加坡弔唁，他第一個想到的是找錢復，錢復卻只覺得馬英九不重視年紀大的人。這點讓他既感嘆又覺得悲哀，更替國民黨未來的團結與重返執政感到憂心忡忡。\\r\\n\\r\\n蕭旭岑也提及最近批評馬英九的國安會前秘書長蘇起，他認為蘇起當過馬英九部屬，多年後批評前老闆，連他綠營的朋友都說這不符合做人的道理。他認為蘇起批馬「既不厚道，也不正確」，不厚道是受馬重用還批馬，不正確是例如認為馬用錯賴幸媛當陸委會主委，事實上馬政府許多重大兩岸政績，包括ＥＣＦＡ、陸生來台、三通直航等，都是在賴幸媛主委與前海基會董事長江丙坤任內完成，光這一點，蘇起的看法就經不起檢驗。\\r\\n\\r\\n', 'url': 'https://udn.com/news/story/6656/7800444'}\n",
            "2024-03-01 08:10:28 [scrapy.core.engine] DEBUG: Crawled (200) <GET https://udn.com/news/story/7238/7800761> (referer: https://udn.com/search/word/2/%E8%94%A1%E8%8B%B1%E6%96%87)\n",
            "2024-03-01 08:10:28 [scrapy.core.scraper] DEBUG: Scraped from <200 https://udn.com/news/story/7238/7800761>\n",
            "{'title': '蔡總統：因應社會經濟變動 軍公教退休金調高4%', 'content': '蔡總統今晚在臉書上表示，過去，因為退休人員的理解和體諒，讓台灣完成「年金改革」，也讓基金的財務更健全、更永續。這幾年，台灣國力增強，經濟也穩健成長，為了適時反映物價指數的變動，政府也將退休軍公教人員的調高4%，並且溯及從今年的1月1日起正式生效。另外，現職的軍公教人員的薪資待遇，我們也在今年度調升4%。\\r\\n\\r\\n蔡總統說，現職的軍公教人員是國家發展的關鍵支柱，退休的軍公教人員對國家也有莫大的貢獻，政府會持續支持軍公教人員，讓軍公教人員為人民提供更好的服務，也讓退休軍公教朋友能維持一定的生活品質。\\r\\n\\r\\n\\r\\n\\r\\n\\r\\n\\r\\n\\r\\n', 'url': 'https://udn.com/news/story/7238/7800761'}\n",
            "2024-03-01 08:10:30 [scrapy.core.engine] DEBUG: Crawled (200) <GET https://udn.com/news/story/7238/7800765> (referer: https://udn.com/search/word/2/%E8%94%A1%E8%8B%B1%E6%96%87)\n",
            "2024-03-01 08:10:30 [scrapy.core.scraper] DEBUG: Scraped from <200 https://udn.com/news/story/7238/7800765>\n",
            "{'title': '退休軍公教退俸調升4％ 蔡總統：軍公教對國家有莫大貢獻', 'content': '總統今天表示，因應社會經濟變動，退休調高4%。\\r\\n\\r\\n蔡總統說，過去因為退休軍公教人員的理解和體諒，讓台灣完成「年金改革」，也讓基金的財務更健全、更永續。\\r\\n\\r\\n蔡總統指出，這幾年台灣國力增強，經濟也穩健成長，為了適時反映物價指數的變動，政府也將退休軍公教人員的退休金調高4%，並且溯及從今年的1月1日起正式生效。另外，現職的軍公教人員的薪資待遇，也在今年度調升4%。\\r\\n\\r\\n蔡總統表示，現職的軍公教人員是國家發展的關鍵支柱，退休的軍公教人員對國家也有莫大的貢獻，政府會持續支持軍公教人員，讓軍公教人員為人民提供更好的服務，也讓退休軍公教朋友能維持一定的生活品質。\\r\\n\\r\\n\\r\\n\\r\\n\\r\\n\\r\\n\\r\\n', 'url': 'https://udn.com/news/story/7238/7800765'}\n",
            "2024-03-01 08:10:35 [scrapy.core.engine] DEBUG: Crawled (200) <GET https://udn.com/news/story/7238/7800820> (referer: https://udn.com/search/word/2/%E8%94%A1%E8%8B%B1%E6%96%87)\n",
            "2024-03-01 08:10:35 [scrapy.core.scraper] DEBUG: Scraped from <200 https://udn.com/news/story/7238/7800820>\n",
            "{'title': '曾爆「一碗蚵仔麵線20元」金句 主計長朱澤民記者會上喊退休：下次不是我主持', 'content': '曾經以「一碗蚵仔麵線20元」引起軒然大波的行政院主計總處主計長，29日在經濟預測記者會後透露，「下次記者會不是我主持」。\\r\\n\\r\\n朱澤民今主持國民所得統計及國內經濟情勢展望記者會，會後透露，他已經主持32次記者會，這次記者會後將準備了。\\r\\n\\r\\n媒體追問主計長退休後要做什麼？朱澤民笑著說，「做自己喜歡的事」。媒體又問，主計長退休後，會不會上市場買菜？朱澤民則表示，買菜要自己煮，太麻煩了！\\r\\n\\r\\n朱澤民專長是財稅、曾擔任政大財稅系教授，在總統蔡英文執政期間，擔任主計長長達八年，掌管國內經濟、、、失業率等數據，卻曾因答詢時一碗蚵仔麵線20元之說，引起軒然大波，而也因此後來水餃、滷肉飯、雞腿便當多少錢？經常成為他在立法院面對立委質詢時出現的考題。\\r\\n\\r\\n\\r\\n\\r\\n\\r\\n\\r\\n\\r\\n', 'url': 'https://udn.com/news/story/7238/7800820'}\n",
            "2024-03-01 08:10:39 [scrapy.core.engine] DEBUG: Crawled (200) <GET https://udn.com/news/story/7266/7801165> (referer: https://udn.com/search/word/2/%E8%94%A1%E8%8B%B1%E6%96%87)\n",
            "2024-03-01 08:10:39 [scrapy.core.scraper] DEBUG: Scraped from <200 https://udn.com/news/story/7266/7801165>\n",
            "{'title': '蔡政府執政7年 性別薪資差距沒改善', 'content': '昨發布最新「同酬日」為二月廿三日，也就是說，女性勞工必須比男性多工作五十四天，才能達到同酬。雖然同酬日比去年進步四天，但攤開歷年資料，僅是回到蔡英文總統執政第一年的水準，等於這七年多來，我國男女薪資差距幾乎原地踏步，兩性依舊同工不同酬。\\r\\n\\r\\n對此，勞動部統計處長梅家瑗解釋，同酬日是據主計總處「受僱員工薪資調查」得來，該調查自二○一九年起擴大涵蓋範圍，新增研究發展服務業、學前教育及社會工作服務業，雖然同酬日估算方式沒有變，但資料基礎不同，前後年分不能比較。\\r\\n\\r\\n勞動部同酬日，是以前一年的兩性平均時薪差距，計算當年元旦起，女性需增加的工作日數。勞動部公布，我國去年女性平均時薪三一八元，男性為三七三元，兩性薪資差距為百分之十四點七，換言之，女性需較男性多工作五十四天，才能達到與男性相同的全年薪資。\\r\\n\\r\\n梅家瑗解釋，同酬日發布以來，兩性薪資長期呈現拉近趨勢，疫情影響較大的二○二一至二○二二年，雖一度偏離，差距擴大至百分之十五點八，但去年又回到疫情前水準，差距縮小至百分之十四點七，原因在於疫後內需服務業人力需求高漲，薪資跟著成長，服務業從業人員又以女性居多，因此女性時薪增幅高於男性。\\r\\n\\r\\n不過從歷年數據來看，蔡政府二○一六年執政，該年兩性薪資差距為百分之十四點六，連三年女性比男性多工作天數都是五十四天，直到二○一九年才縮短至五十二天。二○二一年、二○二二年疫情因素又再拉開至五十八天，薪資差距為百分之十五點八。二○二三年才降回百分之十四點七，回歸疫情前水準。\\r\\n\\r\\n對於八年來兩性薪資差距原地踏步，勞動部條平司長黃維琛分析，主要還是受到教育選填科系、職業性別隔離影響，過去女性被認為要念文法商，男性要念理工，但隨著時代演變，新世代的職業隔離慢慢改善，勞動部今年初也推出事業單位同工同酬自我檢核表，初步發現，大多事業單位新進職務的薪資，男女員工間並沒有差別。', 'url': 'https://udn.com/news/story/7266/7801165'}\n",
            "2024-03-01 08:10:43 [scrapy.core.engine] DEBUG: Crawled (200) <GET https://udn.com/news/story/123940/7801134> (referer: https://udn.com/search/word/2/%E8%94%A1%E8%8B%B1%E6%96%87)\n",
            "2024-03-01 08:10:43 [scrapy.core.scraper] DEBUG: Scraped from <200 https://udn.com/news/story/123940/7801134>\n",
            "{'title': '冷眼集／綠選後轉彎 歧視陸配深入骨髓', 'content': '國民黨擬推動大陸籍入籍年限由六年縮短為四年，親綠醫界憂排擠醫療量能，先聲奪人表態反對，政府跟著搭腔，理由萬變不離其宗，又是「國家利益與國家安全考量」，民進黨總統當選人選前對喊包容友善，選後卻成中共同路人，令人無言。\\r\\n\\r\\n總統大選期間，民進黨先將查察境外勢力介選目標對準新住民，選前兩個月又與賴清德唱雙簧，提出讓陸生比照外籍生納保，但綠營有雜音；交通部原訂三月一日解除赴陸旅遊「禁團令」，選後突然宣布不開放了。\\r\\n\\r\\n賴清德選前出席新住民活動時說，不管先來後到，只要認同台灣，就是這個土地的主人，「不論來自哪國，不論先來後到，在台灣居留生活，就是台灣的住民，更是這片土地的驕傲」。然而，逢中必反老調卻未曾變過，民進黨眼中的新住民，只有排除陸籍配偶的才叫新住民，只有選舉期間的陸配、陸生才有利用價值。\\r\\n\\r\\n民進黨政府執政以來，無論是蔡英文總統或賴清德，選舉年不乏對新住民團體各式溫情喊話，卻總是口惠實不至，不僅陸外配政策有別，這樣的人為區隔，遇到選舉就成炒作籌碼，對認同台灣這塊土地的陸配，情何以堪？\\r\\n\\r\\n現實來看，陸配親友來台探親或依親者超過半年，才能使用；年滿七十歲以上雖可申請定居，但每年有六十名限額，對健保影響幅度極為有限，與取得年限縮短與否，不能混為一談；說穿了還是民進黨的人權會轉彎，歧視早已深入骨髓，五二○後，已可預見離兩岸交流與和平共好愈來愈遠。', 'url': 'https://udn.com/news/story/123940/7801134'}\n",
            "2024-03-01 08:10:48 [scrapy.core.engine] DEBUG: Crawled (200) <GET https://udn.com/news/story/7238/7801137> (referer: https://udn.com/search/word/2/%E8%94%A1%E8%8B%B1%E6%96%87)\n",
            "2024-03-01 08:10:48 [scrapy.core.scraper] DEBUG: Scraped from <200 https://udn.com/news/story/7238/7801137>\n",
            "{'title': '退休軍公教調薪4％', 'content': '全國人員薪水今年起調升百分之四，月（俸）部分也確定調整百分之四，溯及到今年元旦生效，超過五十二萬名退休軍公教人員受惠。總統表示，現職的軍公教人員是國家發展的關鍵支柱，退休的軍公教人員對國家也有莫大的貢獻，政府會持續支持軍公教人員。\\r\\n\\r\\n蔡總統表示，過去因為退休軍公教人員的理解和體諒，讓台灣完成「年金改革」，也讓基金的財務更健全、更永續。這幾年台灣國力增強，經濟也穩健成長，為了適時反映物價指數的變動，政府也將退休軍公教人員的退休金調高百分之四。\\r\\n\\r\\n行政院人事總處表示，本次軍公教受惠總人數約五十二萬餘人，預估每年政府預算支出六十四點七二億元、退撫基金支出四十五點四七億元，合計約一○九點九九億元。\\r\\n\\r\\n\\r\\n\\r\\n\\r\\n', 'url': 'https://udn.com/news/story/7238/7801137'}\n",
            "2024-03-01 08:10:51 [scrapy.core.engine] DEBUG: Crawled (200) <GET https://udn.com/news/story/7266/7799806> (referer: https://udn.com/search/word/2/%E8%94%A1%E8%8B%B1%E6%96%87)\n",
            "2024-03-01 08:10:52 [scrapy.core.scraper] DEBUG: Scraped from <200 https://udn.com/news/story/7266/7799806>\n",
            "{'title': None, 'content': '', 'url': 'https://udn.com/news/story/7266/7799806'}\n",
            "2024-03-01 08:10:54 [scrapy.core.engine] DEBUG: Crawled (200) <GET https://udn.com/news/story/7331/7801744> (referer: https://udn.com/search/word/2/%E8%94%A1%E8%8B%B1%E6%96%87)\n",
            "2024-03-01 08:10:54 [scrapy.core.scraper] DEBUG: Scraped from <200 https://udn.com/news/story/7331/7801744>\n",
            "{'title': '疑因國會訪台報復 大陸已恢復向立陶宛公民核發簽證', 'content': '中國大陸一月下旬起疑似因為台灣問題施壓，暫停向公民發放入境，最新消息指出，立陶宛外交部發言人證實，中國駐維爾紐斯（Vilnius）代辦處已恢復向立陶宛公民發放簽證，此措施共暫停了1個多月。\\r\\n\\r\\n根據聯合早報引據立陶宛當地媒體報導，立陶宛外交部長藍斯柏吉斯（Gabrielius Landsbergis）2月3日在歐盟外長非正式會議上說，從1月24日起，中國已不再向立陶宛公民發放入境簽證，「中國開始全面限制了我們兩國間的旅遊和外交接觸」。\\r\\n\\r\\n大陸當時並未說明暫停核發簽證的原因，但時間點恰逢立陶宛國會代表團訪台，這是台灣總統大選後首個來訪的歐洲訪團，在台期間晉見了總統蔡英文及總統當選人賴清德等。然而，中國大陸強烈反對與台灣的任何官方互動。\\r\\n\\r\\n藍斯柏吉斯當時批評北京「只在對自身有利的地方劃下紅線，而各國只有在事後才被告知他們越過了這些紅線」。\\r\\n\\r\\n立陶宛在2021年允許台灣以「台灣」名義，在該國首都維爾紐斯設立代表處後，與大陸的關係跌至谷底。\\r\\n\\r\\n大陸隨後將立陶宛從海關系統中刪除，對立陶宛產品實施貿易限制，還召回駐立陶宛大使，並將大陸使館降格為「臨時代辦處」，同時將立陶宛駐華大使館降格至「代辦級」。這是大陸40年來首次因台灣問題把與他國關係降為代辦級。', 'url': 'https://udn.com/news/story/7331/7801744'}\n",
            "2024-03-01 08:10:58 [scrapy.extensions.logstats] INFO: Crawled 16 pages (at 16 pages/min), scraped 15 items (at 15 items/min)\n",
            "2024-03-01 08:10:59 [scrapy.core.engine] DEBUG: Crawled (200) <GET https://udn.com/news/story/7238/7801971> (referer: https://udn.com/search/word/2/%E8%94%A1%E8%8B%B1%E6%96%87)\n",
            "2024-03-01 08:10:59 [scrapy.core.scraper] DEBUG: Scraped from <200 https://udn.com/news/story/7238/7801971>\n",
            "{'title': '軍公教退休金調高4%  全教產憂跟不上通膨', 'content': '總統蔡英文昨天宣布，退休人員的調高4%。全國教育產業總工會（全教產）認為4%不夠，跟不上通貨膨脹，建議修法比照勞保，隨物價調整。\\r\\n總統昨天晚間在臉書發文指出，為適時反映物價指數的變動，維持退休人員的生活品質，政府將退休軍公教的退休金調高4%，並且溯及從今年1月1日起正式生效。\\r\\n全教產今天發布新聞稿，擔心調高4%仍不夠，跟不上通貨膨脹。全教產指出，上一次調整在民國111年，當時依照消費者物價指數應調高3.69%（前一次調整基準106年12月物價指數97.35，110年12月為101.04），卻只調整2%，已「積欠」1.69%。\\r\\n全教產主張，政府這一波調整基準，以111年1月1日重新起算，沒有補足111年的「積欠」。112年12月物價指數已達106.59，應調整5.51%，加上之前積欠的幅度，應該調高7.2%，卻只有調4%。\\r\\n全教產建議修正「公立學校教職員退休資遣撫卹條例」，讓退休軍公教人員的退休金比照勞保，當物價指數累計成長達5%時，就依該成長率調整，而非還要考量國家經濟環境、政府財政與退撫基金準備率等擬定調整方案，形成差別對待。\\r\\n\\r\\n\\r\\n\\r\\n\\r\\n', 'url': 'https://udn.com/news/story/7238/7801971'}\n",
            "2024-03-01 08:11:03 [scrapy.core.engine] DEBUG: Crawled (200) <GET https://udn.com/news/story/6999/7801384?from=udn-catehotnews_ch2> (referer: https://udn.com/search/word/2/%E8%94%A1%E8%8B%B1%E6%96%87)\n",
            "2024-03-01 08:11:03 [scrapy.core.scraper] DEBUG: Scraped from <200 https://udn.com/news/story/6999/7801384?from=udn-catehotnews_ch2>\n",
            "{'title': 'MLB／日版王祖賢！大谷翔平新婚妻疑是她 180公分籃球員', 'content': '\\r\\n日本知名棒球球星，昨(29)日突在個人社群網站發布震撼彈，宣布自己是已婚身分，妻子是日本女性。消息曝光後，大谷妻子究竟是誰引起網友熱議。現年27歲的日本前籃球員田中真美子，因為曾經被拍到與大谷現身練球場，被猜測是可能的新婚妻，PTT鄉民還封田中真美子是「日版的王祖賢」。\\r\\n\\r\\n大谷翔平在昨日發文中提到，「她對我來說非常特別，我想讓大家知道，我現在已經結婚了。我對未來感到興奮，感謝您們的支持」，並表明「對方是一位日本女性，我們會在明天採訪中回應相關細節，今後未經許可，不要訪問雙方家族」，言語之間，顯然對妻子十分保護。\\r\\n\\r\\n被猜測是大谷妻子的田中真美子小大谷兩歲，是個身高180公分的高䠷女子，畢業於日本早稻田大學體育科學部，耐人尋味的是，田中真美子在去年突然宣布引退，同時刪除自己的IG帳號，被媒體猜測可能會赴美國長住，時間點剛好也與大谷宣布婚訊的時間不謀而合。還有日本網友發現，大谷日前在出賽時，身旁即出現，長相也與田中真美子酷似，更加證實了傳言屬實。\\r\\n\\r\\n網友對於大谷妻子可能是日本前女籃球員田中真美子，大喊「」，認為她的條件與大谷十分匹配，也有不少網友認為她長得像是「日版的王祖賢」。\\r\\n\\r\\n\\r\\n\\r\\n大谷翔平さんの結婚相手と噂の、元女子バスケットボール選手の田中真美子さん。身長180cmの美女だ.ᐟでもどうなんだろ…動画は同一人物？一般女性だと思ってたが…元バスケ選手今日の囲み取材楽しみだねー大谷の嫁になったらデコピンと遊べるwもしそうならお似合いだなー  \\r\\n\\r\\n', 'url': 'https://udn.com/news/story/6999/7801384?from=udn-catehotnews_ch2'}\n",
            "2024-03-01 08:11:07 [scrapy.core.engine] DEBUG: Crawled (200) <GET https://udn.com/news/story/123006/7801406?from=udn-catehotnews_ch2> (referer: https://udn.com/news/story/7252/7802329)\n",
            "2024-03-01 08:11:08 [scrapy.core.scraper] DEBUG: Scraped from <200 https://udn.com/news/story/123006/7801406?from=udn-catehotnews_ch2>\n",
            "{'title': '比00919還多00918配息0.7元…為何這檔「今年重新開始」？ 專家：過半成分股都變了', 'content': '\\r\\n\\r\\n\\r\\n\\r\\n去年含息報酬率58.96％的大華優利高填息30（00918），又傳來好消息了，最新一季的配息數字出來了，是非常亮眼的0.7元。以2/29收盤價21.97元計算，單次股利率約3.19％，相信會讓受益人都笑開懷。而且前兩分別是0.75與0.67元，光領這三次就超高的配息率了。\\r\\n\\r\\n\\r\\n\\r\\n還記得00918在2022剛掛牌之際，規模很小，每次我分享的時候，大家就說規模不夠大怕流通性問題。事實上ETF跟個股不同，流通性有造市商維持，而且如今規模已經到108億，證明ETF本質好不好比較重要，績效有了，規模跟成交量就會來。\\r\\n\\r\\n很多人會覺得去年高股息漲很多，現在怎麼看？就我個人的觀點而言，其實要觀察「成分股調整」，當持股內容有轉換，就不該用過去的眼光看待，以為過去的ETF就是當前的ETF形狀。。\\r\\n\\r\\n特別是攤開新成分股，很多都是格外親切的「格股」，例如機車霸主三陽（2206）以及汽車金融有富爸爸罩的和潤企業（6592），這兩家公司不約而同都是元月營收創歷史單月新高，這就是ETF選股邏輯的重要，光財報就知道沒亂選。我詳細研究也發現，成分股歷史平均填息率也超過九成，不愧填息ETF之名。\\r\\n\\r\\n最後我也回答近期很多人共同的問題，就是。\\r\\n\\r\\n◎本文內容已獲  授權，；未經同意禁止取用轉載。', 'url': 'https://udn.com/news/story/123006/7801406?from=udn-catehotnews_ch2'}\n",
            "2024-03-01 08:11:11 [scrapy.core.engine] DEBUG: Crawled (200) <GET https://udn.com/news/story/7266/7800260?from=udn-catehotnews_ch2> (referer: https://udn.com/news/story/7266/7800476?from=udn-catehotnews_ch2)\n",
            "2024-03-01 08:11:11 [scrapy.core.scraper] DEBUG: Scraped from <200 https://udn.com/news/story/7266/7800260?from=udn-catehotnews_ch2>\n",
            "{'title': '冷氣團來了！6縣市變天發布低溫特報 氣象粉專妙喻：準時跳水', 'content': '\\r\\n中央氣象署表示，未來一周溫度起伏劇烈，彷彿歷經春夏秋冬；中央氣象署今天傍晚針對6縣市發布低溫特報。今天下半天起，北東變天轉雨，明、後天受強烈大陸影響，各地濕冷，預估中部以北低溫10至12度。氣象臉書專頁「台灣颱風論壇」下午也貼出淡水午後溫度變化，以「時間到了，準時跳水！」，形容溫度將有劇烈起伏。\\r\\n\\r\\n中央氣象署傍晚針對6縣市發布低溫特報，包括新北市、基隆市、台北市、桃園市、新竹縣、苗栗縣，明天強烈大陸冷氣團南下，周六強烈大陸冷氣團影響，各地天氣寒冷，易有10度以下低溫。另外，明日新北市有持續10度左右或以下氣溫發生機率。\\r\\n\\r\\n氣象專家彭啟明在臉書專頁表示，氣溫又再次逐漸下滑、明顯轉冷。周四夜間到周五清晨，冷空氣南下帶來降溫，北部低溫降至12至14度。明天一整天氣溫持續下滑，北部全天只有11至14度，中部13至20度，南部白天高溫仍有24至26度，夜間低溫也會下探15至16度，花東則會由19至22度，降至14至16度，中北部郊區可能有10度或以下低溫出現。', 'url': 'https://udn.com/news/story/7266/7800260?from=udn-catehotnews_ch2'}\n",
            "2024-03-01 08:11:16 [scrapy.core.engine] DEBUG: Crawled (200) <GET https://udn.com/news/story/123945/7801218?from=udn-catehotnews_ch2> (referer: https://udn.com/news/story/123944/7801212?from=udn-catehotnews_ch2)\n",
            "2024-03-01 08:11:16 [scrapy.core.scraper] DEBUG: Scraped from <200 https://udn.com/news/story/123945/7801218?from=udn-catehotnews_ch2>\n",
            "{'title': '新竹縣長楊文科驚傳涉貪遭搜索 疑牽扯竹北天坑事件', 'content': '地檢署昨天大動作搜索新竹縣長辦公室，傳出楊文科遭控涉貪，捲入竹北某建案工程事件，對此檢方尚未證實，但強調一切調查皆會依法作為。新竹縣府尚未對外說明。\\r\\n\\r\\n新竹地檢署主任檢察官鄒茂瑜證實，檢方確實有搜查行動，不過對於涉及何相關人士及搜索地點，目前案件仍在偵辦中，無法對外說明。\\r\\n\\r\\n據了解，檢方會在昨天大動作搜查楊文科辦公室，係因牽涉去年竹北天坑案。新竹地檢署先前已收押前新竹縣府工務處長及廠商副總等多人，傳出涉及楊文科，因而由新竹地檢署指揮北機站偵辦。\\r\\n\\r\\n檢方去年9月搜索前新竹縣工務處長江良淵住處，搜出千萬現金，更傳出現金多到塞爆排水管、衣櫃等處，將他依涉嫌違反貪汙治罪條例等案件，一度裁定羈押禁見。', 'url': 'https://udn.com/news/story/123945/7801218?from=udn-catehotnews_ch2'}\n",
            "2024-03-01 08:11:19 [scrapy.core.engine] DEBUG: Crawled (200) <GET https://udn.com/news/story/6928/7802097?from=udn-catehotnews_ch2> (referer: https://udn.com/news/story/6939/7800125?from=udn-catehotnews_ch2)\n",
            "2024-03-01 08:11:19 [scrapy.core.scraper] DEBUG: Scraped from <200 https://udn.com/news/story/6928/7802097?from=udn-catehotnews_ch2>\n",
            "{'title': '若不算住宿費「大學生1個月要多少生活費？」 過來人曝1金額：低標', 'content': '在這物價飛漲的時代，食衣住行的花費都讓人吃不消，對於在外租屋生活的來說，更是得勒緊褲帶。有一名網友好奇提問，如果大學生沒有出去打工，只有家裡提供生活費的話，那每個月的生活費需要多少才夠？貼文一出，多數人認為1萬上下就可以了。\\r\\n\\r\\n原PO在PTT以「大學生一個月生活費要多少？」表示，不少學生會外宿，若不把費用算在內，單純就是每個月生活費、往返家裡交通費，這樣的話每個月大概需要多少錢？他也表示自己知道會有城鄉差距，六都、非六都的鄉下校區有價差，如果學生沒有打工，單純由家裡提供生活費，這樣的話一個月會花到多少錢？\\r\\n\\r\\n不少人認為1萬上下差不多，「1萬低標」、「10000～15000」、「1萬應該非常保守吧」、「現在應該至少要1萬」、「在高雄，自己是1萬」、「以前是15000，現在不知道」、「不含房租，9000不會很難活，通常學雜費都父母幫繳是還好吧」、「8000到1萬吧，那時有打工賺個5千」、「以前1萬就用得很爽了…現在不知」。\\r\\n\\r\\n還有其他網友也分享自身經驗，「5000左右，主要當時宅+物慾不高」、「4000，生活就是上課、宿舍、上課、宿舍」、「從沒考慮過這問題，反正沒錢就從ATM領就好」、「南部大概6、7千可以過得不錯」、「五年前，台北，一個月5000電鍋自煮還有剩」、「去年還在當大學生的時候，家人給一個月9000在台中，超難過生活」、「兒子是現任大學生，我給他一個月生活費2萬元，然後自己都吃土」。\\r\\n\\r\\n\\r\\n\\r\\n\\r\\n\\r\\n\\r\\n\\r\\n\\r\\n', 'url': 'https://udn.com/news/story/6928/7802097?from=udn-catehotnews_ch2'}\n",
            "2024-03-01 08:11:23 [scrapy.core.engine] DEBUG: Crawled (200) <GET https://udn.com/news/story/123946/7801126?from=udn-relatednews_ch2> (referer: https://udn.com/news/story/123946/7798896)\n",
            "2024-03-01 08:11:23 [scrapy.core.scraper] DEBUG: Scraped from <200 https://udn.com/news/story/123946/7801126?from=udn-relatednews_ch2>\n",
            "{'title': '憂光電弊案成藍提款機 綠促速戰速決', 'content': '台南地檢署偵辦光電弊案，從學甲八十八槍擊案、南市經發局前局長涉貪瀆案，至今已一年多，昨天以證人身分傳喚市長，才算有明顯大動作。法界人士認為，總統大選後才約談黃，應是避免衝擊選情。至於是否衝擊二○二六市長選舉，民進黨立委直言，若未盡速查明真相，二○二六年市長選舉時，將成為國民黨的提款機。\\r\\n\\r\\n民進黨立委陳亭妃、及都被點名是黨內市長初選熱門人選，對黃偉哲昨以證人被傳喚，陳亭妃表示，光電案爭議從二○二二到二○二四，甚至可能到二○二六，沒查明真相，一直都會是國民黨的「提款機」，希望司法對光電案調查應「速戰速決」。\\r\\n\\r\\n王定宇昨早聽聞黃偉哲接受檢調問訊時，先是反問「沒有轉被告或收押？」後來得知黃已離開地檢署，直說「那就好，那就沒事」。至於林俊憲昨手機未接聽，無法得知看法。\\r\\n\\r\\n南部資深法界人士說，除非審查做出決議是一人決斷，或有人強力指稱市長介入，否則黃偉哲應無涉。', 'url': 'https://udn.com/news/story/123946/7801126?from=udn-relatednews_ch2'}\n",
            "2024-03-01 08:11:27 [scrapy.core.engine] DEBUG: Crawled (200) <GET https://udn.com/news/story/9213/7800660?from=udn-catehotnews_ch2> (referer: https://udn.com/news/story/123940/7799415)\n",
            "2024-03-01 08:11:27 [scrapy.core.scraper] DEBUG: Scraped from <200 https://udn.com/news/story/9213/7800660?from=udn-catehotnews_ch2>\n",
            "{'title': '陸艇翻覆致2死案 管碧玲續當「神隱少女」？臉書一窺內心世界', 'content': '海洋委員會主委自從金門陸艇翻覆致2死事件後，幾乎變成「神隱少女」，不出面對外說明，而是選擇在臉書發文來回應外界質疑，內部也禁言，以主委臉書為唯一對外回應窗口。外界只能透過她的臉書，來一窺其「內心世界」。\\r\\n\\r\\n觀察管碧玲臉書發文，可發現她從最早事件還未延燒時的語氣輕鬆，到事件炎上後開始嚴肅，列舉統計數字佐證，其中還夾雜「文藝體」發文抒發心情，到最後開始反擊，回應外界對她的批評，並斥責假訊息、認知作戰將她「妖魔化」。\\r\\n\\r\\n管碧玲在2月14日事發後隔天，在臉書PO出行政院長陳建仁「院會報你知」圖片，宣導海洋保育法草案，管還寫道「海保法在院長的手中，整個帥氣起來了！我的留言嘛～～～就是LKK的了！」顯然事件還未延燒，語氣帶著俏皮。\\r\\n\\r\\n但到16日事件炎上後，管的發文便開始嚴肅，她寫道「我的價值觀是『死者為大』，所以我不論亡者的對錯，都誠心表達哀悼。」並感謝多數國人及立院各黨團支持海巡執法。18日更列表越界陸船案件數，及陸船救援案件統計。\\r\\n\\r\\n19日她列表海巡執行陸船救援案件表時，「文藝體」發文明顯軟化，希望減少對峙氛圍，她寫道「期待讓『善的橋樑』持續創造兩岸人民的福祉，…今天，一個意外不幸的個案讓這座橋樑在一夕之間變成海市蜃樓。」\\r\\n\\r\\n22日則寫道「烽火連天中，一朵盛開的白色百合花，輕輕的旋轉，慢慢的飄下～～用百合花的清香，撫慰亡者、家屬和海巡！」如同文青以臉書來紓發心情日記。\\r\\n\\r\\n23日她開始以強硬筆鋒來回應外界，包括強調事情沒有隱匿，反駁外界以訛傳訛的批評，25日更貼出假訊息截圖，指稱認知作戰的造謠要將她「妖魔化」，並強調「為保護海巡，我歡喜承受，對海巡有愛，就會跳出來承受！」\\r\\n\\r\\n', 'url': 'https://udn.com/news/story/9213/7800660?from=udn-catehotnews_ch2'}\n",
            "2024-03-01 08:11:31 [scrapy.core.engine] DEBUG: Crawled (200) <GET https://udn.com/news/story/123693/7800167?from=udn-catehotnews_ch2> (referer: https://udn.com/news/story/6656/7800444)\n",
            "2024-03-01 08:11:31 [scrapy.core.scraper] DEBUG: Scraped from <200 https://udn.com/news/story/123693/7800167?from=udn-catehotnews_ch2>\n",
            "{'title': '晚安小雞「入獄慘況」曝！ 每天吃蟲+木薯「150人用1馬桶」', 'content': '\\r\\n\\r\\n台灣「」和 「」在柬埔寨自導自演拍攝被綁架影片造假，遭當局拘捕判刑2年，還遭柬國總理洪馬內斥為「不孝子」，拒絕他人說情，此事件在台灣也引發關注。昨（28）日有網友出面爆料，有當地台商掌握「晚安小雞」、「阿鬧」動態，表示他們被關在容納百人的30坪監獄宿舍，百人共用一個無法沖水的馬桶，且吃的食物一天只吃一餐。\\r\\n\\r\\n近日有網友在「爆料公社」發文，而「靠北直播主」更轉錄該內容，內容中表示據台商小道消息，「晚安小雞」、「阿鬧」與百人一同關在30坪左右的監寺宿舍，且150多人一起共用一個無法沖水的馬桶，白天溫度高達35度，一天只吃一餐，而吃的食物則是木薯加昆蟲，「因房舍太擁擠所以只能坐著睡」。\\r\\n\\r\\n發文一出，引來網友們熱議，「看來阿鬧在裡面會多好幾個男朋友」、「他應該可以很快就習慣吧？畢竟探險時常亂摸亂吃」、「暖心，這才是監獄該有的配備!」、「伙食很好了啊 直播帶貨都賺這麼多了 偶爾吃差一點沒關係」、「深度旅遊」、「當減肥淨化心靈」。\\r\\n\\r\\n編輯推薦\\r\\n\\r\\n\\r\\n\\r\\n\\r\\n\\r\\n\\r\\n編輯推薦\\r\\n\\r\\n\\r\\n\\r\\n\\r\\n\\r\\n\\r\\n                \\n              \\n              \\n                    米可白和孫綻戀情曝光，孫綻29日出席公視台語台「鹽水大飯店」首映，被追問戀情逃跑3回，後來在廳內逃不掉了，受訪時直呼：「...                  \\n                    台灣網紅「晚安小雞」和 YouTuber「阿鬧」在柬埔寨自導自演拍攝被綁架影片造假，遭當局拘捕判刑2年，還遭柬國總理洪馬內斥為「不孝子」，拒絕他人說情，此事件在台灣也引發關注。昨（28）日有網友出面爆料，有當地台商掌握「晚安小雞」、「阿鬧」動態，表示他們被關在容納百人的30坪監獄宿舍，百人共用一個無法沖水的馬桶，且吃的食物一天只吃一餐。                  \\n                    《戲說台灣》演員陳麒凱（本名陳建隆）2019年與前妻陳子玄離婚後，事隔4年爆出新戀情。陳麒凱去年4月在臉書發文放閃，曝光女友身分正是女星李緻（本名：朱紫緹）。不過，隔不到一年卻傳出兩人已分手的消息。                  \\n                    88歲法國不朽巨星亞蘭德倫，曾主演「洛可兄弟」、「陽光普照」等經典名片，以英俊過人的外表征服觀眾，曾有全球第一美男子之稱...                  \\n                    網紅鍾明軒獨自到大陸旅遊，分享這趟旅程讓他對大陸改觀，他到北京、上海兩個大城市，讚嘆市容壯觀發達、人民也比想像中要友善熱心，直言「我覺得中國我真的很喜歡這個地方」。                  \\n                    據韓媒報導，在韓劇《黑暗榮耀》中飾演變態教師的許棟元與妻子已經離婚，結束維持不到一年的婚姻。                  ', 'url': 'https://udn.com/news/story/123693/7800167?from=udn-catehotnews_ch2'}\n",
            "2024-03-01 08:11:35 [scrapy.core.engine] DEBUG: Crawled (200) <GET https://udn.com/news/story/7238/7800765?from=udn-catehotnews_ch2> (referer: https://udn.com/news/story/7238/7800761)\n",
            "2024-03-01 08:11:35 [scrapy.core.scraper] DEBUG: Scraped from <200 https://udn.com/news/story/7238/7800765?from=udn-catehotnews_ch2>\n",
            "{'title': '退休軍公教退俸調升4％ 蔡總統：軍公教對國家有莫大貢獻', 'content': '總統今天表示，因應社會經濟變動，退休調高4%。\\r\\n\\r\\n蔡總統說，過去因為退休軍公教人員的理解和體諒，讓台灣完成「年金改革」，也讓基金的財務更健全、更永續。\\r\\n\\r\\n蔡總統指出，這幾年台灣國力增強，經濟也穩健成長，為了適時反映物價指數的變動，政府也將退休軍公教人員的退休金調高4%，並且溯及從今年的1月1日起正式生效。另外，現職的軍公教人員的薪資待遇，也在今年度調升4%。\\r\\n\\r\\n蔡總統表示，現職的軍公教人員是國家發展的關鍵支柱，退休的軍公教人員對國家也有莫大的貢獻，政府會持續支持軍公教人員，讓軍公教人員為人民提供更好的服務，也讓退休軍公教朋友能維持一定的生活品質。\\r\\n\\r\\n\\r\\n\\r\\n\\r\\n\\r\\n\\r\\n', 'url': 'https://udn.com/news/story/7238/7800765?from=udn-catehotnews_ch2'}\n",
            "2024-03-01 08:11:37 [scrapy.core.engine] DEBUG: Crawled (200) <GET https://udn.com/news/story/6656/7791569?from=udn-referralnews_ch2artbottom> (referer: https://udn.com/news/story/7238/7800765)\n",
            "2024-03-01 08:11:37 [scrapy.core.scraper] DEBUG: Scraped from <200 https://udn.com/news/story/6656/7791569?from=udn-referralnews_ch2artbottom>\n",
            "{'title': '蔡總統5月20日將「畢業」 讚藥師全聯會黃金舜可做「這事」', 'content': '藥師公會全聯會理事長黃金舜，先前爭取進入不分區立委名單，不過後續因為未被列入安全名單而婉拒提名，總統今天晚間出席藥師公會致詞時提到，黃未來如果不做理事長，可以考慮外交相關事務。\\r\\n\\r\\n藥師公會今天舉行春酒晚宴，蔡英文開頭先打趣道，來之前想說，黃金舜今天會不會再要什麼東西，但後想想應該不至於，並表示她520就要「畢業」了，未來幾個月能做的都會盡量做，來不及的就會列入交接清單。\\r\\n\\r\\n「事實上我蠻感激他今天居然沒有提什麼事情」，蔡英文笑說，以前好幾次參加這個聚會的時候，他都會講很久，而且是長長的、長長的要求，她在台下就拼命看有沒有人可以救她，但當時的長都不在，直言陳顯然知道有什麼要要求的事情，常常把總統弄到第一線去聽，但這麼多年來大家已經變成好朋友了，大小聲無所謂，但把事情解決、照顧該照顧的人才是最重要的。\\r\\n\\r\\n蔡英文表示，歷屆的理事長跟理監事都致力爭取藥師的權益，也讓全聯會成為政府和業界溝通的橋樑，讓政府聽見藥界的聲音，在施政上更貼近民意，過去幾年，面對疫情的挑戰，也不辭辛勞地站在第一線，包含調劑藥品、協助政府發放口罩跟等，也協助宣傳正確的用藥觀念、協助長照政策到各種醫療照護，更在去年協助舉辦2023亞洲藥學會。\\r\\n\\r\\n蔡英文說，自己也不知道下一個政府是怎樣安排，但她覺得黃金舜之後如果不做理事長，「你可以考慮做外交的事務。」\\r\\n\\r\\n針對全球缺藥問題，蔡英文指出，衛福部、等相關單位積極因應處理，藥品市場監測系統也已經上線，會強化對中盤商藥品供應的監測，讓第一線的藥師在藥品庫存的查詢上，可以更快速，也確保民眾用藥權益。\\r\\n\\r\\n蔡英文說，台灣將進入到超高齡化社會，在少子女化的狀況下，居家長照的醫療需求也會持續的增加，未來醫療結合科技將成為常態，政府也會遠距醫事服務智慧醫療等，並適時的修復修正法規確保資安跟病人的隱私。', 'url': 'https://udn.com/news/story/6656/7791569?from=udn-referralnews_ch2artbottom'}\n",
            "2024-03-01 08:11:42 [scrapy.core.engine] DEBUG: Crawled (200) <GET https://udn.com/news/story/123475/7799087?from=udn-referralnews_ch2artbottom> (referer: https://udn.com/news/story/7238/7800820)\n",
            "2024-03-01 08:11:42 [scrapy.core.scraper] DEBUG: Scraped from <200 https://udn.com/news/story/123475/7799087?from=udn-referralnews_ch2artbottom>\n",
            "{'title': '羅明才、郭國文當選立法院財政委員會召委', 'content': '立法院新會期各委員會今天舉行，財政委員會召委選舉結果沒有意外，分別由國民黨立委、民進黨立委當選。\\r\\n\\r\\n民眾黨立委黃珊珊最晚前往現場投票，還自嘲「姍姍來遲」，由於黃珊珊票投羅明才，最後羅明才8票，郭國文6票分別當選召委。', 'url': 'https://udn.com/news/story/123475/7799087?from=udn-referralnews_ch2artbottom'}\n",
            "2024-03-01 08:11:45 [scrapy.core.engine] DEBUG: Crawled (200) <GET https://udn.com/news/story/7470/7799296?from=udn-catehotnews_ch2> (referer: https://udn.com/news/story/7266/7801165)\n",
            "2024-03-01 08:11:45 [scrapy.core.scraper] DEBUG: Scraped from <200 https://udn.com/news/story/7470/7799296?from=udn-catehotnews_ch2>\n",
            "{'title': '愛貓失蹤定位竟遠在1600km外！飼主「秒買機票殺到現場」見1幕瞬間淚崩', 'content': '\\r\\n\\r\\n一名女子養了一隻灰色英國短毛貓，結果接到媽媽電話說不見了，還好貓咪身上有裝定位項圈，沒想到一打開APP一看貓咪竟然遠在1600公里之外，女飼主著急地立刻買機票飛往當地，無論如何都要救回自己的愛貓。\\r\\n\\r\\n根據《揚子晚報》報導，一名住在浙江的張姓女子養了一隻灰色的英國短毛貓名叫「饅頭」，在今年1月的時候發現愛貓無故失蹤，所幸她有備無患在饅頭身上安裝了定位追蹤項圈，她打開定位APP才發現饅頭竟然消失在1600公里遠的地方，她擔心愛貓遭遇不測，說什麼都要衝出門搭飛機前往饅頭的所在地。\\r\\n\\r\\n張女表示，那時她打開定位APP看到饅頭在很遠的地方簡直嚇傻了，推測愛貓可能是被那種專門抓走品種貓狗的不肖人士盯上，載上車後準備抓去賣掉。章女掌握到饅頭的位置在廣東廣州後，立刻報警處理並緊急買機票去接回貓咪，不少從事動保的志工也加入救援，最後成功找到載著張女愛貓的卡車，並在車上找到了驚魂未定的饅頭。\\r\\n\\r\\n\\r\\n\\r\\n張女說，平時饅頭都是放在浙江湖州的老家中養，1月5日當天她接到媽媽的電話說饅頭不見了，牠平時會在外面逛大街但到了晚上都會自己回家，很少有晚上不回家的狀況，還好饅頭的脖子上一直戴著飼主買的定位項圈，只是沒想到竟然已經出現在1600公里遠的地方。\\r\\n\\r\\n所幸在不少志工的幫忙下，張女最終成功找回饅頭，饅頭除了受到驚嚇外沒有任何受傷。張女認為自己非常幸運，「幫我找貓的志願者們都說我能找到真是個『奇蹟』，儘管很多飼主都會給自己的毛孩戴定位項圈，但在路上可能就會被摘掉，幸好饅頭比較胖，定位器又戴在脖子下不容易被看到，才能順利被救回」。\\r\\n \\r\\n\\r\\n\\r\\n', 'url': 'https://udn.com/news/story/7470/7799296?from=udn-catehotnews_ch2'}\n",
            "2024-03-01 08:11:49 [scrapy.core.engine] DEBUG: Crawled (200) <GET https://udn.com/news/story/123940/7801135?from=udn-relatednews_ch2> (referer: https://udn.com/news/story/123940/7801134)\n",
            "2024-03-01 08:11:49 [scrapy.core.scraper] DEBUG: Scraped from <200 https://udn.com/news/story/123940/7801135?from=udn-relatednews_ch2>\n",
            "{'title': '陸配、媒體人遭控拿陸金援干預選舉 國安法起訴判無罪', 'content': '中華婦女聯合會理事長、何建華被控接受大陸金援，指使包姓媒體人撰寫工作計畫書干預二○二○年總統大選，被檢方依違反國家安全法起訴；何女、包男審判中否認犯罪，台北地方法院調查後，昨天宣判兩人無罪。台北地檢署表示，收判後將研議是否上訴。\\r\\n\\r\\n合議庭認定，有關何建華的案情，部分與她曾涉犯重覆起訴，因選罷法案無罪確定，判決免訴；其餘部分罪證不足判無罪。\\r\\n\\r\\n何建華審判中說，檢察官過去查辦她招攬陸配赴金、廈旅遊收費再退佣，違反選罷法，但她招攬的團費是依照市場行情來處理，檢方卻一再偵辦她。\\r\\n\\r\\n包男昨天表示，這是一起明顯因歧視而起訴的政治案件，感謝審判長守住憲法保障與的底線，司法天秤沒有向政治傾斜，還給無辜被捲入官非者清白與公道，感覺很開心。', 'url': 'https://udn.com/news/story/123940/7801135?from=udn-relatednews_ch2'}\n",
            "2024-03-01 08:11:53 [scrapy.core.engine] DEBUG: Crawled (200) <GET https://udn.com/news/story/6656/7789376?from=udn-referralnews_ch2artbottom> (referer: https://udn.com/news/story/7238/7801137)\n",
            "2024-03-01 08:11:53 [scrapy.core.scraper] DEBUG: Scraped from <200 https://udn.com/news/story/6656/7789376?from=udn-referralnews_ch2artbottom>\n",
            "{'title': '【即時短評】政策買票選擇性兌現 退休軍公教情何以堪？', 'content': '2024年總統大選落幕，行政院進入看守內閣時期。不過政院陸續在農曆春節前後兌現選前利多，日前更拍板「桃竹苗大矽谷計畫」急著推賴清德政見，不過退休金調升案卻遲遲無下文，如此坐實了民進黨「選前政策買票、選後選擇性兌現」的情況，要廣大退休軍公教族群情何以堪？\\u2028\\r\\n\\r\\n回顧2016年上任時，總統府火速成立「國家委員會」，蔡英文曾強調「年金改革越晚改，改起來就會越痛，現在不做，馬上就會後悔」，結果委員會開了多次會議，最後只對軍公教退休人員開刀，面對「心裡最軟的一塊」勞工則繼續以拖待變，每年拿納稅人的錢挹注基金，以延後勞保破產大限，將燙手山芋留給下任總統面對。\\r\\n\\r\\n蔡英文將軍公教年金改革視為重大政策，退休公務員都被扒了一層皮，18%優惠定存、所得替代率逐年遞減，但當時制度與勞保年金、國民年金、社會福利津貼、老農津貼一樣，設有浮動檢討機制。依照「公務人員退休資遣撫卹法」明定，在消費者物價指數（CPI）累計成長率達正、負5%時應予調整，或是每4年就應該開會檢討一次，一來保障退休族生活不受物價波動衝擊，二來也可避免政治干擾，防止政治人物選前刻意加碼。\\r\\n\\r\\n而考試院確實在2022年開會檢討一次，對軍公教退休金調整2%，但近幾年物價上漲，CPI早已超過5%，行政院去年底卻以書面答覆立委表示，依法目前未達啟動調整程序的時機，因此陳建仁突然在總統大選投票前十天，宣布CPI已超過5%，將編列44億元調升退伍軍公教月退金，時機點太巧合，當然會引發民進黨選情告急，就開始亂丟訊息，對退休軍公教政策買票的質疑。\\r\\n\\r\\n但隨著選後大學生學費補助、家長托育補助等選舉利多陸續發放，退休軍公教退休金調升案仍無聲無息，不免被質疑選後原形畢露，長期被民進黨視為「藍軍」的軍公教退休人員，又被執政黨當成選票考量下的「消費品」，反正軍公教永遠是綠營「心裡最弱的一塊」。', 'url': 'https://udn.com/news/story/6656/7789376?from=udn-referralnews_ch2artbottom'}\n",
            "2024-03-01 08:11:58 [scrapy.core.engine] DEBUG: Crawled (200) <GET https://udn.com/news/story/123940/7802580?from=udn-relatednews_ch2> (referer: https://udn.com/news/story/123940/7801134)\n",
            "2024-03-01 08:11:58 [scrapy.core.scraper] DEBUG: Scraped from <200 https://udn.com/news/story/123940/7802580?from=udn-relatednews_ch2>\n",
            "{'title': '藍委：縮短陸配入籍年限不會增加健保負擔', 'content': '國民黨立法院黨團擬推動入籍年限縮短，由現行6年改為4年，引民進黨批有國安疑慮，亦有醫師表達有消耗健保量能的可能。國民黨立委許宇甄今對此表示，推動陸配、外配取得年限齊一，符合政府推動的移民政策，且依規定，陸配申請直系血親來台定居一年僅60名，申請來台定居名額不會增加，因此不會增加健保負擔。\\r\\n\\r\\n許宇甄表示，2009年「兩岸人民關係條例」第17條修法，將大陸取得身分證年限從8年改為6年，施行迄今已逾14年，而外籍配偶適用「入出國及移民法」取得身分證年限規定僅需4年，無論非本國籍配偶來自何處，其婚姻對象都是我國國民，基於憲法平等原則，並進一步保障兩岸婚姻大陸配偶來台生活權益，實現兩公約人權保障之措施，爰擬修法讓大陸配偶與外籍配偶取得身分證年限齊一，以符合政府推動之移民政策，強化婚姻移民的家庭團聚權。\\r\\n\\r\\n許宇甄指出，至於調降大陸配偶取得身分證年限會不會擴大大陸配偶70歲以上直系血親來台定居人數，進而影響健保支出？必須強調，不會影響健保支出。\\r\\n\\r\\n許宇甄強調，內政部主管的「大陸地區人民在台灣地區依親居留長期居留及定居數額表」規定的很清楚，大陸配偶欲申請直系血親來台「定居」，必須年滿70歲，且一年僅有60個名額。本次所提「兩岸人民關係條例」第17條若能完成修法，可申請來台定居名額不會增加，因此不會增加健保負擔。', 'url': 'https://udn.com/news/story/123940/7802580?from=udn-relatednews_ch2'}\n",
            "2024-03-01 08:11:58 [scrapy.extensions.logstats] INFO: Crawled 32 pages (at 16 pages/min), scraped 31 items (at 16 items/min)\n",
            "2024-03-01 08:11:59 [scrapy.core.engine] DEBUG: Crawled (200) <GET https://udn.com/news/story/7333/7800648?from=udn-catehotnews_ch2> (referer: https://udn.com/news/story/7331/7801744)\n",
            "2024-03-01 08:12:00 [scrapy.core.scraper] DEBUG: Scraped from <200 https://udn.com/news/story/7333/7800648?from=udn-catehotnews_ch2>\n",
            "{'title': '寧德時代M3P電池有望裝車特斯拉 華為已搶先採用', 'content': '的磷酸錳鐵鋰電池（M3P）的產業化有了實質性進展，已與就該電池進行開發驗證，另外，M3P電池已率先使用在奇瑞與合作的車型上，並推進與其他客戶的專案合作。\\r\\n\\r\\n澎湃新聞報導，業內知情人士透露，寧德時代在去年8月，工信部發佈第374批《道路機動車輛生產企業及產品公告》新產品公示，其中出現奇瑞星紀元ES，以及奇瑞與華為智選合作的首款純電動新車智界S7。這兩個品牌中，有4款車型採用了三元鋰離子+磷酸鐵錳鋰電池，且生產企業為江蘇時代新能源科技有限公司—該公司為寧德時代全資子公司。\\r\\n\\r\\n綜合此次寧德時代的官方資訊，智界S7或已成為寧德時代M3P電池首發車型。\\r\\n\\r\\n兩款搭載三元鋰離子+磷酸鐵錳鋰電池的智界S7的分別為智界S7（2024款）長航版Max、智界S7（2024款）四驅旗艦版Max RS，官方指導價分別為人民幣28.98萬元和34.98萬元，CLTC純電續航里程分別為705公里和630公里，充電時間（30%—80%）為0.25小時。兩款車型都已經於去年年底上市。\\r\\n\\r\\n而去年6月，媒體36氪曾報導，寧德時代的M3P電池或將在去年第3季首發於特斯拉上海工廠生產的改款Model 3，此外，使用寧德時代M3P電池的電池包還會是平臺方案，為此後的Model Y改款車型採用。\\r\\n\\r\\nM3P電池的正式落地，無疑是動力電池產業在創新道路上的一大步。不過，相對於被大加宣傳且迅速量產的麒麟電池和神行超充電池，寧德時代對待M3P電池的態度頗為神秘低調—至今未能明確透露M3P電池所用材料和技術的詳細資訊。\\r\\n\\r\\n據業內猜測，從名字上來看（其中M作為錳元素的代號，P代表化學式PO₄磷酸根），M3P電池就是電池正極材料為磷酸錳鐵鋰的電池， 但寧德時代表示， M3P電池準確來說不是磷酸錳鐵鋰電池，電池正極材料中還含有其他金屬元素，公司稱之為磷酸鹽體系的三元鋰電池。\\r\\n\\r\\n按照電池正極材料的不同，當下全球主流的動力鋰電池分為鎳鈷錳三元(NCM)鋰電池和磷酸鐵鋰（LFP)電池，後者憑成本低廉、安全性強等優勢，在產量、裝車量方面已超三元電池，但磷酸鐵鋰電池的能量密度已經接近天花板。\\r\\n\\r\\n據瞭解，磷酸錳鐵鋰材料，是在磷酸鐵鋰的基礎上添加錳元素以提高電壓平台。\\r\\n\\r\\n據業內人士介紹，磷酸錳鐵鋰材料理論容量與磷酸鐵鋰相同，為170mAh/g；但磷酸錳鐵鋰相對於Li⁺/Li的電極電勢為4.1V，遠高於磷酸鐵鋰的3.4V，且位於有機電解液體系的穩定電化學窗口。4.1V的高電位使得磷酸錳鐵鋰具有潛在的高能量密度的優點，這是它相對於磷酸鐵鋰的最大優勢。\\r\\n\\r\\n而磷酸錳鐵鋰的晶體和磷酸鐵鋰晶體類似，具有橄欖石型結構，該結構最大的優勢是穩定性高，即使在充電過程中鋰離子全部脫出，也不會發生結構崩塌，因此安全性能好。\\r\\n\\r\\n理論上，磷酸錳鐵鋰的實際容量發揮到與磷酸鐵鋰相同的程度，其能量密度將比磷酸鐵鋰提高15%—20%。若與三元材料複合使用，能夠有效綜合高安全性、高能量密度和低溫性能的特點。（這也是寧德時代的做法）此外，磷酸錳鐵鋰原料成本低，環境友好，在生產工藝上，其與磷酸鐵鋰的生產工藝相似，通過高溫固相反應法、水熱合成法合成，工藝成熟，適合批量生產。\\r\\n\\r\\n2023年3月，寧德時代董事長曾毓群在公司年度業績說明會上表示， 大規模應用情況下，M3P電池能夠降本增效，低溫性能、能量密度優於磷酸鐵鋰電池，成本優於三元鋰電池。\\r\\n\\r\\n寧德時代首席科學家吳凱此前也表示，M3P電池可針對續航里程700km左右的中檔車型，相對於此前中鎳、低鎳三元正極材料方案，成本更低，但該類材料的問題是電導率不夠，導致其在電動汽車領域應用難度很大。\\r\\n\\r\\n', 'url': 'https://udn.com/news/story/7333/7800648?from=udn-catehotnews_ch2'}\n",
            "2024-03-01 08:12:04 [scrapy.core.engine] DEBUG: Crawled (200) <GET https://udn.com/news/story/7238/7800765?from=udn-referralnews_ch2artbottom> (referer: https://udn.com/news/story/7238/7801971)\n",
            "2024-03-01 08:12:04 [scrapy.core.scraper] DEBUG: Scraped from <200 https://udn.com/news/story/7238/7800765?from=udn-referralnews_ch2artbottom>\n",
            "{'title': '退休軍公教退俸調升4％ 蔡總統：軍公教對國家有莫大貢獻', 'content': '總統今天表示，因應社會經濟變動，退休調高4%。\\r\\n\\r\\n蔡總統說，過去因為退休軍公教人員的理解和體諒，讓台灣完成「年金改革」，也讓基金的財務更健全、更永續。\\r\\n\\r\\n蔡總統指出，這幾年台灣國力增強，經濟也穩健成長，為了適時反映物價指數的變動，政府也將退休軍公教人員的退休金調高4%，並且溯及從今年的1月1日起正式生效。另外，現職的軍公教人員的薪資待遇，也在今年度調升4%。\\r\\n\\r\\n蔡總統表示，現職的軍公教人員是國家發展的關鍵支柱，退休的軍公教人員對國家也有莫大的貢獻，政府會持續支持軍公教人員，讓軍公教人員為人民提供更好的服務，也讓退休軍公教朋友能維持一定的生活品質。\\r\\n\\r\\n\\r\\n\\r\\n\\r\\n\\r\\n\\r\\n', 'url': 'https://udn.com/news/story/7238/7800765?from=udn-referralnews_ch2artbottom'}\n",
            "2024-03-01 08:12:07 [scrapy.core.engine] DEBUG: Crawled (200) <GET https://udn.com/news/story/6999/7800181?from=udn-catehotnews_ch2> (referer: https://udn.com/news/story/6999/7801384?from=udn-catehotnews_ch2)\n",
            "2024-03-01 08:12:07 [scrapy.core.scraper] DEBUG: Scraped from <200 https://udn.com/news/story/6999/7800181?from=udn-catehotnews_ch2>\n",
            "{'title': 'MLB／大谷翔平曾訂5年禁慾之約 日媒曝父母不想兒媳2職業', 'content': '\\r\\n今天宣布結婚，只說對象是日本女性，更讓許多粉絲好奇。大谷曾在節目上說很欣賞「天才童星」蘆田愛菜，但他強調自己不是「蘿莉控」。日媒則爆料，大谷翔平的父母曾聲稱，大谷不能娶女演員或女主播，運動員是最合適人選。\\r\\n\\r\\n大谷翔平總是專注在棒球事業，與娛樂圈很少來往，過去有日媒爆料他的緋聞對象，最終都沒有下文，包含電視台主播久慈曉子、加藤綾子、市野瀬瞳；女模朝比奈彩及中条Ayumi等人。\\r\\n\\r\\n\\r\\n2016年大谷翔平曾在接受訪問時，被問到喜歡的女性類型，他的答案竟是當時才12歲的童星蘆田愛菜，儘管大谷事後解釋自己不是「蘿莉控」，是因為一直被問感情覺得煩，才給出這答案，不過每當大谷有緋聞出現時，蘆田愛菜仍總是被提及，如今她已經19歲，符合日本法定結婚年齡。\\r\\n\\r\\n日媒《週刊女性》則指出，大谷翔平個性十分低調，時間全花在練球，不愛社交且不碰女色。甚至有傳聞，大谷翔平和父親訂下5年禁慾之約，全心投入在棒球。報導分析，身為大谷翔平妻子要照顧運動員身體和心理健康，還要有英文與社交能力，才能幫助大谷在大聯盟更順利。\\r\\n\\r\\n報導還提到優生學，大谷父母也希望兒子另一半是運動員，文中寫道，「世界一流運動員的父母通常也是運動選手，例如大谷的父親是棒球員、媽媽是羽球員。」\\r\\n\\r\\n編輯推薦\\r\\n\\r\\n', 'url': 'https://udn.com/news/story/6999/7800181?from=udn-catehotnews_ch2'}\n",
            "2024-03-01 08:12:11 [scrapy.core.engine] DEBUG: Crawled (200) <GET https://udn.com/news/story/123006/7801387?from=udn-relatednews_ch2> (referer: https://udn.com/news/story/123006/7801406?from=udn-catehotnews_ch2)\n",
            "2024-03-01 08:12:11 [scrapy.core.scraper] DEBUG: Scraped from <200 https://udn.com/news/story/123006/7801387?from=udn-relatednews_ch2>\n",
            "{'title': '00941不配息是要賺什麼？ 專家：多數投資人懂做功課半導體不是只等於台積電', 'content': '\\r\\n\\r\\n最近中信上游半導體（00941）在募集階段，我自己看這檔沒配息，也多半是一般人不熟悉的類型，市況可能涼涼，想不到網上討論程度異常熱烈，甚至引來新手投資人詢問：\\r\\n\\r\\n其實咱台灣股民，都已經習慣了買ETF就是要領配息，不過。\\r\\n不配息不代表吝嗇，而是它們認為由公司來幫股東運用這筆錢會是更好的選擇。。\\r\\n這也是為什麼有些不配息的股票或商品，拉長時間來看總報酬反而會遠勝配息類商品的原因。\\r\\n00941這檔ETF特別的地方在於，首次有半導體ETF聚焦在最上游製造晶片過程中會用到的薄膜、光阻劑、稀有氣體等領域，雖然這些領域產值佔整個半導體比重不高，但普遍有著高技術門檻、且難以被取代的特性，少了這些東西，晶片是做不出來的。\\r\\n會看上這塊領域，說明現在已經有不少散戶投資人懂得做功課，而不再只是認為半導體=。半導體行業是個需要全球分工的高度精密領域，每個環節都存在獲利機會。要在個股上尋找這種投資機會，你可能需要理解半導體前後段製程，並且逐一調研，有時候還有資訊取得的困難度要克服，相較之下ETF會輕鬆很多。\\r\\n\\r\\n◎本文內容已獲  授權，；未經同意禁止取用轉載。', 'url': 'https://udn.com/news/story/123006/7801387?from=udn-relatednews_ch2'}\n",
            "2024-03-01 08:12:14 [scrapy.core.engine] DEBUG: Crawled (200) <GET https://udn.com/news/story/7266/7764648?from=udn-referralnews_ch2artbottom> (referer: https://udn.com/news/story/7266/7800260?from=udn-catehotnews_ch2)\n",
            "2024-03-01 08:12:14 [scrapy.core.scraper] DEBUG: Scraped from <200 https://udn.com/news/story/7266/7764648?from=udn-referralnews_ch2artbottom>\n",
            "{'title': '境外空汙來了！鄭明典、彭啟明示警：乾冷髒空氣接續報到', 'content': '今天是大年初一，前中央氣象局長在表示，注意。天氣風險公司總經理在「」臉書粉專表示，一早仍低溫，不過境外來的髒空氣隨著乾來報到了。\\r\\n\\r\\n彭啟明表示，之前幾天的雨勢把汙染物雨除，但轉乾，就是乾冷髒空氣接續報到。敏感性族群今天外出記得戴上口罩，家裡的空氣清淨機要打開。\\r\\n\\r\\n環境部提醒三重、新北（樹林）地區、馬祖、金門地區 所有族群應減少在戶外活動（紅色警示），北部、竹苗、中部、雲嘉南地區、林園地區敏感族群應減少在戶外劇烈活動（橘色提醒）。\\r\\n\\r\\n中央氣象署表示，今天水氣持續減少，除了東半部地區、恆春半島以及西半部山區偶有零星降雨之外，其他地方恢復成多雲到晴的天氣。\\r\\n\\r\\n溫度方面，持續受到強烈大陸冷氣團及輻射冷卻影響，中部以北及宜蘭低溫只有10、11度，其他地區13到15度，彰化以北、南投及宜蘭局部地區有10度以下氣溫發生的機率。白天氣溫略為回升，北部及宜蘭、花蓮高溫16、17度，其他地區可以來到19到24度。\\r\\n\\r\\n根據環境部預報資訊顯示，今天受強烈大陸冷氣團影響，上海過去24小時細懸浮微粒最高濃度為140微克／立方公尺，東北風可能挾帶境外汙染物影響台灣及離島，影響情況視上游濃度累積而有所變化，中南部清晨及夜間擴散條件差，易有汙染物累積；須留意春節期間，各地節慶活動可能造成短時間汙染物濃度上升。\\r\\n\\r\\n花東空品區為「良好」等級；北部、竹苗、宜蘭空品區及澎湖地區為「普通」等級，竹苗以北清晨至上午短時間可能達橘色提醒等級；中部、雲嘉南、高屏空品區及金門為「橘色提醒」等級，離島地區短時間可能達紅色警示等級；馬祖為「紅色警示」等級。\\r\\n\\r\\n\\r\\n\\r\\n', 'url': 'https://udn.com/news/story/7266/7764648?from=udn-referralnews_ch2artbottom'}\n",
            "2024-03-01 08:12:18 [scrapy.core.engine] DEBUG: Crawled (200) <GET https://udn.com/news/story/123945/7802030?from=udn-relatednews_ch2> (referer: https://udn.com/news/story/123945/7801218?from=udn-catehotnews_ch2)\n",
            "2024-03-01 08:12:18 [scrapy.core.scraper] DEBUG: Scraped from <200 https://udn.com/news/story/123945/7802030?from=udn-relatednews_ch2>\n",
            "{'title': '楊文科疑涉貪遭約談 藍批下流：幫黃偉哲恐怖平衡', 'content': '新竹縣長遭控涉貪，昨日新竹縣府遭檢調搜索並帶回調查，外界質疑，此案疑與新竹縣「豐采520」事件有關。國民黨立法院黨團今日臨時舉行記者會聲援楊文科，總召傅崐萁直批民進黨真的很下流，過去台南、高雄天坑有幾千個，約談過哪位市長？\\r\\n\\r\\n傅崐萁表示，昨天台灣司法界熱鬧，台南市長因前經發局長陳凱凌案遭約談，陳凱凌二審已被判刑6年，這時才去約談黃偉哲，上級指示是誰？台南司法檢調面對重大國家貪瀆竟延宕，黃偉哲約談過後立刻請回。九合一大選選前，新竹市長被全面政治追殺，現在又是新竹，楊文科因所謂的天坑被約談，如果這樣可以約談楊，請問監察院長陳菊任高雄市長任內有3千個天坑，要約談多少次？副總統賴清德在台南市長任內有多少天坑？\\r\\n\\r\\n傅崐萁表示，楊文科一生奉公守法清白，此刻用雷霆萬鈞手段，用選前對宜蘭縣長林姿妙、高虹安如出一轍的手法，新北市長侯友宜參選市長時，有促轉會自稱東廠對付侯友宜，民進黨操作司法、部會，真的很下流。今對楊文科調查且要求交保，請問2017、2018年，台南、高雄天坑有幾千個，約談過哪位市長？民進黨政治司法追殺可免，不要看到立院藍白合可以制衡民進黨，各式追殺出籠，民進黨放下屠刀，回頭是岸。\\r\\n\\r\\n黨團首席副書記長林思銘說，楊文科擔任新竹縣長期間，為新竹縣打造30年願景，新竹縣不一樣，各項指標包含招商成績、新竹縣人民幸福感受在各縣市評比名列前茅，檢調因為天坑案在這時機點搜索楊文科，有貪汙嫌疑等諭令交保，這時機根本是政治操作，非常不可取。\\r\\n\\r\\n林思銘說，「豐采520」天坑案發生在去年4月28日，楊文科馬上就建商有無涉及違反建築法移送檢調偵辦，對於建商要求復工，楊文科也採取嚴謹規範，從來沒有放水，截至目前，新竹縣府沒有准予豐采520此公司復工，可見縣府嚴謹把關。昨天大動作搜索約談楊文科，時機點太巧，是否因為520即將到來，因人設事，楊文科到底涉犯什麼貪汙案還說不清，偵辦過程還有很多疑點待釐清，籲檢調有一分證據說一分話。\\r\\n\\r\\n國民黨立委徐欣瑩說她相信楊文科。據她所知，楊文科不願交保，因無證據，他也願意配合檢調，地檢署還是裁示50萬交保，楊文科是在律師團勸說下才不得已以50萬交保，希望檢調公正辦案，不要用顏色辦案，不要因人設事，也不要因為黨派不同，辦案就有不同差異。\\r\\n\\r\\n國民黨團副書記長羅智強表示，台灣人民對司法無信任，是因為辦藍不辦綠，遇到綠的就大事化小、小事化無，立委徐巧芯競選總部成立前，因20元壽麵被查，賴清德在台上說其便當100元，請問辦得如何？2026年已經開打，從民進黨圍剿台中市長盧秀燕、基隆市長謝國樑，戰場擴大到楊文科、高虹安，如果公平執法，也不會有那麼多問號，選前大張旗鼓偵辦在野黨政治人物，影響選情，司法公信力在哪裡。\\r\\n\\r\\n國民黨團副書記長王鴻薇說，此案發生去年9月，檢調已經收押新竹縣工務處長，去年底交保。昨日訊問楊文科，時間會不會非常巧合，無巧不巧，昨日正好就是黃偉哲因力暘光電、陳凱凌案應訊，是否因黃案進入司法程序，趕快抓個國民黨縣市首長辦案，做恐怖平衡，她嚴重質疑此案是否為政治辦案。國民黨團副書記長許宇甄強調，國民黨非常支持楊文科，楊文科一定要提出訴訟，相信楊文科的清白跟操守。', 'url': 'https://udn.com/news/story/123945/7802030?from=udn-relatednews_ch2'}\n",
            "2024-03-01 08:12:22 [scrapy.core.engine] DEBUG: Crawled (200) <GET https://udn.com/news/story/6928/7799365?from=udn-relatednews_ch2> (referer: https://udn.com/news/story/6928/7802097?from=udn-catehotnews_ch2)\n",
            "2024-03-01 08:12:22 [scrapy.core.scraper] DEBUG: Scraped from <200 https://udn.com/news/story/6928/7799365?from=udn-relatednews_ch2>\n",
            "{'title': '清大人社課程結合生成式AI教學 ChatGPT任歷史研究助理', 'content': '國立清華大學於新學期人文社會課程將結合生成式AI教學，教務長巫勇賢表示，人社院、科管院、清華學院、教育學院、生醫學院等本學期開設5門課程，將生成式AI融入社會文化分析和歷史研究等領域，如使用分析史料，也能擔任課程研究助理，激發更多面向的討論。\\r\\n\\r\\n清大人社院院長李卓穎本學期新開設「生成式AI只另與歷史學習及研究」，他表示，該門課將運用ChatGPT分析史料、歸納重點，甚至提出辯證與反思，最終將課堂上應用的經驗彙整成一部歷史學習及研究的ＡＩ指令集，讓研究者能更正確有效率的對AI「下咒語」。\\r\\n\\r\\n李卓穎談到，課堂上進行小組討論時，會讓ChatGPT擔任其中一位組員或提出相反論證，有了AI組員加入，反而可以刺激學生討論，甚至將論點推進的更多元深入。\\r\\n\\r\\n李卓穎說，AI可以促進討論，但要達到創新或頂尖水準還是需要真人，尤其越有歷史專業的真人越能與AI協作出好結果。但學生也必須充分了解AI優缺點，如容易捏造不存在的內容，因此課程在培養學生如何向AI提問之餘，也要學會甄別AI給予的答案。\\r\\n\\r\\n巫勇賢則提到，以課程「科技與社會」中孔恩《科學革命的結構》燃素說為例，課程引導學生使用ChatGPT刺激思考、互相詰問，得以讓學生的思維長出不同分支，譬如從社會、化學等觀點切入，更能了解為何當時的社會背景下，會提出現今被視為荒謬的論點，使課程討論的深度、廣度都能提升。\\r\\n\\r\\n巫勇賢談到，人文素養、人道關懷還是AI無法取代的人類特質，人文社會領域學生可透過AI，突顯批判性思維和分析能力，人文社會學科的學生可更加發揚自身優勢，在AI浪朝中更不能缺席。\\r\\n\\r\\n清大中文系大二生吳庭儀表示，一直以來就對AI很感興趣，「當AI衝擊我們之前我要主動迎向它，學會怎麼用。」目前AI的中文模型成熟度略遜於英文，希望未來能結合學專業，融入ＡＩ自然語言處理，盼未來達成真正的人機協作。\\r\\n\\r\\n清大人社院大四生洪睿辰則表示，未來期望成為編劇，也發現使用生成式AI搜集素材、解讀劇本時更能事半功倍，但也發現AI編寫的故事缺乏原創和獨特性，因此仍相信AI科技仍無法取代人類的創作。\\r\\n\\r\\n清大推出學習四部曲，除了將AI融入人文社會課程外，人文社會AI應用與發展研究中心也規畫錄製一套「人文社會AI導論」線上微課程；以及3學分的資訓邏輯思考、運算思維通識課程；之後還有19至21學分的進階學分學程。\\r\\n\\r\\n\\r\\n\\r\\n\\r\\n\\r\\n\\r\\n\\r\\n\\r\\n', 'url': 'https://udn.com/news/story/6928/7799365?from=udn-relatednews_ch2'}\n",
            "2024-03-01 08:12:26 [scrapy.core.engine] DEBUG: Crawled (200) <GET https://udn.com/news/story/123946/7801122?from=udn-relatednews_ch2> (referer: https://udn.com/news/story/123946/7801126?from=udn-relatednews_ch2)\n",
            "2024-03-01 08:12:26 [scrapy.core.scraper] DEBUG: Scraped from <200 https://udn.com/news/story/123946/7801122?from=udn-relatednews_ch2>\n",
            "{'title': '藍：黃偉哲用人不嚴謹 恐有未爆彈', 'content': '台南檢調昨以證人身分約談台南市長，引發政壇議論。立委表示，台南在二○二二年光電進度提前達到行政院所要求的二○三五年標準，台南能提前十幾年快速達標，難免讓人質疑是否有貓膩？顯然檢方仍有許多疑問才傳喚市長。藍營議員也表示，黃偉哲未能嚴謹用人，會遭約談不意外，日後恐仍有未爆彈。\\r\\n\\r\\n綠營則呼籲國民黨不要將司法案件拿來政治操作，企圖影響檢警偵辦。\\r\\n\\r\\n謝龍介指出，台南市經發局前局長涉及貪瀆案，一審遭判八年，二審改判六年，但仍羈押中，市長黃偉哲有必要說清楚，也相信檢調已掌握證據，但仍有許多疑問，否則不會傳喚市長層級，相信檢調經過長期蒐證，已掌握涉案人不法證據，也期待盡快釐清真相。\\r\\n\\r\\n國民黨台南市議員蔡育輝表示，台南光電利益大，外界不法傳言相當多，黃偉哲不能嚴謹用人，甚至有人在外面假借黃偉哲名義做不法之事，會被約談並不意外，奉勸黃偉哲用人及行事要更嚴謹，「不能有人說情就放水」，呼籲檢方依進度偵辦，不要怕影響選舉就刻意避開。\\r\\n\\r\\n台南市議會民進黨團表示，以證人身分配合檢方辦案是全台灣所有民眾的義務，黃偉哲身為台南市的大家長也不例外，國民黨不要將司法案件作為政治操作議題，企圖影響檢警偵辦；尤其綠電議題一直遭國民黨汙名化，更不要看見黑影就亂開槍。', 'url': 'https://udn.com/news/story/123946/7801122?from=udn-relatednews_ch2'}\n",
            "2024-03-01 08:12:31 [scrapy.core.engine] DEBUG: Crawled (200) <GET https://udn.com/news/story/9213/7801632?from=udn-relatednews_ch2> (referer: https://udn.com/news/story/9213/7800660?from=udn-catehotnews_ch2)\n",
            "2024-03-01 08:12:31 [scrapy.core.scraper] DEBUG: Scraped from <200 https://udn.com/news/story/9213/7801632?from=udn-relatednews_ch2>\n",
            "{'title': '嗆夏立言唱和中國 陳建仁：對海巡不公平也不適宜', 'content': '國民黨副主席昨天與中國大陸主任會面，針對陸快艇在翻覆釀2死事件，夏立言承諾會監督民進黨政府。行政院長今天表示，我國人員依照國際慣例依法執法，夏立言的說法令人不解，也對海巡人員執法不公平，這樣的講法不適宜。\\r\\n\\r\\n陳建仁表示，這件事我國海巡人員依照國際慣例，也按照我方法律依法執法，過程當中很遺憾地看到中國政府扭曲汙衊我方海巡人員在執法上所做的努力；夏立言應和著這樣的一個說法，令人感到不解，而且也覺得這樣的一個唱和，對於海巡人員的執法相當地不公平，他認為這件事夏立言的講法不適宜。\\r\\n\\r\\n陳建仁呼籲，兩岸為了要健康有續交流，應該秉持務實方法處理這次案件，不要刻意抹黑、謾罵，甚至汙衊海巡人員依法執法的決心；同時，希望兩岸持續以務實的態度來處理這個事件，確實保障兩岸人民的權益。\\r\\n\\r\\n', 'url': 'https://udn.com/news/story/9213/7801632?from=udn-relatednews_ch2'}\n",
            "2024-03-01 08:12:35 [scrapy.core.engine] DEBUG: Crawled (200) <GET https://udn.com/news/story/123693/7799979?from=udn-relatednews_ch2> (referer: https://udn.com/news/story/123693/7800167?from=udn-catehotnews_ch2)\n",
            "2024-03-01 08:12:35 [scrapy.core.scraper] DEBUG: Scraped from <200 https://udn.com/news/story/123693/7799979?from=udn-relatednews_ch2>\n",
            "{'title': '《黑暗榮耀》變態教師許棟元結婚不到一年離婚了 前妻照片已刪光', 'content': '\\r\\n據韓媒報導，在韓劇《》中飾演變態教師的許棟元與妻子已經離婚，結束維持不到一年的婚姻。\\r\\n\\r\\n許棟元在《黑暗榮耀》中頂著蘑菇頭髮型，飾演去年3月變態教師「秋老師」讓觀眾印象深刻，去年3月傳出他與圈外女友步入婚姻殿堂，他也在Instagram公開婚禮照片和大家分享好消息，但2人婚姻維持不到一年就宣告破滅。\\r\\n\\r\\n據「JTBC」報導，圈內人士指許棟元與妻子經思考後決定離婚，許棟元的社群平台上也已不見妻子照片，後經紀公司 ACE FACTORY 證實離婚消息，並表示藝人私生活不便多作回應，盼外界諒解。\\r\\n\\r\\n編輯推薦\\r\\n\\r\\n\\r\\n\\r\\n\\r\\n\\r\\n                \\n              \\n              \\n                    米可白和孫綻戀情曝光，孫綻29日出席公視台語台「鹽水大飯店」首映，被追問戀情逃跑3回，後來在廳內逃不掉了，受訪時直呼：「...                  \\n                    台灣網紅「晚安小雞」和 YouTuber「阿鬧」在柬埔寨自導自演拍攝被綁架影片造假，遭當局拘捕判刑2年，還遭柬國總理洪馬內斥為「不孝子」，拒絕他人說情，此事件在台灣也引發關注。昨（28）日有網友出面爆料，有當地台商掌握「晚安小雞」、「阿鬧」動態，表示他們被關在容納百人的30坪監獄宿舍，百人共用一個無法沖水的馬桶，且吃的食物一天只吃一餐。                  \\n                    《戲說台灣》演員陳麒凱（本名陳建隆）2019年與前妻陳子玄離婚後，事隔4年爆出新戀情。陳麒凱去年4月在臉書發文放閃，曝光女友身分正是女星李緻（本名：朱紫緹）。不過，隔不到一年卻傳出兩人已分手的消息。                  \\n                    88歲法國不朽巨星亞蘭德倫，曾主演「洛可兄弟」、「陽光普照」等經典名片，以英俊過人的外表征服觀眾，曾有全球第一美男子之稱...                  \\n                    網紅鍾明軒獨自到大陸旅遊，分享這趟旅程讓他對大陸改觀，他到北京、上海兩個大城市，讚嘆市容壯觀發達、人民也比想像中要友善熱心，直言「我覺得中國我真的很喜歡這個地方」。                  \\n                    據韓媒報導，在韓劇《黑暗榮耀》中飾演變態教師的許棟元與妻子已經離婚，結束維持不到一年的婚姻。                  ', 'url': 'https://udn.com/news/story/123693/7799979?from=udn-relatednews_ch2'}\n",
            "2024-03-01 08:12:36 [scrapy.core.engine] DEBUG: Crawled (200) <GET https://udn.com/news/story/123693/7800017?from=udn-relatednews_ch2> (referer: https://udn.com/news/story/123693/7800167?from=udn-catehotnews_ch2)\n",
            "2024-03-01 08:12:37 [scrapy.core.scraper] DEBUG: Scraped from <200 https://udn.com/news/story/123693/7800017?from=udn-relatednews_ch2>\n",
            "{'title': '鍾明軒中國行惹議！首發聲「我不認同我是中國人」吐心境', 'content': '\\r\\n\\r\\n獨自到大陸旅遊，分享這趟旅程讓他對大陸改觀，他到北京、上海兩個大城市，讚嘆市容壯觀發達、人民也比想像中要友善熱心，直言「我覺得中國我真的很喜歡這個地方」。\\r\\n\\r\\n鍾明軒近日再度分享大陸旅遊的第二則影片，並在影片中直言，「我覺得中國我真的很喜歡這個地方，他們人民真的沒有像新聞上說的一樣，那麼沒有素質。」他強調，撇開政治的話中國是個漂亮的地方，他更認為若放下成見與執著，看待彼此的方式也會變得更不一樣。\\r\\n\\r\\n\\r\\n影片一出，引發兩愛網友熱議，更在台灣論壇引發兩派網友論戰，掀起不小風波。\\r\\n\\r\\n對此，昨（28）日深夜鍾明軒則在threads上表達自己的真實想法，「此次中國行結語：我不認同我是中國人，我到現在依然認為我是台灣人。但是這並不代表我不可以愛上中國這塊土地和生活在這塊土地上的人。報告完畢」\\r\\n\\r\\n編輯推薦\\r\\n\\r\\n\\r\\n\\r\\n\\r\\n\\r\\n編輯推薦\\r\\n\\r\\n\\r\\n\\r\\n\\r\\n\\r\\n\\r\\n                \\n              \\n              \\n                    米可白和孫綻戀情曝光，孫綻29日出席公視台語台「鹽水大飯店」首映，被追問戀情逃跑3回，後來在廳內逃不掉了，受訪時直呼：「...                  \\n                    台灣網紅「晚安小雞」和 YouTuber「阿鬧」在柬埔寨自導自演拍攝被綁架影片造假，遭當局拘捕判刑2年，還遭柬國總理洪馬內斥為「不孝子」，拒絕他人說情，此事件在台灣也引發關注。昨（28）日有網友出面爆料，有當地台商掌握「晚安小雞」、「阿鬧」動態，表示他們被關在容納百人的30坪監獄宿舍，百人共用一個無法沖水的馬桶，且吃的食物一天只吃一餐。                  \\n                    《戲說台灣》演員陳麒凱（本名陳建隆）2019年與前妻陳子玄離婚後，事隔4年爆出新戀情。陳麒凱去年4月在臉書發文放閃，曝光女友身分正是女星李緻（本名：朱紫緹）。不過，隔不到一年卻傳出兩人已分手的消息。                  \\n                    88歲法國不朽巨星亞蘭德倫，曾主演「洛可兄弟」、「陽光普照」等經典名片，以英俊過人的外表征服觀眾，曾有全球第一美男子之稱...                  \\n                    網紅鍾明軒獨自到大陸旅遊，分享這趟旅程讓他對大陸改觀，他到北京、上海兩個大城市，讚嘆市容壯觀發達、人民也比想像中要友善熱心，直言「我覺得中國我真的很喜歡這個地方」。                  \\n                    據韓媒報導，在韓劇《黑暗榮耀》中飾演變態教師的許棟元與妻子已經離婚，結束維持不到一年的婚姻。                  ', 'url': 'https://udn.com/news/story/123693/7800017?from=udn-relatednews_ch2'}\n",
            "2024-03-01 08:12:41 [scrapy.core.engine] DEBUG: Crawled (200) <GET https://udn.com/news/story/6656/7801639?from=udn-relatednews_ch2> (referer: https://udn.com/news/story/6656/7791569?from=udn-referralnews_ch2artbottom)\n",
            "2024-03-01 08:12:41 [scrapy.core.scraper] DEBUG: Scraped from <200 https://udn.com/news/story/6656/7801639?from=udn-relatednews_ch2>\n",
            "{'title': '德德最新棚拍照連發！曝1事失落憂鬱 網友拜託他出道', 'content': '民進黨前立委的17歲帥兒德德日前開通IG，不到1個月已經有31萬人追蹤。他昨晚再度在IG分享棚拍美照，限動還有鄭運鵬在旁玩吹球影片，害他笑場。\\r\\n\\r\\n德德最新發表的照片，神情，還利用水氣表現出迷濛感，已20萬人按讚。他表示，這組照片和開通IG貼的照片是同一天拍的，「其實在拍的時候，我都不知道我在幹嘛，所以看到照片會嚇一跳，哇原來我長這樣喔」，並感謝攝影師Gimmy幫他拍照。\\r\\n\\r\\n不過，他表示，他的心情很失落，不是照片上的假裝憂鬱，是真的很憂鬱，前天讀了一整天英文，結果考很爛，「現在的表情應該很適合拍照」。\\r\\n\\r\\n網友留言盛讚，「謝謝德德創造世界和平」、「立刻出道拜託」、「很帥欸，怎麼有高中生長這樣」、「真的是台灣車銀優」、「我真是個缺德不行的人」。\\r\\n\\r\\n德德還透露，「我爸竟然說這組照片適合當手機桌布，明明他的桌布是橫濱鋼彈」。鄭運鵬留言回應，「我怎麼可能用你的照片換掉鋼彈呢」。\\r\\n\\r\\n', 'url': 'https://udn.com/news/story/6656/7801639?from=udn-relatednews_ch2'}\n",
            "2024-03-01 08:12:46 [scrapy.core.engine] DEBUG: Crawled (200) <GET https://udn.com/news/story/123475/7802042?from=udn-relatednews_ch2> (referer: https://udn.com/news/story/123475/7799087?from=udn-referralnews_ch2artbottom)\n",
            "2024-03-01 08:12:46 [scrapy.core.scraper] DEBUG: Scraped from <200 https://udn.com/news/story/123475/7802042?from=udn-relatednews_ch2>\n",
            "{'title': '藍委自提電子簽章法修正草案 籲公部門大膽擁抱', 'content': '「電子簽章法」自2002年施行至今20多年，法規未隨科技進展而與時俱進，日常生活仍以傳統紙本簽名為主。立委葛如鈞、吳宗憲、今邀請產業界人士，舉行記者會呼籲政府大膽擁抱電子簽章，支持葛如鈞、吳宗憲共同提案的「電子簽章法」修正草案，讓法律跟上科技腳步。\\r\\n\\r\\n行政院院會昨拍板通過「電子簽章法」修正草案，明定電子文件及電子簽章功能上等同實體文件及簽章，以確認電子簽章的法律效益。\\r\\n\\r\\n葛如鈞說，據數位部資料顯示，電子簽章法上路至今，中央政府仍有高達26個機關，以行政命令排除電子簽章適用，行政院也名列其中，更遑論其他各機關，也在排除適用清單中。行政院昨通過修正草案，還要再授予三年緩衝。他和吳宗憲共同提案的版本特別強調，只給政府部門一年的緩衝期。全國民眾已等22年，不該讓民眾一等再等，同時要求主管機關，必須就電子簽章應用情形，辦理國際法規與市場需求調查或研究，每年向社會大眾公布。\\r\\n\\r\\n吳宗憲表示，2002年的電子簽章法是立基於網路撥接時代，如今已經從5G要邁入6G的時代，法規應盡可能跟上科技。數位簽章加上憑證將比手動簽名更足以可信，風險也更低。國內還有眾多法律要求民眾親自簽名，期待電子簽章法後，逐步來調整這些規範。\\r\\n\\r\\n徐巧芯認為，現行公部門的眾多服務仍因需要驗證申請者為本人，或者確認簽名為本人親簽，需要親自到場辦理，造成許多公部門大排長龍，便利性實在待強化。電子簽章法此次的修正草案中提到「符合規定的數位簽章簽署電子文件，推定為本人簽署」相當重要，相信未來公部門對於電子簽章的普及運用後，將會更加便民。公部門廣泛使用後，漸進推展到私部門，提供民眾更多的便利性及接受度。\\r\\n\\r\\n凱鈿行動科技數位化企業流程事業群總經理張博瀚說，現行電子簽章服務，除了筆跡外還有電子軌跡紀錄，其中包含簽署時間點、IP位址、Email等，並且搭配Email OTP來使用，以提升安全性（更進階還可以搭配工商憑證或是自然人憑證）。也可採取視訊方式，由視訊帶出電子文件以完成簽署，全程同步錄影。過去紙本常用的騎縫章，則可採用數位憑證以保護文件完整性。\\r\\n\\r\\nLeadBest Consulting Group共同創辦人暨數位長王志清認為，電子簽章的市場技術成熟，未來的普及運用相信會促進產業發展。呼籲不要再只限於公務機關核發的憑證，否則產業應用實在相當受限。期待區分電子簽章、數位簽章，甚至是權威機構核發憑證等的分級機制，將此產業端的應用會更加普及。', 'url': 'https://udn.com/news/story/123475/7802042?from=udn-relatednews_ch2'}\n",
            "2024-03-01 08:12:49 [scrapy.core.engine] DEBUG: Crawled (200) <GET https://udn.com/news/story/7470/7802381?from=udn-relatednews_ch2> (referer: https://udn.com/news/story/7470/7799296?from=udn-catehotnews_ch2)\n",
            "2024-03-01 08:12:49 [scrapy.core.scraper] DEBUG: Scraped from <200 https://udn.com/news/story/7470/7802381?from=udn-relatednews_ch2>\n",
            "{'title': '第一次養鳥就上手！各種鸚鵡特點怎麼選？獸醫師：新手別挑戰這類幼鳥', 'content': '養鳥好酷啊！會飛又會說話，我也想養一隻鳥，但要養什麼呢？\\r\\n市面上寵物鳥的選擇越來越多種，鸚鵡、雀鳥、寵物雞鴨鵝，甚至連某些猛禽也能當寵物？在這麼多可愛的鳥寶裡面，我們要怎麼挑選適合自己的鳥呢？養鳥又該注意什麼事情呢？鳥的飲食習慣都搞清楚了嗎？\\r\\n\\r\\n\\r\\n最常見的寵物鳥就是鸚鵡啦！鸚鵡的品種很多，有大型鸚鵡（如金剛鸚鵡、巴丹鸚鵡、灰鸚鵡等）小型鸚鵡（如太平洋鸚鵡、虎皮鸚鵡、愛情鳥等）；有些擅長講話、有些不講話但會吹口哨、有些天性熱情、有些則是強悍的戰鬥民族性格。\\r\\n\\r\\n在挑選鸚鵡前，我們必須慎重考慮「自己的條件」適合飼養什麼種類的鸚鵡喔！\\r\\n\\r\\n\\r\\n\\r\\n\\r\\n\\r\\n住在比較小的公寓裡，可能就不適合大型鳥、大聲公鸚鵡：\\r\\n－巴丹鸚鵡、金剛鸚鵡、灰鸚鵡、亞馬遜鸚鵡\\r\\n\\r\\n有些中小型鸚鵡分貝雖不大，但聲音尖銳，可能會被鄰居抗議：\\r\\n－金太陽鸚鵡、月輪鸚鵡、和尚鸚鵡\\r\\n\\r\\n鼻子敏感的人，可能比較不適合養粉塵製造機：\\r\\n－巴丹鸚鵡、灰鸚鵡、玄鳳鸚鵡\\r\\n\\r\\n如果不想花太多時間清理鳥寶的排泄物，就可能要捨棄寵物性高又好玩的吸蜜鸚鵡，雖然牠們很有趣，但因為吃的食物比較不一樣，常態的便便成水狀，隨性一噴，在牆壁、地板上作畫是經常發生的～\\r\\n\\r\\n\\r\\n\\r\\n\\r\\n喜歡比較會講話的鳥寶，可以選擇：\\r\\n－灰鸚鵡、亞馬遜鸚鵡、月輪鸚鵡、和尚鸚鵡\\r\\n\\r\\n喜歡熱情如火的鳥寶，可以選擇：\\r\\n－巴丹鸚鵡、金太陽鸚鵡\\r\\n\\r\\n喜歡安靜沉穩的鳥寶，可以選擇：\\r\\n－折衷鸚鵡、塞內鸚鵡、賈丁鸚鵡\\r\\n\\r\\n喜歡黏人軟萌的可以選擇：\\r\\n－玄鳳鸚鵡、小太陽鸚鵡\\r\\n\\r\\n當然這些個性是統計出來的，也不是所有的巴丹鸚鵡都很人來瘋，或是所有的玄鳳鸚鵡都很親人；最後還是要看我們選到的鳥寶個性如何，以及我們如何培養牠們長大。\\r\\n\\r\\n選好適合的鳥種後，強烈建議新手鳥爸媽：\\r\\n\\r\\n當我們在鳥店看到可愛的幼鳥寶寶時，一定要問清楚；如果還沒斷奶，就代表必須每2～3個小時確認一次鳥寶的嗉囊（ㄙㄨˋ囊：鸚鵡存放食物的地方，近脖子下鎖骨處）裡是否還有食物，如果空空如也就要再繼續餵食。\\r\\n\\r\\n加上幼鳥的抵抗力較差，剛到新環境對於餵食的溫度、濃稠度、器具都容易有不適應的狀況，新手鳥爸媽可能會對幼鳥寶寶不吃不喝的狀況束手無策，所以強烈建議不要輕易挑戰沒有斷奶的幼鳥（因為很重要所以要再說一次！）。\\r\\n\\r\\n\\r\\n\\r\\n挑選鳥寶的時候，請挑選的鳥寶，從頭到腳仔細檢查過。\\r\\n\\r\\n接著詢問賣家：鳥寶是否有驗過性別？驗過病毒？\\r\\n由於多數的鳥種，比較難以從外觀辨認公母，必須透過分子生物檢驗來區分，會是比較準確的方式。\\r\\n拜醫學與科技發達所賜，也有賣家會在鳥寶還小的時候做一些病毒檢驗，確保鳥寶在此時此刻的狀態下是沒有感染到一些令人緊張的傳染性疾病。\\r\\n\\r\\n\\r\\n\\r\\n帶著鳥寶回家前，一定要做一件非常重要的事情，那就是\\r\\n無論從哪個環境來的小鳥，都需要做一些基本檢查，看看體內外有沒有寄生蟲或是過多的細菌感染、或是有沒有一些先天上的隱疾；也可以請教獸醫師該鳥種的習性與飼養方式。\\r\\n\\r\\n當然如果賣家沒有提供前述的性別檢驗、病毒檢驗，多數專業的鳥醫院也都有提供此類服務。\\r\\n最重要的是，請好好認識一位專業的鳥醫師，因為鳥專科的獸醫師比較少，有時候鳥寶生病或是發生意外時，想找獸醫師是很有可能找不到的！因此，在養鳥前找到一個合適的鳥醫師，也是新手鳥爸鳥媽們必須做的一項功課唷！\\r\\n\\r\\n最後我們要確認，我們準備好迎接一個新成員到家裡了嗎？鳥寶有沒有籠子呢？飼料跟飲水該給什麼呢？鳥寶有沒有足夠的玩具了呢？替鳥寶準備的環境適合牠嗎？室內溫度會不會太熱太冷？家裡其他成員都準備好了嗎？\\r\\n\\r\\n要知道，一隻小型鳥的壽命可能就超過10年，而大型鸚鵡更可能有70、80歲的壽命，做好萬全的準備，讓我們開心迎接新鳥寶的到來吧！\\r\\n\\r\\n\\r\\n➤授權刊登，未經同意禁止轉載。', 'url': 'https://udn.com/news/story/7470/7802381?from=udn-relatednews_ch2'}\n",
            "2024-03-01 08:12:54 [scrapy.core.engine] DEBUG: Crawled (200) <GET https://udn.com/news/story/123940/7801134?from=udn-relatednews_ch2> (referer: https://udn.com/news/story/123940/7801135?from=udn-relatednews_ch2)\n",
            "2024-03-01 08:12:54 [scrapy.core.scraper] DEBUG: Scraped from <200 https://udn.com/news/story/123940/7801134?from=udn-relatednews_ch2>\n",
            "{'title': '冷眼集／綠選後轉彎 歧視陸配深入骨髓', 'content': '國民黨擬推動大陸籍入籍年限由六年縮短為四年，親綠醫界憂排擠醫療量能，先聲奪人表態反對，政府跟著搭腔，理由萬變不離其宗，又是「國家利益與國家安全考量」，民進黨總統當選人選前對喊包容友善，選後卻成中共同路人，令人無言。\\r\\n\\r\\n總統大選期間，民進黨先將查察境外勢力介選目標對準新住民，選前兩個月又與賴清德唱雙簧，提出讓陸生比照外籍生納保，但綠營有雜音；交通部原訂三月一日解除赴陸旅遊「禁團令」，選後突然宣布不開放了。\\r\\n\\r\\n賴清德選前出席新住民活動時說，不管先來後到，只要認同台灣，就是這個土地的主人，「不論來自哪國，不論先來後到，在台灣居留生活，就是台灣的住民，更是這片土地的驕傲」。然而，逢中必反老調卻未曾變過，民進黨眼中的新住民，只有排除陸籍配偶的才叫新住民，只有選舉期間的陸配、陸生才有利用價值。\\r\\n\\r\\n民進黨政府執政以來，無論是蔡英文總統或賴清德，選舉年不乏對新住民團體各式溫情喊話，卻總是口惠實不至，不僅陸外配政策有別，這樣的人為區隔，遇到選舉就成炒作籌碼，對認同台灣這塊土地的陸配，情何以堪？\\r\\n\\r\\n現實來看，陸配親友來台探親或依親者超過半年，才能使用；年滿七十歲以上雖可申請定居，但每年有六十名限額，對健保影響幅度極為有限，與取得年限縮短與否，不能混為一談；說穿了還是民進黨的人權會轉彎，歧視早已深入骨髓，五二○後，已可預見離兩岸交流與和平共好愈來愈遠。', 'url': 'https://udn.com/news/story/123940/7801134?from=udn-relatednews_ch2'}\n",
            "2024-03-01 08:12:58 [scrapy.core.engine] DEBUG: Crawled (200) <GET https://udn.com/news/story/122218/7785179?from=udn-referralnews_ch2artbottom> (referer: https://udn.com/news/story/6656/7789376?from=udn-referralnews_ch2artbottom)\n",
            "2024-03-01 08:12:58 [scrapy.core.scraper] DEBUG: Scraped from <200 https://udn.com/news/story/122218/7785179?from=udn-referralnews_ch2artbottom>\n",
            "{'title': '蓋拉格邀卸任後到美國政治界試身手 蔡英文大笑說「OK」', 'content': '美國聯邦眾議院「美國與中國共產黨戰略競爭」特別委員會主席率團訪台，今天獲總統接見。蓋拉格強調，美台關係已愈來愈強健且堅若磐石。他也說，蔡總統即將卸任，歡迎到美國政治界一試身手。蔡總統聽了大笑，並說「OK」。\\r\\n\\r\\n蓋拉格首先感謝蔡總統非常溫暖的歡迎及一直以來的友誼，也謝謝蔡總統花時間閱讀該委員會產出的報告，希望他的國會同事也可以閱讀這些報告。他也說，去年四月在雷根圖書館和蔡總統見面，那是該委員會首次與台灣共同舉行大型活動，意義非常重要，對當時的議長麥卡錫來說也非常重要。\\r\\n\\r\\n蓋拉格說，他當時在加州感冒，非常緊張會毀了當時努力籌備的活動，但仍努力拿出最好表現，很高興活動能夠成功。\\r\\n\\r\\n蓋拉格說，這次是一個跨黨派的訪問團，有民主黨及共和黨的成員，要展現美國對台灣跨黨派的支持，也感謝蔡總統一直以來的領導力，美台關係已愈來愈強健且堅若磐石。\\r\\n\\r\\n蓋拉格說，這次搭飛機來台灣的過程中，他思考，同黨政府可以再次連任，非常難得，上次美國發生這件事，應該是前總統雷根及後來的布希，在台灣是前所未見，也印證人民對蔡總統的領導力、遠見都是有目共睹。\\r\\n\\r\\n蓋拉格也表示，去年在雷根圖書館的活動中，該委員會曾想起雷根總統的一席話，「自由終將勝利，但前提是需要有人站出來捍衛我們所珍惜的自由」，為此他非常感謝蔡總統展現的領導力，不只在台灣，還有在整個自由世界。現在全球的自由正遭受攻擊、遭受威權體制的攻擊，必須要隨時保持警戒，才能將所珍惜的自由傳給下一代的年輕人。\\r\\n\\r\\n蓋拉格也表示，他知道蔡總統即將卸任，但若蔡總統有興趣，威斯康辛州非常歡迎蔡總統到美國的政治界一試身手，雖然蔡總統的等級已經更高。蔡總統聽了大笑，並說了「OK」。\\r\\n\\r\\n該委員會首席議員克利什納穆希致詞表示，這是美國與中國共產黨戰略競爭特別委員會第一次組團來訪問團，也證實台美間的夥伴關係如此強健，也是永續發展的關鍵。他也說，這次他和蓋拉格從芝加哥直飛到台灣，芝加哥每天都有直飛航班到台北，也可以展現台美如此緊密，這是芝加哥到世界另一頭最長的一個航班，但他的幕僚說，「有時候必須花很長的時間才能見到最親近的朋友」。\\r\\n\\r\\n克利什納穆希表示，台美關係有兩個重要面向，首先是台灣的民主生機蓬勃，是世界上的模範，今年有超過一半的人投票，向世界示範成功的選舉如何舉行。第二是台灣的經濟，台灣是世界上最大的經濟體之一，也是美國前十大的貿易夥伴，台灣更是伊利諾州玉米的第二大出口地，大豆也是第三大出口地，希望台灣可以繼續與美國伊利諾州有如此強健的貿易關係。今年是龍年，龍年象徵著能量及勇氣，蔡總統也可說是龍年的象徵，蔡總統及台灣都是世界的希望，希望自由終將勝利。', 'url': 'https://udn.com/news/story/122218/7785179?from=udn-referralnews_ch2artbottom'}\n",
            "2024-03-01 08:12:58 [scrapy.extensions.logstats] INFO: Crawled 48 pages (at 16 pages/min), scraped 47 items (at 16 items/min)\n",
            "2024-03-01 08:13:01 [scrapy.core.engine] DEBUG: Crawled (200) <GET https://udn.com/news/story/6656/7802589?from=udn-relatednews_ch2> (referer: https://udn.com/news/story/123940/7802580?from=udn-relatednews_ch2)\n",
            "2024-03-01 08:13:01 [scrapy.core.scraper] DEBUG: Scraped from <200 https://udn.com/news/story/6656/7802589?from=udn-relatednews_ch2>\n",
            "{'title': '反駁冷血摸記者臉「看看我的體溫」...管碧玲動作惹議 藍委轟：性平不及格', 'content': '海委會主委今日稍早受訪時，被男記者提問如何回應國台辦「冷血說」，管手摸記者的臉回應，「你看看我的體溫」。國民黨立委齊聲批評，藍委王鴻薇直批管碧玲性平不及格，藍委牛煦庭鼓勵被摸臉的當事人依法捍衛權利。\\r\\n\\r\\n針對管碧玲摸臉，王鴻薇表示，不管是男對女、女對男，這樣隨便做身體觸摸已經構成性騷。因男記者提問就去摸人家的臉，實在非常超過。她剛還有跟被摸的當事人通話，當事人也嚇了一跳，覺得為什麼會突然伸手摸他臉，管碧玲性平不及格，管是否應該先上性平課程，呼籲所有官員，不管男性、女性，不要隨便對記者動手動腳。\\r\\n\\r\\n國民黨立委徐巧芯表示，如果性別的角色對調，管碧玲為男性，被摸臉的記者為女性，摸臉後會如何？會不會大家開始批評，說這是性騷？女生摸男生的臉就沒有關係嗎？男孩子應該要好好保護自己，又來一個例子。連男記者的臉都會在沒有意願的情況下，被無端觸碰，應向管碧玲抗議，不是男生就不會被性騷，性別之間還是要保持距離，這是為什麼當時開議時，她要搶在國民黨立委羅智強前面，擋住民進黨立委黃捷，怕雙方碰觸到後被指性騷，跳到黃河也洗不清。\\r\\n\\r\\n羅智強表示，對民進黨來講，一切事情都可以雙標，如果是國民黨女官員去碰男記者，也一樣被說是性騷。黃捷來搶麥克風時，他是本能往後倒，旁邊有個笨蛋叫國民黨立委黃健豪，本來還敢伸手去推，後來想想不對又縮回來。\\r\\n\\r\\n牛煦庭則說，被騷擾的男記者如果覺得非常不舒服的話，那就是標準的性騷擾，全力支持依法捍衛權利。', 'url': 'https://udn.com/news/story/6656/7802589?from=udn-relatednews_ch2'}\n",
            "2024-03-01 08:13:05 [scrapy.core.engine] DEBUG: Crawled (200) <GET https://udn.com/news/story/7333/7801825?from=udn-relatednews_ch2> (referer: https://udn.com/news/story/7333/7800648?from=udn-catehotnews_ch2)\n",
            "2024-03-01 08:13:05 [scrapy.core.scraper] DEBUG: Scraped from <200 https://udn.com/news/story/7333/7801825?from=udn-relatednews_ch2>\n",
            "{'title': '港府新財年推8幅住宅官地、5690單位 創新低', 'content': '香港發展局昨日公布新財政年度賣地計畫，共推出8幅住宅用地，新增用地只有2幅，共提供5690單位，是港府自2011/12年主動推地，14年以來最少官地供應；發展局局長甯漢豪表示，由於剛撤辣後，會以審慎態度看待賣地。\\r\\n\\r\\n大公報報導，港府本財政年度多次出現土地流標，發展局局長甯漢豪昨日表示，在私人市場積極把所持土地轉化為住宅用途的推動下，甯漢豪表示，私人市場部分預期之外的項目，本季土地供應可建屋量增加2500個單位，本年度的總建屋供應，由去年早前估計的1.15萬個，增至1.4萬個。\\r\\n\\r\\n下個財年賣地計畫提供8幅住宅，有6幅是由本財年滾存而來，再新加入2幅沙田小瀝源住宅用地；美聯測量師行董事林子彬估計，8幅住宅地皮合共估計值約188.8億港元（約24.1億美元），中原測量師行執行董事張競達預計，8幅住宅地總估值共約207.5億港元，以重推的赤柱環角道地皮及東涌新擴展區地皮較矚目。\\r\\n\\r\\n明報報導指出，甯漢豪表示，本季港府已暫停推住宅地皮，是考慮供應已接近達標，下季也只推出沙田小瀝源源順圍一幅規模較小的住宅地皮招標，可提供約280個中小型住宅單位。甯漢豪表示，該幅土地規模較小，且在已發展成熟的社區，附近有社區配套設施，鄰近鐵路站，相信對發展商有吸引力。\\r\\n\\r\\n有業界人士稱，下年度首季推出地皮規模較細，入場門檻不高，加上地皮鄰近已發展的沙田第一城，反映港府想透過「安全係數」較高地皮測試市場水溫，避免重蹈本年度多幅地皮流標收場局面。\\r\\n\\r\\n團結香港基金土地及房屋研究主管梁躍昊稱，現時市場氣氛尚未明朗，發展局對滾存土地作相應調整，除將部分大型地皮剔走，也加入規模較小地皮，並保留彈性，視乎市况拆細大型地皮作兩手準備，此舉屬審慎務實的做法。\\r\\n\\r\\n\\r\\n\\r\\n', 'url': 'https://udn.com/news/story/7333/7801825?from=udn-relatednews_ch2'}\n",
            "2024-03-01 08:13:09 [scrapy.core.engine] DEBUG: Crawled (200) <GET https://udn.com/news/story/7333/7802244?from=udn-relatednews_ch2> (referer: https://udn.com/news/story/7333/7800648?from=udn-catehotnews_ch2)\n",
            "2024-03-01 08:13:09 [scrapy.core.scraper] DEBUG: Scraped from <200 https://udn.com/news/story/7333/7802244?from=udn-relatednews_ch2>\n",
            "{'title': '中介自稱擁滬400套經適房：關係搞得定', 'content': '有市民反映，上海有部分新交付的經適房(安置低收入群眾的住房)，大量到了二房東和中介手裡被違規出租。根據規定，購房人持有滿五年且通過補繳價差款獲得完整產權前，不得擅自轉讓或出租。但有中介猖狂表示手握400套經適房，關係搞得定。相關部門表示將追查到底。\\r\\n\\r\\n觀察者網報導，在嘉定區南翔秀城的置翔佳苑小區，剛進小區，就有一名所謂租房「中介」的男子崔某主動搭訕，稱「一房兩房三房都有，可以拎包入住。」然而，置翔佳苑是經適房小區，交付至今還不到三個月，照理根本不允許出租。\\r\\n\\r\\n崔某說，給一千塊、八百塊錢介紹費就可以了，房租一個月3500元(人民幣，下同，約488美元)，周邊其他的經適房小區他也有房源，「報價」為一房的3200元、兩房的3700元。據報導，附近園區、工廠不少打工人有租房需求，而經適房租金又相對較低，因此還挺「吃香」。\\r\\n\\r\\n自稱掌握大量房源的二房東「吳總」說，他們以五年為期租下了幾個經適房小區內的部分毛坯房，統一裝修後再加價轉租，「這幾個小區我們有將近400套房源，所有關係都搞得定的」。\\r\\n\\r\\n上海嘉伊房產物業中建悅坊管理處表示，這裡的房子是經適房，不能出租，一旦發現要上報。\\r\\n\\r\\n媒體曝光後，聲稱手握百套房源的二房東吳某已人去樓空。物業負責人表示，這位二房東是從開發商那裡租的房子。\\r\\n\\r\\n據報導，市、區兩級住房主管部門承諾，後續會追查到底，對違規出租的個人和黑中介嚴懲不貸。嘉定區住房保障中心副主任王文斌說：「我們也將深入查處黑中介，一經查實，會轉交相應部門嚴格處置。」', 'url': 'https://udn.com/news/story/7333/7802244?from=udn-relatednews_ch2'}\n",
            "2024-03-01 08:13:12 [scrapy.core.engine] DEBUG: Crawled (200) <GET https://udn.com/news/story/6999/7800051?from=udn-referralnews_ch2artbottom> (referer: https://udn.com/news/story/6999/7800181?from=udn-catehotnews_ch2)\n",
            "2024-03-01 08:13:12 [scrapy.core.scraper] DEBUG: Scraped from <200 https://udn.com/news/story/6999/7800051?from=udn-referralnews_ch2artbottom>\n",
            "{'title': 'MLB／大谷翔平結婚引眾大谷太太哀嚎 有人擔心明天日本股市', 'content': '\\r\\n今天在社群網站宣布已結婚消息，並提到對方是一名日本女性，消息震驚全球，許多網友第一時間獻上祝福，但也有一些「大谷太太」粉絲哀嚎，「明天請假不上班了」。\\r\\n\\r\\n大谷翔平發表結婚訊息後，日本網路社群立刻被洗版，網友紛紛恭喜他，許多人稱讚大谷保護女方隱私的做法，也有人開玩笑表示，「我以為他對棒球以外的事都不感興趣」、「是不是想專心打球才選擇4年才能慶祝一次的日子結婚？」、「最厲害的是，直到結婚前都沒被狗仔拍到」。\\r\\n\\r\\n不過也有網友哀號，「今天不是愚人節...」、「明天請假不上班了」、「你應該嫁給我」、「彷彿聽到全世界女性的哀鳴」、「開放世界各地的大谷老婆崩潰」。\\r\\n\\r\\n值得一提的是，過往日本大咖男星或女星宣布結婚後，日本股市都會出現大跌現象，女星石原聰美當年結婚時，東京證券交易所系統更是直接故障，全天暫停交易，因此許多網友也好奇明天日本股市會發生何事。\\r\\n\\r\\n\\r\\n\\r\\n編輯推薦\\r\\n', 'url': 'https://udn.com/news/story/6999/7800051?from=udn-referralnews_ch2artbottom'}\n",
            "2024-03-01 08:13:18 [scrapy.core.engine] DEBUG: Crawled (200) <GET https://udn.com/news/story/123006/7798779?from=udn-catehotnews_ch2&from=udn-referralnews_ch2artbottom> (referer: https://udn.com/news/story/123006/7801387?from=udn-relatednews_ch2)\n",
            "2024-03-01 08:13:18 [scrapy.core.scraper] DEBUG: Scraped from <200 https://udn.com/news/story/123006/7798779?from=udn-catehotnews_ch2&from=udn-referralnews_ch2artbottom>\n",
            "{'title': '00940持278張以內免被扣二代健保！ 她曝「五特點」：親人想賣金融股轉這檔ETF', 'content': '\\r\\n\\r\\n是這樣的，幾天前，身為金融股鋼鐵粉的雷弟來訊，表明想賣掉持有N年的金融股，轉存高股息...\\r\\n\\r\\n\\r\\n\\r\\n對於雷弟的巨大轉變，為姐的我上緊發條，以最快速度深入研究。而吸引雷弟目光的這檔高股息ETF，雷龍會從幾個面向來把關，評估是否值得換股。\\r\\n\\r\\n\\r\\n\\r\\n\\r\\n\\r\\n獨家納入巴菲特價值投資指標「現金流」的高股息ETF，嚴選自由現金流量強勁的穩健企業，獲利能力強且現金殖利率高，一次網羅高CO值的優質企業。\\r\\n\\r\\n\\r\\n\\r\\n\\r\\n\\r\\n追蹤指數一年兩次調整成分股，5月精準挑選高息股，11月提前卡位明年度潛力高息股，是台股股利宣告後、除權息旺季後，最早調整的高股息指數，便宜價位先換先贏，追蹤指數平均殖利率達8.6%。\\r\\n\\r\\n\\r\\n\\r\\n\\r\\n\\r\\n每月月初領息，現金流越早到手，越能有效運用資金；搭配市面上季配/ETF，更有望達到雙週領息效果，打造個人月退俸。\\r\\n\\r\\n\\r\\n\\r\\n\\r\\n\\r\\n10元超低價適合小資入手，淨值10元時，以標的指數近五年指數平均殖利率8.6%的股利所得估算，搭配月配息設計，可以存278張以內免課徵二代健保補充保費。\\r\\n\\r\\n\\r\\n\\r\\n\\r\\n\\r\\n「臺灣價值高息指數」為首檔融合巴菲特價值投資哲學的高股息指數，篩選出50檔會賺錢、有競爭力又便宜的股票，每年2次的成分股審核，股息收益與資產增長兩者兼得。\\r\\n\\r\\n\\r\\n\\r\\n元大投信具有指標性ETF（0050、0056）的發行經驗，這次新發行的元大臺灣價值高息ETF（00940）更是令人期待！有別於年配息的金融股，月配息且具收益平準金的00940，在免課徵二代健保前提下，能存的張數更多且所得稅有望更少，還能有每月領到股息的實質快感，10元超低發行價，小資族也能輕鬆存股，獨特且親民的特性，難怪雷弟會看上，姐全力支持！\\r\\n\\r\\n\\r\\n\\r\\n00940將於3/11-3/15正式募集，有興趣的投資朋友可以洽各券商營業員喔！\\r\\n\\r\\n◎本文內容已獲  授權，；未經同意禁止取用轉載。', 'url': 'https://udn.com/news/story/123006/7798779?from=udn-catehotnews_ch2&from=udn-referralnews_ch2artbottom'}\n",
            "2024-03-01 08:13:20 [scrapy.core.engine] DEBUG: Crawled (200) <GET https://udn.com/news/story/7266/7798506?from=udn-relatednews_ch2> (referer: https://udn.com/news/story/7266/7764648?from=udn-referralnews_ch2artbottom)\n",
            "2024-03-01 08:13:21 [scrapy.core.scraper] DEBUG: Scraped from <200 https://udn.com/news/story/7266/7798506?from=udn-relatednews_ch2>\n",
            "{'title': '明天起8家醫院升級 看病變更貴', 'content': '最新醫院評鑑報告出爐後，造成近一、二十年來，台灣醫療院所板塊最大一次變動；三月一日起，共九家醫院等級異動，新增三家中心（北慈、雙和、新竹台大分院），一家準醫學中心（北醫），而義大癌治療醫院、亞大附屬醫院、新北土城醫院、台大癌醫中心分院則是「被動地」從地區醫院升格為區域醫院，唯一降級者為麻豆新樓醫院，從區域醫院變地區醫院。\\r\\n\\r\\n衛福部醫事司副司長劉玉菁表示，除了台北區、北區醫學中心評鑑外，去年另完成地區醫院、區域醫院等評鑑工作，最後共八家醫院升級，北慈、雙和、新竹台大分院、北醫為主動申請較高層級，另外四家醫院則非主動申請，而因地區醫院期限到期，又具一定規模「應」申請區域醫院的條件。\\r\\n\\r\\n亞大附醫表示，升格後門、急診掛號費不變，部分負擔配合規範代收，調整為區域醫院等級。未經轉診，門診掛號費一○○元，基本部分負擔從地區醫院八○元調整為二四○元，門診醫藥費三四○元起跳。\\r\\n\\r\\n\\r\\n\\r\\n土城醫院副院長魏國珍指出，長庚與新北市政府簽署ＢＯＴ合約時，規定需在醫院成立三年內升為區域醫院，該醫院承受嚴格考驗，三年內接受六次評鑑；這次升級，三月起面臨考驗，那就是醫療費用增加後所引發的民怨，院方已經做好萬全準備，也提醒櫃台人員未來一兩個月會挨罵，一定要頂住。\\r\\n\\r\\n在這次醫院評鑑，麻豆新樓醫院是唯一降級醫院，從區域醫院變成地區醫院，劉玉菁指出，該醫院有其考量，去年主動申請地區醫院評鑑，「並非條件不好，而被降級。」\\r\\n\\r\\n\\r\\n\\r\\n麻豆新樓醫院指出，三月一日起從區域教學醫院變為地區教學醫院，院方在看診科別、醫護人事及現有設備都沒縮減，仍維持區域醫院規模，對於民眾來說，卻能減輕就醫費用，該院將持續努力提升醫療品質。\\r\\n\\r\\n醫院降級，實屬少見，過去曾出現一波降級潮，健保署二○一八年七月要求區域級以上醫院必須門診減量，且減量幅度逐季增加。因擔心病人流失，二○一九年底，雲林基督教、台南郭綜合、雲林若瑟等五家區域醫院提出申請，自願降級為地區醫院。\\r\\n\\r\\n此異常舉動，引起衛福部重視，去年三月公布新版醫院評鑑規章時，特別訂出地區醫院「應」申請區域醫院條件，例如，急性一般病床登記許可病床超過二五○床，而平均每月申請健保服務點值超過一億點。或是急性一般病床登記許可病床低於二五○床，但平均每月申請健保服務點值超過兩億點。\\r\\n\\r\\n\\r\\n\\r\\n「區域醫院自動降級地區醫院，確實少見」，台灣社區醫院協會理事長朱益宏說，在健保總額的框架下，分級醫療又遲遲無法落實，嚴重扼殺了地區醫院的生存空間，健保開辦之初，地區醫院超過六百家、區域醫院不到四十家，醫學中心低於十家，現在地區醫院家數幾乎腰斬，有些下轉成診所，有些則直接關門，如果再放任惡化，台灣醫療體系大者恆大，地區醫院更加式微，影響偏鄉民眾就醫權益。', 'url': 'https://udn.com/news/story/7266/7798506?from=udn-relatednews_ch2'}\n",
            "2024-03-01 08:13:25 [scrapy.core.engine] DEBUG: Crawled (200) <GET https://udn.com/news/story/123945/7801420?from=udn-referralnews_ch2artbottom> (referer: https://udn.com/news/story/123945/7802030?from=udn-relatednews_ch2)\n",
            "2024-03-01 08:13:25 [scrapy.core.scraper] DEBUG: Scraped from <200 https://udn.com/news/story/123945/7801420?from=udn-referralnews_ch2artbottom>\n",
            "{'title': '楊文科涉貪才交保？竹縣府：各界不要捕風捉影以訛傳訛', 'content': '縣長傳出捲入竹北天坑案疑似涉貪，遭檢調帶走調查十數小時，今晨才以50萬元交保。新竹縣府新聞處今上午最新聲明「希望在調查結果未確定前，各界不要捕風捉影，以訛傳訛。」\\r\\n\\r\\n新竹縣府新聞處回應指出，縣長楊文科與縣府團隊一向依法行政、秉公處理，縣長楊文科尊重並全力配合調查「絕無任何不法」。新聞處更表示，楊文科縣長身為新竹縣大家長，一路以來戰戰兢兢、堅持奉公守法，無時無刻為家鄉拚建設、為鄉親謀福利，40多年公務生涯，行事光明磊落，將捍衛清白、奮戰到底。\\r\\n\\r\\n新竹縣府強調，此案目前檢調仍偵查中，相關案情有待檢方調查說明，只要有助於釐清真相，楊文科縣長必定全力配合調查，期盼司法公正審理還其清白，也希望在調查結果未確定前，各界不要捕風捉影，以訛傳訛。\\r\\n\\r\\n據了解，檢調昨天上午就前往新竹縣政府突襲搜索縣長楊文科辦公室等地，將原本要前往竹北天后宮點燃全縣中小學運動會聖火及進行祈福儀式的楊文科帶走調查。新竹地檢署今天凌晨0時許發布新聞稿證實，檢察官訊問楊文科後，認其涉有貪汙治罪條例罪嫌重大，但無聲請羈押必要，訊後諭知50萬交保。', 'url': 'https://udn.com/news/story/123945/7801420?from=udn-referralnews_ch2artbottom'}\n",
            "2024-03-01 08:13:26 [scrapy.core.engine] DEBUG: Crawled (200) <GET https://udn.com/news/story/6928/7798826?from=udn-relatednews_ch2> (referer: https://udn.com/news/story/6928/7799365?from=udn-relatednews_ch2)\n",
            "2024-03-01 08:13:26 [scrapy.core.scraper] DEBUG: Scraped from <200 https://udn.com/news/story/6928/7798826?from=udn-relatednews_ch2>\n",
            "{'title': '學生餐廳工讀可月賺上萬 清大交換生驚：比在大陸正職薪資高', 'content': '\\r\\n一名就讀台灣清華大學的中國大陸，近日在「小紅書」分享，看見校內的學生餐廳在招聘工讀生，時薪為185元台幣，換算成人民幣約為45元。他稱，若是一天工作8小時、一個月工作30天，收入可輕鬆超過萬元人民幣，收入甚至比在大陸當正職還高，此文引發網友在。\\r\\n\\r\\n該名陸籍交換生PO出學校餐廳的工讀招募照片後，還驚呼「啊？你們工資都這麼高的嗎？」。網友在PTT分享文章底下留言表示，「早說過台灣路邊的打工仔比大陸所謂一線收入高，統計資料就是這樣」，但也有人認為：「大陸比台灣進步是事實，何必這樣吹噓？」、「物價差很大啊！不能只比薪水」。\\r\\n\\r\\n有人則說，中國大陸的薪資和物價，其實不同地區仍是相差極大，但以北京、上海等一線大城市來說，「薪資依舊比不上台北，但物價超過台北」，「我個人是覺得同等級服務在東京跟台北比上海便宜」，但也有人說：「上海一線城市的薪資不會輸台灣喔」，但在二線或三線城市因為物價較低，相對薪資也就更低。\\r\\n\\r\\n還有人仔細分析起物價和薪資對照下、各地民眾的生活痛苦指數：「拿台北薪資去對比中國二三線城市物價，可能會覺得物價便宜；拿中國二三線城市薪資去對比其物價，可能體感就跟你在台北也沒啥差別了；拿上海薪資去對比上海物價，只會覺得更痛苦。結論，在台北這種薪資物價都覺得辛苦的，你去上海只會更辛苦，上海物價貴得嚇人，結果勞工普遍低薪，錢都進老闆口袋不拿出來」。\\r\\n\\r\\n另有人討論起外籍生在台打工規定：「印象中外籍學生打工有時數上限的規定」。根據僑外生來台求學、進修勞動規定，僑外生在學期間，每週可以工作時數最多為20小時，寒暑假期間每週工作時間則不受20小時限制，但須注意勞動基準法的工作時間規範。而根據2024年元旦新制，台灣勞工最低月薪將從2萬6400元調整至2萬7470元，時薪則由176元增至183元，台灣清華大學校內餐廳的工讀生職缺，比基本時薪多出2元。\\r\\n\\r\\n\\r\\n\\r\\n\\r\\n\\r\\n\\r\\n\\r\\n\\r\\n', 'url': 'https://udn.com/news/story/6928/7798826?from=udn-relatednews_ch2'}\n",
            "2024-03-01 08:13:31 [scrapy.core.engine] DEBUG: Crawled (200) <GET https://udn.com/news/story/123946/7802278?from=udn-relatednews_ch2> (referer: https://udn.com/news/story/123946/7801122?from=udn-relatednews_ch2)\n",
            "2024-03-01 08:13:31 [scrapy.core.scraper] DEBUG: Scraped from <200 https://udn.com/news/story/123946/7802278?from=udn-relatednews_ch2>\n",
            "{'title': None, 'content': '', 'url': 'https://udn.com/news/story/123946/7802278?from=udn-relatednews_ch2'}\n",
            "2024-03-01 08:13:34 [scrapy.core.engine] DEBUG: Crawled (200) <GET https://udn.com/news/story/9213/7801163?from=udn-referralnews_ch2artbottom> (referer: https://udn.com/news/story/9213/7801632?from=udn-relatednews_ch2)\n",
            "2024-03-01 08:13:34 [scrapy.core.scraper] DEBUG: Scraped from <200 https://udn.com/news/story/9213/7801163?from=udn-referralnews_ch2artbottom>\n",
            "{'title': '夏立言會宋濤 交流對話才是維持和平的最佳途徑', 'content': '國民黨副主席夏立言一行今晚在上海和平飯店與國台辦主任宋濤會面。針對陸船翻覆意外事件，夏立言請宋濤代為轉達國民黨對家屬的致哀之意；宋濤表達，對無視大陸漁民生命財產安全，以及傷害兩岸人民感情的行徑，強烈憤慨、絕不容忍。\\r\\n\\r\\n國民黨晚間發布新聞稿，夏立言表示，此行目的之一，是要向在大陸的台商台胞台生拜晚年，感謝他們長久以來對台灣經濟的貢獻，以及對兩岸交流的支持。國民黨會持續關心在陸台商台胞，也會持續促進兩岸經貿合作，尤其希望在後疫情時代，為兩岸經濟發展，創造互利共贏的契機，造福兩岸人民。\\r\\n\\r\\n夏立言強調，國民黨會繼續堅持九二共識、反對台獨的兩岸共同政治基礎，持續深化互信，積極發揮影響，成為維護兩岸和平發展的穩定力量。這是國民黨對所有支持者、海內外同胞，以及國際社會的嚴肅承諾。\\r\\n\\r\\n夏立言指出，行前發生因台灣海巡對大陸快艇越界進行稽查行動，造成二位對岸民眾落水死亡的不幸事件，實在令人感到遺憾。此事件表明，兩岸沒有溝通管道是危險的。國民黨會持續推動兩岸交流對話，避免雙方因意外而發生誤判。\\r\\n\\r\\n夏立言表示，兩岸的文化都認為人命關天、死者為大，所以相信大多數善良而沉默的台灣民眾，都能對這起不幸事件感同身受。黨主席朱立倫在中常會已對死者表達最大的哀悼，這次遇到宋濤，也特別請他代為轉達國民黨對家屬的致哀之意。\\r\\n\\r\\n夏立言認為，此次事件單就維護法治的觀點，應盡速還原事情真相。於情於理該還給有關各方的公道，應有的究責，以及視情況可以給死者家屬的撫慰，都應該盡可能的辦理。他呼籲，兩岸執政當局應在言語和行動上有所自制，切勿升高兩岸緊張關係。勿讓對事件的反應，危害到兩岸和平發展的長遠目標。\\r\\n\\r\\n夏立言表示，台灣主流民意已經意識到，唯有交流對話，才是防止衝突、維持和平的最佳途徑。國民黨將透過政黨政治，扮演負責任在野黨的角色，監督執政黨不得做出違反民意的作為。\\r\\n\\r\\n宋濤在會見中表示，當前台海情勢仍複雜嚴峻，兩黨應該在堅持九二共識、反對台獨的共同政治基礎上，相向而行、促進兩岸交流合作。對無視大陸漁民生命財產安全，以及傷害兩岸人民感情的行徑，強烈憤慨、絕不容忍。\\r\\n\\r\\n夏立言一行預計明天上午與上海台商台胞座談，下午將前往昆山，繼續後續行程。', 'url': 'https://udn.com/news/story/9213/7801163?from=udn-referralnews_ch2artbottom'}\n",
            "2024-03-01 08:13:40 [scrapy.core.engine] DEBUG: Crawled (200) <GET https://udn.com/news/story/123940/7801541?from=udn-referralnews_ch2artbottom> (referer: https://udn.com/news/story/9213/7801632?from=udn-relatednews_ch2)\n",
            "2024-03-01 08:13:40 [scrapy.core.scraper] DEBUG: Scraped from <200 https://udn.com/news/story/123940/7801541?from=udn-referralnews_ch2artbottom>\n",
            "{'title': '在野擬推縮短陸配入籍年限 陳建仁：目前無修法規劃', 'content': '\\r\\n在野陣營擬推動取得身分證年限比照外配，從6年改為4年。長今天受訪說，此事茲事體大，需全面盤點，行政院持保留態度，而到目前為止內政部、陸委會也沒有規劃。\\r\\n國民黨黨團日前公布立法院新會期的優先法案，其中一項為擬修正台灣地區與大陸地區人民關係條例，推動陸配取得身分證年限比照外配，從6年改為4年，民眾黨立院黨團也表態支持此方向。\\r\\n立法院會今天對陳建仁施政報告繼續質詢。陳建仁會前接受媒體聯訪，針對上述議題作出說明。\\r\\n陳建仁說，政府對於陸配的權益一向都相當重視，而且給予很好的保障，以現在的規定來說，相對其他外國配偶的權利，政府對陸配的權利有更多保障。\\r\\n陳建仁說，中國和台灣在政治、法律、社會層面等制度有重大差異，因此考量相關陸配權益時，需要把這些列入國家安全及國家利益的考量，而且討論陸配跟外配權益時，是按照不同的立足點上討論，兩者不應該併為一談。\\r\\n陳建仁指出，到目前為止，不管是內政部還是陸委會，對於這個議題並無修法規劃，至於有些在野黨想要提出縮短入籍的年限，從6年變為4年，此事茲事體大，需要全面盤點、考量，謹慎處理是最好的方法，因此對於在野黨提出的修法建議，行政院持保留態度。', 'url': 'https://udn.com/news/story/123940/7801541?from=udn-referralnews_ch2artbottom'}\n",
            "2024-03-01 08:13:42 [scrapy.core.engine] DEBUG: Crawled (200) <GET https://udn.com/news/story/6928/7787629?from=udn-referralnews_ch2artbottom> (referer: https://udn.com/news/story/6928/7799365?from=udn-relatednews_ch2)\n",
            "2024-03-01 08:13:42 [scrapy.core.scraper] DEBUG: Scraped from <200 https://udn.com/news/story/6928/7787629?from=udn-referralnews_ch2artbottom>\n",
            "{'title': '北榮名醫在政大授課 清大、陽交大、聯合學生也可選', 'content': '北榮與合作開設課程，首堂「醫學新知與尖端研究」講座型通識課程，由北榮個權威講授相關課程，政大、清大、陽明交大、中央等4所台灣聯合大學系統的學生都可以跨校選課。\\r\\n\\r\\n北榮與政大合作開設醫學專業課程，讓人文社會科學領域的學生參與基礎醫學的跨域課程。「醫學新知與尖端研究」第一堂課在22日展開，由台北榮總副院長王署君、教學部主任楊盈盈介紹，而台聯大系統副校長蘇蘅、政治大學副校長陳樹衡、理學院長陸行、產學營運暨創新育成總中心營運長林士淵等特別出席。\\r\\n\\r\\n王署君說，骨科、神經醫學、腫瘤、內科、婦科、眼科、核醫、家醫、傳統醫學各領域都有安排具備豐富臨床經驗及高度教學熱誠的權威醫師擔任講座。教授內容涵蓋醫學創新及醫療保健，幫助學生了解醫療科技最新發展，包括基因研究、醫學影像、生物製藥等，及創新治療方法，如免疫療法、基因編輯、幹細胞治療，了解在不同疾病中的應用。\\r\\n\\r\\n台北榮總與政治大學為「各榮民總醫院及臺灣聯合大學系統合作研究計畫」成員，為共同推動醫界及學界的連結，建立和諧互惠的關係，於去年7月26日簽署合作協議，在智慧醫療、醫學倫理、教學研究及產業發展進行跨域合作，進行密切交流，共創實質互惠。\\r\\n\\r\\n\\r\\n\\r\\n\\r\\n\\r\\n\\r\\n\\r\\n\\r\\n', 'url': 'https://udn.com/news/story/6928/7787629?from=udn-referralnews_ch2artbottom'}\n",
            "2024-03-01 08:13:46 [scrapy.core.engine] DEBUG: Crawled (200) <GET https://udn.com/news/story/7321/7782246?from=udn-referralnews_ch2artbottom> (referer: https://udn.com/news/story/6656/7801639?from=udn-relatednews_ch2)\n",
            "2024-03-01 08:13:46 [scrapy.core.scraper] DEBUG: Scraped from <200 https://udn.com/news/story/7321/7782246?from=udn-referralnews_ch2artbottom>\n",
            "{'title': '徐千晴酸鄭運鵬徵才「猶如詐騙集團」 逆轉敗訴須賠15萬元', 'content': '\\r\\n前立委不滿前發言人、新竹市政府前發言人在臉書指他的徵才廣告不透露聯絡人、地址、員工人數等，猶如「」讓人卻步，鄭提告求償60萬元，並要求徐女在臉書刊登判決要旨，台北地方法院判徐女免賠。鄭上訴，台灣高等法院今改判徐女賠償15萬元。\\r\\n\\r\\n民眾黨主席柯文哲曾稱低薪是教育出問題，之後鄭運鵬在臉書PO出民眾黨以基本工資2萬6400元徵黨工，酸「驗證柯文哲香蕉只能請猴子的理論」，隨後民眾黨前發言人徐千晴也在臉書上反擊。\\r\\n\\r\\n徐千晴截圖人力銀行徵才頁面，發文指「反觀鄭委員的徵才廣告，聯絡人、電話、地址、員工人數都不透露，猶如詐騙集團讓人卻步」；鄭運鵬事後稱辦公室沒有徵才，認為徐千晴沒有查證，提民事訴訟，要求徐千晴賠償60萬元，並在臉書刊登判決要旨。\\r\\n\\r\\n徐千晴在一審時表示，自己看的徵才廣告沒有透露聯絡人、電話和員工，她是評論可受公評之事，言論對事不對人，無需浪費司法資源。她曾說，大學時曾上網買書卻被詐騙集團騙走3萬元，對於詐騙她有點情緒在，日後也特別注意相關事情，且她臉書因本案被洗版超過3千則，覺得自己才是「名譽受損的那一方」。\\r\\n\\r\\n鄭運鵬委任律師主張徐千晴貼文的截圖顯示「工作機會」為0，明知鄭運鵬辦公室沒有徵才，卻未合理查證，指鄭像「詐騙集團」等不實言論，已造成鄭的負面評價，侵害鄭的名譽權。徐女發文後，鄭馬上告知沒有徵才一事，但徐女至今仍不願意刪除文章。\\r\\n\\r\\n律師表示，鄭運鵬在意的是徐千晴是惡意為之，且徐女也須查證，只需打一通電話即可知道鄭沒有徵才，但對方卻不做，故意在臉書貼文。\\r\\n\\r\\n北院認為徐千晴「猶如詐騙集團讓人卻步」等話語並非陳述鄭運鵬就是詐騙集團，而是對頁面未提供聯絡方式等資訊事實發表個人意見，鄭是自願進入公眾領域的公眾人物，個人名譽相對於徐女的言論自由應退讓，就算鄭情感上不悅，也不是名譽權保障範圍，判鄭敗訴。\\r\\n\\r\\n鄭運鵬上訴，高院今廢棄一審判決，改判徐千晴賠15萬元。\\r\\n\\r\\n', 'url': 'https://udn.com/news/story/7321/7782246?from=udn-referralnews_ch2artbottom'}\n",
            "2024-03-01 08:13:52 [scrapy.core.engine] DEBUG: Crawled (200) <GET https://udn.com/news/story/123475/7801231?from=udn-relatednews_ch2> (referer: https://udn.com/news/story/123475/7802042?from=udn-relatednews_ch2)\n",
            "2024-03-01 08:13:52 [scrapy.core.scraper] DEBUG: Scraped from <200 https://udn.com/news/story/123475/7801231?from=udn-relatednews_ch2>\n",
            "{'title': None, 'content': '', 'url': 'https://udn.com/news/story/123475/7801231?from=udn-relatednews_ch2'}\n",
            "2024-03-01 08:13:55 [scrapy.core.engine] DEBUG: Crawled (200) <GET https://udn.com/news/story/7470/7801899?from=udn-relatednews_ch2> (referer: https://udn.com/news/story/7470/7802381?from=udn-relatednews_ch2)\n",
            "2024-03-01 08:13:55 [scrapy.core.scraper] DEBUG: Scraped from <200 https://udn.com/news/story/7470/7801899?from=udn-relatednews_ch2>\n",
            "{'title': '毛寶貝美容業興盛 飼主要注意常見4大消費糾紛', 'content': '\\r\\n\\r\\n不少人家中都有養毛孩，也會帶去美容洗澡，但常衍伸四種常見消費糾紛，包含金額、美容外觀、溝通不足甚至是貓狗美容後受傷死亡。新北市動保處提醒，建議飼主消費前，與業者簽訂美容合約，業者及消費者要充分溝通，也建議選擇有裝設的店家。\\r\\n\\r\\n動保處說明，第一種是美容結束後才發現雙方對於消費金額沒有共識；第二種是剪毛不符合期望、美容後的外觀不如預期；第三種是溝通不足，業者及飼主未對毛寶貝的個性、年紀、健康狀況做討論及了解，導致狗狗在美容過程中因過度緊張而受傷或咬傷美容師，或是使用到會過敏的洗毛精等。\\r\\n\\r\\n第四種也是最常見的狀況，毛寶貝在美容過程中健康狀況不佳而死亡，或是回家後發現無法正常行走、皮膚紅腫有傷口等。\\r\\n\\r\\n住新店的飼主高小姐表示，先前帶家中狗狗去寵物美容，回家後發現狗前腳不太能著地，也變得比較緊張，詢問店家也因為沒有監視器，無法證明受傷是在店內發生，最後只能作罷，所幸經過獸醫治療，狀況很快好轉，也決定去有裝設監視器的店家比較安心，還原業者進行美容的情形，釐清事故發生原因。\\r\\n\\r\\n動保處提醒，業者跟飼主在消費前的溝通，成為消費體驗關鍵，建議業者可以在進行美容前，告知消費金額及可能加價的相關服務，消費者也可以在美容前告知期望中的外觀、寵物個性及健康狀況，讓美容師可以針對毛寶貝的獨特性及個性需求有不同的服務，也建議選擇有裝設監視器的店家，當面臨消費糾紛時可以提供當下的影像紀錄，有助於了解事件發生的經過。\\r\\n\\r\\n', 'url': 'https://udn.com/news/story/7470/7801899?from=udn-relatednews_ch2'}\n",
            "2024-03-01 08:13:58 [scrapy.extensions.logstats] INFO: Crawled 63 pages (at 15 pages/min), scraped 62 items (at 15 items/min)\n",
            "2024-03-01 08:13:59 [scrapy.core.engine] DEBUG: Crawled (200) <GET https://udn.com/news/story/7470/7792287?from=udn-relatednews_ch2> (referer: https://udn.com/news/story/7470/7802381?from=udn-relatednews_ch2)\n",
            "2024-03-01 08:13:59 [scrapy.core.scraper] DEBUG: Scraped from <200 https://udn.com/news/story/7470/7792287?from=udn-relatednews_ch2>\n",
            "{'title': '一切都是為了喵皇！專家分享「養貓須妥協6件事」資深貓奴看過一定猛點頭', 'content': '養貓就像多了一個家人或室友，生活增加許多需要妥協的地方，你的一些妥協，都會讓貓過得更幸福快樂。\\r\\n跟我們分享你養貓後的妥協～\\r\\n\\r\\n\\r\\n\\r\\n\\r\\n\\r\\n\\r\\n\\r\\n\\r\\n\\r\\n\\r\\n\\r\\n', 'url': 'https://udn.com/news/story/7470/7792287?from=udn-relatednews_ch2'}\n",
            "2024-03-01 08:14:02 [scrapy.core.engine] DEBUG: Crawled (200) <GET https://udn.com/news/story/122218/7786677?from=udn-relatednews_ch2> (referer: https://udn.com/news/story/122218/7785179?from=udn-referralnews_ch2artbottom)\n",
            "2024-03-01 08:14:03 [scrapy.core.scraper] DEBUG: Scraped from <200 https://udn.com/news/story/122218/7786677?from=udn-relatednews_ch2>\n",
            "{'title': '陸外交部：反對美台官方往來', 'content': '美國眾議院美中戰略競爭特別委員會主席率團訪台，大陸昨天回應稱，中方反對美方與「台灣當局」進行任何形式的官方往來，堅決反對美方以任何方式、任何藉口干涉台灣事務，敦促妥善處理涉台問題，勿向發出錯誤信號。\\r\\n\\r\\n大陸外交部發言人昨天在例行記者會上表示，台灣是中國領土不可分割的一部分，敦促美方務必認清台灣問題的極度複雜性和敏感性，切實恪守一個中國原則和中美三個聯合公報規定，慎重妥善處理涉台問題，停止美台官方往來，停止向「台獨」分裂勢力發出任何「錯誤信號」。', 'url': 'https://udn.com/news/story/122218/7786677?from=udn-relatednews_ch2'}\n",
            "2024-03-01 08:14:06 [scrapy.core.engine] DEBUG: Crawled (200) <GET https://udn.com/news/story/9213/7801479?from=udn-referralnews_ch2artbottom> (referer: https://udn.com/news/story/6656/7802589?from=udn-relatednews_ch2)\n",
            "2024-03-01 08:14:06 [scrapy.core.scraper] DEBUG: Scraped from <200 https://udn.com/news/story/9213/7801479?from=udn-referralnews_ch2artbottom>\n",
            "{'title': '駁國台辦「冷血說」 管碧玲：你看看我的體溫', 'content': '爭議持續。海委會主委今天在立法院表示，這件事情應該要趕快落幕，至於過程的風風雨雨，會當作發展中，非常值得探討的案例、過程，事後會有很多專業研究，就這個案例來做深入探討，希望一切朝正向發展。\\r\\n\\r\\n針對金廈海域大陸漁船翻覆事件，大陸發言人朱鳳蓮公開點名管碧玲隱瞞真相、推諉卸責、謊話連篇，不僅對遇難者沒有一句道歉，還對善後工作不斷設置障礙，「極為冷血」\\r\\n\\r\\n立法院今天繼續進行行政院長陳建仁施政總質詢。管碧玲會前受訪表示，該案件相關資料都在檢察官手中，台灣的司法是值得信任的。媒體追問如何看待被國台辦批評極為冷血，管碧玲手摸記者的臉回應，「你看看我的體溫」。\\r\\n\\r\\n', 'url': 'https://udn.com/news/story/9213/7801479?from=udn-referralnews_ch2artbottom'}\n",
            "2024-03-01 08:14:10 [scrapy.core.engine] DEBUG: Crawled (200) <GET https://udn.com/news/story/122218/7787849?from=udn-relatednews_ch2> (referer: https://udn.com/news/story/122218/7785179?from=udn-referralnews_ch2artbottom)\n",
            "2024-03-01 08:14:10 [scrapy.core.scraper] DEBUG: Scraped from <200 https://udn.com/news/story/122218/7787849?from=udn-relatednews_ch2>\n",
            "{'title': '蓋拉格提早結束訪台行程 AIT：眾議員出訪印太一環', 'content': '\\r\\n美國眾議院「美國與中國共產黨戰略競爭」特別委員會主席今天結束訪台行程，比原訂時程提早1天。今天表示，訪問行程為眾出訪印太地區的一環，訪團與蔡總統等人及公民社會成員見面，得以就美台之間至關重要的議題交換意見。\\r\\n（AIT）今天下午發布新聞稿表示，美國聯邦眾議院美中戰略競爭特別委員會主席蓋拉格（Mike Gallagher）22日至23日率團訪問台灣，此訪問行程為眾議員出訪印太地區的一環。\\r\\nAIT指出，訪團成員包括該委員會首席議員克利什納穆希（Raja Krishnamoorthi，另譯：克利胥納莫提）、聯邦眾議員穆勒納爾（John Moolenaar，另譯：穆理納）、聯邦眾議員摩爾頓（Seth Moulton，另譯：莫頓）及聯邦眾議員強生（Dusty Johnson，另譯：強森）等人。\\r\\n至於訪台期間行程，AIT表示，訪團與總統蔡英文、副總統賴清德、國安會秘書長顧立雄、外交部長吳釗燮，以及公民社會成員、私部門代表會面，透過這些會議，訪團得以與台灣相關人士，就美國與台灣之間至關重要的廣泛議題交換意見。\\r\\n訪團原訂22日至24日率團訪台，但根據AIT稍早發布新聞稿指出，訪團於今天結束訪台行程。\\r\\n蓋拉格以對北京採取鷹派立場出名，蓋拉格昨天在台北賓館參與媒體見面會，並接受台灣與外國媒體訪問。對於中國不斷在太平洋擴張勢力、企圖動搖台灣友邦邦誼，蓋拉格表示，美台應與夥伴建立經濟協調機制，抵制經濟脅迫行為，並不斷向敵人發出信號，「我們不會在他們追求侵略的路上袖手旁觀」。', 'url': 'https://udn.com/news/story/122218/7787849?from=udn-relatednews_ch2'}\n",
            "2024-03-01 08:14:12 [scrapy.core.engine] DEBUG: Crawled (200) <GET https://udn.com/news/story/122218/7788053?from=udn-relatednews_ch2> (referer: https://udn.com/news/story/122218/7785179?from=udn-referralnews_ch2artbottom)\n",
            "2024-03-01 08:14:12 [scrapy.core.scraper] DEBUG: Scraped from <200 https://udn.com/news/story/122218/7788053?from=udn-relatednews_ch2>\n",
            "{'title': 'AIT：蓋拉格代表團結束訪台行程 24日離台', 'content': '美國聯邦眾議院「美國與中國共產黨戰略競爭特別委員會」主席蓋拉格（Mike Gallagher）昨率跨黨派抵台訪問，（）今發出新聞稿表示，代表團有機會與台灣相關人士，就美台間重要議題交換意見，今已結束訪台行程。依照AIT昨發出的新聞稿，蓋拉格等人將於24日離台。\\r\\n\\r\\nAIT表示，蓋拉格率領的代表團於2月22日至23日率團訪問台灣。此訪問行程為眾議員出訪印太地區的一環。代表團同行議員包括資深議員拉札．克里什納莫迪（Raja Krishnamoorthi）、眾議員約翰．穆勒納爾（John Moolenaar）、眾議員達斯提．強森（Dusty Johnson）以及眾議員賽斯．莫頓（Seth Moulton）。\\r\\n\\r\\nAIT表示，代表團訪台期間，與總統蔡英文、副總統賴清德、國安會秘書長顧立雄、外交部長吳釗燮、公民社會成員，以及私部門代表會面。透過這些會議，代表團得以有機會與台灣相關人士，就美國與台灣之間至關重要的廣泛議題交換意見。', 'url': 'https://udn.com/news/story/122218/7788053?from=udn-relatednews_ch2'}\n",
            "2024-03-01 08:14:16 [scrapy.core.engine] DEBUG: Crawled (200) <GET https://udn.com/news/story/6999/7800181> (referer: https://udn.com/news/story/6999/7800051?from=udn-referralnews_ch2artbottom)\n",
            "2024-03-01 08:14:16 [scrapy.core.scraper] DEBUG: Scraped from <200 https://udn.com/news/story/6999/7800181>\n",
            "{'title': 'MLB／大谷翔平曾訂5年禁慾之約 日媒曝父母不想兒媳2職業', 'content': '\\r\\n今天宣布結婚，只說對象是日本女性，更讓許多粉絲好奇。大谷曾在節目上說很欣賞「天才童星」蘆田愛菜，但他強調自己不是「蘿莉控」。日媒則爆料，大谷翔平的父母曾聲稱，大谷不能娶女演員或女主播，運動員是最合適人選。\\r\\n\\r\\n大谷翔平總是專注在棒球事業，與娛樂圈很少來往，過去有日媒爆料他的緋聞對象，最終都沒有下文，包含電視台主播久慈曉子、加藤綾子、市野瀬瞳；女模朝比奈彩及中条Ayumi等人。\\r\\n\\r\\n\\r\\n2016年大谷翔平曾在接受訪問時，被問到喜歡的女性類型，他的答案竟是當時才12歲的童星蘆田愛菜，儘管大谷事後解釋自己不是「蘿莉控」，是因為一直被問感情覺得煩，才給出這答案，不過每當大谷有緋聞出現時，蘆田愛菜仍總是被提及，如今她已經19歲，符合日本法定結婚年齡。\\r\\n\\r\\n日媒《週刊女性》則指出，大谷翔平個性十分低調，時間全花在練球，不愛社交且不碰女色。甚至有傳聞，大谷翔平和父親訂下5年禁慾之約，全心投入在棒球。報導分析，身為大谷翔平妻子要照顧運動員身體和心理健康，還要有英文與社交能力，才能幫助大谷在大聯盟更順利。\\r\\n\\r\\n報導還提到優生學，大谷父母也希望兒子另一半是運動員，文中寫道，「世界一流運動員的父母通常也是運動選手，例如大谷的父親是棒球員、媽媽是羽球員。」\\r\\n\\r\\n編輯推薦\\r\\n\\r\\n', 'url': 'https://udn.com/news/story/6999/7800181'}\n",
            "2024-03-01 08:14:19 [scrapy.core.engine] DEBUG: Crawled (200) <GET https://udn.com/news/story/123006/7801376?from=udn-relatednews_ch2> (referer: https://udn.com/news/story/123006/7798779?from=udn-catehotnews_ch2&from=udn-referralnews_ch2artbottom)\n",
            "2024-03-01 08:14:19 [scrapy.core.scraper] DEBUG: Scraped from <200 https://udn.com/news/story/123006/7801376?from=udn-relatednews_ch2>\n",
            "{'title': '00919「唯二」今年贏大盤的高股息ETF…穩住年化10％招牌！ 專家：更實際行動做到2件事', 'content': '\\r\\n\\r\\n\\r\\n\\r\\n雖然最近都是月配組00939 00940的新聞，但「季配組」也不甘示弱，群益00919近期股價已經來到24塊頻創新高（貢獻最多的是瑞昱、瑞鼎、聯詠和聯發科）。截至今（29）天收在24.03元，二個月績效7.95%是目前高股息家族的績效冠軍，2月名次前進11名，是截至目前「唯二」超過大盤的高股息ETF（另一檔是927）\\r\\n\\r\\n而根據剛剛收盤後的最新公告，00919三月配息大幅調高到0.61元，以今（29）天的收盤價換算單季股利率0.61/24.03=2.53%，目前一共四次季配(0.54+0.54+0.55+0.61)合計2.24元\\r\\n\\r\\n粗暴年化 0.61x4/24.03=10.15%\\r\\n在股價創新高的情況下同步調高配息，穩住了年化10％的招牌，00919用實際行動做到二件事：\\r\\n一月平準金新制剛宣布時，市場上各種恐慌式預言到處瀰漫，像是「高股息配息將縮水」「配10%將成為歷史」「配息縮水成定局」...但有發生嗎？（至少00919沒有）。這也是為什麼我們告訴大家要「平常心看結果」，遠離危言聳聽的農場標題，心情才不會受影響、判斷才不會被干擾。\\r\\n\\r\\n而在台積電2月繼續上漲9.87%的帶動下，目前績效十名全部都是高含積的ETF，累積到2月的報酬冠亞軍，仍然是00894中信小資高價和。單月表現最佳的是兆豐00690，不只是單月績效冠軍(+11.37%)，也是2月份排名上升最多的ETF(+32名)，從後段班直接跳前三。\\r\\n絕大部分的高股息包含0056 00878 00929這三千金，目前都在紅線以下，三月又有00939和00940二隻強檔新兵即將加入，後續會怎麼變化？高股息家族今年有機會繼續打敗大盤嗎？更多ETF的最新消息，敬請期待3月號國民ETF人氣榜。\\r\\n\\r\\n\\r\\n\\r\\n◎本文內容已獲  授權，；未經同意禁止取用轉載。', 'url': 'https://udn.com/news/story/123006/7801376?from=udn-relatednews_ch2'}\n",
            "2024-03-01 08:14:23 [scrapy.core.engine] DEBUG: Crawled (200) <GET https://udn.com/news/story/6656/7797649?from=udn-referralnews_ch2artbottom> (referer: https://udn.com/news/story/7266/7798506?from=udn-relatednews_ch2)\n",
            "2024-03-01 08:14:23 [scrapy.core.scraper] DEBUG: Scraped from <200 https://udn.com/news/story/6656/7797649?from=udn-referralnews_ch2artbottom>\n",
            "{'title': '陸配入籍提早排擠健保資源？ 專家點2關鍵：影響不大', 'content': '國民黨立院黨團把縮短現行6年的入籍時間縮短至4年列為優先法案，引發部分不滿，稱縮短入籍時間會導致資源排擠、影響醫師點值收入，並在網路上發起連署，已有逾2萬人響應。不過，醫管專家指出，陸配人數不多、年紀較輕，以醫療利用率來看，對健保資源不會造成嚴重影響或損失。\\r\\n\\r\\n台灣醫務管理學會理事長、新光醫院副院長洪子仁表示，發動連署是公民權益，陸配入籍時間由6年縮短至4年，是綜合性考量，並非只與醫療有關，自己不便就其他面向評論，但單就醫療資源利用率來說，影響因子包括醫療服務使用人數及使用者年齡，以此觀點來看，陸配入籍時間縮短，並不會對健保資源造成太多影響。\\r\\n\\r\\n洪子仁指出，陸配人數占台灣總體人口數比率不高，且與陸生相同，屬於人數較低族群，而在健保投保對象中，高頻率使用健保資源者多是年紀大的長輩，綜合考量納保人口數、年齡分布，以科學方法進行論證，就會知道入籍時間提早兩年，不會對健保資源造成重大損失。\\r\\n\\r\\n連署書中提到，陸配依親家屬常在診間要求多做非必要檢驗檢查，稱此舉會造成醫療資源排擠。洪子仁表示，醫療機構對陸配依親家屬、本國人士一視同仁，依照醫療指引決定是否開立健保檢驗檢查，不符適應症者就會要求患者自費辦理檢查手續，若醫師開立不符指引的檢驗，也會被健保踢退，「這是就醫行為問題，與患者身份無涉，不該混為一談。」', 'url': 'https://udn.com/news/story/6656/7797649?from=udn-referralnews_ch2artbottom'}\n",
            "2024-03-01 08:14:27 [scrapy.core.engine] DEBUG: Crawled (200) <GET https://udn.com/news/story/123945/7801249?from=udn-referralnews_ch2artbottom> (referer: https://udn.com/news/story/123945/7801420?from=udn-referralnews_ch2artbottom)\n",
            "2024-03-01 08:14:27 [scrapy.core.scraper] DEBUG: Scraped from <200 https://udn.com/news/story/123945/7801249?from=udn-referralnews_ch2artbottom>\n",
            "{'title': '楊文科天坑案涉貪罪嫌重大 議員痛批：人命不值錢？', 'content': '縣長傳出涉入豐采520竹北天坑案，新竹地檢署深夜證實楊文科涉嫌重大，訊後諭知50萬元交保候傳。新竹縣議員歐陽霆痛批楊文科「新竹縣民人命不值錢？工安品質恐淪為縣市首長漫天喊價的髒錢籌碼」。\\r\\n\\r\\n新竹縣政府回應，縣長楊文科與縣府團隊凡事依法行政、秉公處理；縣長楊文科尊重也全力配合調查，強調絕無任何不法，目前檢調仍偵查中，期望透過公正嚴謹的司法程序，釐清事實、還其清白。\\r\\n\\r\\n不過豐邑建設旗下豐采520建案引發的竹北天坑事件傳出弊案已非頭一回，去年前新竹縣府工務處長江良淵即遭搜索，更傳出住處被搜出大批現鈔，金額達上千萬元，如今再傳縣長楊文科辦公室遭檢調搜索，是否新竹縣府涉嫌收賄放水使照、建照核發，檢調仍在持續釐清偵辦。\\r\\n\\r\\n新竹縣議員歐陽霆表示，去年就曾質疑楊文科收受建商不法利益，更在競選期間「免費使用」豐邑建設的預售屋展示中心作為競選總部，早質疑楊文科與建商之間有不當對價關係，如今傳出楊文科疑似涉貪遭調查，更令人懷疑楊文科是否不顧縣民居住安全。\\r\\n\\r\\n歐陽霆說，竹北天坑塌陷多次，縣府卻一再放行讓建商復工，但根據申報資料就能發現，楊文科收受豐邑建設87萬7420元政治獻金。他說「新竹縣市的首長雙雙涉貪面臨司法調查，大新竹共好會不會成為大新竹共貪？」', 'url': 'https://udn.com/news/story/123945/7801249?from=udn-referralnews_ch2artbottom'}\n",
            "2024-03-01 08:14:31 [scrapy.core.engine] DEBUG: Crawled (200) <GET https://udn.com/news/story/6885/7714529?from=udn-referralnews_ch2artbottom> (referer: https://udn.com/news/story/6928/7798826?from=udn-relatednews_ch2)\n",
            "2024-03-01 08:14:31 [scrapy.core.scraper] DEBUG: Scraped from <200 https://udn.com/news/story/6885/7714529?from=udn-referralnews_ch2artbottom>\n",
            "{'title': '選後陸生來台 學界籲先釋善意', 'content': '日前傳出陸方於總統大選前欲暫緩陸生交換、研修生來台，隨著總統大選落幕，教育界人士表示，推測中國大陸短期研修生來台應不會全面暫停，但也呼籲我方應釋出善意，如大陸各類人士來台一覽，納入，讓隨團不用再循專案辦理；重啟擬定學位生簡章，才有利後續短期研修，甚至是恢復學位生的交流。\\r\\n\\r\\n世新大學副校長李功勤表示，選後大陸姊妹校並未表示欲取消研修、交換生來台，日前和校友及台商交換意見，多認為國台辦選後發文，認為賴蕭配當選不代表台灣主流民意，因此推估陸方不會斷然採取強硬措施，短時間內短期研修生、交換生有望持續辦理。\\r\\n\\r\\n文化大學大傳系系主任王翔郁則形容，陸方對執政黨形同「留校察看」，陸方踩著九二共識的底線，若新政府不承認九二共識，則任何事都無法期待，未來就看新政府如何表態。以現階段而言，部分省分有望繼續開放交換生、研修生來台，但也確實有一些省取消辦理，學位生則是想都不用想，整體而言，評估未來情勢應不會比現在好。\\r\\n\\r\\n升學輔導平台大學問執行長魏佳卉則認為，近期不少大陸學校因隨團教師不能來，而取消研修生赴台交流。主因在於，開放大陸人士來台一覽中雖包括大專校院學位生、研修生，但不包括教師或大學教授，因此隨團教師必須辦理專案申請。\\r\\n\\r\\n魏佳卉指出，儘管陸委會稱根據移民署資料，去年已有四校、九名隨隊教師來台，但台灣大專校院一年這麼多研修和交流團，僅九名隨隊教師通過專案審核，實則非常少，相信更多是審核都未過。\\r\\n\\r\\n魏佳卉認為，若執政黨想和陸方對等交流，應將大陸各類人士來台一覽中納入大學教授，讓隨團教師不用再辦理專案來台，簡化程序；再者，台灣從二○二○年起就未擬定陸生學位生招生簡章，也建議恢復制定簡章、開出名額，先釋出善意。\\r\\n\\r\\n不過陸生聯招會總幹事余兆棠表示，有學生才有訂簡章的必要，「否則程序反向」。大政策不變，做法即不變，陸聯招不可能向任何一方政府施壓，僅能配合辦理。\\r\\n\\r\\n\\r\\n\\r\\n\\r\\n\\r\\n\\r\\n\\r\\n\\r\\n\\r\\n\\r\\n\\r\\n\\r\\n', 'url': 'https://udn.com/news/story/6885/7714529?from=udn-referralnews_ch2artbottom'}\n",
            "2024-03-01 08:14:35 [scrapy.core.engine] DEBUG: Crawled (200) <GET https://udn.com/news/story/120912/7702303?from=udn-referralnews_ch2artbottom> (referer: https://udn.com/news/story/6928/7798826?from=udn-relatednews_ch2)\n",
            "2024-03-01 08:14:35 [scrapy.core.scraper] DEBUG: Scraped from <200 https://udn.com/news/story/120912/7702303?from=udn-referralnews_ch2artbottom>\n",
            "{'title': '來台後修養提升了！交換生大讚台人6習慣 眾人見1點全搖頭', 'content': '日前有一名大陸交換生分享對台灣人的6項觀察，發現台灣百姓幾乎都給人一種「謙恭有禮」的印象，雖然已經自認很有禮貌，但在來到台灣後，覺得自己的修養似乎又提升了。\\r\\n\\r\\n一名陸生在小紅書，他指出，儘管自認為很有公德心，也挺重視禮貌，但是來了台灣之後，才發現周圍的人幾乎都很謙遜有禮，並列舉他觀察到的6個現象，直呼「來到台灣後，個人修養似乎也得到了提升」。\\r\\n\\r\\n\\r\\n2、不管是老師還是學生都會將「請、謝謝、抱歉」、「不好意思」、「麻煩了」等敬語掛在嘴邊。\\r\\n3、雖然很多路口沒有紅綠燈，但是路上行駛的汽機車會禮讓行人。\\r\\n4、平時拿東西都是雙手接遞，習慣性身體前傾、往下彎以表尊重。\\r\\n5、通過狹窄空間時，會自動停下來等對方通過再自行通過。\\r\\n6、大家都很友善，待人接物幾乎都笑笑的，習慣性冷著臉的人都會不自覺被感染。\\r\\n\\r\\n貼文一出，不少網友見了第3點，幾乎一面倒表示不同意，「禮讓行人讓我有夠懷疑，不知道行人地獄是形容哪裡嗎？」、「第3點不會發生在台灣，沒看過行人地獄？」、「我怎麼沒被禮讓過？我可能在假的台灣」、「我昨天差點被車撞」、「3如果住都市最近真的改善很多，但越鄉下的地方越感受不到」。不過也有人緩頰，「去年嚴格實行車輛禮讓行人的執法後，禮讓行人的情況好非常多」、「第3點確實有待改進，但近幾個月新政策上路後，明顯改善很多」。\\r\\n\\r\\n而除了禮讓行人的部分，其餘5點大多都得到網友的認同，「搭電梯真的常常當電梯小姐／先生」、「習慣成自然，看到滿手東西的人，還會順便問要到幾樓」、「很人性化」、「如果不講請、謝謝、對不起，有些人可是會生氣的」。\\r\\n\\r\\n', 'url': 'https://udn.com/news/story/120912/7702303?from=udn-referralnews_ch2artbottom'}\n",
            "2024-03-01 08:14:39 [scrapy.core.engine] DEBUG: Crawled (200) <GET https://udn.com/news/story/9213/7790820?from=udn-referralnews_ch2artbottom> (referer: https://udn.com/news/story/9213/7801163?from=udn-referralnews_ch2artbottom)\n",
            "2024-03-01 08:14:39 [scrapy.core.scraper] DEBUG: Scraped from <200 https://udn.com/news/story/9213/7790820?from=udn-referralnews_ch2artbottom>\n",
            "{'title': '金門海域爭議延燒 夏立言明將率團赴陸', 'content': '國民黨副主席將率團前往中國大陸訪問，國民黨表示，這是延續去年數次訪陸的目標和成果，關心在大陸工作、求學和經商國人，向他們拜晚年。訪陸期間如有機會，夏立言將在適當場合表達對近期金門海域不幸意外事件的哀悼之意。\\r\\n\\r\\n國民黨指出，這次訪陸在去年底開始規畫安排，曾向台商、台胞承諾春節後將赴陸拜年。未規畫與大陸官員見面，但客隨主便，也不排斥；若有機會與大陸官員會面，夏立言將會請對方轉達，向近期發生在金門海域意外事件的罹難者家屬，表達哀悼慰問之意，同時也向對方表達，多數台灣民眾不樂見持續惡化，對此事感同身受，希望能夠透過各種管道，盡快公布事實真相，兩岸能夠維持過去相互尊重的默契，避免衝突或類似意外再次發生。\\r\\n\\r\\n國民黨表示，金門海域不幸的意外事件，凸顯兩岸缺乏溝通對話，一旦遇到突發意外，恐會升高危險情勢。國際上許多國家即使和大陸存在歧見，高層還是密集對話，就是為了管控風險。正因當前兩岸關係緊張，才更應該積極對話。蔡英文總統宣稱持續尋求兩岸對話可能，卻拿不出具體作為。\\r\\n\\r\\n國民黨指出，不論在朝在野，國民黨始終堅定捍衛中華民國的民主法治，維護台灣社會的繁榮安定，致力於維繫兩岸關係和平穩定，這個立場和使命一直都沒有改變。身為最大在野黨，在當前台海情勢緊張，政府缺乏溝通協商管道的情況下，國民黨義無反顧，必須主動去關心台胞，和緩局勢，不會因為碰到意外事件，停止交流對話，這絕對是台灣全民和國際社會所樂見的。\\r\\n\\r\\n訪問團預計2月26日出發，七天行程到訪廈門、廣州、南昌、杭州、昆山、上海等台胞聚居城市。隨行人員包括大陸事務部主任林祖嘉、國家政策基金會資深顧問趙春山，以及黨部工作人員等。', 'url': 'https://udn.com/news/story/9213/7790820?from=udn-referralnews_ch2artbottom'}\n",
            "2024-03-01 08:14:43 [scrapy.core.engine] DEBUG: Crawled (200) <GET https://udn.com/news/story/7005/7797744?from=udn-referralnews_ch2artbottom> (referer: https://udn.com/news/story/123940/7801541?from=udn-referralnews_ch2artbottom)\n",
            "2024-03-01 08:14:43 [scrapy.core.scraper] DEBUG: Scraped from <200 https://udn.com/news/story/7005/7797744?from=udn-referralnews_ch2artbottom>\n",
            "{'title': '滑冰世青賽／陳建仁鼓勵中華小將 蔡玉鳳晚間登場\\u2028', 'content': '\\r\\n2024世界青少年錦標賽今天上午舉行開幕典禮，邀請到行政院院長陳建仁、國際滑冰總會代表蘇珊娜（Susanna Rahkamo）、中華民國滑冰協會理事長洪調進一同為賽事揭開序幕，而今天晚間我國小將蔡玉鳳也將在女子短曲賽事登場。\\r\\n\\r\\n這次代表國際滑冰總會出席開幕典禮的蘇珊娜，在致詞除了鼓勵選手在場上能有活躍表現，也感謝台北籌備委員會對本次賽事的付出，更肯定台北做為主辦城市的活躍風情，「台北充滿活力與現代魅力，體現傳統與創新的完美融合。」\\r\\n\\r\\n本次賽事有兩位中華小將蔡玉鳳、李宇翔，首次以地主隊身分出賽，行政院院長陳建仁出席開幕典禮特別介紹兩位選手，並期許中華小將拿出好表現，「希望他們都能拿出最佳的表現，留下最好的成績。」\\r\\n\\r\\n這也是我國繼2017年後，第二次舉辦世界青少年花式滑冰錦標賽，集結45個國家，共187位滑冰選手，在台北小巨蛋冰上爭鋒，項目包含青年男子組、青年女子組、青年雙人組及青年滑冰組，賽事28日起為期五天，在台北小巨蛋舉行。', 'url': 'https://udn.com/news/story/7005/7797744?from=udn-referralnews_ch2artbottom'}\n",
            "2024-03-01 08:14:46 [scrapy.core.engine] DEBUG: Crawled (200) <GET https://udn.com/news/story/6928/7787259?from=udn-relatednews_ch2> (referer: https://udn.com/news/story/6928/7787629?from=udn-referralnews_ch2artbottom)\n",
            "2024-03-01 08:14:46 [scrapy.core.scraper] DEBUG: Scraped from <200 https://udn.com/news/story/6928/7787259?from=udn-relatednews_ch2>\n",
            "{'title': '大一兒將學費花光打電話求助！母偷匯款 丈夫氣到喊離婚', 'content': '\\r\\n大專院校陸續開學，新一學期的學雜費也開始繳交，一位媽媽發文表示兒子大一該學著獨立了，於是將學費交給他繳交，未料他竟然將錢全部花光，得知後要兒子自己想辦法，令她相當不解「為什麼一定要對自己的孩子這麼嚴格，只因為孩子不是從他肚皮裡生出來的嗎？」\\r\\n\\r\\n這名媽媽在發文，提到由於信任兒子也認為大一了該學會獨立，於是將學費交給他繳費，沒想到到了繳費期限到期時，兒子打電話坦白把這學期的學費花光了，丈夫聽說後堅持不給錢，要兒子自己想辦法，則提議可以用借的，再慢慢從生活費裡扣。\\r\\n\\r\\n原PO表示雖然知道慈母多敗兒，但看著兒子哭著道歉，不忍心對他嚴格便偷偷匯錢給他，結果丈夫得知後竟說要和她離婚，她認為兒子從小就很乖沒出過什麼狀況，這次只是犯了一次錯難道不能原諒嗎？並直呼「為什麼一定要對自己的孩子這麼嚴格，只因為孩子不是從他肚皮裡生出來的嗎?」\\r\\n\\r\\n貼文曝光後，網友一片倒不認同原PO的做法「如果真的要溺愛成這樣，以後他啃老啃到你剩骨頭的時候，就別出來再po一文：『我的乖兒子怎麼變這樣』」、「你根本沒有真正了解你的孩子過，只知道一昧的放縱、寵溺，你的孩子今天會變成這樣，就是你造成的」、「如果我是你，我也想離婚」、「要是我才不理他，叫他去打工自己跟學校申請分期付款！」、「如果是初犯，你老公是有點絕了，而你又寵過了，我支持婆婆的做法，分期付款償還」、「你偷偷匯錢給他，只教會的孩子一件事情：天塌下來都有媽媽擋著」。\\r\\n\\r\\n也有網友指出「所以花去哪裡了？」、「每個父母的都嘛要收拾殘局，但重點是要給小孩機會教育，所以小孩不講錢花到哪去，當然不能就答應支援啊」、「建議查清楚有沒有買遊戲點數或買機車、就怕被騙買違禁品，問清楚比較安心，不說就不給生活費」。\\r\\n\\r\\n\\r\\n\\r\\n\\r\\n\\r\\n\\r\\n\\r\\n\\r\\n', 'url': 'https://udn.com/news/story/6928/7787259?from=udn-relatednews_ch2'}\n",
            "2024-03-01 08:14:49 [scrapy.core.engine] DEBUG: Crawled (200) <GET https://udn.com/news/story/7321/7785414?from=udn-relatednews_ch2> (referer: https://udn.com/news/story/7321/7782246?from=udn-referralnews_ch2artbottom)\n",
            "2024-03-01 08:14:49 [scrapy.core.scraper] DEBUG: Scraped from <200 https://udn.com/news/story/7321/7785414?from=udn-relatednews_ch2>\n",
            "{'title': '誇張！17歲少年爆遭3員警「電擊刑求」 桃園分局長自請處分、所長調職', 'content': '一名17歲黃姓少年指控，18日晚間行經桃園警分局武陵派出所時，遇到3名員警將他攔下，稱他涉嫌擄人勒贖並帶進派出所，但過程中員警竟勒住少年脖子拖進偵訊室，持甩棍、印章鐵盒及電擊棒等刑求少年。對此警方回應，少年指控經調查屬實，已依法將涉案3名員警移送桃園地檢署指揮偵辦，所長調整非職務，分局長自請處分。\\r\\n\\r\\n國民黨桃園市議員今與少年召開記者會，指出少年18日晚間9點多走路行經武陵派出所，一輛巡邏車正準備停回派出所時，3名員警看到少年便上前要他進派出所，稱有人指控少年涉嫌擄人勒贖，然而過程中警方竟勒住少年脖子，將人拖進偵訊室，隨後持甩棍、印章鐵盒及電擊棒等物對他問話。\\r\\n\\r\\n詹江村說，少年被滯留在偵訊室7、8個小時，刑求時間長達1小時以上，過程中電擊棒一度電到沒電，另一名員警還拿新的電擊棒走來，對其他人說「你的武器來了」，其他員警都沒有制止，造成少年身上多處傷痕及瘀青，直到隔天凌晨5點多，警方將手機還給少年後便要他返家。事後詹江村請警方提供辦案過程秘錄器，警方卻說當時沒有開秘錄器，而少年則針對3名員警提告恐嚇及傷害等。\\r\\n\\r\\n對此詹江村痛批「我們是在kk園區嗎？全身都是被打痕跡，警察局怎麼會有這樣的風氣？其他人竟然坐視不管，眼睜睜看著3個員警對一個少年做不人道的刑求，匪夷所思，桃園的警察局變kk園區刑案現場？不可能沒有密錄器，沒有開密錄器就能推卸責任嗎？這是什麼年代啊？」\\r\\n\\r\\n黃姓少年表示，過去曾經有交通違規及深夜未歸紀錄，但絕對沒有與警方或任何人結怨，更否認涉嫌擄人勒贖，已於20日驗傷、21日赴新北三峽警分局湖山派出所，向涉刑求員警提告傷害、恐嚇、公然侮辱罪。\\r\\n\\r\\n對此桃園分局發聲明回應，有關本案當事人指控遭本分局員警傷害等案，經本分局調查屬實，已依法將涉案員警移送桃園地檢署指揮偵辦。本分局對違法員警從重懲處並追究主管責任，所長調整非主管職務，分局長自請處分，並對受害之當事人、家長及社會大眾深表歉意。\\r\\n\\r\\n桃園分局強調，本分局平日宣導教育員警值勤應恪遵法律規定，不得有逾越的行為，如有違法情事，秉持絕不護短、不姑息，必定嚴懲法辦。另同時加強員警教育，要求同仁執法務必遵守程序正義及依法行政。另桃園地檢署表示，桃園市政府警察局桃園分局已報請地檢署指揮，已指派檢察官分案調查中。\\r\\n\\r\\n編輯推薦\\r\\n\\r\\n', 'url': 'https://udn.com/news/story/7321/7785414?from=udn-relatednews_ch2'}\n",
            "2024-03-01 08:14:52 [scrapy.core.engine] DEBUG: Crawled (200) <GET https://udn.com/news/story/7321/7786585?from=udn-relatednews_ch2> (referer: https://udn.com/news/story/7321/7782246?from=udn-referralnews_ch2artbottom)\n",
            "2024-03-01 08:14:52 [scrapy.core.scraper] DEBUG: Scraped from <200 https://udn.com/news/story/7321/7786585?from=udn-relatednews_ch2>\n",
            "{'title': '桃警刑求少年遭送辦 所長拔官', 'content': '一名十七歲黃姓少年指控，本月十八日晚間行經桃園警分局派出所時，遇三名員警攔下，指他涉擄人勒贖案，因此被強勒脖子一路被拖進派出所，過程中還遭員警持甩棍、印章鐵盒及電擊棒刑求。桃園分局指出，涉案三員警已移送桃園地檢署偵辦，所長調整非主管職務，分局長自請處分。\\r\\n\\r\\n據了解，警方並非無端將黃姓少年強拉到派出所，是該少年為轄區列管人口，前不久才捲入一起糾紛擄人案遭調查，十八日員警巧遇少年騎腳踏車行經派出所，故將少年帶回偵訊；熟料在檢視手機過程中，意外發現還有女子遭強拍下體的，員警大為震驚，立即追問被害人身分，但少年堅不吐實，員警擔心不雅照外流，情緒失控才執法過當。\\r\\n\\r\\n檢警質疑，少年為避免擄人案曝光，疑為求自保，找上退警蕭湘瀚透露被桃園警方刑求逼供一事，蕭男前晚陪同少年持驗傷單，跨轄到新北市三峽警分局報案，對涉案三名員警提告恐嚇及，三峽警方受理後移往桃園分局偵辦。\\r\\n\\r\\n桃園市議員昨召開記者會，指少年滯留在偵訊室七、八個小時，刑求時間長達一小時以上，過程中電擊棒一度電到沒電，另名員警還拿新的電擊棒走來，其他員警都沒有制止，造成少年身上多處傷痕及瘀青，直到隔天凌晨五點多，警方將手機還給少年後要他離去。\\r\\n\\r\\n詹江村指出，他請警方提供辦案過程秘錄器，警方卻說當時沒有開。桃園分局長吳明彥指出，本案當事人指控遭員警傷害，經調查屬實，已對違法員警從重懲處並追究主管責任，並對受害當事人、家長及社會大眾致歉。\\r\\n\\r\\n桃園地檢署指出，全案已指派調查中，至於少年手機中有女子被強拍裸照部分，因偵查不公開，無法透露細節。', 'url': 'https://udn.com/news/story/7321/7786585?from=udn-relatednews_ch2'}\n",
            "2024-03-01 08:14:55 [scrapy.core.engine] DEBUG: Crawled (200) <GET https://udn.com/news/story/7321/7779730?from=udn-referralnews_ch2artbottom> (referer: https://udn.com/news/story/7470/7801899?from=udn-relatednews_ch2)\n",
            "2024-03-01 08:14:55 [scrapy.core.scraper] DEBUG: Scraped from <200 https://udn.com/news/story/7321/7779730?from=udn-referralnews_ch2artbottom>\n",
            "{'title': '費鴻泰兒被控發限動罵人 美容千金、星二代提告求償50萬', 'content': '\\r\\n\\r\\n前立委三兒子費聿德，日前在IG發，截圖高中同學呂女照片，註記「BITE ME HOE 美容」等語，遭提告罪嫌，且民事求償50萬元。今費聿德出庭否認犯罪，HOE是語助詞，心情煩躁才會發限動，不想和她有瓜葛就刪掉了。\\r\\n\\r\\n費聿德2021年間在朋友間的群組，辱罵未在群組高中同學呂女「婊子、垃圾」，遭依妨害名譽3罪，判處拘役50天，可易科罰金。不料，費聿德再度挨告，呂女身分除了是美容千金，還是星二代，父母是資深影星夫妻呂耀華、顏鳳嬌，曾演出「星星知我心」，顏鳳嬌演出長大後的佩佩，紅極一時，夫妻最後棄影從商，轉換跑道從事美容業。\\r\\n\\r\\n檢方起訴指出，2022年4月8日，費聿德以先前截圖的呂女照片，發限時動態，註記「BITE ME HOE 美容千金 PLEASE WAITFOR IT」，由於HOE發音近似WHORE（婊子之意 ）認為涉犯公然侮辱罪嫌。\\r\\n\\r\\n費聿德辯稱，HOE對他來說是語助詞，不是婊子的意思，不知呂女為何這樣認為。辯護人稱，HOE 、WHORE是不同字，意思不同，費聿德所言不足夠成犯罪。\\r\\n\\r\\n費聿德今出庭否認犯罪，做無罪答辯。他供稱，限時動態內容，非人生攻擊，非涉及妨害名譽，沒有侮辱呂女，當時因呂女動用媒體找記者發不實新聞，造成他的困擾，心情煩躁才會發限動，6小時候起床，不想再和她有任何瓜葛，就索性刪除了。\\r\\n\\r\\n法官整理爭點，一「BITE ME HOE 美容千金 PLEASE WAITFOR IT」等文字，是否有貶損告訴人人格及社會評價；二，費有無公然侮辱犯意。\\r\\n\\r\\n告訴代理人庭沒稱，呂女有調解意願，費的IG有1千多名粉絲，希望費在IG上道歉，若不道歉，調解金要有誠意，已提民事損害賠償訴訟，求償50萬元。費的辯護人稱，可私下談和解。法官諭知，先保留3月14日下午4點庭期，全案候核辦。', 'url': 'https://udn.com/news/story/7321/7779730?from=udn-referralnews_ch2artbottom'}\n",
            "2024-03-01 08:14:58 [scrapy.extensions.logstats] INFO: Crawled 80 pages (at 17 pages/min), scraped 79 items (at 17 items/min)\n",
            "2024-03-01 08:14:59 [scrapy.core.engine] DEBUG: Crawled (200) <GET https://udn.com/news/story/7470/7799934?from=udn-relatednews_ch2> (referer: https://udn.com/news/story/7470/7792287?from=udn-relatednews_ch2)\n",
            "2024-03-01 08:15:00 [scrapy.core.scraper] DEBUG: Scraped from <200 https://udn.com/news/story/7470/7799934?from=udn-relatednews_ch2>\n",
            "{'title': '工作狂三花貓「用平板猛打摩斯密碼」！霸氣主管身姿曝光萬人想應徵當牠下屬', 'content': '\\r\\n\\r\\n聰明的貓咪下一步就要開始上班了！日本一名飼主最近在社群平台推特上分享了有趣的一幕，拍下家中愛貓迷上自己的平板電腦，有天居然全神貫注的打出了一連串連她也看不懂的神秘貓語，嚴肅又認真的背影超有「主管氣勢」，搞笑畫面在網路上瘋傳，吸引大批網友爭相報名想當這隻「工作狂貓貓」的下屬。\\r\\n\\r\\n從推特用戶@halzoo0上傳的照片中可以看到，有隻三花貓正在使用主人的平板電腦，湊近看發現螢幕上居然全是神秘的「貓語密碼」，而貓貓認真的背影看得出來相當專注，伸出的手手讓整個畫面看起來宛如卡通動畫片般可愛，而一旁的飼主見狀則在貼文中搞笑寫下「千萬不要打擾正在工作的貓咪！」有趣瞬間笑翻許多網友。\\r\\n\\r\\n\\r\\nこちらが全文です \\r\\n\\r\\n\\r\\n畫面被分享到網路上後，累積超過380萬次觀看次數，吸引大批網友湧入留言直呼「連貓咪都比我工作更認真」、「哈哈哈肥肥的臉頰真可愛」、「我好想要有這樣的主管」、「從背影看也感受到認真工作的氛圍了」、「我願意為了牠工作！」、「打擾貓咪工作後果不堪設想哦」、「後腦勺看起來相當嚴肅」、「這工作態度是一百分！」\\r\\n', 'url': 'https://udn.com/news/story/7470/7799934?from=udn-relatednews_ch2'}\n",
            "2024-03-01 08:15:02 [scrapy.core.engine] DEBUG: Crawled (200) <GET https://udn.com/news/story/122218/7786670?from=udn-relatednews_ch2> (referer: https://udn.com/news/story/122218/7786677?from=udn-relatednews_ch2)\n",
            "2024-03-01 08:15:02 [scrapy.core.scraper] DEBUG: Scraped from <200 https://udn.com/news/story/122218/7786670?from=udn-relatednews_ch2>\n",
            "{'title': '軍售延遲 美議員：思考在台製造武器', 'content': '聯邦眾議院美國與中國共產黨戰略競爭特別委員會主席率領跨黨派議員抵台訪問，針對美國案多深陷延遲交貨的問題，特別委員會民主黨首席議員克利什納穆希建議，美方應思考有哪些項目可在台灣共同生產，台灣可能是潛在的重要合作夥伴，以改善美國軍事生產進度落後、軍售延遲交貨的情況。\\r\\n\\r\\n對於中國不斷在太平洋擴張勢力、企圖動搖台灣友邦邦誼，蓋拉格表示，美台應與夥伴建立經濟協調機制，抵制經濟脅迫行為，並不斷向敵人發出信號，「我們不會在他們追求侵略的路上袖手旁觀」。\\r\\n\\r\\n蓋拉格昨率議員團訪台，外交部中午在台北賓館設宴招待，訪團則在午宴前與國內外新聞媒體見面，互動約半小時。\\r\\n\\r\\n媒體詢問美國對台軍售的延遲問題，克利什納穆希指出，美國軍事防衛產業正面臨非常大的壓力，最快的解決方法，就是讓這些生產軍事武器的產業能夠得到長期的承諾。以子彈生產為例，應該給予公司數年的訂單，而不是只有一年的訂單，公司才會做更長遠的投資。\\r\\n\\r\\n克利什納穆希提議，美國應該開始思考什麼樣的軍事武器，台灣可以協助製造。他認為，部分無須轉移過多智慧技術的武器，如一五五公釐榴彈砲，全世界都短缺，台灣有潛力成為美國製造一五五公釐榴彈砲的合作夥伴。\\r\\n\\r\\n蓋拉格表示，美國必須維持在印太地區軍事投資的順暢，代表美國對外軍售必須到位，讓美國授權台灣購買，還沒有交貨的軍事武器能夠順利交到台灣手上。目前美國對台軍售仍延遲交貨價值約二百億美元的武器，這些武器是嚇阻中國大陸、減少侵略行為最重要的部分。\\r\\n\\r\\n對美方如何應對中國大陸勢力持續於印太地區擴張，包括諾魯今年選擇外交轉向，與台灣斷交，同時我友邦吐瓦魯也傳出外交警訊，蓋拉格表示，美國需要與盟友和夥伴協調出一個經濟策略，以應付中國做出可能被視為「經濟戰爭」（economic warfare）的動作，而不是被動研擬對策。\\r\\n\\r\\n蓋拉格認為，美國應該與台灣，和位於印太地區的條約盟友做更多的討論和思考，成立一個盟友組織架構，以對抗中國大陸的經濟威脅。「這是我認為必須走的方向。」', 'url': 'https://udn.com/news/story/122218/7786670?from=udn-relatednews_ch2'}\n",
            "2024-03-01 08:15:07 [scrapy.core.engine] DEBUG: Crawled (200) <GET https://udn.com/news/story/9213/7797576?from=udn-referralnews_ch2artbottom> (referer: https://udn.com/news/story/9213/7801479?from=udn-referralnews_ch2artbottom)\n",
            "2024-03-01 08:15:07 [scrapy.core.scraper] DEBUG: Scraped from <200 https://udn.com/news/story/9213/7797576?from=udn-referralnews_ch2artbottom>\n",
            "{'title': '國台辦批管碧玲冷血 蘇紫雲：共黨放縱非法漁業才冷血', 'content': '大陸國台辦發言人朱鳳蓮針對大陸快艇金門翻覆二死事件，指責民進黨當局與海委會主委管碧玲。國防安全研究院國防戰略與資源研究所所長蘇紫雲今天表示，朱的說法令人遺憾，但真正冷血的，是放縱非法漁業肆虐各國的中國共產黨。面對中共海警船雲集金廈水域對我施壓，我方始終理直氣和，將較大排水量且配備火砲的安平級艦，派遣到當地水域，應是我方選項之一。\\r\\n\\r\\n蘇紫雲今天接受電台訪問，蘇紫雲說，中華民國海巡是依法依規在海上執法，中共帶風向不去指責加害者，反而來檢討受害者，邏輯上會掉入斯德哥爾摩症候群。我國態度不是軟弱，是理直氣和，在國際間彰顯中華民國依國際法與規則行使。\\r\\n\\r\\n他指出，此事中國大陸要負很大責任，因為對方放縱非法漁船在全世界海域肆虐，造成多國困擾，如菲律賓最近才指責中共漁民在南海用氰化物毒魚，美國海岸防衛隊也在吉里巴斯海面，攔截登檢中共非法漁船，甚至南美有媒體指責中共漁民造成南美海洋生態浩劫，多國聯合抗議大陸漁民濫捕。\\r\\n\\r\\n蘇紫雲說，若將此事套到金門不幸事件來看，可知中共三無漁船就像無照汽車在路上亂闖，警察要求對方停車受檢，對方逃逸碰撞，在事態中一定要支持海巡，責任歸屬上北京應負較大責任。\\r\\n\\r\\n海巡是否應派遣較大排水量，配備火砲的安平級艦到當地水域，蘇紫雲表示，他個人認為這應是我方一種選項之一。\\r\\n\\r\\n蘇紫雲說，國際人權組織調查中共非法漁業內幕時，發現大陸漁船涉虐漁工，加上中共強迫新疆維吾爾族人到山東漁業工廠工作，中共放縱漁業公司在各國海域違法作業，影響大陸人民本身工作權益，冷血的是中國共產黨。\\r\\n\\r\\n他表示，管碧玲的作法，對兩位過世的中共無照漁民保留人道關懷，海巡作事按國際規則行事，中華民國政府也早釋出善意，在金馬水域採禁限制水域，而非領海概念，維持基本安全距離，真正造成問題是中國共產黨。', 'url': 'https://udn.com/news/story/9213/7797576?from=udn-referralnews_ch2artbottom'}\n",
            "2024-03-01 08:15:10 [scrapy.core.engine] DEBUG: Crawled (200) <GET https://udn.com/news/story/6656/7786900?from=udn-referralnews_ch2artbottom> (referer: https://udn.com/news/story/122218/7787849?from=udn-relatednews_ch2)\n",
            "2024-03-01 08:15:10 [scrapy.core.scraper] DEBUG: Scraped from <200 https://udn.com/news/story/6656/7786900?from=udn-referralnews_ch2artbottom>\n",
            "{'title': '蓋拉格來台 郭正亮：希望韓國瑜能請他早點給190億軍售', 'content': '\\r\\n美國聯邦眾議院「美國與中國共產黨戰略競爭」特別委員會主席，率領跨黨派重量級議員抵台，同時，美國國防安全合作局（ＤＳＣＡ）在21日宣布，國務院批准售台先進戰術數據鏈系統升級計畫及相關設備，預估7500萬美元（約新台幣23億）。前立委郭正亮在節目中表示，希望立法院長有跟蓋拉格講，軍購190億美元可以早一點給我們。\\r\\n\\r\\n郭正亮昨(22)日在政論節目《》中表示，蓋拉格此行一派輕鬆，因為他即將在今年11月離開美國政界，且除了台灣，也將前往日本、韓國等國。郭正亮說：「我跟你保證他會去軍火業上班」、「他是世界的眾議員，前身是陸戰隊的情報官」。\\r\\n\\r\\n就這次的美台案，郭正亮說，不會關注美國賣給台灣什麼，但重點是「何時給？」；他並喊話韓國瑜，希望能跟蓋拉格提「軍購190億美元可以早一點給我們」，並指：「給人家拖欠，所以一直宣布軍購有什麼意義？」但郭正亮也表示，蓋拉格是真的有在幫台灣催軍購到貨時間，但蓋拉格基本上沒辦法代表美國行政部門給予台灣承諾。', 'url': 'https://udn.com/news/story/6656/7786900?from=udn-referralnews_ch2artbottom'}\n",
            "2024-03-01 08:15:13 [scrapy.core.engine] DEBUG: Crawled (200) <GET https://udn.com/news/story/10930/7787199?from=udn-referralnews_ch2artbottom> (referer: https://udn.com/news/story/122218/7787849?from=udn-relatednews_ch2)\n",
            "2024-03-01 08:15:13 [scrapy.core.scraper] DEBUG: Scraped from <200 https://udn.com/news/story/10930/7787199?from=udn-referralnews_ch2artbottom>\n",
            "{'title': '美議員盼台協助產製榴砲彈 陳建仁：樂觀看進一步合作', 'content': '眾議院「美國與中國共產黨戰略競爭」特別委員會主席22日率團抵台訪問，同行的眾議員主張台、美可共同生產155公釐榴砲彈。行政院長今表示，當然樂於看到跟友好的國家一起來強化我國的自主能力，政府很樂觀看待和美國在所有的武器的採購，還有武器的產製方面的進一步的合作。\\r\\n\\r\\n陳建仁表示，這一次蓋拉格率領重量級的國會議員來到台灣，重申美國國會兩黨對於台灣的高度的支持，政府很樂意看到這樣的情況。而美國也已經通過拜登政府對台的第13次案，所以各國對於台海的和平穩定都相當地重視，因為它關係了全球的繁榮跟和平。\\r\\n\\r\\n陳建仁說，我國也會透過美國的軍售以及國內的武器的國艦國造還有國機國造的努力，使得所有的自主防衛能力能夠加強。當然也樂於看到跟友好的國家一起來強化我們的自主能力，讓台海能夠更加穩定，世界更加地和平跟繁榮。\\r\\n\\r\\n【中央社 台北23日電】\\r\\n美國聯邦眾議院美中戰略競爭特別委員會主席蓋拉格等5名訪團成員訪台，有同行議員認為可在台共同生產155公釐砲彈，行政院長陳建仁今天對此表示，樂觀看待跟美國在武器採購及武器產製上進一步合作。\\r\\n立法院今天邀請陳建仁率同相關部會首長列席，提出有關民進黨政府執政8年台灣食安問題總檢討專案報告並備質詢。陳建仁會前接受媒體聯訪，對於蓋拉格（Mike Gallagher）訪團成員希望產製榴砲彈，國防部有無意願等議題，作出回應。\\r\\n陳建仁說，蓋拉格率領重量級的國會議員來台，重申美國國會2黨對於台灣的高度支持，「我們很樂意看到這樣的情況」，最近美國拜登政府宣布第13度對台軍售，各國對台海的和平穩定都很重視，因為這關係到全球的繁榮與和平。\\r\\n陳建仁表示，政府也會透過美國的軍售及國艦國造、國機國造的努力，加強台灣自主防衛能力，也樂於看到跟友好國家一起強化自主能力，讓台海更加穩定，也讓世界更加和平與繁榮，因此樂觀看待跟美國在所有的武器採購還有武器產製上，進一步合作。\\r\\n美國聯邦眾議院美中戰略競爭特別委員會主席蓋拉格等5名訪團成員22日展開訪台行程。該委員會首席議員克利什納穆希（Raja Krishnamoorthi，另譯：克利胥納莫提）說，或許美方應該思考，有哪些裝備項目可以在台灣共同生產，如此一來可降低智慧產權技術移轉的成本，也可滿足相關工業量能，例如各國短缺的155公釐砲彈等項目。\\r\\n', 'url': 'https://udn.com/news/story/10930/7787199?from=udn-referralnews_ch2artbottom'}\n",
            "2024-03-01 08:15:17 [scrapy.core.engine] DEBUG: Crawled (200) <GET https://udn.com/news/story/122218/7785218?from=udn-referralnews_ch2artbottom> (referer: https://udn.com/news/story/122218/7786677?from=udn-relatednews_ch2)\n",
            "2024-03-01 08:15:17 [scrapy.core.scraper] DEBUG: Scraped from <200 https://udn.com/news/story/122218/7785218?from=udn-referralnews_ch2artbottom>\n",
            "{'title': '美國軍售延遲交貨 美議員建議：部分武器可在台灣製造', 'content': '美方再度宣布要對台，不過美國軍售案多深陷延遲交貨的問題。對此，美國聯邦眾議院「美國與中國戰略競爭」特別委員會民主黨首席議員克利胥納莫提（Raja Krishnamoorthi, D-IL）建議，台灣可以協助製造部分武器，以改善美國軍事生產進度落後、軍售延遲交貨的情況，\\r\\n\\r\\n美國聯邦眾議院「美國與中國戰略競爭」特別委員會主席（Mike Gallagher, R-WI）今率領跨黨派重量級議員訪團來台，為中國特別委員會首度組團訪台，訪團成員包括克利胥納莫提、聯邦眾議員穆理納（John Moolenaar, R-MI）、聯邦眾議員莫頓（Seth Moulton, D-MA）及聯邦眾議員強森（Dusty Johnson, R-SD）等人。\\r\\n\\r\\n外交部今中午在台北賓館設宴款待蓋拉格訪問團，訪團也在午宴前與新聞媒體互動半小時。針對有媒體詢問，美國對台軍售的延遲問題，克利胥納莫提指出，美國軍事防衛產業正面臨非常大的壓力，最快的解決方法，就是讓這些生產軍事武器的產業能夠得到長期的承諾。\\r\\n\\r\\n他表示，以子彈生產為例，應該給予公司數年的訂單，而不是只有一年的訂單，這樣公司就會做更長遠的投資，來滿足長時間的軍事需求。\\r\\n\\r\\n克利胥納莫提也提議，美國應該開始思考什麼樣的軍事武器，台灣可以協助製造。他認為，部分無須轉移過多智慧技術的武器，如155公釐榴彈砲，正是全世界都短缺的，尤其在烏克蘭，台灣有潛力成為美國製造155公釐榴彈砲的合作夥伴。\\r\\n\\r\\n他也表示，還有很多有助於強化嚇阻（deterrence）的武器選項，能夠在當地製造，以降低世界武器供應鏈的壓力。\\r\\n\\r\\n蓋拉格則表示，他同意克利胥納莫提的說法，武器生產鏈應該要更長遠的規劃。他指出，有於美國軍售的管轄單位橫跨美國國務院，和國防部，在國會中給軍事委員會，和眾議院外交委員會管理，就會有管轄權的問題。\\r\\n\\r\\n他也以要販售給台灣的魚叉飛彈為例，他建議拿出原本將納入庫存的魚叉飛彈，做重新設定，交貨給台灣。', 'url': 'https://udn.com/news/story/122218/7785218?from=udn-referralnews_ch2artbottom'}\n",
            "2024-03-01 08:15:20 [scrapy.core.engine] DEBUG: Crawled (200) <GET https://udn.com/news/story/123006/7799869?from=udn-catehotnews_ch2&from=udn-referralnews_ch2artbottom> (referer: https://udn.com/news/story/123006/7801376?from=udn-relatednews_ch2)\n",
            "2024-03-01 08:15:20 [scrapy.core.scraper] DEBUG: Scraped from <200 https://udn.com/news/story/123006/7799869?from=udn-catehotnews_ch2&from=udn-referralnews_ch2artbottom>\n",
            "{'title': '00919宣布配息金額0.61元「再創新高」！ 年化配息率超過10％ 最後買進日為15號', 'content': '\\r\\n\\r\\n群益台灣精選高息（00919）即將在3月迎來第四次配息。據群益投信官網最新配息公告顯示，\\r\\n\\r\\n\\r\\n除息交易日：3月18日\\r\\n收益分配發放日：4月15日\\r\\n\\r\\n\\r\\n00919連續三次配息都能配出每股不低於0.54元的好水準，前兩次配息0.54，第三次竟配出超乎市場預期的0.55元，而這次更大加碼來到0.61元！\\r\\n\\r\\n依照群益投信官網公告，00919此次配息除日定在3月18日，最後買進日3月15日（16號及17號碰上六日股市未開盤）。', 'url': 'https://udn.com/news/story/123006/7799869?from=udn-catehotnews_ch2&from=udn-referralnews_ch2artbottom'}\n",
            "2024-03-01 08:15:24 [scrapy.core.engine] DEBUG: Crawled (200) <GET https://udn.com/news/story/6656/7797238?from=udn-referralnews_ch2artbottom> (referer: https://udn.com/news/story/6656/7797649?from=udn-referralnews_ch2artbottom)\n",
            "2024-03-01 08:15:24 [scrapy.core.scraper] DEBUG: Scraped from <200 https://udn.com/news/story/6656/7797238?from=udn-referralnews_ch2artbottom>\n",
            "{'title': '陸配縮入籍年限引醫憂拖健保 徐巧芯：應思改善醫療體系', 'content': '國民黨擬推取得身分證年限比照，6年改4年，遂引發醫師質疑恐排擠到醫療量能。對此，國民黨立委徐巧芯說，醫療量能有壓縮，應思考能否提供醫療體系更多協助，而非排斥陸配。\\r\\n\\r\\n有醫師提出連署，呼籲暫緩陸配入籍年限縮短。陸籍占台灣外籍配偶66.38%，相對其他非陸籍配偶，陸配是唯一可以申請年邁父母依親的外配，同時在探親期間就能來台就醫，數量龐大。有醫師宣稱，許多醫護人員都遇過有人帶著陸配的兩老到「急診」或其他科別門診，稱台灣健保不用錢又方便，相關事件非個案。\\r\\n\\r\\n今日，徐巧芯反問，針對外籍配偶是否也要比照限縮？不可能。不管是陸配、外配，來到中華民國成為一分子，是血脈相連，他們也有醫療需求，他們是國民，應是陸配、外配一致。醫療量能有所壓縮，應該思考醫療資源上，能否提供醫療體系更多預算、協助，讓醫療不會過於緊縮，而不是反過來排斥陸配。\\r\\n\\r\\n徐巧芯表示，優先提案表上是有的，她個人也支持，這事情討論相當多年，陸配也在爭取，陸配沒有成為國民，日常生活有些困難，希望比照外配，儘速通過。', 'url': 'https://udn.com/news/story/6656/7797238?from=udn-referralnews_ch2artbottom'}\n",
            "2024-03-01 08:15:26 [scrapy.core.engine] DEBUG: Crawled (200) <GET https://udn.com/news/story/123945/7801218?from=udn-referralnews_ch2artbottom> (referer: https://udn.com/news/story/123945/7801249?from=udn-referralnews_ch2artbottom)\n",
            "2024-03-01 08:15:26 [scrapy.core.scraper] DEBUG: Scraped from <200 https://udn.com/news/story/123945/7801218?from=udn-referralnews_ch2artbottom>\n",
            "{'title': '新竹縣長楊文科驚傳涉貪遭搜索 疑牽扯竹北天坑事件', 'content': '地檢署昨天大動作搜索新竹縣長辦公室，傳出楊文科遭控涉貪，捲入竹北某建案工程事件，對此檢方尚未證實，但強調一切調查皆會依法作為。新竹縣府尚未對外說明。\\r\\n\\r\\n新竹地檢署主任檢察官鄒茂瑜證實，檢方確實有搜查行動，不過對於涉及何相關人士及搜索地點，目前案件仍在偵辦中，無法對外說明。\\r\\n\\r\\n據了解，檢方會在昨天大動作搜查楊文科辦公室，係因牽涉去年竹北天坑案。新竹地檢署先前已收押前新竹縣府工務處長及廠商副總等多人，傳出涉及楊文科，因而由新竹地檢署指揮北機站偵辦。\\r\\n\\r\\n檢方去年9月搜索前新竹縣工務處長江良淵住處，搜出千萬現金，更傳出現金多到塞爆排水管、衣櫃等處，將他依涉嫌違反貪汙治罪條例等案件，一度裁定羈押禁見。', 'url': 'https://udn.com/news/story/123945/7801218?from=udn-referralnews_ch2artbottom'}\n",
            "2024-03-01 08:15:28 [scrapy.core.engine] DEBUG: Crawled (200) <GET https://udn.com/news/story/6885/7762199?from=udn-relatednews_ch2> (referer: https://udn.com/news/story/6885/7714529?from=udn-referralnews_ch2artbottom)\n",
            "2024-03-01 08:15:28 [scrapy.core.scraper] DEBUG: Scraped from <200 https://udn.com/news/story/6885/7762199?from=udn-relatednews_ch2>\n",
            "{'title': '整建5年 史博館2月21日開門迎客', 'content': '穿過三樓的常設展，經過唐三彩、國寶「獸形器座」與馬白水彩墨淋漓的「太魯閣之美」，以及藝術家帶領社區民眾創作的藝術多寶格「鑑古知今」。閉館整修五年的史博館昨揭牌開館，廿一日正式對公眾開放。\\r\\n\\r\\n對於因整建而關閉五年的史博館重新對外開放，八十四歲的「阿男師」莊武男顯得既興奮又感慨。一九六二年，當時「出師」未久的他，受邀為史博館大門繪上一對門神秦叔寶和尉遲恭。二○○六年，史博館再請莊武男重修門神，此次則是史博館第三度邀請「阿男師」參與門神。「阿男師」一甲子的彩繪生涯，幾乎跟史博館同長。\\r\\n\\r\\n史博館首任館長包遵彭，重視勝過自己，一晚竟夢見神明叮囑他保衛史博館。\\r\\n\\r\\n包館長雖是位天主教徒，還是決定在史博館畫上門神作為守護神。莊武男回憶，當時彩繪工錢一天五十元，他工作二個月竟收到四千六百元，可見史博館的重視。\\r\\n\\r\\n史博館主體建築創建於日治時代，一九五五年開館。館藏包括日本歸還台灣的文物、河南博物館遷徙來台的文物，以及開館後收藏的畫家作品，其中包括台灣前輩畫家、渡海來台的大師與台灣現當代畫家作品。\\r\\n\\r\\n即將正式營運的史博館共五層。一、二、四樓為特展空間。開館特展「筆墨豐碑—史博館藏之書畫重寶」精選作品二百餘組件，以「筆墨豐碑」為題，包括史博館修復後首次面世的林玉山作品「黃牛」、于右任晚年最重要作品「建館記」、張大千的潑墨大作「夏山雲瀑」與「深山古柏」。\\r\\n\\r\\n三樓為常設展，展出運台古物及戰後日本歸還文物最重要三件國寶「蟠龍方壺」、「獸形器座」、「金柄銅短劍」。還有馬白水寬一六五六公分的巨作「太魯閣之美」，此次長期聯展是該作繪製完成後首見。\\r\\n\\r\\n\\r\\n\\r\\n\\r\\n\\r\\n\\r\\n\\r\\n\\r\\n', 'url': 'https://udn.com/news/story/6885/7762199?from=udn-relatednews_ch2'}\n",
            "2024-03-01 08:15:32 [scrapy.core.engine] DEBUG: Crawled (200) <GET https://udn.com/news/story/120912/7799687?from=udn-catehotnews_ch2> (referer: https://udn.com/news/story/120912/7702303?from=udn-referralnews_ch2artbottom)\n",
            "2024-03-01 08:15:32 [scrapy.core.scraper] DEBUG: Scraped from <200 https://udn.com/news/story/120912/7799687?from=udn-catehotnews_ch2>\n",
            "{'title': '出國vs墾丁！全家三口預算8萬怎安排 網曝1地讚：6天花不到2萬', 'content': '\\r\\n出外旅遊放鬆，是不少人調適身心的方式。日前，有網友在表示，他們一家三口計畫在4月中安排6天的旅遊，預算共8萬，目前正猶豫著要選還是宿霧，引起網友熱烈討論。\\r\\n\\r\\n原PO以為題發文稱，全家三口預計在4月中安排出遊6天，上網查了宿霧的行程後，他估計一家三口來回機票約2.4萬元；5晚住宿花費約3.5萬元；其他跳島行及包車約1萬元，再加上餐費和雜支，旅費約8萬元左右。\\r\\n\\r\\n原PO表示，同樣是8萬元，在墾丁玩6天或許能住得更好，或能到某些秘境遊玩，對此他十分猶豫。\\r\\n\\r\\n貼文底下，部分網友建議原PO選宿霧，並表示平均一個人6天花不到2萬元，「之前去宿霧還有薄荷島6天5夜全包下來，才花1.5萬」、「宿霧飯店雙人大房一晚才1000元，房間很新」、「我們一家四口去宿霧、薄荷島6天5夜，所有開銷才9萬出頭而已，個人覺得十分划算」、「宿霧不用8萬吧」。\\r\\n\\r\\n但也有網友推薦墾丁，「墾丁，最頂的」、「去墾丁比較好」、「沒去過墾丁可以去看看」。更有不少人提供不同選項，「8萬何不去？」、「去日本啊」、「去沖繩」、「越南下龍灣」。\\r\\n\\r\\n', 'url': 'https://udn.com/news/story/120912/7799687?from=udn-catehotnews_ch2'}\n",
            "2024-03-01 08:15:36 [scrapy.core.engine] DEBUG: Crawled (200) <GET https://udn.com/news/story/9213/7795615?from=udn-relatednews_ch2> (referer: https://udn.com/news/story/9213/7790820?from=udn-referralnews_ch2artbottom)\n",
            "2024-03-01 08:15:36 [scrapy.core.scraper] DEBUG: Scraped from <200 https://udn.com/news/story/9213/7795615?from=udn-relatednews_ch2>\n",
            "{'title': '獨／最後一次協商？海巡署官員回金門 與陸方開會時間曝', 'content': '陸船翻覆釀2死案，與陸方代表團經過7天8次協商，始終未有共識，海巡署副署長許靜芝與艦隊分署長廖德成等多名長官，今天上午搭乘最早班機返台，引起各方揣測，是否談判「破局」了，根據本報掌握到的消息，許靜芝已搭機返回，預計17點在陸島飯店與陸方代表進行第9次協商。\\r\\n\\r\\n許靜芝等人與多位核心幹部今天一早8點多退房，隨即搭乘飛機返回台北，在退房時，飯店人員還關心的詢問事情都解決了嗎？海巡人員稱「事情解決了，但要保留點顏面」。\\r\\n\\r\\n但對於海巡署官員全數返回台北一事，陸方家屬毫不知情，上午還外出採買日用品與特產，得知海巡署官員全數撤離，讓他們很錯愕。\\r\\n\\r\\n由於海巡署未對狀況說明，此舉外界「談不下去？」「解決了？」各自解讀。對此，海巡署回應，雙方協商持續進行中，專案小組部分成員暫時返回台北開會，並無撤離。\\r\\n\\r\\n許靜芝在結束台北會議後，下午又再度搭飛機回金門繼續協商，據了解，這可能是兩方最後一次協商。\\r\\n\\r\\n據了解，由於海巡署與陸方家屬始終在「公開道歉、究責、返還大陸漁船」等事情沒有共識，雖然一談再談，但雙方的態度都很硬，堅持己見，毫無突破，始終回到原點；不少參與的海巡工作人員都覺得很無力，甚至覺得此事短期內，應該很難解決，可能要等待第二回合。', 'url': 'https://udn.com/news/story/9213/7795615?from=udn-relatednews_ch2'}\n",
            "2024-03-01 08:15:39 [scrapy.core.engine] DEBUG: Crawled (200) <GET https://udn.com/news/story/7005/7800869?from=udn-relatednews_ch2> (referer: https://udn.com/news/story/7005/7797744?from=udn-referralnews_ch2artbottom)\n",
            "2024-03-01 08:15:39 [scrapy.core.scraper] DEBUG: Scraped from <200 https://udn.com/news/story/7005/7800869?from=udn-relatednews_ch2>\n",
            "{'title': '拳擊／黃筱雯、陳念琴領軍 中華隊出征奧運世界區資格賽', 'content': '中華拳擊代表隊，今晚11點啟程飛往義大利，參加2024年巴黎奧運第一次世界區資格賽，全隊由與領銜，共2男3女5名選手，爭取通往巴黎的入場券。\\r\\n\\r\\n中華隊去年杭州已取得4席參賽資格，分別是女子57公斤級的林郁婷、60公斤級吳詩儀、男子63.5公斤級的賴主恩和71公斤級甘家葳。\\r\\n\\r\\n黃筱雯亞運止步8強、無緣奧運門票，2024年賽季開始後，1月赴越南移地訓練、比賽，2月又開拔到西班牙參加國際邀請賽，赴義大利前的最後備戰時刻則在母校蘭州國中訓練。\\r\\n\\r\\n黃筱雯教練劉宗泰指出，黃筱雯亞運沒能取得奧運資格有點失落，歷經一連串密集訓練後，就讓她在最熟悉且能很放鬆的情況下訓練，因她家就在學校對面，能減輕即將參加奧運資格賽的壓力。\\r\\n\\r\\n「只要讓筱雯過（資格賽）這一關，她信心會大幅提升，因為之前看隊友都拿到資格，自己卻沒拿到，心情受到點影響。」劉宗泰說。\\r\\n\\r\\n沒能在杭州摘下亞運門票，黃筱雯坦承心情有些失落，「畢竟第一次的機會就這樣溜掉，又要重新準備資格賽，壓力還是會有，但我抱持平常心，亞運就是太想拿到而失落感太重。」\\r\\n\\r\\n陳念琴雖在亞運女子66公斤級奪銅，但所屬量級須晉級金牌戰才能拿到奧運資格，她4強敗給地主選手楊柳無緣爭金，今年2月也曾赴西班牙參加國際邀請賽，並在70公斤級奪金。\\r\\n\\r\\n陳念琴的指導教練柯文明表示，國外移地訓練以強化戰術提升穩定性為主，主要假想敵都已確定奧運資格，只要注意好身體狀況，機會還是不小。\\r\\n\\r\\n除黃筱雯、陳念琴外，女子選手還有50公斤級的郭怡萱參賽，她從1月的國手選拔中脫穎而出，成德高中畢業，目前就讀清華大學，是陳念琴的小師妹。\\r\\n\\r\\n男子選手方面，51公斤級的亞運國手杜柏緯與曾在世錦賽擊敗香港職業金腰帶得主曹如星的李承威，參加男子57公斤級。\\r\\n\\r\\n第一次世界區資格賽，中華隊選手所參賽的量級，均取前4名獲得奧運資格，比賽城市位於布斯托阿西齊奧，當地時間3月3日展開首日賽程，中華隊由杜柏緯率先出戰，郭怡萱與黃筱雯以及李承威於3月4日出賽；若此次未能叩關奧運，5月底在泰國曼谷的第二次世界區資格賽是最後機會。', 'url': 'https://udn.com/news/story/7005/7800869?from=udn-relatednews_ch2'}\n",
            "2024-03-01 08:15:44 [scrapy.core.engine] DEBUG: Crawled (200) <GET https://udn.com/news/story/7321/7780365?from=udn-referralnews_ch2artbottom> (referer: https://udn.com/news/story/6928/7787259?from=udn-relatednews_ch2)\n",
            "2024-03-01 08:15:44 [scrapy.core.scraper] DEBUG: Scraped from <200 https://udn.com/news/story/7321/7780365?from=udn-referralnews_ch2artbottom>\n",
            "{'title': '婦做試管嬰兒冷凍胚胎未果 竟遭尪要脅離婚！丈夫、小三判賠50萬元', 'content': '做求子的婦人，遭7年的丈夫許男，無預警通知，且拿小三腹中的胎兒威脅，不告知離婚日期就去墮胎等，提告求償200萬元。士林地方法院認為，許男及小三侵害配偶權，應共同給付婦人50萬元。\\r\\n\\r\\n婦人主張，她和丈夫結婚7年，為符合夫家期待，動刀、抽血、吃藥，做試管嬰兒手術，2022年8月間，丈夫許男突然通知要離婚，且拒絕溝通，直到9月間發現小三的訊息，得知小三知道許男已婚後，竟繼續交往，同年11月間，許男稱小三懷孕，如不願意離婚就會墮胎，要脅要離婚等，許男及小三侵害配偶權，請求賠償200萬元。\\u2028\\r\\n\\r\\n許男主張，結婚後感情不睦甚久，早無夫妻感情，無侵害配偶權，縱認行為逾越一般男女交往成度，200萬元金額過高。小三則主張，懷孕是在當年9月底左右，但她10月才知許男已婚身分，無故意或過失侵權。 \\u2028\\r\\n\\r\\n婦產科醫師指出，一般是用妊娠週數減去兩周，就是可能受孕的時間。法官依小三在婦產科照射超音波時間推算，受孕日應在10月15日附近，而小三主張10月8日查看臉書發現許男結婚照片，才知已婚事實，受孕日應已知許男已婚身分。\\r\\n\\r\\n法官認定，許男與小三逾越朋友交情，不正常往來親密關係 ，超過配偶容忍範圍，考量，原告與許男結婚多年，未有子女，曾進行試管嬰兒手術，兩度動刀、多次抽血吃藥，冷凍保存胚胎，期許能符合男子及其家人期待等，判許男與小三侵權，應共同賠償50萬元慰撫金。可上訴。\\r\\n\\r\\n', 'url': 'https://udn.com/news/story/7321/7780365?from=udn-referralnews_ch2artbottom'}\n",
            "2024-03-01 08:15:46 [scrapy.core.engine] DEBUG: Crawled (200) <GET https://udn.com/news/story/7320/7784594?from=udn-referralnews_ch2artbottom> (referer: https://udn.com/news/story/7321/7785414?from=udn-relatednews_ch2)\n",
            "2024-03-01 08:15:46 [scrapy.core.scraper] DEBUG: Scraped from <200 https://udn.com/news/story/7320/7784594?from=udn-referralnews_ch2artbottom>\n",
            "{'title': '桃園物流公司起火 汽車零件燃燒濃煙漫天...消防人員灌救中', 'content': '平鎮南東路496號一間公司內，存放汽車零件且起火燃燒，濃煙漫天際，消防獲報後於上午9時38分抵達，現場為地上1層鐵皮屋，燃燒1樓倉庫內的大量紙箱及汽車零組件，燃燒面積待查，所幸無人員受傷受困，火勢於10時25分控制，消防人員持續灌救中。', 'url': 'https://udn.com/news/story/7320/7784594?from=udn-referralnews_ch2artbottom'}\n",
            "2024-03-01 08:15:50 [scrapy.core.engine] DEBUG: Crawled (200) <GET https://udn.com/news/story/7321/7798944?from=udn-relatednews_ch2> (referer: https://udn.com/news/story/7321/7786585?from=udn-relatednews_ch2)\n",
            "2024-03-01 08:15:50 [scrapy.core.scraper] DEBUG: Scraped from <200 https://udn.com/news/story/7321/7798944?from=udn-relatednews_ch2>\n",
            "{'title': '「神鬼女會計」不法溢領台北律師公會公款2912萬 北檢今起訴', 'content': '有界「神鬼女會計」稱號的台北律師公會前會計李雪琴，涉利用處理財務機會公款，4年間溢領2912萬2988元。台北地檢署今偵結，依涉犯詐欺取財、防制法等罪起訴李雪琴。\\r\\n\\r\\n李雪琴自1998年11月10日至2021年1月13日止，擔任台北律師公會的會計人員，負責處理該會提領特定業務款項、保管銀行存摺。\\r\\n\\r\\n起訴指出，李雪琴明知台北律師公會無資金撥調需求，卻利用職務之便填寫提款單，自2009年至2012年間，涉溢領共計2912萬2988元，侵占入己，遭台北律師公會提告。\\r\\n\\r\\n檢方清查銀行提款記錄，發現李雪琴多次未將款項匯入台北律師公會的任何金融帳戶，且無付款記錄，認定李雪琴溢領款項，涉犯刑法詐欺取財、洗錢防制法之洗錢罪，提起公訴。\\r\\n\\r\\n李雪琴已自2013年至2020年間，不法侵占台北律師公會公款6000餘萬元，遭檢方依涉嫌業務侵占罪起訴、追加起訴。台北地方法院依業務侵占罪判她4年徒刑。檢方上訴，台灣高等法院認為她犯案長達8年，改判7年徒刑，沒收5458萬犯罪所得。', 'url': 'https://udn.com/news/story/7321/7798944?from=udn-relatednews_ch2'}\n",
            "2024-03-01 08:15:52 [scrapy.core.engine] DEBUG: Crawled (200) <GET https://udn.com/news/story/123475/7691700?from=udn-referralnews_ch2artbottom> (referer: https://udn.com/news/story/7321/7779730?from=udn-referralnews_ch2artbottom)\n",
            "2024-03-01 08:15:52 [scrapy.core.scraper] DEBUG: Scraped from <200 https://udn.com/news/story/123475/7691700?from=udn-referralnews_ch2artbottom>\n",
            "{'title': '台北第七選區開票結果／徐巧芯宣布當選 許淑華眼眶泛淚哭了', 'content': '\\r\\n\\r\\n2024總統立委大選今日進行投票，立委選舉台北第七選區（信義區、松山區13里）激戰，共5名候選人展開激烈角逐，包括李承龍（中華愛國同心黨）、（國民黨）、羅丹（台灣維新黨）、陳韋安（無）、（民進黨）。\\r\\n\\r\\n\\r\\n\\r\\n\\r\\n徐巧芯擅長利用話題制造風波，而許淑華則在地方基礎扎實，執行實際的政策，前者對於空戰具有優勢，後者則擅長陸戰，雙方展開了持續的競爭。松山信義區在過去是被視為國民黨的票倉，在2008年至2022年期間一直由國民黨的費鴻泰擔任立委。在過去兩屆選舉中，藍營候選人都獲得了該區約六成的選票支持。然而，在2020年的選舉中，費鴻泰與許淑華的得票率只相差約百分之三，顯示出選情已經變得非常接近。\\r\\n\\r\\n大選開票作業於下午4時起進行，《聯合新聞網》提供，讓你掌握最新票數及相關資訊。', 'url': 'https://udn.com/news/story/123475/7691700?from=udn-referralnews_ch2artbottom'}\n",
            "2024-03-01 08:15:57 [scrapy.core.engine] DEBUG: Crawled (200) <GET https://udn.com/news/story/123475/7710303?from=udn-referralnews_ch2artbottom> (referer: https://udn.com/news/story/7321/7779730?from=udn-referralnews_ch2artbottom)\n",
            "2024-03-01 08:15:57 [scrapy.core.scraper] DEBUG: Scraped from <200 https://udn.com/news/story/123475/7710303?from=udn-referralnews_ch2artbottom>\n",
            "{'title': '2024大選／政壇女力對決角逐立委席次！王鴻薇、徐巧芯得票率破5成贏得選戰', 'content': 'image source：翻攝FB／、文／吳宜臻台北市立法委員第三、七選區，雙雙上演政治女將搶奪席次大戰。被視為台北市長蔣萬安本命區的北市第三選舉區（中山、北松山），由國民黨現任立委王鴻薇，對上民進黨提名的「哈佛女孩」謝佩芬，最終結果王鴻薇以105,050票、得票率52.52%成功連任；謝佩芬以89,850票，得票率44.92%，輸掉1萬5千多票，吞下敗仗，王鴻薇當選後表示，「非常感謝中山區的選民，願意給我機會，再次為大家服務」、「會繼續努力，繼續為大家打拚」。根據「」官方網站，比較兩組人近1個月的各面向指數，王鴻薇無論是網路聲量、新聞擴散廣度與粉絲互動力，都遙遙領先，在好感度方面，謝佩芬則以1.4，勝過王鴻薇的0.9。image source：選戰溫度計王鴻薇去年以6萬519票成功擊敗民進黨吳怡農，補選為第三選區的立委，根據公民監督國會聯盟的資料顯示，回顧王鴻薇首任立委的表現，除了出席率100%，在質詢率及法案與預算審查率皆突破90%，王鴻薇過去為揭露前任新竹市市長林智堅論文抄襲事件的關鍵人物，加上質疑行政院副院長鄭文燦開房間，並且積極追蹤進口蛋、不良快篩與高端疫苗等議題，犀利且專業的問政風格擁有一票守護者，即便選前因丈夫陶允正不忍民眾辱罵妻子，對民眾比中指引起話題，仍未減損選民對她的支持。 image source：翻攝FB／謝佩芬在這次選戰中，則受到現任總統蔡英文與副總統賴清德站台，賴清德更在站台時，大力稱讚謝佩芬同時擁有認真、專業、外交，三者皆100分，並直言要栽培她成為「第二個蕭美琴」，兩位大咖分別助選，也拉高她的好感度。資深政治評論員賴岳謙認為，最大勝選原因是她的形象好，地方服務口碑及基層工作也做的很優秀，即便中山北路一帶偏綠，對王鴻薇的評價也相當好，外加該選區偏藍，成為一大助力。北市第七選區（信義、南松山）選情激烈，這次民進黨推派由在地耕耘17年的許淑華，迎戰擅長空戰的國民黨參選人徐巧芯，最後結果徐巧芯以89,727票，得票率52.62%，穩住藍營票倉，徐巧芯勝後感謝選民之餘，也特別感謝費鴻泰，並表明新的世代會接好棒子；許淑華以76,113票，得票率44.64%，結束這場「雙姝對決」。許淑華淚灑競選總部表示，「很遺憾這場選舉仍不敵仇恨與對立」、「期待未來社會還是要多點包容、關懷、和平，多一點正向力量。 image source：選戰溫度計根據「2024選戰溫度計 贏讚台灣未來」官方網站，相比兩組候選人近一個月的各面向指數，擁有「空戰小天后」之稱的徐巧芯，無論在網路聲量、新聞擴散廣度，以及粉絲互動力，都遠勝於許淑華，展現其空戰實力，國民黨副總候選人趙少康、國民黨主席朱立倫以及韓國選前紛紛現身支持，也替她拉抬網路聲量。 image source：翻攝FB／北市第七選區過去連續五任皆由費鴻泰拿下立委席次，甚至於第七屆及第八屆，還拿下6成的票數，面對深藍地區，許淑華以一步一腳印，用堅強的陸戰策略再次出馬，勤跑選區各個角落外，許淑華的服務也很全面，包含寵物健檢、法律諮詢、關懷弱勢等，讓她的好感度以0.6小贏徐巧芯的0.4，許淑華過去認為，即便是鐵板一般的眷村區，但她相信只要願意做，相信有一天能改變它的，但在這次選舉中還是無法改寫歷史。面對這次的選戰結果，台灣師範大學政研所教授曲兆祥認為，投票率是關鍵，南松山區退休軍公教人員多，本來就是藍營傳統選區，徐巧芯這次能勝出並不意外，選前存在的變因，就是徐巧芯黨內初選上演「費芯大戰」，導致費鴻泰的選民不願支持。✎ ✎ ', 'url': 'https://udn.com/news/story/123475/7710303?from=udn-referralnews_ch2artbottom'}\n",
            "2024-03-01 08:15:58 [scrapy.extensions.logstats] INFO: Crawled 98 pages (at 18 pages/min), scraped 97 items (at 18 items/min)\n",
            "2024-03-01 08:15:59 [scrapy.core.engine] DEBUG: Crawled (200) <GET https://udn.com/news/story/123475/7748165?from=udn-referralnews_ch2artbottom> (referer: https://udn.com/news/story/7321/7779730?from=udn-referralnews_ch2artbottom)\n",
            "2024-03-01 08:16:00 [scrapy.core.scraper] DEBUG: Scraped from <200 https://udn.com/news/story/123475/7748165?from=udn-referralnews_ch2artbottom>\n",
            "{'title': '韓國瑜任立院龍頭誰接秘書長？ 藍委點名李四川、費鴻泰', 'content': '新科立委今日宣誓就職，國民黨立委確定當選長。韓擔任立法院長後，作為院長左右手的立法院秘書長將由誰接任，成為焦點。台北市副市長被點名有望成為立法院秘書長，國民黨立委則認為李四川、前資深立委都適合。\\r\\n\\r\\n按慣例，立法院秘書長應由具立委經驗者擔任。國民黨立委賴士葆認為，立院秘書長最好是當過立委的，他也不知道韓國瑜要找誰，「不過是跟韓國瑜要有默契的」。李四川、費鴻泰都不錯，李四川是沒有立委經驗，不過來了就會了，費鴻泰也適合。', 'url': 'https://udn.com/news/story/123475/7748165?from=udn-referralnews_ch2artbottom'}\n",
            "2024-03-01 08:16:04 [scrapy.core.engine] DEBUG: Crawled (200) <GET https://udn.com/news/story/9213/7801572?from=udn-relatednews_ch2> (referer: https://udn.com/news/story/9213/7797576?from=udn-referralnews_ch2artbottom)\n",
            "2024-03-01 08:16:04 [scrapy.core.scraper] DEBUG: Scraped from <200 https://udn.com/news/story/9213/7801572?from=udn-relatednews_ch2>\n",
            "{'title': '陸方稱不存在海峽中線…邱國正：無緩衝 地區壓力更大', 'content': '共機頻頻擾台，大陸新聞發言人張曉剛昨天說所謂的根本不存在；國防部長今早到立法院備詢受訪，稱海峽中線是多年來雙方謹守的默契，假如不承認的話，將來沒有緩衝餘地，恐對地區造成更大壓力。\\r\\n\\r\\n邱國正表示，鄰居沒有牆但也知道互相尊重，海峽中線是一種默契，多年來雙方也都謹守，如果不承認的話將無緩衝餘地，可能會對地區造成更大的壓力，應該要多方考慮。\\r\\n\\r\\n大陸衛星火箭飛行路徑昨經台灣中部，邱國正表示，各國發射火箭都有透過美國聯邦總署公告，國防部看到公告後會以發射地點、殘骸落點等作研判。研判範圍內的國防部之前公告過了，因此在範圍內的就沒必要再做警告；若偏離了，或研判對台灣有危害，就會再發警報，這是固定作法。\\r\\n\\r\\n邱國正指出，各國要發射衛星要透過美國聯邦航空管理中心公告區域，國防部都有掌握。至於翻船案，海巡正在處理，他不表達任何意見。外界擔心520前兩岸衝突恐升高？邱國正說，需持續觀察，軍事來講，要注意有沒有什麼動作或徵候。\\r\\n\\r\\n', 'url': 'https://udn.com/news/story/9213/7801572?from=udn-relatednews_ch2'}\n",
            "2024-03-01 08:16:08 [scrapy.core.engine] DEBUG: Crawled (200) <GET https://udn.com/news/story/123475/7784787?from=udn-referralnews_ch2artbottom> (referer: https://udn.com/news/story/6656/7786900?from=udn-referralnews_ch2artbottom)\n",
            "2024-03-01 08:16:08 [scrapy.core.scraper] DEBUG: Scraped from <200 https://udn.com/news/story/123475/7784787?from=udn-referralnews_ch2artbottom>\n",
            "{'title': '吳子嘉爆柯文哲對黃國昌失望改親上陣 黃珊珊也未挺「有內幕」', 'content': '\\r\\n立法院開議第一天，民進黨立委黃捷與國民黨立委徐巧芯為搶麥克風爆發衝突，讓《美麗島電子報》董事長認為，民眾黨的八席立委似乎在近期的立院的活動中沒有表演空間，並稱民眾黨主席頻頻現身立法院是「黔驢技窮」，且因為對民眾黨一級戰將失望，就連一周也等不了，直接前往立院爭取民眾黨曝光的機會。\\r\\n\\r\\n吳子嘉昨(21)日在政論節目《》中表示，民眾黨在近期立院的重要活動中沒有表演的空間，藍綠兩黨年輕立委的戰力，都遠超過民眾黨的八席立委。而柯文哲目前比較像是「黔驢技窮」，對立法院的運作完全沒有介入的空間。\\r\\n\\r\\n面對柯文哲近期頻繁在立法院現身，吳子嘉則說，柯文哲對黃國昌失望，甚至連一周的時間都耐不住，頻頻現身立法院；也批評黃國昌根本無心於國家大事，只在乎畫面和流量，待柯文哲親自出馬後，立院一戰的成敗變成柯文哲要負責。他並指黃珊珊在黃國昌召開食安問題朝野協商時並未現身，是因為知道黃國昌在打假球，只為糊弄柯文哲。\\r\\n\\r\\n談及請辭，吳子嘉更批評是因為民眾黨沒格局，讓人才之間的關係變緊張，且在選後柯文哲似乎罩不住各種人事安排，太偏向，若是哪一天陳智菡宣布要開除黃國昌的黨籍，他也不會太意外。', 'url': 'https://udn.com/news/story/123475/7784787?from=udn-referralnews_ch2artbottom'}\n",
            "2024-03-01 08:16:08 [scrapy.core.engine] INFO: Closing spider (爬取完成)\n",
            "2024-03-01 08:16:13 [scrapy.core.engine] DEBUG: Crawled (200) <GET https://udn.com/news/story/10930/7791860?from=udn-relatednews_ch2> (referer: https://udn.com/news/story/10930/7787199?from=udn-referralnews_ch2artbottom)\n",
            "2024-03-01 08:16:13 [scrapy.core.scraper] DEBUG: Scraped from <200 https://udn.com/news/story/10930/7791860?from=udn-relatednews_ch2>\n",
            "{'title': '觀察站／美軍援 政治承諾重於實用', 'content': '美國無償軍援武器軍品，主要是作為美方積欠我大筆應交運而未交付軍備的「安慰劑」，政治意涵遠高於實質戰術所需。由這個角度思考，美援我八萬餘套淘汰、庫儲的戰鬥個裝，迷彩形式是否符合我實際所需，就似乎沒那麼重要。\\r\\n\\r\\n去年有特定綠營民代一度積極對國軍現役戰鬥背心上配備的「Level 3」級防護抗彈板表達異議，認為易遭步槍子彈擊穿，負責研發自製這款軍品的軍備局多次出面解釋，強調產品符合軍種需求。\\r\\n\\r\\n外界當時其實就畫錯重點。陸軍起初在戰鬥背心的需求上，就是指定要「Level 3」級PLUS的產品，因為「Level 4」的抗彈板非常沉重，不太適合亞洲人體格長時間穿著。好萊塢戰爭電影「黑鷹計畫」（Black Hawk Down）中有一幕對美軍穿著沉重戰鬥背心的描述，非常寫實。\\r\\n\\r\\n劇中有遊騎兵組成快速反應部隊從基地即將出發，準備機降市區執行捕俘任務，因為上級宣稱任務單純一小時後即可返回基地，有士兵索性抽出戰鬥背心裡的抗彈板，並向臨時入替缺乏戰鬥經驗的同僚說：「你身上已有五十磅裝備，不需再加十二磅，背這麼重想逃命都逃不了。」\\r\\n\\r\\n和部分民代、網紅所謂國軍為何不直接換裝「Level 4」防護裝備的想像不同，國軍亞洲體型的官兵若穿上美軍四級防護裝備執行長時間操演，恐怕會大幅增加官兵體力負荷，不利久戰。這批美援的戰鬥個裝，去年接收後至今遲未發放到部隊，軍方的考量可能也是如此。\\r\\n\\r\\n美方預期兩岸暫無立即開戰的可能，對台採取的無償軍援，主要意義在於表達深化軍事合作承諾，稍緩我國軍民對延遲的焦慮感。我方固然在意美援作戰服搭國軍現役迷彩服是否真能運用在實戰戰場上，但對美方而言，無償軍援的品項是否真能接軌我軍需求，似乎非其重視之點。', 'url': 'https://udn.com/news/story/10930/7791860?from=udn-relatednews_ch2'}\n",
            "2024-03-01 08:16:16 [scrapy.core.engine] DEBUG: Crawled (200) <GET https://udn.com/news/story/122218/7784277?from=udn-referralnews_ch2artbottom> (referer: https://udn.com/news/story/122218/7785218?from=udn-referralnews_ch2artbottom)\n",
            "2024-03-01 08:16:16 [scrapy.core.scraper] DEBUG: Scraped from <200 https://udn.com/news/story/122218/7784277?from=udn-referralnews_ch2artbottom>\n",
            "{'title': '蓋拉格：台灣屢次向世界展示抵禦中共霸凌 訪台傳達支持', 'content': '聯邦眾議院美國與中國共產黨戰略競爭特別委員會主席（Mike Gallagher）表示，台灣一次又一次向世界展示如何抵禦中共的霸凌，不僅生存下來還蓬勃發展，很高興來到台北，對台灣友人、總統當選人賴清德以及新選出的立法院成員表達美國對台灣的支持。\\r\\n\\r\\n蓋拉格率首席首席議員克利什納穆希（Raja Krishnamoorthi）、委員會成員莫萊納爾（John Moolenaar）、莫爾頓（Seth Moulton）和強生（Dusty Johnson）訪問台灣。\\r\\n\\r\\n蓋拉格表示，美國與台灣站在一起，透過深化美台領袖互動與經濟關係，可以強化台灣海峽的和平與穩定。\\r\\n\\r\\n克利什納穆希則說，很高興有此機會討論如何深化美台關係，美國鼓勵所有國家深化對台灣的關係；美國人民與台灣人民站在一起，因為大家認識到民主不僅僅只是政府形式，更是價值觀的展現。\\r\\n\\r\\n除了蓋拉格訪問台灣，美國聯邦參議員魯比歐（Marco Rubio）發布新聞稿指，他21日訪問巴拉圭，會晤台灣駐巴拉圭大使韓志正，重申對台灣堅定不移的支持。', 'url': 'https://udn.com/news/story/122218/7784277?from=udn-referralnews_ch2artbottom'}\n",
            "2024-03-01 08:16:19 [scrapy.core.engine] DEBUG: Crawled (200) <GET https://udn.com/news/story/7251/7798791?from=udn-referralnews_ch2artbottom> (referer: https://udn.com/news/story/123006/7799869?from=udn-catehotnews_ch2&from=udn-referralnews_ch2artbottom)\n",
            "2024-03-01 08:16:20 [scrapy.core.scraper] DEBUG: Scraped from <200 https://udn.com/news/story/7251/7798791?from=udn-referralnews_ch2artbottom>\n",
            "{'title': '半導體股票僅台積電能買…別自作聰明買聯電、力積電、世界先進！ 謝金河：老二連50塊都上不去', 'content': '\\r\\n\\r\\n日前2024TiBE台北國際書展，財信傳媒董事長謝金河於活動中，發言表示投資股票只能買台積電（2330），千萬自作聰明買（2303）、力積電（6770）、（5347）；因他認為高階才會漲，一般製程晶片已變成了「殺戮戰場」。\\r\\n\\r\\n以下為謝金河發言內容：\\r\\n\\r\\n\\r\\n\\r\\n台積電已經709元了，聯電50塊都上不去，理論上應該是老二，為什麼股價不會動？\\r\\n\\r\\n因為現在高階晶片會漲，普通的一般製程晶片變成「殺戮戰場」。\\r\\n\\r\\n同樣晶圓代工命運不一樣！一定要把這個觀念弄清楚，投資一定不會輸。\\r\\n\\r\\n', 'url': 'https://udn.com/news/story/7251/7798791?from=udn-referralnews_ch2artbottom'}\n",
            "2024-03-01 08:16:22 [scrapy.core.engine] DEBUG: Crawled (200) <GET https://udn.com/news/story/9213/7793095?from=udn-referralnews_ch2artbottom> (referer: https://udn.com/news/story/6656/7797238?from=udn-referralnews_ch2artbottom)\n",
            "2024-03-01 08:16:22 [scrapy.core.scraper] DEBUG: Scraped from <200 https://udn.com/news/story/9213/7793095?from=udn-referralnews_ch2artbottom>\n",
            "{'title': '影／質疑管碧玲下指導棋遭轟「錯誤解讀」 徐巧芯反擊：想說的事應向全民說明', 'content': '\\r\\n中國大陸快艇翻覆2死風波延燒。國民黨立委25日晚間在臉書貼出一張LINE對話截圖，質疑海委會主委到處在綠營群組內下指導棋，被立委抨擊是錯誤解讀內容。徐巧芯今天（26日）接受媒體聯訪時對此表示，她質疑的是管碧玲如果有任何想說的事情，應該向全民說明，怎麼是偷偷摸摸的在LINE群組裡跟民進黨的立委說，要他們幫忙擦脂抹粉？', 'url': 'https://udn.com/news/story/9213/7793095?from=udn-referralnews_ch2artbottom'}\n",
            "2024-03-01 08:16:27 [scrapy.core.engine] DEBUG: Crawled (200) <GET https://udn.com/news/story/6656/7795260?from=udn-referralnews_ch2artbottom> (referer: https://udn.com/news/story/6656/7797238?from=udn-referralnews_ch2artbottom)\n",
            "2024-03-01 08:16:27 [scrapy.core.scraper] DEBUG: Scraped from <200 https://udn.com/news/story/6656/7795260?from=udn-referralnews_ch2artbottom>\n",
            "{'title': '傳立院財政召委禮讓民眾黨 徐巧芯：選民幾乎都反對', 'content': '立院黨團傳出在共識營決定禮讓一席召委給，爭取在野合作，引發藍營基層炸鍋。國民黨立委今天重申，禮讓沒辦法一聲令下，還是要溝通，若要在財委會禮讓，財委會成員的台北市三席藍委，他、王鴻薇、李彥秀不會同意。\\r\\n\\r\\n賴士葆昨天透過臉書澄清，自己會支持同黨立委羅明才擔任召委。他今在立法院受訪表示，黨團已經作出決議，自己雖未出席但尊重；不過，台北市國民黨立委有三席在財委會，包含他、王鴻薇、李彥秀，若黨團決定將召委讓給黃珊珊，會很為難。\\r\\n\\r\\n賴士葆表示，羅明才已積極爭取召委，他也簽字表達支持，沒有支持別人餘地，不能一身兩賣、三賣。\\r\\n\\r\\n國民黨立委徐巧芯今也受訪表示，雖未出席共識營，但確實聽聞會中談到召委禮讓的，比較可能是財政委員會，區域立委昨天都接到滿大的民意壓力，她的選民也在群組幾乎表達反對意見，希望國民黨堅持主體性。\\r\\n\\r\\n徐巧芯表示，過去在召委選舉部分會去交換是因為席次不夠，必須跟其他政黨合作；這次國民黨在每個委員會至少都可爭取到一席召委，這樣的合作是否必要？民眾黨團總召黃國昌也曾說，就算禮讓召委，未來也不一定會在議案上會跟國民黨合作，\\r\\n\\r\\n徐巧芯認為，在召委選舉，她主張禮讓更長期緊密合作的立委高金素梅，讓全民知道國民黨不是什麼都牢牢抓在手上，禮讓是基於長期合作與夥伴關係；或許經過一兩個會期、彼此更理解民眾黨後，再去談也不遲。\\r\\n\\r\\n媒體詢問，國民黨立院黨團總召傅崐萁是否一廂情願要禮讓民眾黨？賴士葆說，他無法評論，召委是立委互推，財委會是15個立委投票，還是回到立委本身意願比較重要，一般來說黨團幹部會召集大家決定，若三黨都同意簽字，推舉時就不用投票。', 'url': 'https://udn.com/news/story/6656/7795260?from=udn-referralnews_ch2artbottom'}\n",
            "2024-03-01 08:16:30 [scrapy.core.engine] DEBUG: Crawled (200) <GET https://udn.com/news/story/6904/7753662?from=udn-referralnews_ch2artbottom> (referer: https://udn.com/news/story/6885/7762199?from=udn-relatednews_ch2)\n",
            "2024-03-01 08:16:30 [scrapy.core.scraper] DEBUG: Scraped from <200 https://udn.com/news/story/6904/7753662?from=udn-referralnews_ch2artbottom>\n",
            "{'title': '好讀周報／禁止永久歸還…英博物館用「租借」方式返還迦納古文物3年', 'content': '\\r\\n\\r\\n150年前，從迦納「阿散蒂」王朝掠奪象徵王權的珠寶；如今，英國維多利亞與亞伯特（The Victoria & Albert Museum，簡稱V&A）與大英博物館（British Museum）透過長期的文化合作租借協議，暫時「返還」32件來自迦納的黃金與銀製古文物。\\r\\n\\r\\n英國部分國家博物館依法禁止永久歸還其收藏品，不管該館藏是否存在爭議，其中V&A和大英博物館便是受此限制的博物館。有鑑於此，租借協議被用作允許遭掠奪物品返回原本國家的方式之一。然而，反對這種租借協議的人士認為，這樣的協議變相暗示簽約國承認該文物的所有權仍屬於英國。\\r\\n\\r\\nV&A和大英博物館此次借出的物品，大多是英國和阿散蒂19世紀兩次（1873年到1874年，以及1895年到1896年）期間，英軍從阿散蒂首府庫馬西王宮所掠奪而來的文物。\\xa0\\r\\n\\r\\n大英博物館出借15件館藏，包括一把王權寶劍、魯特豎琴、黃金禮帽、黃金項鍊等。V&A借展17樣收藏品，其中包括負責淨化國王靈魂的官員佩戴的黃金徽章、黃金和平菸斗、黃金戒指，以及阿散蒂王室服飾等。\\r\\n\\r\\nV&A館長杭特表示，當博物館收藏「戰爭或軍事行動期間掠奪的文物時，我們有責任思忖，如何與原本的國家更公平地分享這些物品。」他說：「我認為，博物館之間建立夥伴關係與交流是好的。」\\r\\n\\r\\n杭特解釋，（迦納）王室的黃金文物，形同「英國君主皇冠上的寶石」。西非國家迦納的首席磋商代表則說，經歷數代人的憤怒之後，希望創造「一種新穎且重要的文化合作意識」。\\r\\n\\r\\n博物館發布的聯合聲明表示，「這些文物對阿散蒂人而言，具有文化、歷史和精神意義，也是英國在西非殖民歷史中無法磨滅的證明。」杭特強調，新的文化夥伴關係「並非走後門歸還文物」，暗示不會將借展文物永久歸還迦納。\\r\\n\\r\\n杭特說明，為期3年（且可延長3年）的出借協議並不是與迦納政府簽訂，而是與奧通富沃·納納·奧塞·圖圖二世（Otumfo Osei Tutu II）簽訂。圖圖二世1999年登基為現任阿散蒂國王，他去年5月6日曾受邀前往英國出席查理三世國王的加冕典禮。\\xa0\\r\\n\\r\\n阿散蒂王國屬於現代民主迦納的一部分，而阿散蒂國王圖圖二世扮演著舉足輕重的儀式性角色。英國兩間博物館出借的物品，將在阿散蒂首府庫馬西的「曼希亞宮（歷史）博物館」（Manhyia Palace Museum）展出，藉此慶祝阿散蒂王朝銀禧（即登基25年）。\\r\\n\\r\\n迦納文化部長特別顧問娜娜·奧福里亞塔·阿伊姆說：「這些文物不僅是物品，還具備重要的精神象徵，且是迦納國家靈魂的一部分。」阿伊姆表示，這筆租借協議在文物遇劫周年紀念日達成，可謂「好的起點」，不僅象徵療癒歷史傷痛，也紀念當年的殘暴事件。\\r\\n\\r\\n阿散蒂人當年則曾建立西非最強的國家之一，從事黃金、紡織品和奴隸等貿易。阿散蒂的黃金文物則是阿散蒂王朝的象徵，阿散蒂人相信，「文物內部住著多位已故阿散蒂先王的靈魂」。\\r\\n\\r\\n阿散蒂黃金文物對迦納的重要性，媲美英國在非洲被掠奪的「貝南銅器」。英國曾自貝南王國宮殿，掠奪了數千件雕塑和牌匾，該宮殿目前位於當今的奈及利亞南部。數十年來，奈及利亞人持續呼籲英國返還貝南王朝原屬皇宮裝飾的銅器文物。\\r\\n\\r\\nV&A資深策展人帕特森表示，軍事掠奪文物「不僅是為了獲取財富，也是為了消除政府或權威的象徵，這是一種極具政治動機的行為。」\\r\\n\\r\\n\\r\\n\\r\\n史議題之際，奈及利亞、埃及和希臘等國家，以及從北美到澳洲的原住民紛紛要求殖民國歸還文物，甚至先人與烈士的骨骸。\\r\\n\\r\\n德國與奈及利亞最近簽署一項歸還數百件貝南銅器的協議，這些銅器是西非貝南王國16世紀起鑄造的雕塑、鑄造匾額與皇家徽章的統稱。\\r\\n\\r\\n無獨有偶，法國總統馬克宏也簽署歸還奈及利亞至少26件「阿波美珍寶」藝術品，這些藝術品來自19世紀的「達荷美王國」，該王國遺址位於西非小國貝南。\\r\\n\\r\\n阿波美是貝南祖省的首府，古代則是達荷美王國的首都。達荷美王國1894年被法國打敗，併入法蘭西殖民帝國，成為法國的殖民地。\\r\\n\\r\\n英國對於文物轉型正義的反應，比其他殖民國家還慢許多。英國官員堅稱，許多文物透過合法途徑取得，且大英博物館等機構長期以來將它們妥善保存在可供全球人欣賞與研究的環境之中。\\r\\n\\r\\n英國這種繞過法律限制的文化轉型正義，對那些聲稱想要糾正歷史錯誤的國家而言，可能無法接受。杭特表示，V&A、大英博物館和曼希亞宮博物館之間的交易「突破政治，雖然沒有解決問題，但開啟對話」。\\r\\n\\r\\n英國總理蘇納克的發言人布萊恩表示：「這不是新鮮事，借貸本來就有很多形式，相關活動在博物館之間很常見。」他接著說，英國「預期在借貸協議結束時，收回出借的文物」。\\r\\n\\r\\n迦納文化部長顧問奧福里亞塔·阿伊姆表示，迦納人當然不滿意這種協議的概念，而是希望文物最終永久返還迦納，「我們知道這些物品是在暴力情況遭掠奪、竊取，這些物品屬於阿散蒂人」。\\r\\n\\r\\n好讀VIP家用自學服務：每周二搭配本篇文章，推出名師解析影片，結合生活情境閱讀測驗，提升閱讀素養力！怎麼看到影片？\\r\\n\\r\\n\\r\\n\\r\\n\\r\\n\\r\\n\\r\\n\\r\\n\\r\\n\\r\\n', 'url': 'https://udn.com/news/story/6904/7753662?from=udn-referralnews_ch2artbottom'}\n",
            "2024-03-01 08:16:33 [scrapy.core.engine] DEBUG: Crawled (200) <GET https://udn.com/news/story/120912/7800345?from=udn-relatednews_ch2> (referer: https://udn.com/news/story/120912/7799687?from=udn-catehotnews_ch2)\n",
            "2024-03-01 08:16:33 [scrapy.core.scraper] DEBUG: Scraped from <200 https://udn.com/news/story/120912/7800345?from=udn-relatednews_ch2>\n",
            "{'title': '禮拜三變固定假日？他喊做五休二累到「精神病一堆」 網掀正反論戰', 'content': '\\r\\n台灣每周5天工作制一直是眾人討論話題，一名網友提出「禮拜三變固定假日才是生活吧」，掀起兩派論戰，有人覺得工作上確實更有效率；但也有人擔憂變少、事情難交接。\\r\\n\\r\\n原PO在PTT閒聊版上，禮拜三多放1天假，才是真的人類在過的生活，一個禮拜連續工作5天，「累都累死了，難怪精神病一大堆，癌症、洗腎、醫院人也一大堆，禮拜三放假是不是有益全體身心健康啊？」\\r\\n\\r\\n話題拋出後，引起兩派網友戰翻，支持的人指出，「現代人真的需要」、「沒錯，收垃圾的禮拜三就不收」、「確實很多精神疾病是因爲工作」、「工作更有效率」、「好像有道理，禮拜三放假爽度大勝週休二日」、「去國外看歐美的工時，台灣勞工太辛苦」、「真的，比連假補班的好太多了」、「整個身心靈都舒坦」、「不然公司改週三遠距上班日，六日照休」、「我願意為了這件事遊行」。\\r\\n\\r\\n至於反對一周放假3天的網友認為，「薪水也少1／5呢」、「但你薪水也變少，你ok嗎？」、「服務業更累」、「先問各位接不接受餐飲業周休三日，不要整天在那邊哭餐廳沒開」、「工作超難交接的好嗎，不如工作一到四」、「想放假不會自己請假？」、「現在年輕人過得太安逸」、「台灣勞工假太多」、「每天喊台灣沒進步，結果一直要休」。\\r\\n\\r\\n其實早在2023年3月，就有民眾提出連署「的國家」，提案最終獲得5736人附議支持通過，但行政院以影響層面廣泛，配套措施未臻完備為由回絕。中研院經濟研究所陳明郎研究員，勞工比起縮短工時，更應爭取合理薪資。', 'url': 'https://udn.com/news/story/120912/7800345?from=udn-relatednews_ch2'}\n",
            "2024-03-01 08:16:36 [scrapy.core.engine] DEBUG: Crawled (200) <GET https://udn.com/news/story/9213/7794518?from=udn-referralnews_ch2artbottom> (referer: https://udn.com/news/story/9213/7795615?from=udn-relatednews_ch2)\n",
            "2024-03-01 08:16:36 [scrapy.core.scraper] DEBUG: Scraped from <200 https://udn.com/news/story/9213/7794518?from=udn-referralnews_ch2artbottom>\n",
            "{'title': '陸海警再闖金門禁止水域 陳建仁：加強取締 必要時驅離', 'content': '\\r\\n\\r\\n兩岸在爭端持續升高，繼大陸海監船20日進入金門禁、限制水域後，福建海警25日組織艦艇編隊在金門附近海域開展執法巡查，據傳也穿越了金門禁止水域線。對此，行政院長陳建仁表示，我國對於海上相關的目標都有掌握動態，並指出，會再加強相關取締措施。\\r\\n\\r\\n福建海警25日組織艦艇編隊在金門附近海域進行執法巡查，環球時報引述匿名專業人士說法稱，從中國大陸官方釋出照片可判斷，大陸海警巡查行動穿越金門禁止水域線；「執法」這個詞通俗講就是執行「國內法」，就是在金門附近海域行使管轄權，意味大陸對該海域享有「主權」。\\r\\n\\r\\n陳建仁今赴立法院進行施政報告並備詢。針對媒體訊問陸海警傳出穿越金門禁止水域，陳建仁說，我方對於在海上相關的目標動態都有很好的掌控，也會再加強相關取締的措施，都按照標準作業流程的程序來進行必要的驅離動作。\\r\\n\\r\\n陳建仁說，台灣對於維護漁民的權利，還有海上的安全，實際上所有的做法與世界各國都是一樣；政府要確保整個海上通行的安全，還有維護漁民的權利，這是政府責無旁貸的事情，未來將繼續努力按照既有的做法來進行。', 'url': 'https://udn.com/news/story/9213/7794518?from=udn-referralnews_ch2artbottom'}\n",
            "2024-03-01 08:16:41 [scrapy.core.engine] DEBUG: Crawled (200) <GET https://udn.com/news/story/7005/7800784?from=udn-relatednews_ch2> (referer: https://udn.com/news/story/7005/7800869?from=udn-relatednews_ch2)\n",
            "2024-03-01 08:16:41 [scrapy.core.scraper] DEBUG: Scraped from <200 https://udn.com/news/story/7005/7800784?from=udn-relatednews_ch2>\n",
            "{'title': '巴黎帕運8月28日登場 體育署核定1.6億元助選手拚佳績', 'content': '2024巴黎帕拉林匹克運動會將於8月28日-9月8日登場，台灣目前已有3種運動、4名選手取得參賽資格，而也已核定新台幣1.6億元經費，要幫助選手爭取最佳成績。\\r\\n為培植身心障礙競技運動選手，體育署從2019年12月起展開「備戰期程優化」、「培植潛力新秀」、「提升選手待遇」等策略，逐步強化資源與行政服務措施，讓台灣選手在去年杭州亞摘下4金4銀12銅的好成績。\\r\\n體育署輔導中華帕拉林匹克總會制定「帕拉林匹克運動會備戰計畫」，現已遴選8個運動種類27名選手參與備戰，期建立標準化培訓制度，廣納跨領域資源，落實科學化、個人化訓練，以延續及強化輔助選手邁向國際舞台。\\r\\n體育署副署長洪志昌在接受媒體聯訪時表示，「帕拉林匹克運動會備戰計畫」執行策略包括個別化服務、經費全面支援、國家運動訓練中心協力、訓輔督導輔助及運動科學支援等，其中重點運動桌球、羽球也已規劃3月1日進入國訓中心。\\r\\n體育署也調整選手日常零用金（含生活津貼）制度，現集訓選手若為大學以上畢業而未就業者，每月可領零用金4.8萬元，大學以下學生選手則可領2.8萬元；儲訓選手若為大學以上畢業而未就業者，其零用金比照勞動部所定基本工資數額給付。', 'url': 'https://udn.com/news/story/7005/7800784?from=udn-relatednews_ch2'}\n",
            "2024-03-01 08:16:44 [scrapy.core.engine] DEBUG: Crawled (200) <GET https://udn.com/news/story/6810/7775940?from=udn-referralnews_ch2artbottom> (referer: https://udn.com/news/story/7321/7780365?from=udn-referralnews_ch2artbottom)\n",
            "2024-03-01 08:16:44 [scrapy.core.scraper] DEBUG: Scraped from <200 https://udn.com/news/story/6810/7775940?from=udn-referralnews_ch2artbottom>\n",
            "{'title': '親媽煞到女婿！瘋狂行徑曝光 「帶球嫁親家公」硬逼女兒離婚', 'content': '\\r\\n國外有名女網友長期與母親關係緊張，母親在之後甚至喜歡上女兒的男友，強逼兩人分手。更誇張的是，在女網友後，母親竟和親家公發生關係，並以「亂倫」的名義要求他們離婚。\\r\\n\\r\\n女網友在稱，父親在她小時候因為忍受不了母親經常出軌和家暴，而決定另組家庭，她也在16歲時選擇和父親一起生活。原PO表示，媽媽過去常逼迫她和男友分手，並強調自己更適合對方，甚至還罵她「又胖又醜」，因此原PO不願和母親來往。\\r\\n\\r\\n當發現原PO懷上雙胞胎後，母親向她保證會改過自新，並開始接受精神治療與諮詢，希望兩人能和解。不料，在原PO7個月時，母親竟在寶寶派對上向「準女婿」告白，強調「若你們不分手，我也可以收養孩子，假裝是雙胞胎的媽媽」，讓原PO非常錯愕。\\r\\n\\r\\n後來原PO再次與母親斷絕聯繫，雖然對方曾主動示好，但她仍無法輕易接受。不過就在原PO和男友在海外結婚，度蜜月回來後，母親卻突然宣布「自己懷孕且訂婚了」，對象則是她的公公，並直指「你們（原PO夫妻）現在是兄妹，不該生孩子，這是亂倫」，要求兩人離婚，不然將報警。\\r\\n\\r\\n原PO透露，她和老公正計畫搬到國外，逃離母親瘋狂的一切。貼文一出，許多網友也支持原PO的決定，「直接遠離妳母親，妳才會快樂」、「妳需要盡可能的離妳媽媽遠一點」、「切斷所有聯繫，不要再給妳母親任何機會了」。', 'url': 'https://udn.com/news/story/6810/7775940?from=udn-referralnews_ch2artbottom'}\n",
            "2024-03-01 08:16:48 [scrapy.core.engine] DEBUG: Crawled (200) <GET https://udn.com/news/story/7320/7784965?from=udn-relatednews_ch2> (referer: https://udn.com/news/story/7320/7784594?from=udn-referralnews_ch2artbottom)\n",
            "2024-03-01 08:16:48 [scrapy.core.scraper] DEBUG: Scraped from <200 https://udn.com/news/story/7320/7784965?from=udn-relatednews_ch2>\n",
            "{'title': '73歲男蹲台65線路肩換輪胎 後車閃不及直接撞送醫亡', 'content': '\\r\\n陳姓男子今天上午開車行經新北市台65線快速道路車子突然爆胎，他臨停路肩下車換胎，不料卻遭後方來車衝撞，當場失去生命徵象。警、消趕抵協助陳男送醫急救，陳男傷勢嚴重宣告不治，肇因待查。\\r\\n\\r\\n據了解，陳姓男子（73歲）今天上午近10時許，獨自開車沿著新北市台65線快速道路往五股方向行駛，途中行經台65線1.9公里處，車子左後輪突然爆胎，他趕緊把車臨停路肩下車察看，將三角警示架擺放在車後方，隨後蹲地換胎。\\r\\n\\r\\n不料，駱男（44歲）駕駛租賃車從後方駛來，沒注意到陳男蹲地換胎，等到發現急踩煞車已來不及，當場衝擊陳男翻滾車頭處，仰躺在地沒了生命徵象，駱男趕緊打電話報警協處。\\r\\n\\r\\n警、消獲報派員趕抵，檢視陳男全身多處擦挫傷，現場已無呼吸心跳，緊急協助送醫急救，陳男傷勢嚴重於今天上午近12時許急救無效宣告不治。駱男沒有，陳男抽血待驗，確切肇事原因及責任歸屬，有待警方後續調查釐清。\\r\\n', 'url': 'https://udn.com/news/story/7320/7784965?from=udn-relatednews_ch2'}\n",
            "2024-03-01 08:16:52 [scrapy.core.engine] DEBUG: Crawled (200) <GET https://udn.com/news/story/7321/7800898?from=udn-relatednews_ch2> (referer: https://udn.com/news/story/7321/7798944?from=udn-relatednews_ch2)\n",
            "2024-03-01 08:16:52 [scrapy.core.scraper] DEBUG: Scraped from <200 https://udn.com/news/story/7321/7800898?from=udn-relatednews_ch2>\n",
            "{'title': '遭禁賽昨首度亮相 球星戴維斯今現身桃院', 'content': '台灣籃壇首位歸化球星戴維斯（Quincy Davis）去年5月因小孩探視問題，與在桃市中壢警分局青埔派出所前爆發拉扯衝突，造成前妻雙手挫傷被訴，桃園地院今開言詞辯論，戴不認罪，表示只是一時疏忽造成傷害，辯稱當時無傷害犯意，審判長建議雙方為了孩子可再行調解，但遭前妻拒絕；法官諭知全案將於3月28日上午宣判。\\r\\n\\r\\n目前效力P. LEAGUE+聯盟的新北國王隊的戴維斯，因這件家暴傷害案，去年起遭聯盟禁賽20場、35萬元，直到今年2月中旬解禁，卻又罹患感冒身體不適未能上場，直到昨午才與傷癒歸隊的林書豪一起作客御頂攻城獅隊主場，由於法院工作人員不少是戴維斯的球迷，聽說戴要出庭應訊，早早守候庭外並到場應援。\\r\\n\\r\\n出庭作證的陳姓前妻表明，與戴同庭無法自由陳述，於是隔離進行；庭訊重點針對去年5月12日晚間7點17分，2人在青埔派出所門外發生衝突的相關細節，以及戴維斯是否為了搶孩子而有拉扯前妻右手、甚至導致前妻雙腳一度利開地面等細節釐清。\\r\\n\\r\\n前妻表示，事發太突然，她為了抱緊孩子，對2人當時的拉扯或細節不太記得，但她指出雙方爆發衝突的前1秒，戴說「孩子明晚8點30分後才能送回」而她回應「希望你按照協議時間按時送回」，竟遭戴回罵「笨婊子」然後由後方衝過來搶孩子。\\r\\n\\r\\n對於審判長建議，孩子一天天長大也需要父親關愛，希望雙方能有調解可能，前妻則以相同的狀況一再發生，戴也違反規定於不能探視的時間出現在學校，導致校方報警，她不願再行調解。\\r\\n\\r\\n戴的律師表示，本案起因於離婚父母交付子女的情緒問題，戴是名職業籃球員，已歸化並代表我國出賽，也是許多年輕球員的目標，盼法官明察秋毫；檢方則以不能因戴的社會地位而輕判來反駁，希望回歸客觀證據來判刑。', 'url': 'https://udn.com/news/story/7321/7800898?from=udn-relatednews_ch2'}\n",
            "2024-03-01 08:16:56 [scrapy.core.engine] DEBUG: Crawled (200) <GET https://udn.com/news/story/123475/7779765?from=udn-relatednews_ch2> (referer: https://udn.com/news/story/123475/7691700?from=udn-referralnews_ch2artbottom)\n",
            "2024-03-01 08:16:56 [scrapy.core.scraper] DEBUG: Scraped from <200 https://udn.com/news/story/123475/7779765?from=udn-relatednews_ch2>\n",
            "{'title': '藍白合有譜？ 柯文哲爆兩黨團安排飯局 將建立溝通管道', 'content': '立法院今天開議，團提案要求明天加開院會進行專報，團總召傅崐萁則說支持民眾黨團提案。外界關注，此舉是否代表作有譜，民眾黨主席今天受訪自爆，藍白間還是要建立聯絡管道，國民黨團三長與民眾黨團三長已安排飯局，他會親自參加，彼此互相認識。\\r\\n\\r\\n民眾黨團今天提案，明天加開院會進行食安專報，希望得到藍綠黨團支持；國民黨團一度提案，主張今天陳建仁進行施政報告前，先進行食安專報，但後來又撤案；傅崐萁表態，國民黨團支持民眾黨團提案。\\r\\n\\r\\n柯文哲每周二、五早上7時30分固定立院民眾黨團辦公室與8名立委開會，討論立法院攻防、動態、輿情等事項，面對國民黨團今天主動撤銷提案，改支持民眾黨團提案，是否代表未來藍白合作有譜？柯文哲結束會議後受訪表示，每次要問都繞來繞去，還是要建立彼此聯絡管道。\\r\\n\\r\\n柯文哲自爆，民眾黨團三長與國民黨團三長已安排飯局，希望彼此認識，有問題能夠彼此溝通，會比較有效率，由於是第一次，他會親自參加，往後則交由黨團自行討論。\\r\\n\\r\\n有媒體人建議柯文哲不要一直到黨團開會，應該下鄉long stay，柯文哲表示，以後會到各縣市常駐，要做的事情很多，黨團的事務就交給他們自己處理。', 'url': 'https://udn.com/news/story/123475/7779765?from=udn-relatednews_ch2'}\n",
            "2024-03-01 08:16:58 [scrapy.extensions.logstats] INFO: Crawled 114 pages (at 16 pages/min), scraped 113 items (at 16 items/min)\n",
            "2024-03-01 08:17:00 [scrapy.core.engine] DEBUG: Crawled (200) <GET https://udn.com/news/story/123886/7708657?from=udn-referralnews_ch2artbottom> (referer: https://udn.com/news/story/123475/7710303?from=udn-referralnews_ch2artbottom)\n",
            "2024-03-01 08:17:00 [scrapy.core.scraper] DEBUG: Scraped from <200 https://udn.com/news/story/123886/7708657?from=udn-referralnews_ch2artbottom>\n",
            "{'title': '誰是國民黨內最強大「母雞」？ 徐巧芯點名這兩人', 'content': '2024大選結束，雖然落敗，但外界尋找誰是國民黨內未來最強「母雞」？對此，國民黨立委當選人上午在車隊謝票前受訪表示，台中這一次立委選得好，是市長的操盤、規畫，還有她在台中的政績；另外，選戰中她請台北市長陪同車隊掃街，發現台北市很多的年輕選民，非常喜愛蔣萬安。\\r\\n\\r\\n徐巧芯表示，台中這一次大選席次，國民黨大有斬獲，某種程度來說，相信是盧秀燕整體的選戰操盤跟規畫，還有她在台中的政績，得到大家的肯定，所以才能夠在台中選得這麼好，盧秀燕也有來台北幫她站台，一場活動同時有盧秀燕跟蔣萬安兩人來，本來預計只有2、3百人來，最後來了上千人，就可以知道盧秀燕加蔣萬安雙母雞魅力有多大。\\r\\n\\r\\n另外，她和蔣萬安在選前最後做車隊掃街，深入信義區每一個小巷子，她就發現幾乎大家都會拉開窗戶跟他們打招呼，也是顯示出台北市民，尤其包含很多的年輕選民對蔣萬安的喜愛。\\r\\n\\r\\n徐巧芯說，蔣萬安現在最重要的職責，是把台北市顧好，蔣在這一年來，包括大巨蛋開幕，得到市民肯定；盧秀燕市長已經到了第二個任期，她也說要繼續守在台中，兩個母雞都是國民黨中生代、新生代的崛起，兩位在下一次選戰當中，相信角色會更為重要，也希望中生代、新生代共同努力下，讓更多國民黨比較缺乏的年輕、中間選民，了解國民黨、支持國民黨。\\r\\n\\r\\n\\r\\n\\r\\n', 'url': 'https://udn.com/news/story/123886/7708657?from=udn-referralnews_ch2artbottom'}\n",
            "2024-03-01 08:17:03 [scrapy.core.engine] DEBUG: Crawled (200) <GET https://udn.com/news/story/123475/7748034?from=udn-referralnews_ch2artbottom> (referer: https://udn.com/news/story/123475/7748165?from=udn-referralnews_ch2artbottom)\n",
            "2024-03-01 08:17:03 [scrapy.core.scraper] DEBUG: Scraped from <200 https://udn.com/news/story/123475/7748034?from=udn-referralnews_ch2artbottom>\n",
            "{'title': '院長選舉進入第二輪 韓國瑜訪民眾黨「感謝」卻撲空', 'content': '\\r\\n長選舉中午將進入第二輪投票，預計不進場參與，被外界認為此舉是「暗助」國民黨推薦的立法院長參選人。韓國瑜與國民黨推薦立法院副院長參選人江啟臣中午突到訪民眾黨團辦公室，不過白營立委已出去聚餐，雙方並未見成。韓國瑜表示，已請人表達「感謝」，希望大家未來在立法院「繼續」合作，打造更好的立法院。\\r\\n\\r\\n民眾黨決定自推立法院長參選人黃珊珊。由於院長投票第一輪投票未過半，必須進行第二輪投票，而民眾黨也表明不會參與第二輪投票，在此種情況下，國民黨只要無人跑票，韓國瑜獲相對多數支持，便會成為新任立法院長。\\r\\n\\r\\n外界人士認為，民眾黨深知情勢，所以會做出此舉，便是在立法院長選舉之間，選擇暗助韓國瑜。\\r\\n\\r\\n韓國瑜、江啟臣在中午第二輪投票前，臨時到訪民眾黨團辦公室，不過卻撲空。韓國瑜受訪時表示，民眾黨立委都不在，已去外面聚餐，他們請秘書、助理轉達感謝之意，希望大家未來能繼續在立法院團結合作，一起打造一個更好、更符合人民期待的立法院。', 'url': 'https://udn.com/news/story/123475/7748034?from=udn-referralnews_ch2artbottom'}\n",
            "2024-03-01 08:17:05 [scrapy.core.engine] DEBUG: Crawled (200) <GET https://udn.com/news/story/10930/7730919?from=udn-referralnews_ch2artbottom> (referer: https://udn.com/news/story/9213/7801572?from=udn-relatednews_ch2)\n",
            "2024-03-01 08:17:05 [scrapy.core.scraper] DEBUG: Scraped from <200 https://udn.com/news/story/10930/7730919?from=udn-referralnews_ch2artbottom>\n",
            "{'title': '1年役新兵明報到！徐巧芯爭取進國防委員會 最不滿國防部這方案', 'content': '\\r\\n1年制義務明天入營，爭取加入立院國防委員會的國民黨立委當選人點出教育訓練師資及心理輔導人力不足、基礎裝備的採購等問題，她最不滿提出的「3+1方案（3年讀大學、1年服）」，她質疑改變學生本來的交友等社會化過程，只是為了衝出當兵數字。\\r\\n\\r\\n國民黨立委陳以信去年底質詢國防部長邱國正「3+1方案」推動情況，國防部官員回應，現在僅有5人提出申請，陳以信質疑在實際執行面，學校和學生可能都難以配合。\\r\\n\\r\\n徐巧芯也關心國軍基礎裝備不足的問題，她說，政府只關注大型軍武採購，但缺乏保護軍人安全的基礎裝備，像是手臂炸裂卻沒有止血繃帶，執行海上任務落海後才發現沒有定位系統。\\r\\n\\r\\n徐巧芯最反對的是國防部「3+1方案」，質疑改變學生本來的社會化和交友，應該按照時序慢慢入伍，畢竟現在男性可能會先讀研究所等再服役問題，要顧及平時就學模式，前總統馬英九當時推出半年壯遊，趁著該學期沒有課程，到海外增廣見聞，如今國防部方案反而壓縮大學青春和自我探索階段。\\r\\n\\r\\n徐巧芯也表示，兵役延長1年，國防部等單位該思考，這麼多人長時間入營，相關的場地、師資教育能否足夠，教育訓練是否精進提升？還是變成浪費1年時間？她也提到心理輔導單位，以往4個月役期，大家會覺得睜一眼閉一眼度過，但是如今變成1年，軍中是否有足夠人力關懷役男？\\r\\n\\r\\n徐巧芯指出，1年制役男問題，有些需要明天入營後才會陸續反應，她將持續追蹤。', 'url': 'https://udn.com/news/story/10930/7730919?from=udn-referralnews_ch2artbottom'}\n",
            "2024-03-01 08:17:05 [udn] DEBUG: Spider 已停止，總共爬取 116 篇文章。\n",
            "2024-03-01 08:17:05 [scrapy.extensions.feedexport] INFO: Stored jl feed (116 items) in: udn_100.jl\n",
            "2024-03-01 08:17:05 [scrapy.statscollectors] INFO: Dumping Scrapy stats:\n",
            "{'downloader/request_bytes': 38925,\n",
            " 'downloader/request_count': 117,\n",
            " 'downloader/request_method_count/GET': 117,\n",
            " 'downloader/response_bytes': 3479574,\n",
            " 'downloader/response_count': 117,\n",
            " 'downloader/response_status_count/200': 117,\n",
            " 'dupefilter/filtered': 1150,\n",
            " 'elapsed_time_seconds': 427.075756,\n",
            " 'feedexport/success_count/FileFeedStorage': 1,\n",
            " 'finish_reason': '爬取完成',\n",
            " 'finish_time': datetime.datetime(2024, 3, 1, 8, 17, 5, 839733, tzinfo=datetime.timezone.utc),\n",
            " 'httpcompression/response_bytes': 16960291,\n",
            " 'httpcompression/response_count': 117,\n",
            " 'item_scraped_count': 116,\n",
            " 'log_count/DEBUG': 236,\n",
            " 'log_count/INFO': 18,\n",
            " 'memusage/max': 317665280,\n",
            " 'memusage/startup': 317665280,\n",
            " 'request_depth_max': 8,\n",
            " 'response_received_count': 117,\n",
            " 'scheduler/dequeued': 117,\n",
            " 'scheduler/dequeued/memory': 117,\n",
            " 'scheduler/enqueued': 624,\n",
            " 'scheduler/enqueued/memory': 624,\n",
            " 'start_time': datetime.datetime(2024, 3, 1, 8, 9, 58, 763977, tzinfo=datetime.timezone.utc)}\n",
            "2024-03-01 08:17:05 [scrapy.core.engine] INFO: Spider closed (爬取完成)\n"
          ]
        }
      ]
    },
    {
      "cell_type": "markdown",
      "source": [
        "### jieba套件計算這100篇文章中出現最多的關鍵詞(動詞)"
      ],
      "metadata": {
        "id": "Jrnm_v_xFS3N"
      }
    },
    {
      "cell_type": "code",
      "source": [
        "# 載入 jieba套件\n",
        "! pip install -U jieba"
      ],
      "metadata": {
        "colab": {
          "base_uri": "https://localhost:8080/"
        },
        "outputId": "487a5428-a60d-4a60-fdbc-2a7739d40130",
        "id": "KsUcptsq5KsV"
      },
      "execution_count": 3,
      "outputs": [
        {
          "output_type": "stream",
          "name": "stdout",
          "text": [
            "Requirement already satisfied: jieba in /usr/local/lib/python3.10/dist-packages (0.42.1)\n"
          ]
        }
      ]
    },
    {
      "cell_type": "code",
      "execution_count": 4,
      "metadata": {
        "colab": {
          "base_uri": "https://localhost:8080/"
        },
        "id": "5xZWOKLr5KsX",
        "outputId": "2456d35f-4ad0-4b74-887e-79e85925e7c8"
      },
      "outputs": [
        {
          "output_type": "stream",
          "name": "stdout",
          "text": [
            "0.42.1\n"
          ]
        }
      ],
      "source": [
        "# encoding=utf-8\n",
        "import jieba\n",
        "# jieba 用途是：將文章斷成字\n",
        "\n",
        "# jieba.enable_paddle()# 启动paddle模式。 0.40版之后开始支持，早期版本不支持\n",
        "\n",
        "# 列印jieba版本\n",
        "print(jieba.__version__)"
      ]
    },
    {
      "cell_type": "markdown",
      "source": [
        "想法:\n",
        "先抓[關鍵字]在分析[詞性]，利用結果再遍歷一遍文章看出現的次數"
      ],
      "metadata": {
        "id": "xTQHSUbSARTZ"
      }
    },
    {
      "cell_type": "code",
      "source": [
        "# 作業內容如下：\n",
        "# 想法: 先抓[關鍵字]在分析[詞性]，利用結果再遍歷一遍文章看出現的次數\n",
        "\n",
        "# 載入套件\n",
        "import json\n",
        "import jieba\n",
        "import jieba.posseg as pseg\n",
        "from collections import Counter\n",
        "\n",
        "# 讀取 udn_100.jl 文件\n",
        "filename = 'udn_100.jl'\n",
        "\n",
        "# 存儲所有文章的詞彙\n",
        "all_words = []\n",
        "\n",
        "# 讀取 udn_100.jl 檔案 並同時進行「詞彙切割」\n",
        "with open(filename, 'r', encoding='utf-8') as file:\n",
        "    for line in file:\n",
        "        data = json.loads(line)\n",
        "        content = data.get('content')\n",
        "\n",
        "        # 使用jieba切割詞彙\n",
        "        words = jieba.lcut(content)\n",
        "\n",
        "        # 將詞彙添加到all_words列表中\n",
        "        all_words.extend(words)\n",
        "\n",
        "# 使用Counter計算詞彙出現次數\n",
        "word_counts = Counter(all_words)\n",
        "\n",
        "# 使用 jieba.posseg.lcut 進行中文分詞和詞性標注\n",
        "word_pos_list = jieba.pseg.lcut(''.join(all_words))\n",
        "\n",
        "# 提取動詞\n",
        "verbs = []\n",
        "for word, flag in word_pos_list:\n",
        "    if flag.startswith('v'):\n",
        "        verbs.append(word)\n",
        "\n",
        "# 顯示提取動詞後的結果\n",
        "print(\"文章中的動詞:\", verbs)\n",
        "\n",
        "# 使用Counter計算動詞出現次數\n",
        "verb_counts = Counter(verbs)\n",
        "\n",
        "# 列印出現最多的20個動詞\n",
        "# most_common() ，返回一個按照出現次數由高到低排列的元素列表。\n",
        "top_verbs = verb_counts.most_common(20)\n",
        "\n",
        "# 列印出動詞詞彙與其出現次數\n",
        "for verb, count in top_verbs:\n",
        "    print(f'動詞: {verb} \\t出現次數: {count}')"
      ],
      "metadata": {
        "id": "lP76aFnf8t_c",
        "colab": {
          "base_uri": "https://localhost:8080/"
        },
        "outputId": "8cce60f5-5a55-43b1-8cfc-ca2c02c4777a"
      },
      "execution_count": 6,
      "outputs": [
        {
          "output_type": "stream",
          "name": "stdout",
          "text": [
            "文章中的動詞: ['進入', '收為', '持續', '寫下', '成立', '新高', '到', '並訂', '召開', '會', '去', '運', '大增', '掌握', '重整', '斬', '獲', '發動', '是', '攀', '航展', '取得', '走道', '發動', '見證', '完成', '合作', '伴', '到', '是', '參與', '設計', '造', '灣', '造', '打入', '寫', '精采', '雜', '展', '順', '結', '升級', '交付', '克服', '供應', '飛交', '達成', '服務', '展開', '服務', '是', '發展', '即', '屯', '共計', '能', '收', '自用', '發電', '設備', '建立', '起', '統包', '建置', '瞄準', '儲能', '知名', '發布', '震撼', '宣布', '是', '已婚', '是', '是', '引起', '拍到', '練', '猜測', '是', '可能', '新婚', '是', '提到', '想', '讓', '知道', '結婚', '感到', '興奮', '感謝', '支持', '表明', '會', '採訪', '回應', '相關', '可', '訪問', '言', '保護', '猜測', '是', '是', '身高', '是', '宣布', '引退', '刪除', '猜測', '可能', '赴美', '住', '宣布', '有', '發現', '出賽', '即', '出現', '酷似', '證實', '屬', '實', '可能', '是', '大喊', '認為', '匹配', '有', '認為', '像是', '結婚', '相手', '選手', '選手', '取材', '嫁', '推出', '擴大', '擴大', '補助', '有', '興奮', '出網', '截圖', '見', '有', '分享', '入', '閒', '聊版', '出', '截圖', '顯示', '收到', '署名', '是', '疑惑', '請', '問', '申請', '到', '發現', '有', '是', '解釋', '申請', '會', '依', '申請', '發錢', '申請', '才能', '拿到', '會', '合約', '算', '起', '是', '到', '結束', '會', '詢問', '是', '開始', '申請', '補助', '回應', '是', '到', '可能', '沒有', '推出', '放寬', '補貼', '申請', '使', '補貼', '增加', '可', '照顧', '調升', '補貼', '減輕', '新婚', '育', '負擔', '分享', '入', '入帳', '申請', '收到', '補助', '開心', '收到', '指出', '變化', '影響', '達', '可能', '跌破', '有', '有', '起', '回溫', '報到', '降', '發布', '包括', '影響', '有', '有', '持續', '發生', '發布', '有', '有', '鄰近', '有', '預報', '定宜', '表示', '起', '開始', '轉', '已有', '指出', '加上', '移', '有', '有', '發生', '說', '留意', '可能', '降至', '到', '可能', '跌破', '說', '持續', '受', '影響', '類似', '起', '起', '回升', '指出', '減少', '回升', '可', '說', '是', '預估', '增強', '轉', '可能', '預報', '有', '確定', '尚待', '觀測', '可能', '駕駛', '衝入', '分駐', '造成', '受傷', '送', '到', '無', '生命', '急救', '不治', '受', '發', '逃離', '穿越', '遭', '撞擊', '死亡', '調查', '警察', '分駐', '衝撞', '趕赴', '了解', '是', '受傷', '是', '特考', '擦', '傷', '救災', '救護', '指揮', '分接', '獲報', '開車', '衝進', '分駐', '造成', '受傷', '派遣', '救護', '到', '無', '呼吸', '心跳', '棄', '逃離', '奔', '穿越', '撞擊', '死亡', '造成', '受', '影響', '調查', '衝撞', '分駐', '是', '失竊', '表示', '是', '搶走', '衝入', '分駐', '受到', '撞擊', '送', '急救', '治', '駕駛', '棄', '逃逸', '撞擊', '身亡', '顯示', '分', '衝入', '分駐', '撞破', '撞', '值班', '造成', '受傷', '送抵', '失去', '生命', '搶救', '回天', '受到', '擦傷', '調查', '棄', '逃逸', '奔向', '逃竄', '撞擊', '死亡', '失竊', '遭', '竊取', '發現', '分', '完成', '搬離', '通', '得知', '慰問', '謝', '受', '訪', '表示', '是', '挺拔', '發生', '起', '感到', '會', '撫卹', '屬', '續', '要', '衝撞', '分駐', '能', '表示', '不能', '論斷', '尚待', '指出', '開小', '衝撞', '分駐', '導致', '不治', '感到', '會', '撫卹', '協助', '喪', '要求', '譴責', '犯嫌', '不可', '可惡', '提醒', '提高', '說', '瞭解', '犯', '嫌', '有', '幻', '聽', '攻擊', '查出', '犯', '嫌', '有', '吸毒', '應', '可', '排除', '犯嫌', '收到', '衍生', '行', '工作', '備考', '考', '想', '傾訴', '辭職', '準備', '考', '考', '邁入', '如', '願', '上榜', '讓', '是否', '要', '繼續', '拚', '引起', '討論', '表示', '工作', '接著', '辭職', '繼續', '準備', '考試', '可惜', '考', '沒有', '上榜', '思考', '是否', '停止', '考上', '待', '上班', '談及', '擔憂', '說', '值得', '投入', '去', '考', '可能', '是', '關', '想', '進入', '有', '沒', '到', '準備', '考', '有', '分享', '提及', '認識', '是', '兼職', '考生', '準備', '考試', '考試', '已成', '不到', '考到', '考上', '考上', '發現', '想像', '抱怨', '讓', '反問', '考', '有', '考上', '確定', '值得', '留言', '鼓勵', '認為', '繼續', '考', '落榜', '無', '想', '工作', '考', '考上', '準備', '高考', '工作', '考', '接受', '工作', '要', '做', '覺', '給出', '有', '負擔', '工作', '準備', '考試', '不失', '要', '高考', '沒有', '來', '先考', '上班', '是', '開開', '找', '工作', '準備', '國營', '國營', '考試', '比高', '爆高', '是', '工作', '準備', '直到', '考上', '工作', '考試', '衝', '合一', '選', '到', '賄選', '環', '爆', '參選', '回到', '涉', '要', '起身', '道歉', '選上', '檢調', '追查', '談', '發展', '衝擊', '宣判', '起訴', '認', '使', '隱避', '提案', '彈劾', '督導', '未通', '期待', '有', '審理', '預定', '宣判', '賄選', '賄選', '起訴', '安定', '合', '提及', '保證', '折扣', '經費', '涉', '是', '保證', '作為', '自治', '婉拒', '傳出', '約詢', '綠營', '執政', '具絕', '選舉', '督', '夾攻', '綠營', '感覺', '讓', '希望', '能', '得票', '能', '破', '修到', '靠', '拚連', '任', '召', '回防', '催出', '避免', '跌破', '是', '破', '成', '堪稱', '守住', '升高', '談', '續', '發展', '產生', '衝擊', '任', '有意', '角逐', '作頻', '認為', '拿下', '逾', '呼聲', '賄選', '加上', '如', '可', '徇私', '誤判', '反撲', '推動', '取得', '配', '改為', '提案', '讓', '表示', '說', '要', '合作', '推', '優先', '推出', '反對', '超過', '希望', '聽', '得到', '聽', '進去', '想', '強行', '推出', '附和', '需求', '指出', '縮短', '應該', '配合', '配偶', '檢', '討', '希望', '開啟', '配照', '採行', '是', '生活', '表示', '來', '配', '照顧', '是', '配', '放棄', '是', '議縮', '配', '取得', '反彈', '表示', '提案', '是', '監督', '凝聚', '預錄', '接受', '廣播', '專訪', '有', '反感', '會', '執行', '反擊', '可', '花', '批評', '批評', '指出', '聽', '完', '談話', '回到', '丟掉', '看到', '要求', '遞出', '辭', '呈', '談話', '用過', '排除', '掉', '是', '成', '接受', '專訪', '表示', '看到', '批評', '覺得', '沒有', '希望', '請', '有', '批評', '敢', '講', '會', '批評', '做', '倒灶', '能', '選', '沒皮', '批評', '表示', '有', '需要', '回應', '逝世', '親', '赴', '弔唁', '想到', '是', '找', '覺', '視', '讓', '感嘆', '覺得', '更替', '重返', '執政', '感到', '提及', '批評', '起', '認為', '起', '批評', '綠營', '說', '符合', '認為', '起', '是', '受', '重用', '批馬', '是', '例如', '認為', '包括', '來', '直航', '是', '任', '完成', '看法', '不起', '檢驗', '表示', '退休', '理解', '體諒', '讓', '完成', '改革', '讓', '增強', '成長', '反映', '變動', '退休', '調高', '溯及', '起', '調升', '說', '是', '發展', '退休', '有', '會', '持續', '支持', '讓', '提供', '服務', '讓', '退休', '能', '維持', '生活', '表示', '變動', '退休', '調高', '說', '退休', '理解', '體諒', '讓', '完成', '改革', '讓', '指出', '增強', '成長', '反映', '變動', '退休', '調高', '溯及', '起', '調升', '表示', '是', '發展', '退休', '有', '會', '持續', '支持', '讓', '提供', '服務', '讓', '退休', '能', '維持', '生活', '引起', '主計', '預測', '會', '透露', '會', '主持', '主持', '所得', '統計', '展望', '會', '會', '透露', '主持', '會', '會', '準備', '追問', '退休', '要', '做', '笑', '著', '說', '做', '喜歡', '問', '退休', '會', '會', '表示', '要', '煮', '是', '擔任', '擔任', '主計', '達', '掌管', '答詢', '說', '引起', '來', '成為', '質詢', '出現', '發布', '勞工', '工作', '才能', '達到', '攤開', '是', '回到', '執政', '來', '勞動', '計', '處長', '解釋', '是', '主計', '受', '查', '得來', '調查', '起', '擴大', '涵蓋', '新增', '研究', '發展', '服務', '學', '教育', '務業', '估算', '沒有', '變', '不能', '勞動', '是', '計算', '起', '需', '增加', '勞動', '公布', '需', '工作', '才能', '達到', '解釋', '發布', '呈現', '拉近', '影響', '偏離', '擴大', '回到', '縮小', '服務', '需求', '漲', '跟著', '成長', '執政', '工作', '是', '直到', '縮短', '拉', '開至', '降回', '回歸', '來', '勞動', '分析', '受到', '教育', '選填', '隔離', '影響', '認為', '要念', '隨著', '隔離', '改善', '勞動', '推出', '檢核', '表', '發現', '新進', '沒有', '擬', '推動', '縮短', '憂', '排擠', '能', '奪', '跟著', '搭腔', '不離', '是', '選前', '喊', '包容', '選', '成', '大選', '查察', '介選', '準新', '選前', '唱', '提出', '讓', '綠營', '原訂', '解除', '赴陸', '旅遊', '令', '選', '宣布', '開放', '選前', '出席', '活動', '說', '到', '來', '來', '到', '居留', '生活', '變過', '排除', '配偶', '叫', '選舉', '有', '是', '選舉', '不乏', '喊', '口惠', '配', '遇到', '選舉', '成', '炒作', '認', '灣', '來', '超過', '才能', '使用', '可', '申請', '定居', '有', '健保', '影響', '取得', '縮短', '否', '不能', '說', '穿', '是', '會', '轉彎', '歧視', '預見', '離', '起調', '升', '確定', '調整', '溯', '到', '超過', '退休', '受惠', '表示', '是', '發展', '退休', '有', '會', '持續', '支持', '表示', '退休', '理解', '體諒', '讓', '完成', '改革', '讓', '增強', '成長', '反映', '變動', '退休', '調高', '表示', '受惠', '預估', '預算', '支出', '退撫', '支出', '合計', '起', '疑似', '施壓', '發放', '指出', '發放', '簽證', '暫停', '聯合', '引據', '說', '起', '發放', '簽證', '開始', '限制', '旅遊', '接觸', '說明', '核發', '簽證', '恰逢', '是', '選', '來訪', '晉見', '當選', '批評', '劃下', '告知', '允許', '設立', '關', '跌', '隨', '刪除', '實施', '貿易', '限制', '召回', '是', '關', '降', '辦', '宣布', '退休', '調高', '教育', '認為', '不夠', '跟不上', '修法', '勞保', '隨', '調整', '發文', '指出', '反映', '變動', '維持', '退休', '生活', '退休', '調高', '溯及', '起', '發布', '擔心', '調高', '不夠', '跟不上', '指出', '調整', '應調', '調整', '調整', '積欠', '調整', '起', '算', '沒有', '補足', '積欠', '達', '應', '調整', '加上', '積欠', '應該', '調高', '調', '教產', '公立', '教', '退休', '撫卹', '退休', '勞保', '累計', '成長', '達', '依該', '調整', '要', '退撫', '擬定', '調整', '形成', '對待', '公布', '成長', '進入', '續', '創營', '新高', '結算', '大增', '同寫', '新高', '發布', '說', '運', '大增', '掌握', '重整', '斬', '獲', '發動', '航展', '取得', '走道', '發動', '見', '完成', '合作', '伴', '達', '設計', '是', '參與', '設計', '造', '灣', '造', '打入', '雜', '展', '順', '結', '升級', '交付', '克服', '供應', '飛交', '達成', '服務', '展開', '強調', '服務', '是', '發展', '即', '屯', '共計', '能', '收', '自用', '發電', '設備', '建立', '起', '統包', '建置', '瞄準', '儲能', '進入', '收為', '持續', '寫下', '成立', '新高', '到', '並訂', '召開', '會', '去', '運', '大增', '掌握', '重整', '斬', '獲', '發動', '是', '攀', '航展', '取得', '走道', '發動', '見證', '完成', '合作', '伴', '到', '是', '參與', '設計', '造', '灣', '造', '打入', '寫', '精采', '雜', '展', '順', '結', '升級', '交付', '克服', '供應', '飛交', '達成', '服務', '展開', '服務', '是', '發展', '即', '屯', '共計', '能', '收', '自用', '發電', '設備', '建立', '起', '統包', '建置', '瞄準', '儲能', '指出', '變化', '影響', '達', '可能', '跌破', '有', '有', '起', '回溫', '報到', '降', '發布', '包括', '影響', '有', '有', '持續', '發生', '發布', '有', '有', '鄰近', '有', '預報', '定宜', '表示', '起', '開始', '轉', '已有', '指出', '加上', '移', '有', '有', '發生', '說', '留意', '可能', '降至', '到', '可能', '跌破', '說', '持續', '受', '影響', '類似', '起', '起', '回升', '指出', '減少', '回升', '可', '說', '是', '預估', '增強', '轉', '可能', '預報', '有', '確定', '尚待', '觀測', '可能', '駕駛', '衝入', '分駐', '造成', '受傷', '送', '到', '無', '生命', '急救', '不治', '受', '發', '逃離', '穿越', '遭', '撞擊', '死亡', '調查', '警察', '分駐', '衝撞', '趕赴', '了解', '是', '受傷', '是', '特考', '擦', '傷', '救災', '救護', '指揮', '分接', '獲報', '開車', '衝進', '分駐', '造成', '受傷', '派遣', '救護', '到', '無', '呼吸', '心跳', '棄', '逃離', '奔', '穿越', '撞擊', '死亡', '造成', '受', '影響', '調查', '衝撞', '分駐', '是', '失竊', '表示', '是', '搶走', '衝入', '分駐', '受到', '撞擊', '送', '急救', '治', '駕駛', '棄', '逃逸', '撞擊', '身亡', '顯示', '分', '衝入', '分駐', '撞破', '撞', '值班', '造成', '受傷', '送抵', '失去', '生命', '搶救', '回天', '受到', '擦傷', '調查', '棄', '逃逸', '奔向', '逃竄', '撞擊', '死亡', '失竊', '遭', '竊取', '發現', '分', '完成', '搬離', '通', '得知', '慰問', '謝', '受', '訪', '表示', '是', '挺拔', '發生', '起', '感到', '會', '撫卹', '屬', '續', '要', '衝撞', '分駐', '能', '表示', '不能', '論斷', '尚待', '指出', '開小', '衝撞', '分駐', '導致', '不治', '感到', '會', '撫卹', '協助', '喪', '要求', '譴責', '犯嫌', '不可', '可惡', '提醒', '提高', '說', '瞭解', '犯', '嫌', '有', '幻', '聽', '攻擊', '查出', '犯', '嫌', '有', '吸毒', '應', '可', '排除', '犯嫌', '收到', '衍生', '行', '工作', '備考', '考', '想', '傾訴', '辭職', '準備', '考', '考', '邁入', '如', '願', '上榜', '讓', '是否', '要', '繼續', '拚', '引起', '討論', '表示', '工作', '接著', '辭職', '繼續', '準備', '考試', '可惜', '考', '沒有', '上榜', '思考', '是否', '停止', '考上', '待', '上班', '談及', '擔憂', '說', '值得', '投入', '去', '考', '可能', '是', '關', '想', '進入', '有', '沒', '到', '準備', '考', '有', '分享', '提及', '認識', '是', '兼職', '考生', '準備', '考試', '考試', '已成', '不到', '考到', '考上', '考上', '發現', '想像', '抱怨', '讓', '反問', '考', '有', '考上', '確定', '值得', '留言', '鼓勵', '認為', '繼續', '考', '落榜', '無', '想', '工作', '考', '考上', '準備', '高考', '工作', '考', '接受', '工作', '要', '做', '覺', '給出', '有', '負擔', '工作', '準備', '考試', '不失', '要', '高考', '沒有', '來', '先考', '上班', '是', '開開', '找', '工作', '準備', '國營', '國營', '考試', '比高', '爆高', '是', '工作', '準備', '直到', '考上', '工作', '考試', '衝', '合一', '選', '到', '賄選', '環', '爆', '參選', '回到', '涉', '要', '起身', '道歉', '選上', '檢調', '追查', '談', '發展', '衝擊', '宣判', '起訴', '認', '使', '隱避', '提案', '彈劾', '督導', '未通', '期待', '有', '審理', '預定', '宣判', '賄選', '賄選', '起訴', '安定', '合', '提及', '保證', '折扣', '經費', '涉', '是', '保證', '作為', '自治', '婉拒', '傳出', '約詢', '綠營', '執政', '具絕', '選舉', '督', '夾攻', '綠營', '感覺', '讓', '希望', '能', '得票', '能', '破', '修到', '靠', '拚連', '任', '召', '回防', '催出', '避免', '跌破', '是', '破', '成', '堪稱', '守住', '升高', '談', '續', '發展', '產生', '衝擊', '任', '有意', '角逐', '作頻', '認為', '拿下', '逾', '呼聲', '賄選', '加上', '如', '可', '徇私', '誤判', '反撲', '推動', '取得', '配', '改為', '提案', '讓', '表示', '說', '要', '合作', '推', '優先', '推出', '反對', '超過', '希望', '聽', '得到', '聽', '進去', '想', '強行', '推出', '附和', '需求', '指出', '縮短', '應該', '配合', '配偶', '檢', '討', '希望', '開啟', '配照', '採行', '是', '生活', '表示', '來', '配', '照顧', '是', '配', '放棄', '是', '議縮', '配', '取得', '反彈', '表示', '提案', '是', '監督', '凝聚', '預錄', '接受', '廣播', '專訪', '有', '反感', '會', '執行', '反擊', '可', '花', '批評', '批評', '指出', '聽', '完', '談話', '回到', '丟掉', '看到', '要求', '遞出', '辭', '呈', '談話', '用過', '排除', '掉', '是', '成', '接受', '專訪', '表示', '看到', '批評', '覺得', '沒有', '希望', '請', '有', '批評', '敢', '講', '會', '批評', '做', '倒灶', '能', '選', '沒皮', '批評', '表示', '有', '需要', '回應', '逝世', '親', '赴', '弔唁', '想到', '是', '找', '覺', '視', '讓', '感嘆', '覺得', '更替', '重返', '執政', '感到', '提及', '批評', '起', '認為', '起', '批評', '綠營', '說', '符合', '認為', '起', '是', '受', '重用', '批馬', '是', '例如', '認為', '包括', '來', '直航', '是', '任', '完成', '看法', '不起', '檢驗', '表示', '退休', '理解', '體諒', '讓', '完成', '改革', '讓', '增強', '成長', '反映', '變動', '退休', '調高', '溯及', '起', '調升', '說', '是', '發展', '退休', '有', '會', '持續', '支持', '讓', '提供', '服務', '讓', '退休', '能', '維持', '生活', '表示', '變動', '退休', '調高', '說', '退休', '理解', '體諒', '讓', '完成', '改革', '讓', '指出', '增強', '成長', '反映', '變動', '退休', '調高', '溯及', '起', '調升', '表示', '是', '發展', '退休', '有', '會', '持續', '支持', '讓', '提供', '服務', '讓', '退休', '能', '維持', '生活', '引起', '主計', '預測', '會', '透露', '會', '主持', '主持', '所得', '統計', '展望', '會', '會', '透露', '主持', '會', '會', '準備', '追問', '退休', '要', '做', '笑', '著', '說', '做', '喜歡', '問', '退休', '會', '會', '表示', '要', '煮', '是', '擔任', '擔任', '主計', '達', '掌管', '答詢', '說', '引起', '來', '成為', '質詢', '出現', '發布', '勞工', '工作', '才能', '達到', '攤開', '是', '回到', '執政', '來', '勞動', '計', '處長', '解釋', '是', '主計', '受', '查', '得來', '調查', '起', '擴大', '涵蓋', '新增', '研究', '發展', '服務', '學', '教育', '務業', '估算', '沒有', '變', '不能', '勞動', '是', '計算', '起', '需', '增加', '勞動', '公布', '需', '工作', '才能', '達到', '解釋', '發布', '呈現', '拉近', '影響', '偏離', '擴大', '回到', '縮小', '服務', '需求', '漲', '跟著', '成長', '執政', '工作', '是', '直到', '縮短', '拉', '開至', '降回', '回歸', '來', '勞動', '分析', '受到', '教育', '選填', '隔離', '影響', '認為', '要念', '隨著', '隔離', '改善', '勞動', '推出', '檢核', '表', '發現', '新進', '沒有', '擬', '推動', '縮短', '憂', '排擠', '能', '奪', '跟著', '搭腔', '不離', '是', '選前', '喊', '包容', '選', '成', '大選', '查察', '介選', '準新', '選前', '唱', '提出', '讓', '綠營', '原訂', '解除', '赴陸', '旅遊', '令', '選', '宣布', '開放', '選前', '出席', '活動', '說', '到', '來', '來', '到', '居留', '生活', '變過', '排除', '配偶', '叫', '選舉', '有', '是', '選舉', '不乏', '喊', '口惠', '配', '遇到', '選舉', '成', '炒作', '認', '灣', '來', '超過', '才能', '使用', '可', '申請', '定居', '有', '健保', '影響', '取得', '縮短', '否', '不能', '說', '穿', '是', '會', '轉彎', '歧視', '預見', '離', '起調', '升', '確定', '調整', '溯', '到', '超過', '退休', '受惠', '表示', '是', '發展', '退休', '有', '會', '持續', '支持', '表示', '退休', '理解', '體諒', '讓', '完成', '改革', '讓', '增強', '成長', '反映', '變動', '退休', '調高', '表示', '受惠', '預估', '預算', '支出', '退撫', '支出', '合計', '起', '疑似', '施壓', '發放', '指出', '發放', '簽證', '暫停', '聯合', '引據', '說', '起', '發放', '簽證', '開始', '限制', '旅遊', '接觸', '說明', '核發', '簽證', '恰逢', '是', '選', '來訪', '晉見', '當選', '批評', '劃下', '告知', '允許', '設立', '關', '跌', '隨', '刪除', '實施', '貿易', '限制', '召回', '是', '關', '降', '辦', '宣布', '退休', '調高', '教育', '認為', '不夠', '跟不上', '修法', '勞保', '隨', '調整', '發文', '指出', '反映', '變動', '維持', '退休', '生活', '退休', '調高', '溯及', '起', '發布', '擔心', '調高', '不夠', '跟不上', '指出', '調整', '應調', '調整', '調整', '積欠', '調整', '起', '算', '沒有', '補足', '積欠', '達', '應', '調整', '加上', '積欠', '應該', '調高', '調', '教產', '公立', '教', '退休', '撫卹', '退休', '勞保', '累計', '成長', '達', '依該', '調整', '要', '退撫', '擬定', '調整', '形成', '對待', '知名', '發布', '震撼', '宣布', '是', '已婚', '是', '是', '引起', '拍到', '練', '猜測', '是', '可能', '新婚', '是', '提到', '想', '讓', '知道', '結婚', '感到', '興奮', '感謝', '支持', '表明', '會', '採訪', '回應', '相關', '可', '訪問', '言', '保護', '猜測', '是', '是', '身高', '是', '宣布', '引退', '刪除', '猜測', '可能', '赴美', '住', '宣布', '有', '發現', '出賽', '即', '出現', '酷似', '證實', '屬', '實', '可能', '是', '大喊', '認為', '匹配', '有', '認為', '像是', '結婚', '相手', '選手', '選手', '取材', '嫁', '率', '填息', '傳來', '配息', '出來', '是', '計算', '相信', '會', '讓', '笑', '開懷', '是', '超高', '配', '記得', '掛牌', '分享', '說', '不夠', '有造', '維持', '到', '有', '會', '來', '覺得', '看', '觀察', '調整', '持股', '有', '轉換', '不該', '看待', '是', '開新', '是', '例如', '罩', '是', '新高', '選股', '知道', '沒亂', '選', '研究', '發現', '填息', '率', '超過', '填息', '回答', '獲', '授權', '禁止', '取用', '轉載', '表示', '起伏', '彷彿', '歷', '發布', '起', '受', '影響', '預估', '灣', '論', '貼出', '變化', '到', '跳水', '有', '起伏', '發布', '包括', '影響', '有', '有', '持續', '發生', '表示', '下滑', '轉冷', '到', '帶來', '降至', '持續', '下滑', '有', '會', '下探', '會', '降至', '可能', '有', '出現', '檢署', '搜索', '傳出', '遭', '控涉', '貪', '入', '強調', '調查', '會', '作為', '說明', '檢署', '檢察', '有', '搜查', '行動', '涉及', '相關', '搜索', '偵辦', '了解', '會', '搜查', '牽', '涉', '檢署', '收押', '工務', '處長', '傳出', '涉及', '檢署', '指揮', '偵辦', '搜索', '處長', '住', '搜出', '傳出', '到', '塞', '爆', '涉嫌', '違反', '貪', '治罪', '裁定', '押禁', '飛漲', '讓', '在外', '生活', '勒', '有', '提問', '沒有', '出去', '打工', '提供', '生活', '費', '生活', '需要', '夠', '貼', '認為', '生活', '表示', '算', '生活', '往返', '需要', '表示', '知道', '會', '有', '有', '沒有', '打工', '提供', '生活', '會', '花', '到', '認為', '應該', '保守', '應該', '要', '是', '是', '知道', '含', '會', '幫繳', '是', '到', '有', '打工', '賺', '用得', '不知', '有', '分享', '生活', '上課', '上課', '考慮', '沒錢', '領', '煮', '有', '超難', '生活', '是', '生', '生活', '吃', '檢署', '偵辦', '長涉', '貪瀆', '傳喚', '算有', '認為', '選', '談', '應', '是', '避免', '衝擊', '是否', '衝擊', '選舉', '選舉', '成為', '提款', '是', '選熱', '選', '傳喚', '表示', '爭議', '到', '可能', '到', '會', '是', '提款', '希望', '調查', '應', '決', '聽', '聞', '接受', '檢調', '反問', '沒有', '轉', '收押', '來', '得知', '離開', '檢署', '說', '沒事', '未接', '得知', '看法', '審查', '做出', '是', '決斷', '指稱', '介入', '應', '無涉', '翻覆', '致', '死', '變成', '說明', '選擇', '回應', '質疑', '回應', '只能', '透過', '來', '窺', '觀察', '發文', '可', '發現', '延燒', '到', '開始', '列舉', '統計', '佐', '夾', '抒發', '到', '開始', '反擊', '回應', '批評', '斥責', '認知', '作戰', '發', '出', '知', '宣導', '保育', '管', '寫', '起來', '留言', '延燒', '帶著', '到', '管', '開始', '寫', '表達', '哀悼', '感謝', '支持', '執法', '救援', '統計', '執行', '救援', '希望', '減少', '對峙', '寫', '期待', '善', '持續', '創造', '讓', '變成', '寫', '盛開', '旋轉', '飄下', '撫慰', '來', '發', '開始', '來', '回應', '包括', '強調', '沒有', '隱匿', '反駁', '批評', '貼出', '截圖', '指稱', '認知', '作戰', '要', '強調', '保護', '歡喜', '承受', '有', '愛', '會', '跳出', '承受', '自演', '拍攝', '綁架', '造假', '遭當', '拘捕', '判刑', '遭', '斥為', '拒絕', '說', '引發', '關注', '有', '掌握', '表示', '關在', '容納', '坪', '吃', '吃', '有', '靠北', '直播', '轉錄', '表示', '關在', '吃', '吃', '是', '擁擠', '只能', '坐著', '睡', '引來', '看來', '鬧', '會', '應該', '探險', '摸', '吃', '是', '監獄', '有', '配備', '直播', '帶貨', '賺', '吃', '關', '旅遊', '減肥', '推薦', '推薦', '可白', '綻戀', '綻', '出席', '首映', '追問', '逃跑', '回', '來', '逃不掉', '受訪', '直呼', '自演', '拍攝', '綁架', '造假', '遭當', '拘捕', '判刑', '遭', '斥為', '拒絕', '說', '引發', '關注', '有', '掌握', '表示', '關在', '容納', '坪', '吃', '吃', '說', '離婚', '爆出', '閃', '隔', '不到', '傳出', '分手', '征服', '有', '稱', '到', '旅遊', '分享', '讓', '改觀', '到', '嘆', '發達', '要', '覺得', '喜歡', '導', '演變', '離婚', '結束', '維持', '不到', '表示', '變動', '退休', '調高', '說', '退休', '理解', '體諒', '讓', '完成', '改革', '讓', '指出', '增強', '成長', '反映', '變動', '退休', '調高', '溯及', '起', '調升', '表示', '是', '發展', '退休', '有', '會', '持續', '支持', '讓', '提供', '服務', '讓', '退休', '能', '維持', '生活', '爭取', '進入', '續', '列入', '婉拒', '提名', '出席', '致', '提到', '做', '考慮', '相關', '舉行', '開頭', '打趣', '想', '說', '會', '會', '要', '想想', '應', '表示', '能', '做', '會', '做', '會', '列入', '交接', '感激', '沒有', '提', '笑', '說', '參加', '會', '講', '是', '要求', '拼命', '看有', '沒', '救', '知道', '要', '要求', '弄', '到', '去', '聽', '變成', '解決', '照顧', '照顧', '是', '表示', '跟理', '爭取', '讓', '成為', '聽見', '貼近', '挑戰', '站', '包含', '協助', '發放', '協助', '宣傳', '協助長', '照', '到', '照護', '協助', '舉辦', '知道', '是', '安排', '覺得', '做', '考慮', '做', '指出', '相關', '應', '處理', '監測', '上線', '會', '強化', '供應', '監測', '查詢', '確', '進入', '到', '超高', '化', '需求', '會', '持續', '增加', '結合', '成為', '會', '服務', '修', '確保', '會', '舉行', '選舉', '沒有', '選', '自嘲', '投', '選召', '接到', '說', '見', '想到', '開', '看', '買', '飛', '要', '救回', '住', '名叫', '發現', '失', '安裝', '追', '圈', '打開', '發現', '擔心', '不測', '說', '要', '衝出', '搭', '表示', '打開', '看到', '嚇', '推測', '可能', '是', '抓走', '盯上', '載', '準備', '抓去', '賣掉', '掌握', '到', '位置', '處理', '買', '去', '接回', '加入', '救援', '找到', '載著', '找到', '說', '是', '放在', '接到', '說', '見', '平', '會', '逛', '到', '會', '有', '飼主', '買', '想到', '出現', '幫忙', '找回', '受到', '驚', '嚇', '沒有', '受傷', '認為', '幫', '找', '說', '能', '找到', '管', '會', '戴', '可能', '會', '摘掉', '戴', '看到', '才能', '救回', '被控', '接受', '援', '指使', '撰', '寫', '工作', '干預', '大選', '依', '違反', '起訴', '審判', '否認', '犯罪', '調查', '宣判', '無罪', '檢署', '表示', '收判', '研議', '是否', '上訴', '認定', '有關', '涉犯', '重覆', '起訴', '選罷', '無罪', '確定', '判決', '免訴', '審判', '說', '查辦', '配赴', '旅遊', '退佣', '違反', '選罷', '招攬', '是', '來', '處理', '偵辦', '表示', '是', '歧視', '起訴', '感謝', '審判', '守住', '保障', '沒有', '傾斜', '入', '開心', '大選', '落幕', '進入', '看守', '兌', '選', '急著', '推賴', '調升', '無', '坐實', '選前', '選', '選擇', '兌現', '要', '退休', '回顧', '上任', '成立', '強調', '改革', '改', '改起', '來', '會', '做', '會', '悔', '會', '開', '退休', '開刀', '勞工', '繼續', '拖待', '變', '拿納', '挹注', '勞保', '破產', '燙', '留給', '下任', '改革', '視為', '退休', '扒', '優惠', '定存', '所得', '率', '遞減', '勞保', '設有', '浮動', '檢討', '退休', '定', '累計', '達正', '應予', '調整', '應該', '開會', '檢討', '保障', '退休', '生活', '不受', '波動', '衝擊', '可', '避免', '干擾', '防止', '選前', '刻意', '考試', '開會', '檢討', '調整', '上漲', '超過', '答覆', '表示', '達', '啟動', '調整', '大選', '宣布', '超過', '編列', '調升', '退伍', '退', '巧合', '會', '引發', '告急', '開始', '丟', '退休', '隨著', '選', '補助', '托育', '補助', '選舉', '發放', '退休', '調升', '疑選', '畢露', '視為', '退休', '當成', '是', '綠營', '擬', '推動', '縮短', '改為', '批有', '疑慮', '有', '表達', '有', '能', '可能', '表示', '配', '配', '取得', '符合', '推動', '申請', '來', '定居', '申請', '來', '定居', '會', '增加', '會', '增加', '保負', '擔', '表示', '關', '取得', '改為', '施行', '逾', '配偶', '適用', '入出', '取得', '需', '配偶', '來', '處', '是', '進', '保障', '配偶', '來', '生活', '實現', '保障', '擬', '修法', '讓', '配偶', '配偶', '取得', '符合', '推動', '強化', '指出', '調降', '配偶', '取得', '會', '會', '擴', '配偶', '來', '定居', '影響', '健保', '支出', '強調', '影響', '健保', '支出', '甄強', '調', '居留', '居留', '定居', '表', '配偶', '申請', '來', '定居', '有', '提', '關', '能', '完成', '修法', '可', '申請', '來', '定居', '會', '增加', '會', '增加', '保負', '擔', '化有', '進展', '就該', '進行', '開', '發驗', '使用', '合作', '推進', '合作', '澎湃', '透露', '發', '批', '生產', '公示', '出現', '選', '合作', '有', '採用', '生產', '綜合', '已成', '搭載', '驅', '充電', '報導', '發', '生產', '改款', '使用', '包', '會', '是', '平', '改款', '採用', '是', '創新', '宣傳', '超充', '對待', '低調', '未能', '透露', '猜測', '看', '作為', '表示', '含有', '稱', '分為', '超', '接近', '瞭解', '是', '添加', '提高', '介紹', '有', '使得', '具有', '是', '類似', '具有', '是', '充電', '脫出', '會', '發生', '崩塌', '發揮', '到', '提高', '合', '使用', '能夠', '綜合', '是', '做法', '生產', '生產', '相似', '相反', '應法', '合成', '合成', '適合', '生產', '說', '表示', '應用', '能夠', '表示', '可', '對續', '是', '不夠', '導致', '應用', '表示', '變動', '退休', '調高', '說', '退休', '理解', '體諒', '讓', '完成', '改革', '讓', '指出', '增強', '成長', '反映', '變動', '退休', '調高', '溯及', '起', '調升', '表示', '是', '發展', '退休', '有', '會', '持續', '支持', '讓', '提供', '服務', '讓', '退休', '能', '維持', '生活', '宣布', '結婚', '象是', '讓', '說', '欣賞', '強調', '控', '稱', '不能', '娶', '是', '選', '專注', '來', '有', '沒有', '包含', '主播', '接受', '訪問', '問到', '喜歡', '管', '解釋', '控', '是', '覺得', '給出', '有', '出現', '提及', '符合', '結婚', '指出', '低調', '愛', '碰', '有', '訂下', '禁', '分析', '身為', '要', '照顧', '要', '有', '才能', '幫助', '提到', '希望', '是', '寫道', '是', '運動', '選手', '例如', '是', '是', '推薦', '募集', '看', '配息', '是', '熟悉', '可能', '討論', '引來', '投資', '詢問', '習', '慣', '買', '要領', '配息', '不配', '認為', '來', '幫', '運用', '會', '是', '選擇', '是', '不配', '拉長', '會', '勝配', '有', '聚焦', '造', '會', '用到', '稀有', '佔', '有著', '術', '取代', '是', '做', '出來', '會', '看', '說明', '有', '投資', '懂得', '做功', '認為', '是', '需要', '分工', '存在', '獲利', '要', '尋找', '投資', '可能', '需要', '理解', '調研', '有', '有', '取得', '度要', '克服', '會', '獲', '授權', '禁止', '取用', '轉載', '是', '表示', '注意', '表示', '空', '隨', '著', '來', '到', '表示', '汙染', '轉', '空', '接', '續', '到', '外出', '記得', '戴', '打開', '提醒', '應', '減少', '活動', '警示', '應', '減少', '活動', '提醒', '表示', '持續', '減少', '有', '成', '到', '晴', '持續', '受到', '輻射', '影響', '到', '彰化', '有', '發生', '回升', '來到', '到', '預報', '顯示', '受', '影響', '懸', '浮', '可能', '挾', '帶', '汙染', '影響', '影響', '累積', '變化', '擴散', '有', '汙染', '留意', '活動', '可能', '造成', '汙染', '上升', '可能', '提醒', '提醒', '可能', '達', '警示', '警示', '遭', '控涉', '貪', '遭檢', '調', '搜索', '帶回', '調查', '質疑', '疑與', '有關', '舉行', '會', '援', '進', '下流', '有', '談', '表示', '經發', '遭', '談', '審已', '判刑', '去', '談', '指示', '是', '檢調', '貪瀆', '延宕', '談', '請', '回', '合一', '選選', '追殺', '是', '談', '談', '請', '有', '要', '談', '有', '表示', '選前', '參選', '有', '促轉', '會', '自稱', '宜', '操作', '下流', '調查', '要求', '請', '問', '有', '談', '追殺', '可免', '看到', '制衡', '追殺', '出籠', '回頭', '是', '記長', '說', '擔任', '打造', '包含', '感受', '檢調', '搜索', '有', '貪', '嫌疑', '令', '是', '操作', '可取', '說', '發生', '建商', '有', '無', '涉及', '違反', '移送', '檢調', '偵辦', '要求', '採取', '沒有', '放水', '截至', '沒有', '准予', '可見', '搜索', '談', '是否', '即', '到', '來', '涉犯', '貪', '說', '偵辦', '有', '待', '檢調', '有', '說', '說', '相信', '所知', '願', '無', '願意', '配合', '檢調', '檢署', '是', '裁示', '是', '勸', '說', '希望', '檢調', '有', '記長', '表示', '是', '辦', '辦', '遇到', '競選', '成立', '壽', '查', '說', '請', '問', '辦', '開打', '圍剿', '擴大', '到', '執法', '會', '有', '選前', '偵辦', '在野', '影響', '記長', '說', '發生', '檢調', '收押', '處長', '問', '會', '會', '巧合', '應', '是否', '進入', '抓', '做', '質疑', '是否', '記長', '甄強', '調', '支持', '要', '提出', '訴訟', '相信', '操守', '結合', '表示', '教育', '開設', '融入', '分析', '研究', '如', '使用', '分析', '能', '擔任', '研究', '助理', '激發', '討論', '開設', '學習', '研究', '表示', '運用', '分析', '歸納', '提出', '辯證', '反思', '應用', '驗', '整成', '學習', '研究', '能', '下咒', '談到', '進行', '討論', '會', '讓', '擔任', '提出', '相反', '有', '加入', '刺激', '討論', '論', '推進', '深入', '說', '促進', '討論', '達到', '創新', '是', '需要', '有', '能', '作出', '了解', '如', '捏造', '存在', '培養', '提問', '要', '甄別', '給予', '提到', '革命', '說為', '例', '引導', '使用', '刺激', '思考', '詰問', '得以', '讓', '出', '譬如', '切入', '能', '了解', '提出', '視為', '使', '討論', '能', '提升', '談到', '關懷', '是', '取代', '可透', '分析', '可', '發揚', '不能', '生', '表示', '衝擊', '要', '迎向', '遜', '希望', '能', '融入', '處理', '盼', '達成', '協作', '生', '表示', '期望', '成為', '發現', '使用', '搜集', '解讀', '能', '發現', '編寫', '缺乏', '獨', '相信', '無法', '取代', '創作', '推出', '學習', '融入', '應用', '發展', '研究', '錄', '思考', '運算', '通識', '有', '檢調', '談', '引發', '表示', '提前', '達到', '要求', '能', '提前', '達標', '讓', '是否', '有', '膩', '有', '傳喚', '表示', '未能', '會', '遭', '談', '有', '爆彈', '綠營', '呼籲', '拿來', '操作', '影響', '檢警', '偵辦', '介', '指出', '涉及', '貪瀆', '審遭', '判', '審', '改判', '羈押', '有', '相信', '檢調', '掌握', '有', '會', '傳喚', '相信', '檢調', '掌握', '期待', '盡', '表示', '不能', '假借', '做', '會', '約談', '奉', '勸', '要', '不能', '說', '放水', '呼籲', '依', '偵辦', '怕', '影響', '選舉', '刻意', '避開', '表示', '配合', '是', '例外', '作為', '操作', '影響', '檢警', '偵辦', '遭', '汙名', '看見', '開', '翻覆', '釀', '死', '承諾', '會', '監督', '表示', '執法', '執法', '表示', '執法', '看到', '扭曲', '做', '應', '著', '說', '感到', '不解', '覺得', '唱和', '執', '認為', '呼籲', '要', '應該', '秉持', '處理', '刻意', '抹黑', '謾罵', '執法', '希望', '持續', '來', '處理', '保障', '導', '演變', '離婚', '結束', '維持', '不到', '頂著', '讓', '傳出', '圈外', '分享', '維持', '不到', '破滅', '指', '思考', '決定', '離婚', '不見', '離婚', '表示', '作', '回應', '盼', '諒解', '推薦', '可白', '綻戀', '綻', '出席', '首映', '追問', '逃跑', '回', '來', '逃不掉', '受訪', '直呼', '自演', '拍攝', '綁架', '造假', '遭當', '拘捕', '判刑', '遭', '斥為', '拒絕', '說', '引發', '關注', '有', '掌握', '表示', '關在', '容納', '坪', '吃', '吃', '說', '離婚', '爆出', '閃', '隔', '不到', '傳出', '分手', '征服', '有', '稱', '到', '旅遊', '分享', '讓', '改觀', '到', '嘆', '發達', '要', '覺得', '喜歡', '導', '演變', '離婚', '結束', '維持', '不到', '到', '旅遊', '分享', '讓', '改觀', '到', '嘆', '發達', '要', '覺得', '喜歡', '分享', '旅遊', '覺得', '喜歡', '沒有', '像', '說', '沒有', '強調', '撇開', '是', '認為', '放下', '成見', '執著', '看待', '會', '變', '引發', '愛', '引發', '論戰', '掀起', '上表', '想法', '認同', '是', '到', '認為', '是', '愛', '生活', '完畢', '推薦', '推薦', '可白', '綻戀', '綻', '出席', '首映', '追問', '逃跑', '回', '來', '逃不掉', '受訪', '直呼', '自演', '拍攝', '綁架', '造假', '遭當', '拘捕', '判刑', '遭', '斥為', '拒絕', '說', '引發', '關注', '有', '掌握', '表示', '關在', '容納', '坪', '吃', '吃', '說', '離婚', '爆出', '閃', '隔', '不到', '傳出', '分手', '征服', '有', '稱', '到', '旅遊', '分享', '讓', '改觀', '到', '嘆', '發達', '要', '覺得', '喜歡', '導', '演變', '離婚', '結束', '維持', '不到', '開通', '不到', '有', '追', '分享', '拍', '限動', '有', '玩', '吹', '害', '發表', '表現', '出', '感', '表示', '組', '開通', '貼', '是', '拍', '拍', '知道', '看到', '會', '嚇', '跳', '感謝', '幫', '拍照', '表示', '失落', '是', '讀', '考', '應', '適合', '拍照', '留言', '盛', '創造', '出道', '拜', '帥', '有', '是', '不行', '透露', '說', '組', '適合', '是', '留言', '回應', '可能', '換掉', '簽', '施行', '隨', '進展', '進', '簽名', '邀請', '舉行', '會', '呼籲', '擁抱', '支持', '提案', '簽', '簽', '等同', '確認', '說', '顯示', '簽', '有', '達', '排除', '適用', '論', '排除', '適用', '授予', '緩衝', '提案', '強調', '衝期', '不該', '讓', '要求', '應用', '需求', '調查', '研究', '公布', '表示', '簽', '是', '立', '撥接', '要', '邁入', '可能', '加上', '簽名', '足以', '可信', '有', '要求', '簽名', '期待', '簽', '來', '調整', '認為', '需要', '驗證', '申請', '確認', '簽名', '需要', '到', '造成', '排長', '待', '強化', '簽', '提到', '符合', '簽署', '推定', '簽署', '相信', '會', '使用', '進', '推展', '到', '提供', '行動', '位化', '說', '簽', '有', '包含', '簽署', '搭配', '來', '使用', '提升', '進', '搭配', '可', '採取', '帶出', '完成', '簽署', '可', '採用', '證以', '保護', '創辦', '認為', '運用', '相信', '會', '促進', '發展', '呼籲', '只限', '核發', '應用', '實在', '受限', '期待', '是', '核發', '分級', '應用', '會', '會', '飛', '會', '說', '想', '養', '選擇', '能', '可愛', '要', '挑選', '適合', '注意', '見', '有', '如', '如', '愛', '擅長', '講話', '講', '會', '是', '戰鬥', '挑選', '考慮', '適合', '飼養', '住', '可能', '適合', '可能', '會', '鄰居', '可能', '合養', '造', '不想', '可能', '要', '棄', '寵', '好玩', '吃', '便成', '上作', '畫', '是', '發生', '喜歡', '會', '講', '選擇', '喜歡', '選擇', '喜歡', '選擇', '折衷', '喜歡', '萌', '選擇', '是', '統計', '出來', '來', '親', '是', '要', '看', '選到', '培', '養', '選好', '適合', '看到', '可愛', '要', '問', '沒斷', '確認', '存放', '下鎖', '是否', '有', '繼續', '餵', '加上', '到', '餵食', '有', '適應', '可能', '會', '束手', '挑戰', '沒有', '要', '說', '挑選', '請', '挑選', '到', '檢查', '接著', '詢問', '是否', '有驗', '驗過', '難以', '觀辨', '認', '透過', '檢驗', '分', '會', '是', '發達', '賜', '有', '賣', '做', '檢驗', '確保', '是', '沒有', '感染', '到', '傳染', '帶著', '要', '做', '來', '需要', '做', '檢查', '看看', '有', '沒有', '寄生', '感染', '有', '沒有', '請', '飼養', '沒有', '提供', '檢驗', '檢驗', '有', '提供', '服務', '是', '認識', '有', '生意', '想', '找', '是', '有', '可能', '找', '不到', '找到', '是', '做', '要', '確認', '準備', '迎接', '到', '有', '沒有', '有', '沒有', '足夠', '準備', '適', '合', '會', '會', '準備', '要', '知道', '可能', '超過', '可能', '有', '做好', '準備', '讓', '開心', '迎接', '到', '來', '授權', '刊登', '禁止', '轉載', '擬', '推動', '縮短', '憂', '排擠', '能', '奪', '跟著', '搭腔', '不離', '是', '選前', '喊', '包容', '選', '成', '大選', '查察', '介選', '準新', '選前', '唱', '提出', '讓', '綠營', '原訂', '解除', '赴陸', '旅遊', '令', '選', '宣布', '開放', '選前', '出席', '活動', '說', '到', '來', '來', '到', '居留', '生活', '變過', '排除', '配偶', '叫', '選舉', '有', '是', '選舉', '不乏', '喊', '口惠', '配', '遇到', '選舉', '成', '炒作', '認', '灣', '來', '超過', '才能', '使用', '可', '申請', '定居', '有', '健保', '影響', '取得', '縮短', '否', '不能', '說', '穿', '是', '會', '轉彎', '歧視', '預見', '離', '競爭', '訪台', '獲', '接見', '強調', '關', '來', '健', '若', '說', '即', '卸任', '歡迎', '到', '試', '聽', '大笑', '感謝', '歡迎', '謝謝', '閱讀', '產出', '希望', '閱讀', '說', '統見', '是', '舉行', '活動', '感冒', '會', '毀', '籌備', '活動', '拿出', '表現', '活動', '能夠', '是', '訪', '有', '要', '展現', '支持', '感謝', '關', '來', '健', '若', '搭', '來', '思考', '連任', '發生', '應該', '是', '來', '是', '印', '見', '是', '表示', '活動', '想起', '勝利', '是', '需要', '站', '出來', '捍衛', '感謝', '展現', '有', '遭受', '攻擊', '遭受', '攻擊', '要', '保持', '才能', '傳給', '表示', '知道', '即', '卸任', '有', '歡迎', '到', '試', '聽', '大笑', '說', '致', '表示', '是', '競爭', '來訪', '證實', '伴', '關', '是', '發展', '說', '蓋', '飛到', '飛', '到', '展現', '是', '到', '有', '花', '才能', '見到', '表示', '關', '有', '是', '是', '有', '超過', '示範', '選舉', '舉行', '是', '是', '是', '貿易', '伴', '出口', '是', '出口', '希望', '繼續', '有', '貿易', '關', '是', '著', '可', '說', '是', '是', '希望', '希望', '勝利', '受訪', '提問', '回應', '冷血', '管', '手摸', '回應', '看看', '批評', '直批', '鼓勵', '摸', '捍衛', '摸', '表示', '是', '做', '觸摸', '構成', '提問', '去', '摸', '實在', '超過', '有', '跟', '摸', '嚇', '跳', '覺得', '會', '伸手', '摸', '管', '是否', '應該', '呼籲', '表示', '調', '摸', '摸', '會', '會', '會', '開始', '批評', '說', '是', '騷', '摸', '沒有', '關', '應該', '要', '保護', '來', '會', '沒', '有意', '願', '觸碰', '應', '抗議', '會', '是', '要', '保持', '是', '開議', '要', '搶', '怕', '碰觸', '到', '騷', '跳到', '表示', '來講', '是', '去', '碰', '說', '是', '騷', '來', '搶', '是', '倒', '叫', '敢', '伸手', '去', '推', '來', '想想', '縮', '回來', '說', '騷擾', '覺得', '騷擾', '捍衛', '發展', '公布', '推出', '新增', '提供', '是', '供應', '發展', '表示', '撤', '辣', '會', '看待', '賣', '導', '發展', '表示', '所持', '轉化', '推動', '表示', '預期', '供應', '可建', '增加', '供應', '估計', '增至', '提供', '有', '滾存', '來', '加入', '測量', '估', '計', '測量', '執行', '預計', '重推', '涌新', '擴展', '矚目', '指出', '表示', '推', '是', '考慮', '供應', '接近', '達標', '推出', '可', '提供', '表示', '發展', '有', '鄰近', '站', '相信', '發', '展商', '有', '有', '推出', '加上', '鄰近', '發展', '反映', '想透', '測試', '避免', '研究', '稱', '發展', '滾存', '作', '相應', '調整', '剔走', '加入', '保留', '視乎', '拆', '作', '準備', '屬', '做法', '有', '反映', '有', '交付', '安置', '到', '違規', '出租', '持有', '補', '繳價', '獲得', '不得', '轉讓', '出租', '有', '表示', '手握', '關', '搞', '定', '相關', '表示', '追查', '導', '置翔', '進', '有', '搭訕', '有', '入住', '是', '交付', '不到', '允許', '出租', '說', '費', '下同', '有', '打', '有', '需求', '適', '吃香', '自稱', '掌握', '租下', '加價', '轉租', '有', '關', '搞', '定', '管理', '表示', '是', '不能', '出租', '發現', '要', '上報', '手握', '去', '表示', '從開', '發商', '租', '承諾', '續', '會', '追查', '違規', '出租', '保障', '深入', '查處', '查實', '會', '轉', '應', '處置', '宣布', '結婚', '提到', '震驚', '獻', '有', '哀嚎', '請', '上班', '表結', '洗版', '稱', '保護', '做法', '玩笑', '表示', '想', '打球', '選擇', '才能', '慶祝', '結婚', '是', '直到', '拍到', '有', '請', '上班', '應', '嫁', '彷彿', '聽', '到', '哀鳴', '開放', '崩潰', '宣布', '結婚', '會', '出現', '大跌', '結婚', '會', '發生', '推薦', '是', '身為', '來', '表明', '想賣', '掉', '持有', '轉存', '轉變', '緊發', '吸引', '會', '來', '評估', '是否', '值得', '納入', '投資', '嚴選', '獲利', '追', '指', '調整', '挑選', '提前', '是', '調整', '換', '贏', '追', '指', '達', '能', '運用', '搭配', '有望', '達到', '打造', '退', '適合', '入手', '以標', '所得', '估算', '搭配', '配息', '設計', '存', '免課', '健保', '補充', '保費', '灣', '值', '融合', '投資', '篩', '選出', '賺', '有', '審核', '增長', '兼得', '投信', '具有', '發行', '經驗', '發行', '灣', '值', '期待', '配息', '配息', '具', '免課', '保', '能存', '所得', '有望', '能', '有', '領到', '發行', '能', '存', '會', '看', '募集', '有', '投資', '獲', '授權', '禁止', '取用', '轉載', '評鑑', '出爐', '造成', '變動', '起', '新增', '治療', '附屬', '是', '變', '表示', '評鑑', '完成', '評鑑', '工作', '升級', '申請', '申請', '具', '申請', '表示', '急', '診掛', '不變', '負擔', '配合', '代收', '調整', '轉診', '診掛', '號費', '負擔', '調整', '起跳', '指出', '簽署', '需在', '成立', '升為', '承受', '考驗', '接受', '評鑑', '升級', '起', '面臨', '考驗', '增加', '引發', '做好', '準備', '提醒', '會', '挨', '罵', '要', '頂', '住', '評鑑', '是', '變成', '指出', '有', '申請', '評鑑', '指出', '起', '變為', '看診', '設備', '沒縮', '減', '維持', '能', '減輕', '持續', '提升', '見', '出現', '保署', '要求', '門診', '減量', '減量', '逐', '增加', '擔心', '流失', '綜合', '提出', '申請', '降級', '舉動', '引起', '重視', '公布', '評鑑', '訂出', '申請', '例如', '可', '超過', '申請', '健保', '服務', '超過', '可', '申請', '健保', '服務', '超過', '自動', '少見', '說', '健保', '分級', '無法', '殺', '生存', '健保', '開辦', '超過', '不到', '斬', '轉成', '診所', '放任', '惡化', '式微', '影響', '傳', '出', '入', '疑似', '涉', '貪', '遭', '檢調', '帶走', '調查', '希望', '調查', '確定', '訛', '傳', '訛', '回應', '指出', '處理', '配合', '調查', '無', '表示', '身為', '堅持', '拚建', '謀', '捍衛', '奮戰', '強調', '檢調', '偵查', '相關', '有待', '調查', '說明', '有助', '配合', '調查', '期盼', '審理', '希望', '調查', '確定', '訛', '傳', '訛', '了解', '檢調', '突襲', '搜索', '要', '進行', '帶走', '調查', '檢署', '發布', '檢察', '問', '認', '涉有', '貪', '治罪', '請', '羈押', '知', '讀', '分享', '看見', '招聘', '工讀', '生', '換算', '成', '稱', '是', '工作', '工作', '收入', '可', '超', '收入', '正職', '引發', '交換', '生', '出', '工讀', '招募', '驚呼', '工資', '分享', '留言', '表示', '說', '所謂', '收入', '統計', '認為', '是', '吹噓', '不能', '說', '實', '是', '相差', '來', '說', '超過', '是', '覺得', '服務', '會', '輸', '分析', '起', '下', '生活', '拿', '去', '可能', '會', '覺得', '拿', '去', '可能', '拿', '去', '會', '覺', '覺得', '去', '會', '嚇', '勞工', '進', '拿出', '討論', '起', '生', '打工', '打工', '有', '上限', '生來', '進修', '勞動', '工作', '工作', '不受', '限制', '注意', '勞動', '工作', '勞工', '調整', '增至', '工讀', '生職', '翻覆', '請', '代為', '轉達', '致哀', '表達', '生命', '傷害', '發布', '表示', '是', '要', '感謝', '支持', '持續', '關心', '會', '持續', '促進', '合作', '希望', '發展', '創造', '贏', '造福', '強調', '繼續', '堅持', '持續', '互信', '發揮', '影響', '成為', '維護', '發展', '是', '承諾', '指出', '發生', '進行', '稽查', '行動', '造成', '落水', '死亡', '實在', '感到', '表明', '沒有', '溝通', '是', '持續', '推動', '避免', '發生', '誤判', '表示', '認為', '相信', '能', '起', '會', '表達', '哀悼', '遇到', '請', '代為', '轉達', '致哀', '認為', '維護', '應', '有關', '應有', '究', '視', '撫慰', '應該', '可能', '呼籲', '執政', '行動', '自制', '升高', '關', '讓', '反應', '到', '發展', '表示', '意識', '到', '是', '防止', '衝突', '維持', '透過', '扮演', '在野', '監督', '不得', '做出', '違反', '作為', '表示', '雜', '應該', '堅持', '相向', '促進', '合作', '生命', '傷害', '預計', '談', '繼續', '續', '在野', '擬', '推動', '取得', '配', '改為', '受訪', '說', '需', '持', '保留', '到', '為止', '沒有', '公布', '優先', '擬', '關', '配', '取得', '配', '改為', '表態', '支持', '繼續', '質詢', '接受', '聯訪', '作出', '說明', '說', '重視', '給予', '保障', '配偶', '有', '保障', '說', '有', '相關', '需要', '列入', '討論', '配', '是', '討論', '談', '指出', '到', '為止', '是', '是', '無', '修法', '在野', '想要', '提出', '縮短', '變為', '需要', '處理', '是', '在野', '提出', '持', '保留', '合作', '開設', '研究', '講', '通識', '相關', '選課', '合作', '開設', '參與', '研究', '展開', '介紹', '統', '營運', '創新', '育成', '出席', '說', '有', '安排', '具備', '臨床', '經驗', '擔任', '講', '涵蓋', '創新', '幫助', '了解', '發展', '包括', '研究', '影像', '創新', '治療', '如', '免疫', '治療', '了解', '應用', '灣', '聯', '合', '學', '系', '統', '合作', '研究', '推動', '建立', '互惠', '關', '簽署', '合作', '研究', '發展', '進行', '合作', '進行', '互惠', '不滿', '發言', '發言', '指', '透露', '猶如', '讓', '告求', '償', '要求', '刊登', '判決', '判', '免賠', '上訴', '改判', '賠償', '稱', '是', '教育', '出', '工資', '驗證', '只能', '隨', '發言', '反擊', '截圖', '告', '透露', '猶如', '詐騙', '讓', '稱辦', '有', '認為', '沒有', '查證', '提', '訴訟', '要求', '賠償', '刊登', '判決', '審', '表示', '看', '沒有', '透露', '是', '可受', '無需', '說', '上網', '買', '詐騙', '騙', '走', '詐騙', '有', '注意', '相關', '洗版', '超過', '覺得', '是', '受損', '貼', '截圖', '顯示', '工作', '明知', '辦', '有', '合理', '查證', '指', '像', '詐騙', '造成', '評價', '侵害', '告知', '有', '願意', '刪除', '表示', '在意', '是', '是', '惡意', '查證', '需打', '知道', '有', '做', '認為', '猶如', '詐騙', '讓', '詐騙', '提供', '發表', '意見', '是', '進入', '應退', '讓', '就算', '保障', '判', '敗訴', '上訴', '廢棄', '審判', '決', '改判', '賠', '有養', '會', '帶去', '洗澡', '衍伸', '消費', '包含', '溝通', '是', '受傷', '死亡', '保處', '提醒', '飼主', '消費', '簽訂', '要', '溝通', '建議', '選擇', '處說', '是', '結束', '發現', '消費', '沒有', '是', '符合', '期望', '預期', '是', '溝通', '飼主', '做', '討論', '了解', '導致', '受傷', '咬傷', '使用', '到', '會', '是', '見', '死亡', '發現', '無法', '行走', '有', '住', '表示', '去', '發現', '變', '詢問', '沒有', '受傷', '是', '發生', '只能', '作罷', '治療', '轉', '決定', '去', '有', '裝', '安心', '進行', '發生', '處', '提醒', '飼主', '消費', '成為', '消費', '進行', '告知', '消費', '可能', '加價', '相關', '服務', '告知', '期望', '獨', '有', '服務', '建議', '選擇', '有裝', '面臨', '消費', '提供', '影像', '有助', '了解', '發生', '像', '生活', '增加', '需要', '妥協', '會', '讓', '分享', '養', '競爭', '訪台', '回應', '稱', '進行', '反對', '干涉', '敦促', '妥善', '處理', '涉台', '發出', '發言', '例行', '會', '表示', '是', '敦促', '認清', '雜', '恪守', '聯合', '妥善', '處理', '涉台', '停止', '停止', '獨', '分裂', '發出', '持續', '表示', '應該', '要', '落幕', '會', '當作', '發展', '值得', '探討', '會', '有', '研究', '來', '做', '深入', '探討', '希望', '發展', '翻覆', '發言', '點名', '隱瞞', '推諉', '卸責', '沒有', '道歉', '對善', '工作', '設置', '冷血', '繼續', '進行', '詢', '受訪', '表示', '檢察', '是', '值得', '追問', '看待', '辦', '批評', '冷血', '手摸', '回應', '看看', '競爭', '結束', '訪台', '原訂', '提早', '表示', '訪問', '出訪', '見', '得以', '交換', '意見', '發布', '表示', '競爭', '團訪', '問', '訪問', '出訪', '指出', '包括', '譯', '提', '譯', '譯', '強生', '譯', '訪台', '表示', '透過', '得以', '相關', '交換', '意見', '原訂', '發布', '指出', '訪', '結束', '訪台', '採取', '出名', '參與', '見', '接受', '訪問', '擴張', '動搖', '表示', '應', '伴', '建立', '協調', '抵制', '迫行', '發出', '會', '追求', '侵略', '競爭', '率', '跨', '抵台', '訪問', '發', '出新', '聞稿', '表示', '有', '相關', '交換', '意見', '結束', '訪台', '發出', '離台', '表示', '率領', '團訪', '問', '訪問', '出訪', '包括', '拉', '提', '表示', '透過', '得以', '有', '相關', '交換', '意見', '宣布', '結婚', '象是', '讓', '說', '欣賞', '強調', '控', '稱', '不能', '娶', '是', '選', '專注', '來', '有', '沒有', '包含', '主播', '接受', '訪問', '問到', '喜歡', '管', '解釋', '控', '是', '覺得', '給出', '有', '出現', '提及', '符合', '結婚', '指出', '低調', '愛', '碰', '有', '訂下', '禁', '分析', '身為', '要', '照顧', '要', '有', '才能', '幫助', '提到', '希望', '是', '寫道', '是', '運動', '選手', '例如', '是', '是', '推薦', '是', '配組', '來到', '新高', '是', '聯詠', '截至', '是', '進', '是', '截至', '超過', '是', '收盤', '配息', '調高', '到', '換算', '合計', '新高', '調高', '配息', '住', '招牌', '行動', '做到', '宣布', '預言', '到', '漫', '像是', '配息', '縮水', '配', '成為', '配息', '縮水', '成', '發生', '沒有', '是', '告訴', '要', '看', '離', '聳聽', '會', '受', '影響', '判斷', '會', '干擾', '繼續', '上漲', '帶動', '累積', '到', '是', '表現', '是', '是', '排名', '上升', '跳', '包含', '有', '即', '加入', '續', '會', '變化', '有', '繼續', '打敗', '敬請', '期待', '獲', '授權', '禁止', '取用', '轉載', '縮短', '現行', '縮短', '列為', '優先', '引發', '稱縮', '會', '導致', '排擠', '影響', '點值', '收入', '發起', '連署', '已有', '逾', '響應', '指出', '健保', '會', '造成', '響', '損失', '管理', '表示', '發動', '是', '縮短', '是', '綜合', '有關', '來', '說', '影響', '包括', '服務', '使用', '縮短', '會', '健保', '造成', '影響', '指出', '占', '屬', '健保', '投保', '使用', '健保', '是', '綜合', '分布', '進行', '論證', '會', '知道', '提早', '會', '健保', '造成', '連署', '提到', '屬', '要求', '做', '檢驗', '檢查', '稱', '舉會', '造成', '排擠', '表示', '屬', '指引', '決定', '是否', '開立', '健保', '檢驗', '檢查', '不符', '適應', '會', '要求', '自費', '檢查', '開立', '不符', '指引', '檢驗', '會', '健保', '踢退', '是', '無涉', '不該', '傳出', '涉入', '檢署', '涉嫌', '知', '痛批', '淪為', '籌', '碼', '回應', '處理', '配合', '調查', '強調', '無', '檢調', '偵查', '期望', '透過', '建設', '引發', '傳出', '工務', '處長', '即', '遭', '搜索', '傳出', '住', '搜出', '達', '傳', '遭檢', '調', '搜索', '是否', '涉嫌', '收賄', '放水', '使照', '建照', '核發', '檢調', '持', '續', '偵', '辦', '表示', '質疑', '收受', '競選', '免費', '使用', '建設', '預售', '作為', '競選', '疑', '有', '關', '傳出', '疑似', '涉', '貪', '遭', '調查', '懷疑', '是否', '不顧', '居住', '說', '塌陷', '放行', '讓', '建', '申報', '能', '發現', '收受', '建設', '獻', '說', '涉', '調查', '會', '會', '成為', '貪', '傳出', '交換', '來', '隨著', '大選', '落幕', '表示', '推測', '來', '應', '會', '呼籲', '應釋', '出', '善意', '如', '來', '納入', '讓', '不用', '再循', '啟擬', '位生', '續', '研修', '是', '學', '生', '表示', '選', '表示', '取消', '研修', '交換', '生來', '交換', '意見', '認為', '辦選', '認為', '配當選', '推估', '會', '採取', '交換', '生', '有望', '持續', '辦理', '形同', '踩著', '承認', '無法', '期待', '看', '分', '有望', '繼續', '開放', '交換', '生', '來', '有', '取消', '是', '想', '不用', '想', '評估', '應', '會', '輔導', '問', '執行', '認為', '不能', '取消', '赴', '放大', '來', '包括', '生', '包括', '辦理', '申請', '指出', '管', '委', '會', '稱', '已有', '來', '研修', '審核', '相信', '是', '審核', '認為', '執政', '應', '大陸', '來', '納入', '讓', '不用', '辦理', '來', '簡化', '起', '擬定', '位生', '招生', '建議', '制定', '出名', '釋出', '善意', '表示', '有', '有訂', '反向', '不變', '做法', '即', '不變', '可能', '施壓', '能', '配合', '有', '交換', '生', '分享', '察', '發現', '有', '自認', '有', '來到', '覺得', '修養', '提升', '指出', '管', '認', '有', '重視', '來', '發現', '有', '列舉', '觀察', '到', '直呼', '來到', '修養', '得到', '提升', '是', '是', '會', '抱歉', '掛', '沒有', '行駛', '讓', '拿', '是', '接遞', '傾', '彎以', '表', '會', '自動', '停下', '來', '笑笑', '冷著', '會', '感染', '貼', '見', '表示', '讓', '讓', '有夠', '懷疑', '知道', '是', '會', '發生', '看', '讓', '可能', '撞', '住', '改善', '感受', '不到', '實行', '讓', '讓', '有待', '改進', '改善', '讓', '得到', '認同', '搭', '成', '看到', '滿手', '會', '問', '要', '到', '講', '請', '不起', '會', '訪問', '表示', '是', '延續', '訪陸', '工作', '求學', '拜', '訪陸', '適當場合', '表達', '指出', '訪陸', '開始', '安排', '赴', '拜年', '見', '排斥', '有', '會', '請', '轉達', '發生', '罹難', '表達', '哀悼', '慰問', '表達', '持續', '惡化', '希望', '能夠', '透過', '公布', '能夠', '維持', '避免', '衝突', '類似', '發生', '表示', '凸顯', '缺乏', '遇到', '突發', '會', '升高', '存在', '歧見', '是', '管控', '關', '應該', '對話', '宣稱', '持續', '尋求', '可能', '拿', '出具', '指出', '在野', '捍衛', '維護', '安定', '維', '關', '使命', '沒有', '改變', '身為', '在野', '缺乏', '去', '緩', '碰到', '停止', '是', '訪', '預計', '日出', '到訪', '聚居', '包括', '深顧', '問', '工作', '舉行', '開幕', '邀請', '到', '進', '揭開', '出席', '開幕', '鼓勵', '選手', '能', '有', '活躍', '表現', '感謝', '籌備', '付出', '肯定', '做', '活躍', '體現', '創新', '融合', '有', '出賽', '出席', '開幕', '介紹', '選手', '拿出', '表現', '希望', '能', '拿出', '表現', '留下', '是', '繼', '舉辦', '集結', '位', '選手', '爭鋒', '包含', '組及', '起為', '舉行', '開學', '開始', '繳交', '發文', '表示', '學著', '獨立', '是', '學費', '交給', '繳交', '花', '得知', '要', '想', '令', '不解', '要', '生出', '來', '提到', '認為', '獨立', '是', '學費', '交給', '繳費', '想到', '到', '繳費', '打', '聽', '說', '堅持', '要', '想', '提議', '用借', '生活', '表示', '知道', '看著', '哭著', '道歉', '得知', '說', '要', '離婚', '認為', '沒出', '犯', '不能', '原諒', '直呼', '要', '生出', '來', '貼', '倒', '認同', '做法', '要', '溺', '愛', '成', '啃', '啃到', '出來', '變', '沒有', '了解', '知道', '放縱', '寵溺', '會', '變成', '造成', '是', '想', '離婚', '不理', '叫', '去', '打工', '申請', '是', '是', '有', '點絕', '寵', '支持', '做法', '償還', '塌下', '來', '有', '擋著', '有', '指出', '花', '去', '要', '收拾', '是', '要', '教育', '講', '花', '不能', '答應', '支援', '查', '有', '沒有', '買', '買', '怕', '騙買', '違', '安心', '生活', '指控', '遇到', '攔下', '稱', '涉嫌', '擄', '勒', '贖並', '帶進', '勒住', '拖進', '持', '甩', '回應', '指控', '調查', '屬實', '涉案', '移送', '檢署', '指揮', '偵辦', '調整', '請', '分', '召開', '會', '指出', '準備', '停回', '看到', '要', '進', '指控', '涉嫌', '擄', '勒', '贖', '勒住', '拖進', '隨', '持', '甩', '問', '滯', '留在', '達', '到', '沒電', '拿', '走來', '來', '沒有', '制止', '造成', '直到', '要', '返家', '提供', '說', '沒有', '開秘', '提告', '恐嚇', '是', '是', '打', '會', '有', '坐視', '看著', '做', '變', '可能', '沒有', '沒有', '開密', '能', '推卸', '是', '表示', '有', '違規', '歸', '沒有', '結怨', '更否', '認', '涉嫌', '擄', '勒', '贖', '驗傷', '赴', '向涉', '提告', '恐嚇', '公然侮辱', '回應', '有關', '指控', '調查', '屬實', '涉案', '移送', '檢署', '指揮', '偵辦', '違法', '重懲', '追究', '調整', '請', '分', '受害', '深表歉意', '強調', '宣導', '教育', '遵', '不得', '有', '逾越', '違法', '秉持', '不護', '懲法', '加強', '教育', '要求', '執法', '遵守', '檢署', '表示', '報請', '檢署', '指揮', '檢察', '調查', '推薦', '指控', '遇', '攔下', '指', '涉', '擄', '勒', '贖案', '拖進', '遭員', '警持', '甩', '指出', '涉案', '移送', '檢署', '偵辦', '調整', '請', '分', '了解', '姓', '拉', '到', '是', '列管', '入', '擄', '遭', '調查', '踏', '帶回', '檢視', '發現', '有', '遭強', '拍', '震驚', '追問', '擔心', '照', '失控', '執法', '檢警', '質疑', '避免', '擄', '疑為', '求', '自保', '找', '退警', '透露', '逼供', '陪同', '持驗', '跨轄', '到', '涉案', '提告', '恐嚇', '受理', '移往', '偵辦', '召開', '會', '留在', '達', '到', '沒電', '拿', '走來', '沒有', '制止', '造成', '直到', '要', '離去', '指出', '請', '提供', '說', '沒有', '開', '指出', '指控', '警傷', '害', '調查', '屬實', '違法', '重懲', '追究', '受害', '致歉', '檢署', '指出', '調查', '有', '拍', '裸照', '偵查', '透露', '發', '截圖', '記', '遭', '提', '告罪', '嫌', '求償', '否認', '犯罪', '是', '會', '不想', '有', '刪掉', '罵', '遭依', '妨害', '判處', '拘役', '挨告', '是', '是', '演出', '知', '演出', '棄', '轉換', '跑道', '起訴', '指出', '截圖', '記', '認為', '涉犯', '公然侮辱', '辯稱', '是', '不知', '認為', '辯護', '稱', '是', '言', '夠', '成', '犯罪', '否認', '犯罪', '做', '無罪', '答辯', '供', '稱', '限', '攻擊', '涉及', '妨害', '沒有', '侮辱', '找', '發不實', '造成', '困擾', '會', '起床', '不想', '有', '是否', '有', '貶損', '告訴', '評價', '費', '有', '無', '公然侮辱', '犯意', '告訴', '沒稱', '有', '調解', '費', '有', '希望', '費', '道歉', '道歉', '調解', '要', '提', '損害', '賠償', '訴訟', '求償', '費', '稱', '可', '和解', '知', '保留', '開始', '上班', '推', '分享', '拍', '迷上', '貫注', '打出', '串連', '看不懂', '認', '超有', '搞笑', '瘋', '吸引', '報名', '想', '下屬', '推', '上傳', '看到', '有', '花', '貓', '使用', '湊近', '看', '發現', '是', '認', '看得出', '來', '專注', '伸出', '讓', '看', '起來', '宛如', '可愛', '貼', '搞笑', '寫下', '打擾', '工作', '笑', '翻', '分享', '到', '累積', '超過', '觀看', '吸引', '湧入', '留言', '直呼', '工作', '可愛', '想要', '有', '看', '感受', '到', '工作', '願', '意為', '工作', '打擾', '工作', '不堪', '設', '想', '看', '起來', '工作', '是', '競爭', '率領', '派', '抵台', '訪問', '深陷', '延遲', '思考', '有', '可', '生產', '可能', '是', '潛在', '合作', '伴', '改善', '生產', '落', '售', '延遲', '擴張', '動搖', '表示', '應', '伴', '建立', '協調', '抵制', '迫行', '發出', '會', '追求', '侵略', '率', '訪台', '招待', '見', '詢問', '售', '延遲', '指出', '解決', '讓', '生產', '能夠', '得到', '承諾', '生產', '例', '應該', '給予', '會', '做', '投資', '提議', '應該', '開始', '思考', '協', '助', '造', '認為', '轉移', '如', '彈', '有', '成為', '造', '彈', '合作', '伴', '表示', '維持', '投資', '售', '到位', '讓', '授權', '購買', '沒有', '能夠', '交到', '售', '延遲', '是', '嚇阻', '減少', '侵略', '行為', '應', '力持', '擴張', '包括', '選擇', '轉向', '斷交', '傳', '出外', '表示', '需要', '伴', '協調', '出', '應付', '做出', '可能', '視為', '戰爭', '被動', '研擬', '認為', '應該', '做', '討論', '思考', '成立', '組織', '對抗', '威脅', '是', '認為', '走', '辦發', '言', '翻覆', '死', '表示', '說', '冷血', '是', '放縱', '肆虐', '施壓', '配備', '派遣', '應', '是', '接受', '訪問', '說', '是', '執法', '帶', '去', '指責', '來', '檢討', '會', '掉入', '是理', '彰顯', '指出', '要負', '放縱', '肆虐', '造成', '困擾', '如', '指責', '攔截', '登檢', '有', '指責', '造成', '浩劫', '聯合', '濫捕', '說', '套到', '可知', '無', '像', '無照', '闖', '警察', '要求', '受檢', '逃逸', '碰撞', '要', '支持', '歸屬', '應負', '是否', '派遣', '配備', '表示', '認為', '應', '是', '說', '調查', '發現', '涉虐', '加上', '到', '工作', '放縱', '違法', '影響', '工作', '冷血', '是', '表示', '無照', '保留', '關懷', '釋出', '善意', '採禁', '限制', '維持', '造成', '是', '競爭', '率領', '派', '抵台', '宣布', '批准', '進', '統升', '相關', '設備', '預估', '表示', '希望', '有', '跟蓋', '表示', '即', '離開', '說', '保證', '會', '去', '上班', '是', '是', '說', '會', '關注', '賣', '是', '喊', '希望', '能', '跟蓋', '提', '拖欠', '宣布', '購有', '表示', '是', '有', '幫', '購到', '蓋', '沒辦', '給予', '承諾', '競爭', '率', '抵台', '訪問', '可', '生產', '彈', '表示', '看到', '來', '強化', '自主', '看待', '採購', '有', '產', '進', '合作', '表示', '率領', '來到', '重申', '支持', '看到', '重視', '關', '說', '會', '透過', '有', '使得', '自主', '防衛', '能夠', '加強', '看到', '來', '強化', '自主', '能夠', '競爭', '訪台', '有', '認為', '可', '生產', '彈', '表示', '看待', '採購', '產', '進', '合作', '邀請', '相關', '提出', '有', '執政', '檢討', '詢', '接受', '聯訪', '希望', '產', '彈', '有', '作出', '回應', '說', '率領', '來', '重申', '支持', '看到', '宣布', '重視', '關', '到', '表示', '會', '透過', '軍售', '加強', '自主', '防衛', '看到', '強化', '自主', '讓', '看待', '採購', '有', '產', '合作', '競爭', '開訪', '譯', '提', '應該', '思考', '有', '生產', '可', '降低', '移轉', '可', '滿足', '相關', '能', '例如', '彈', '宣布', '要', '深陷', '延遲', '競爭', '提', '協', '助', '造', '改善', '生產', '落', '售', '延遲', '競爭', '率', '領', '跨', '派', '來', '訪台', '包括', '提', '款待', '訪', '互動', '有', '詢問', '售', '延遲', '提', '指出', '解決', '讓', '生產', '能夠', '得到', '承諾', '表示', '生產', '例', '應該', '給予', '會', '做', '投資', '來滿', '足長', '需求', '提', '提議', '應該', '開始', '思考', '協', '助', '造', '認為', '轉移', '彈', '有', '成為', '造', '彈', '合作', '伴', '表示', '有', '有助', '強化', '嚇阻', '造', '降低', '供應', '表示', '提', '應該', '要', '指出', '有', '售', '管轄', '橫', '跨', '管理', '會', '有', '販售', '例', '拿出', '納入', '做', '設定', '精選', '即', '迎來', '配息', '投信', '配息', '顯示', '除息', '發放', '配息', '能', '配出', '配息', '配出', '超乎', '預期', '碼', '來', '到', '投信', '配息', '買進', '碰上', '開盤', '擬', '推', '取得', '改', '引發', '質疑', '擠到', '能', '說', '能有', '壓縮', '思考', '能否', '提供', '協助', '排斥', '有', '提出', '連署', '呼籲', '緩陸', '配', '縮短', '占', '配偶', '配偶', '是', '申請', '邁', '外配', '能', '來', '有', '宣稱', '遇過', '帶著', '到', '急診', '診', '稱', '健保', '不用', '相關', '反問', '配偶', '是否', '要', '限縮', '可能', '是陸', '配', '配', '來到', '成為', '是', '有', '需求', '是', '應', '是', '配', '配', '能', '壓縮', '應該', '思考', '能否', '提供', '預算', '協助', '讓', '會', '緊縮', '來', '排斥', '表示', '優先', '提案', '表上', '是', '有', '支持', '討論', '爭取', '沒有', '成為', '希望', '配', '通', '檢署', '搜索', '傳出', '遭', '控涉', '貪', '入', '強調', '調查', '會', '作為', '說明', '檢署', '檢察', '有', '搜查', '行動', '涉及', '相關', '搜索', '偵辦', '了解', '會', '搜查', '牽', '涉', '檢署', '收押', '工務', '處長', '傳出', '涉及', '檢署', '指揮', '偵辦', '搜索', '處長', '住', '搜出', '傳出', '到', '塞', '爆', '涉嫌', '違反', '貪', '治罪', '裁定', '押禁', '穿', '設展', '淋漓', '帶領', '創作', '整修', '揭牌', '開放', '整建', '關閉', '開放', '顯得', '興奮', '感慨', '受邀', '繪', '請', '重修', '是', '邀請', '參與', '同長', '包', '重視', '勝', '夢見', '叮囑', '位', '決定', '畫', '作為', '守護', '回憶', '工作', '收到', '可見', '重視', '創建', '包括', '歸還', '遷', '徙', '來', '收藏', '包括', '即', '特展', '特展', '精選', '包括', '修', '設展', '展出', '戰', '歸', '有', '聯展', '是', '作', '繪', '完成', '出外', '旅遊', '放', '是', '適', '有', '表示', '安排', '旅遊', '預算', '選', '是', '引起', '討論', '題發', '預計', '安排', '出遊', '查', '估計', '來回', '跳', '包車', '加上', '旅費', '表示', '是', '玩', '能', '住', '能到', '遊玩', '貼', '選宿', '表示', '不到', '去', '有', '下來', '花', '去', '開銷', '出頭', '覺得', '划算', '不用', '有', '推薦', '墾', '去', '去過', '去', '看看', '有', '提供', '去', '去', '去', '繩', '翻覆', '釀', '未有', '靜', '分署', '搭乘', '返台', '引起', '揣測', '是否', '談判', '掌握', '到', '搭', '返回', '預計', '進行', '退房', '搭乘', '返回', '退房', '關心', '詢問', '解決', '稱', '解決', '要', '保留', '返回', '外出', '採買', '得知', '撤離', '讓', '說明', '談', '解決', '解讀', '回應', '持續', '進行', '返回', '開會', '無', '撤離', '結束', '搭', '回', '繼續', '了解', '可能', '是', '了解', '屬', '道歉', '究', '返還', '沒有', '談', '談', '堅持', '見', '突破', '回到', '參與', '工作', '覺', '覺得', '應該', '解決', '可能', '要', '等待', '回合', '飛往', '參加', '賽', '選手', '爭取', '取得', '是', '開始', '赴', '南移', '訓練', '比賽', '開拔', '到', '參加', '邀請', '赴', '備戰', '訓練', '教練', '指出', '沒能', '取得', '有', '失落', '串', '訓練', '讓', '熟悉', '能', '放', '訓', '練', '能減', '參加', '運資', '讓', '賽', '提升', '看', '拿到', '沒', '拿到', '受到', '影響', '說', '沒能', '摘下', '坦承', '失落', '溜掉', '要', '準備', '賽', '是', '會', '有', '抱持', '想', '拿到', '奪', '才能', '拿到', '強敗', '選手', '無', '赴', '參加', '邀請', '教練', '表示', '外移', '練以', '強化', '提升', '確定', '注意', '是', '選手', '有', '選拔', '讀', '是', '選手', '擊敗', '得主', '參加', '賽', '選手', '取前', '獲得', '比賽', '展開', '出戰', '日出', '未能', '叩關', '賽', '是', '做', '遭', '無', '預警', '通知', '拿', '威脅', '告知', '離婚', '去', '墮', '提告', '求償', '認為', '侵害', '配偶', '給付', '結婚', '符合', '期待', '抽血', '吃', '做', '試管', '通知', '要', '離婚', '拒絕', '溝通', '直到', '發現', '得知', '知道', '已婚', '繼續', '交往', '稱', '懷孕', '如', '願意', '離婚', '會', '墮胎', '要', '要', '離婚', '侵害', '配偶', '請求', '賠償', '結婚', '無', '侵害', '配偶', '縱', '認行', '逾越', '交往', '懷孕', '是', '知許', '已婚', '失侵', '指出', '是', '妊娠', '減去', '可能', '受孕', '照射', '推算', '受孕', '應', '查看', '發現', '結婚', '知', '受孕', '應', '已知', '已婚', '認定', '逾越', '關', '超過', '配偶', '結婚', '未有', '進行', '試管', '抽血', '吃', '凍', '保存', '期許', '能', '符合', '期待', '判許', '侵權', '賠償', '慰撫', '可', '上訴', '存放', '起火', '燃燒', '獲報', '達', '燃燒', '燃燒', '待查', '無', '受傷', '受困', '分', '控制', '持續', '灌救', '有', '會計', '涉', '處理', '檢署', '偵結', '依涉', '犯詐', '欺取', '防', '起訴', '止', '擔任', '會計', '負責', '處理', '會', '提領', '保管', '摺', '起訴', '指出', '明知', '無', '撥調', '需求', '填寫', '提款', '涉溢', '領', '共計', '侵占', '入', '遭', '提告', '清查', '提款', '發現', '匯入', '無', '付款', '認定', '溢', '涉犯', '詐', '欺取', '洗錢', '防', '洗', '提起', '公訴', '侵占', '遭檢', '涉嫌', '起訴', '追加', '起訴', '判', '上訴', '認為', '改判', '沒收', '犯罪', '所得', '選', '進行', '選舉', '激戰', '展開', '角逐', '包括', '維新', '擅長', '制造', '執行', '具有', '擅長', '展開', '持續', '競爭', '是', '視為', '擔任', '選舉', '獲得', '支持', '選舉', '相差', '顯示', '出選', '變得', '接近', '選開', '起', '進行', '聯合', '提供', '讓', '掌握', '相關', '翻攝', '上演', '搶奪', '視為', '選舉', '提名', '結', '連任', '輸掉', '吞下', '敗仗', '當選', '表示', '感謝', '願意', '服務', '會', '繼續', '繼續', '打', '拚', '是', '擴散', '領先', '勝', '選戰', '計', '擊敗', '補選', '監督', '顯示', '回顧', '表現', '預算', '審查', '率', '突破', '揭露', '抄襲', '加上', '質疑', '開', '追', '進', '篩', '擁有', '選前', '不忍', '辱罵', '引起', '減損', '支持', '翻攝', '選戰', '受到', '稱', '謝', '佩', '擁', '有', '認', '分', '要', '栽培', '成為', '別助', '選', '認為', '勝選', '是', '服務', '工作', '做', '帶', '外加', '成為', '推派', '耕耘', '迎戰', '擅長', '參選', '勝', '感謝', '感謝', '表明', '會', '接好', '結束', '決', '灑', '競選', '表示', '選舉', '不敵', '對立', '期待', '是', '要', '包容', '選戰', '計', '選戰', '贏', '灣', '來', '相比', '選', '擁有', '稱', '擴散', '展現', '選前', '現身', '支持', '拉', '抬', '翻攝', '拿下', '拿下', '成', '出馬', '跑', '服務', '包含', '健檢', '諮詢', '讓', '贏', '認為', '是', '相信', '願意', '做', '相信', '有', '能', '改變', '選舉', '是', '無法', '改寫', '選戰', '認為', '是', '退休', '能', '勝出', '選前', '存在', '選', '上演', '導致', '願', '支持', '宣誓', '確定', '選長', '擔任', '作為', '接任', '成為', '有望', '成為', '認為', '適合', '應', '具', '擔任', '認為', '是', '知道', '要', '找', '是', '要', '有', '是', '沒有', '來', '會', '適合', '擾台', '發言', '存在', '到', '備詢', '受訪', '稱', '是', '來', '承認', '沒有', '造成', '表示', '鄰居', '沒有', '知道', '是', '來', '承認', '可能', '會', '造成', '應該', '要', '考慮', '表示', '發射', '有', '透過', '看到', '會', '發射', '研判', '研判', '沒', '做', '偏離', '研判', '有', '會', '再發', '是', '指出', '要', '發射', '透過', '有', '掌握', '翻船', '處理', '表達', '擔心', '衝突', '升高', '說', '需', '持續', '觀察', '來', '講', '要', '注意', '有', '沒有', '候', '開議', '搶', '爆發', '衝突', '認為', '活動', '沒有', '表演', '現身', '是', '失望', '不了', '爭取', '表示', '活動', '沒有', '表演', '超過', '像是', '運作', '沒有', '介入', '說', '失望', '現身', '批評', '無心', '待', '自出', '成敗', '變成', '要', '負責', '指', '召開', '未現', '是', '知道', '打', '糊弄', '談及', '請辭', '批評', '是', '沒', '關', '變', '選', '是', '宣布', '要', '開除', '會', '無償', '是', '作為', '積欠', '應', '交付', '安慰', '需', '思考', '淘汰', '戰鬥', '是否', '符合', '需', '有', '綠營', '戰鬥', '配備', '防護', '抗', '表達', '認為', '遭步', '彈擊', '穿', '負責', '研發', '品', '備', '解釋', '強調', '符合', '需求', '畫', '戰鬥', '需求', '指定', '要', '適合', '有', '戰鬥', '描述', '寫', '實', '有遊', '組成', '反應', '即', '出發', '準備', '執行', '捕俘', '宣稱', '返回', '有', '抽出', '戰鬥', '入替', '缺乏', '戰鬥', '經驗', '已有', '需', '背', '逃命', '逃不了', '換裝', '防護', '想像', '穿', '防護', '執行', '操演', '增加', '戰鬥', '接收', '發', '放到', '可能', '是', '預期', '無', '開戰', '可能', '採取', '表達', '合作', '承諾', '延遲', '感', '在意', '作戰', '服', '搭', '是否', '運用', '實戰', '是否', '接軌', '需求', '重視', '競爭', '表示', '展示', '抵禦', '生存', '發展', '來到', '當選', '選出', '表達', '支持', '率', '強生', '訪問', '表示', '站', '透過', '關', '強化', '說', '討論', '關', '鼓勵', '關', '站', '認識', '到', '展現', '訪問', '發布', '訪問', '會晤', '重申', '堅定', '不移', '支持', '活動', '發言', '表示', '投資', '只能', '買', '自作', '買', '認為', '會', '漲', '變成', '殺戮', '發言', '去', '應', '是', '會', '會', '漲', '變成', '殺戮', '要', '投資', '會', '輸', '翻覆', '死', '延燒', '貼出', '截圖', '質疑', '到', '綠營', '抨擊', '是', '解讀', '接受', '聯訪', '表示', '質疑', '是', '有', '想', '說', '應該', '說明', '是', '要', '幫忙', '傳出', '決定', '讓', '爭取', '在野', '合作', '引發', '重申', '讓', '沒辦', '要', '溝通', '讓', '會', '透過', '澄清', '支持', '擔任', '受訪', '表示', '作出', '出席', '有', '包含', '決定', '讓', '會', '表示', '爭取', '簽', '支持', '沒有', '支持', '不能', '賣', '賣', '受訪', '表示', '出席', '聽', '聞', '會', '談到', '讓', '可能', '是', '接到', '表達', '意見', '希望', '堅持', '表示', '選舉', '交換', '是', '不夠', '合作', '可爭', '取到', '合作', '是否', '說', '就算', '讓', '會', '會', '合作', '認為', '選舉', '讓', '合作', '知道', '抓', '讓', '是', '合作', '伴', '關', '理解', '去', '談', '詢問', '是否', '願', '要', '讓', '說', '評論', '是', '互推', '是', '回到', '來', '說', '幹', '召集', '決定', '簽字', '推舉', '不用', '掠奪', '維', '簡稱', '透過', '合作', '租借', '返', '來', '禁止', '歸', '是否', '存在', '便是', '受', '限制', '有', '租借', '用作', '允', '掠奪', '返回', '租借', '認為', '變', '相', '暗示', '簽約', '認該', '屬', '借出', '是', '到', '到', '掠奪', '來', '出借', '包括', '豎', '借展', '包括', '負責', '佩戴', '斗', '表示', '收藏', '行動', '掠奪', '思忖', '分享', '說', '認為', '建立', '伴', '關', '是', '特解', '形同', '磋商', '說', '希望', '創造', '合作', '發布', '聯合', '表示', '具有', '是', '磨滅', '強調', '伴', '關', '走', '歸', '暗示', '會', '借展', '歸還', '說明', '可延', '出借', '簽訂', '簽訂', '受邀', '出席', '加冕', '扮演', '著', '舉足', '出借', '展出', '慶祝', '即', '顧問', '說', '是', '具備', '表示', '租借', '遇劫', '達成', '可謂', '療', '歷', '傷', '紀念', '建立', '貿易', '是', '相信', '住著', '媲美', '掠奪', '掠奪', '持續', '呼籲', '返還', '策展', '表示', '掠奪', '是', '獲取', '是', '消除', '是', '具', '到', '要求', '簽署', '歸', '是', '起', '鑄造', '鑄造', '統稱', '簽署', '歸還', '來', '達', '是', '是', '達', '達', '打敗', '入法', '成為', '反應', '堅稱', '透過', '取得', '妥善', '保存', '可供', '欣賞', '研究', '繞', '限制', '想要', '糾正', '可能', '接受', '表示', '突破', '沒有', '解決', '開啟', '發言', '表示', '有', '相關', '活動', '見', '接著', '說', '預期', '結束', '收回', '出借', '問', '表示', '滿意', '希望', '返還', '知道', '是', '遭掠', '奪', '竊取', '屬', '好讀', '服務', '搭配', '推出', '解析', '結合', '生活', '閱讀', '測驗', '提升', '閱讀', '看到', '是', '討論', '提出', '拜', '變', '是', '生活', '掀起', '覺得', '工作', '擔憂', '變少', '交接', '閒', '聊版', '拜', '放', '是', '生活', '拜', '工作', '累死', '洗', '拜', '放假', '拋出', '引起', '戰翻', '支持', '指出', '需要', '沒錯', '收', '拜', '不收', '是', '工作', '工作', '好像', '有', '拜', '放假', '去', '看', '勞工', '補班', '改', '上班', '願意', '遊行', '放假', '認為', '變少', '服務', '更累', '問', '接不', '接受', '哭', '沒開', '工作', '超難', '交接', '工作', '到', '想', '放假', '會', '請', '勞工', '喊', '要', '休', '有', '提出', '連署', '提案', '獲得', '支持', '影響', '臻', '完備', '回絕', '研究', '勞工', '比起', '應', '爭取', '合理', '持續', '升高', '繼大', '監船', '進入', '禁', '限制', '開展', '執法', '巡查', '傳', '穿越', '禁止', '表示', '相關', '有', '掌握', '指出', '會', '加強', '相關', '取締', '進行', '執法', '巡查', '引述', '匿名', '說', '稱', '釋出', '可判', '巡查', '行動', '穿越', '禁止', '執法', '執行', '享有', '赴', '進行', '備詢', '傳出', '穿越', '禁止', '說', '相關', '有', '會', '加強', '相關', '取締', '來', '進行', '驅離', '說', '維護', '有', '做法', '是', '要', '確保', '有', '維護', '是', '繼續', '做法', '來', '進行', '已有', '運動', '選手', '取得', '參賽', '要', '幫助', '選手', '爭取', '培植', '運動', '選手', '起展', '開', '備戰', '優化', '培植', '提升', '選手', '強化', '服務', '讓', '選手', '摘下', '輔導', '制定', '運動', '戰計', '遴選', '運動', '選手', '參與', '備戰', '建立', '標準化', '培訓', '跨', '訓練', '延續', '強化', '輔助', '選手', '邁向', '接受', '聯訪', '表示', '運動', '戰計', '執行', '包括', '別化', '服務', '經費', '支援', '運動', '訓練', '督導', '輔助', '運動', '支援', '運動', '進入', '調整', '選手', '含', '生活', '選手', '可領', '選手', '可領', '儲訓', '選手', '工資', '給付', '關', '喜歡', '逼', '分手', '誇張', '是', '關', '要求', '離婚', '稱', '忍受', '不了', '出軌', '決定', '組', '選擇', '生活', '表示', '逼迫', '分手', '強調', '適合', '罵', '不願', '來', '發現', '保證', '會', '改過', '開始', '接受', '治療', '諮詢', '希望', '能', '和解', '告白', '強調', '分手', '收養', '是', '讓', '來', '斷絕', '聯', '示好', '接受', '結婚', '回來', '宣布', '懷孕', '訂婚', '是', '是', '不該', '生', '是', '要求', '離婚', '報警', '透露', '搬到', '逃離', '貼', '支持', '決定', '離', '親', '會', '樂', '需要', '可能', '離', '切斷', '聯', '親', '開車', '爆胎', '臨停', '下車', '換', '遭', '衝撞', '失去', '生命', '消', '協助', '送', '急救', '治', '待查', '了解', '開車', '沿著', '爆胎', '臨停', '下車', '察看', '警示', '擺', '放在', '隨', '蹲', '換', '駕駛', '駛來', '注意', '到', '蹲', '換', '等到', '發現', '急', '踩', '煞', '衝擊', '翻', '滾', '仰', '躺', '沒了', '生命', '打', '消獲', '檢視', '處擦', '挫傷', '無', '呼吸', '心跳', '協助送', '急救', '急救', '治', '沒有', '抽血', '歸屬', '有待', '續調', '查', '歸化', '探視', '爆發', '拉扯', '衝突', '造成', '挫傷', '被訴', '開', '言', '戴', '認罪', '表示', '疏忽', '造成', '辯稱', '無傷', '害', '犯意', '審判', '可', '再行', '調解', '遭', '拒絕', '知', '宣判', '起遭', '禁賽', '直到', '解禁', '罹患', '感冒', '未能', '直到', '傷', '歸', '攻城', '工作', '是', '聽', '說', '戴', '要', '到', '應援', '作證', '表明', '無法', '是', '隔離', '進行', '分', '發生', '衝突', '相關', '是否', '搶', '有', '拉扯', '導致', '利開', '表示', '抱緊', '拉扯', '記得', '指出', '爆發', '衝突', '戴', '說', '才能', '送回', '回應', '希望', '送回', '遭戴', '回罵', '搶', '審判', '需要', '關愛', '希望', '能有', '調解', '可能', '發生', '戴', '違反', '不能', '探視', '出現', '導致', '願', '再行', '調解', '戴', '表示', '離婚', '交付', '戴', '是', '歸化', '出賽', '是', '盼', '不能', '戴', '判來', '反駁', '希望', '回歸', '來', '判刑', '開議', '提案', '要求', '加開', '進行', '說', '支持', '提案', '關注', '是否', '有', '譜', '受訪', '是', '要', '建立', '安排', '會', '參加', '認識', '提案', '加開', '進行', '希望', '得到', '支持', '提案', '進行', '進行', '來', '撤案', '支持', '提案', '分', '開會', '討論', '攻防', '撤銷', '提案', '改', '支持', '提案', '是否', '合作', '有', '譜', '結束', '受訪', '表示', '要', '問', '繞來', '繞去', '要', '建立', '安排', '希望', '認識', '有', '能夠', '溝通', '會', '是', '會', '參加', '討論', '有', '到', '開會', '應該', '下鄉', '表示', '會', '到', '駐', '要', '做', '交給', '處理', '選', '結束', '落敗', '尋找', '是', '受訪', '表示', '選', '是', '操盤', '有', '選戰', '請', '陪同', '掃街', '發現', '喜愛', '表示', '選', '斬', '獲', '來', '說', '相信', '是', '選戰', '操盤', '有', '得到', '肯定', '才能', '夠', '選得', '有', '來', '幫', '活動', '有', '來', '預計', '來', '來', '知道', '加', '有', '選前', '做', '掃街', '深入', '發現', '會', '拉開', '打招呼', '是', '顯示', '出', '包含', '喜愛', '說', '是', '顧', '包括', '開幕', '得到', '肯定', '到', '說', '要', '繼續', '守', '是', '崛起', '選戰', '相信', '會', '希望', '讓', '缺乏', '了解', '支持', '選舉', '進入', '預計', '進場', '參與', '認為', '是', '暗助', '推薦', '參選', '推薦', '參選', '突到', '訪', '出去', '見成', '表示', '請', '表達', '感謝', '希望', '繼續', '合作', '打造', '決定', '推', '參選', '進行', '表明', '會', '參與', '無', '跑', '獲', '支持', '會', '成為', '認為', '深知', '做出', '便是', '選舉', '選擇', '暗助', '到訪', '撲', '受訪', '表示', '去', '請', '助理', '轉達', '感謝', '希望', '能', '繼續', '合作', '打造', '符合', '期待', '入營', '爭取', '加入', '當選', '出', '教育', '訓練', '輔導', '裝備', '採購', '提出', '讀', '質疑', '改變', '衝出', '推動', '回應', '有', '提出', '申請', '質疑', '執行', '可能', '配合', '關心', '裝備', '說', '關注', '採購', '缺乏', '保護', '裝備', '像是', '炸裂', '沒有', '止血', '執行', '發現', '沒有', '反對', '是', '質疑', '改變', '應該', '入伍', '可能', '會', '讀', '要顧', '學', '推出', '趁', '著該', '沒有', '到', '增廣', '見', '聞', '壓縮', '探索', '表示', '延長', '思考', '入營', '相關', '教育', '能否', '足夠', '教育', '訓練', '是否', '提升', '變成', '提到', '輔導', '會', '覺得', '睜', '度過', '變成', '是否', '有', '足夠', '指出', '需要', '入', '會', '反應', '持續', '追']\n",
            "動詞: 是\t出現次數: 378\n",
            "動詞: 有\t出現次數: 277\n",
            "動詞: 會\t出現次數: 215\n",
            "動詞: 表示\t出現次數: 186\n",
            "動詞: 說\t出現次數: 126\n",
            "動詞: 到\t出現次數: 110\n",
            "動詞: 要\t出現次數: 107\n",
            "動詞: 來\t出現次數: 106\n",
            "動詞: 讓\t出現次數: 99\n",
            "動詞: 沒有\t出現次數: 71\n",
            "動詞: 認為\t出現次數: 64\n",
            "動詞: 可能\t出現次數: 63\n",
            "動詞: 指出\t出現次數: 61\n",
            "動詞: 退休\t出現次數: 59\n",
            "動詞: 能\t出現次數: 56\n",
            "動詞: 工作\t出現次數: 53\n",
            "動詞: 起\t出現次數: 48\n",
            "動詞: 希望\t出現次數: 42\n",
            "動詞: 做\t出現次數: 41\n",
            "動詞: 支持\t出現次數: 39\n"
          ]
        }
      ]
    },
    {
      "cell_type": "code",
      "source": [
        "#result = jieba.tokenize(content)\n",
        "# 過濾出動詞\n",
        "#verbs = [word for word, flag in jieba.posseg.lcut(''.join(all_words)) if flag.startswith('v')]"
      ],
      "metadata": {
        "id": "AUlwlErb5Ask"
      },
      "execution_count": null,
      "outputs": []
    }
  ]
}